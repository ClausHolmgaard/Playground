{
 "cells": [
  {
   "cell_type": "code",
   "execution_count": 1,
   "metadata": {},
   "outputs": [],
   "source": [
    "import numpy as np\n",
    "import pandas as pd\n",
    "from pyntcloud import PyntCloud as pc\n",
    "from tqdm import tqdm_notebook as tqdm\n",
    "\n",
    "from Kinect import Kinect\n",
    "from Planes import find_plane, distance_from_plane"
   ]
  },
  {
   "cell_type": "code",
   "execution_count": 2,
   "metadata": {},
   "outputs": [
    {
     "name": "stdout",
     "output_type": "stream",
     "text": [
      "Packet pipeline: OpenCLPacketPipeline\n",
      "Number of devices: 1\n",
      "Init done\n"
     ]
    }
   ],
   "source": [
    "k = Kinect(debug=True)\n",
    "k.start()\n",
    "k.wait_for_init()\n",
    "point_cloud = k.get_pointcloud()\n",
    "k.stop()"
   ]
  },
  {
   "cell_type": "code",
   "execution_count": 3,
   "metadata": {},
   "outputs": [
    {
     "data": {
      "text/plain": [
       "'\\nk = Kinect(debug=True)\\nk.scale_depth(True)\\nk.scale_rgb(False)\\nk.start()\\npoint_cloud = k.get_pointcloud()\\n#point_cloud[:,3:] *= 255.0\\n#depth_scale = ((np.abs(np.mean(point_cloud[:,0])) + np.abs(np.mean(point_cloud[:,1]))) / 2) / np.mean(point_cloud[:,2])\\n#print(\"Depth scale: {}\".format(depth_scale))\\n#point_cloud[:,2] *= depth_scale\\nk.stop()\\n'"
      ]
     },
     "execution_count": 3,
     "metadata": {},
     "output_type": "execute_result"
    }
   ],
   "source": [
    "\"\"\"\n",
    "k = Kinect(debug=True)\n",
    "k.scale_depth(True)\n",
    "k.scale_rgb(False)\n",
    "k.start()\n",
    "point_cloud = k.get_pointcloud()\n",
    "#point_cloud[:,3:] *= 255.0\n",
    "#depth_scale = ((np.abs(np.mean(point_cloud[:,0])) + np.abs(np.mean(point_cloud[:,1]))) / 2) / np.mean(point_cloud[:,2])\n",
    "#print(\"Depth scale: {}\".format(depth_scale))\n",
    "#point_cloud[:,2] *= depth_scale\n",
    "k.stop()\n",
    "\"\"\""
   ]
  },
  {
   "cell_type": "code",
   "execution_count": 4,
   "metadata": {},
   "outputs": [
    {
     "name": "stdout",
     "output_type": "stream",
     "text": [
      "Stopping device\n",
      "Closing device\n",
      "Device stopped and closed\n"
     ]
    },
    {
     "data": {
      "text/html": [
       "\n",
       "        <iframe\n",
       "            width=\"1200\"\n",
       "            height=\"700\"\n",
       "            src=\"pyntcloud_plot.html\"\n",
       "            frameborder=\"0\"\n",
       "            allowfullscreen\n",
       "        ></iframe>\n",
       "        "
      ],
      "text/plain": [
       "<IPython.lib.display.IFrame at 0x7f1570133978>"
      ]
     },
     "execution_count": 4,
     "metadata": {},
     "output_type": "execute_result"
    }
   ],
   "source": [
    "points = pd.DataFrame(point_cloud, columns=['x', 'y', 'z', 'red', 'green', 'blue'])\n",
    "cloud = pc(points)\n",
    "cloud.plot(IFrame_shape=(1200, 700), point_size=0.001)"
   ]
  },
  {
   "cell_type": "code",
   "execution_count": 5,
   "metadata": {},
   "outputs": [
    {
     "data": {
      "text/html": [
       "<div>\n",
       "<style scoped>\n",
       "    .dataframe tbody tr th:only-of-type {\n",
       "        vertical-align: middle;\n",
       "    }\n",
       "\n",
       "    .dataframe tbody tr th {\n",
       "        vertical-align: top;\n",
       "    }\n",
       "\n",
       "    .dataframe thead th {\n",
       "        text-align: right;\n",
       "    }\n",
       "</style>\n",
       "<table border=\"1\" class=\"dataframe\">\n",
       "  <thead>\n",
       "    <tr style=\"text-align: right;\">\n",
       "      <th></th>\n",
       "      <th>x</th>\n",
       "      <th>y</th>\n",
       "      <th>z</th>\n",
       "      <th>red</th>\n",
       "      <th>green</th>\n",
       "      <th>blue</th>\n",
       "    </tr>\n",
       "  </thead>\n",
       "  <tbody>\n",
       "    <tr>\n",
       "      <th>count</th>\n",
       "      <td>123016.000000</td>\n",
       "      <td>123016.000000</td>\n",
       "      <td>123016.000000</td>\n",
       "      <td>123016.000000</td>\n",
       "      <td>123016.000000</td>\n",
       "      <td>123016.000000</td>\n",
       "    </tr>\n",
       "    <tr>\n",
       "      <th>mean</th>\n",
       "      <td>-1.313256</td>\n",
       "      <td>-1.696974</td>\n",
       "      <td>10.714912</td>\n",
       "      <td>126.079632</td>\n",
       "      <td>131.100385</td>\n",
       "      <td>128.479686</td>\n",
       "    </tr>\n",
       "    <tr>\n",
       "      <th>std</th>\n",
       "      <td>3.186214</td>\n",
       "      <td>2.866514</td>\n",
       "      <td>3.466921</td>\n",
       "      <td>72.364063</td>\n",
       "      <td>72.556304</td>\n",
       "      <td>70.717244</td>\n",
       "    </tr>\n",
       "    <tr>\n",
       "      <th>min</th>\n",
       "      <td>-6.934634</td>\n",
       "      <td>-9.760145</td>\n",
       "      <td>1.960851</td>\n",
       "      <td>0.000000</td>\n",
       "      <td>0.000000</td>\n",
       "      <td>0.000000</td>\n",
       "    </tr>\n",
       "    <tr>\n",
       "      <th>25%</th>\n",
       "      <td>-3.966446</td>\n",
       "      <td>-4.742923</td>\n",
       "      <td>9.753520</td>\n",
       "      <td>50.000000</td>\n",
       "      <td>62.000000</td>\n",
       "      <td>70.000000</td>\n",
       "    </tr>\n",
       "    <tr>\n",
       "      <th>50%</th>\n",
       "      <td>-1.550230</td>\n",
       "      <td>-1.693560</td>\n",
       "      <td>11.013213</td>\n",
       "      <td>151.000000</td>\n",
       "      <td>154.000000</td>\n",
       "      <td>147.000000</td>\n",
       "    </tr>\n",
       "    <tr>\n",
       "      <th>75%</th>\n",
       "      <td>0.521915</td>\n",
       "      <td>0.853915</td>\n",
       "      <td>12.764724</td>\n",
       "      <td>178.000000</td>\n",
       "      <td>183.000000</td>\n",
       "      <td>178.000000</td>\n",
       "    </tr>\n",
       "    <tr>\n",
       "      <th>max</th>\n",
       "      <td>11.151773</td>\n",
       "      <td>4.739539</td>\n",
       "      <td>17.647045</td>\n",
       "      <td>255.000000</td>\n",
       "      <td>255.000000</td>\n",
       "      <td>255.000000</td>\n",
       "    </tr>\n",
       "  </tbody>\n",
       "</table>\n",
       "</div>"
      ],
      "text/plain": [
       "                   x              y              z            red  \\\n",
       "count  123016.000000  123016.000000  123016.000000  123016.000000   \n",
       "mean       -1.313256      -1.696974      10.714912     126.079632   \n",
       "std         3.186214       2.866514       3.466921      72.364063   \n",
       "min        -6.934634      -9.760145       1.960851       0.000000   \n",
       "25%        -3.966446      -4.742923       9.753520      50.000000   \n",
       "50%        -1.550230      -1.693560      11.013213     151.000000   \n",
       "75%         0.521915       0.853915      12.764724     178.000000   \n",
       "max        11.151773       4.739539      17.647045     255.000000   \n",
       "\n",
       "               green           blue  \n",
       "count  123016.000000  123016.000000  \n",
       "mean      131.100385     128.479686  \n",
       "std        72.556304      70.717244  \n",
       "min         0.000000       0.000000  \n",
       "25%        62.000000      70.000000  \n",
       "50%       154.000000     147.000000  \n",
       "75%       183.000000     178.000000  \n",
       "max       255.000000     255.000000  "
      ]
     },
     "execution_count": 5,
     "metadata": {},
     "output_type": "execute_result"
    }
   ],
   "source": [
    "points.describe()"
   ]
  },
  {
   "cell_type": "code",
   "execution_count": 50,
   "metadata": {},
   "outputs": [],
   "source": [
    "# from: https://stackoverflow.com/a/9271260/6588972\n",
    "def multidim_intersect(arr1, arr2):\n",
    "    arr1_view = arr1.view([('',arr1.dtype)]*arr1.shape[1])\n",
    "    arr2_view = arr2.view([('',arr2.dtype)]*arr2.shape[1])\n",
    "    intersected = np.intersect1d(arr1_view, arr2_view)\n",
    "    return intersected.view(arr1.dtype).reshape(-1, arr1.shape[1])"
   ]
  },
  {
   "cell_type": "code",
   "execution_count": 51,
   "metadata": {},
   "outputs": [],
   "source": [
    "def multidim_isin_mask(arr1, arr2):\n",
    "    arr1_view = arr1.view([('', arr1.dtype)] * arr1.shape[1])\n",
    "    arr2_view = arr2.view([('', arr2.dtype)] * arr2.shape[1])\n",
    "    isin = np.isin(arr1_view, arr2_view)\n",
    "    #print(isin)\n",
    "    #return isin.view(arr1.dtype).reshape(-1, arr1.shape[1])\n",
    "    return isin"
   ]
  },
  {
   "cell_type": "code",
   "execution_count": 52,
   "metadata": {},
   "outputs": [],
   "source": [
    "def get_inliers(p1, p2, p3, points, limit):\n",
    "    p_a, p_b, p_c, p_d = find_plane(p1, p2, p3)\n",
    "    \n",
    "    dists = distance_from_plane(points, p_a, p_b, p_c, p_d)\n",
    "    if dists is False:\n",
    "        return False\n",
    "    \n",
    "    inliers = points[dists<limit]\n",
    "    \n",
    "    res = {\"Plane\": np.array([p_a, p_b, p_c, p_d]),\n",
    "           \"num_inliers\": inliers.shape[0],\n",
    "           \"inliers\": inliers,\n",
    "           \"dists\": dists}\n",
    "\n",
    "    return res"
   ]
  },
  {
   "cell_type": "code",
   "execution_count": 53,
   "metadata": {},
   "outputs": [],
   "source": [
    "def remove_points_from_cloud(cloud, points):\n",
    "    t = multidim_isin_mask(cloud, points)\n",
    "    tt = np.repeat(t, cloud.shape[1], axis=1)\n",
    "    c = cloud[~tt].reshape((-1, cloud.shape[1]))\n",
    "    return c"
   ]
  },
  {
   "cell_type": "code",
   "execution_count": 54,
   "metadata": {},
   "outputs": [],
   "source": [
    "def angle_between_planes(norm1, norm2):\n",
    "    return np.arccos(np.dot(norm1, norm2) / (np.linalg.norm(norm1) * np.linalg.norm(norm2)))"
   ]
  },
  {
   "cell_type": "code",
   "execution_count": 55,
   "metadata": {},
   "outputs": [],
   "source": [
    "def remove_points_by_distance(cloud, fits):\n",
    "    pass"
   ]
  },
  {
   "cell_type": "code",
   "execution_count": null,
   "metadata": {},
   "outputs": [],
   "source": []
  },
  {
   "cell_type": "code",
   "execution_count": 56,
   "metadata": {},
   "outputs": [],
   "source": [
    "def get_rand_points(points):\n",
    "    \n",
    "    r = np.random.choice(range(len(points)), 3)\n",
    "    p = points[r]\n",
    "\n",
    "    return p"
   ]
  },
  {
   "cell_type": "code",
   "execution_count": 57,
   "metadata": {},
   "outputs": [
    {
     "data": {
      "text/plain": [
       "array([[1, 2, 3],\n",
       "       [4, 5, 6],\n",
       "       [1, 2, 4],\n",
       "       [2, 2, 2],\n",
       "       [3, 3, 3],\n",
       "       [4, 4, 4],\n",
       "       [5, 5, 5]])"
      ]
     },
     "execution_count": 57,
     "metadata": {},
     "output_type": "execute_result"
    }
   ],
   "source": [
    "a = [[1, 2, 3],\n",
    "     [4, 5, 6],\n",
    "     [1, 2, 4],\n",
    "     [2, 2, 2],\n",
    "     [3, 3, 3]]\n",
    "\n",
    "b = [[4, 4, 4],\n",
    "     [5, 5, 5]]\n",
    "\n",
    "np.append(a, b, axis=0)"
   ]
  },
  {
   "cell_type": "code",
   "execution_count": 105,
   "metadata": {},
   "outputs": [],
   "source": [
    "def do_ransac(pc, iterations, limit=0.001, min_inliers=500):\n",
    "    best_fit = []\n",
    "    \n",
    "    ps = pc[:,:3]\n",
    "    ps_select = pc[:,:3]\n",
    "    \n",
    "    for ite in tqdm(range(iterations)):\n",
    "        if(ps_select.shape[0] < 2000):\n",
    "            break\n",
    "        #print(ps_select.shape)\n",
    "        p1, p2, p3 = get_rand_points(ps_select)\n",
    "        #p2 = get_rand_point(ps_select)\n",
    "        #p3 = get_rand_point(ps_select)\n",
    "    \n",
    "        fit = get_inliers(p1, p2, p3, ps, limit)\n",
    "        if fit is False:\n",
    "            continue\n",
    "        #all_inliers = np.append(all_inliers, fit[\"inliers\"][:,:3], axis=0)\n",
    "        #print(all_inliers.shape)\n",
    "        \n",
    "        if fit[\"num_inliers\"] > min_inliers:\n",
    "            best_fit.append(fit)\n",
    "            #ps_select = remove_points_from_cloud(np.ascontiguousarray(ps_select), np.ascontiguousarray(fit[\"inliers\"]))\n",
    "        \n",
    "        \n",
    "    return best_fit"
   ]
  },
  {
   "cell_type": "code",
   "execution_count": 102,
   "metadata": {},
   "outputs": [
    {
     "data": {
      "application/vnd.jupyter.widget-view+json": {
       "model_id": "225fc44e477e4eae8bd3bf6748b3d678",
       "version_major": 2,
       "version_minor": 0
      },
      "text/plain": [
       "HBox(children=(IntProgress(value=0, max=3000), HTML(value='')))"
      ]
     },
     "metadata": {},
     "output_type": "display_data"
    },
    {
     "name": "stdout",
     "output_type": "stream",
     "text": [
      "\n"
     ]
    }
   ],
   "source": [
    "lim = 0.1\n",
    "ran = do_ransac(point_cloud, 3000, lim, 5000)"
   ]
  },
  {
   "cell_type": "code",
   "execution_count": 98,
   "metadata": {},
   "outputs": [
    {
     "name": "stdout",
     "output_type": "stream",
     "text": [
      "Number of planes: 1195\n",
      "\n",
      "Number of inliers: 20371\n",
      "Number of inliers: 20334\n",
      "Number of inliers: 20294\n"
     ]
    }
   ],
   "source": [
    "ran = sorted(ran, key=lambda k: k['num_inliers'], reverse=True)\n",
    "print(\"Number of planes: {}\".format(len(ran)))\n",
    "print(\"\")\n",
    "for r in ran[:3]:\n",
    "    print(\"Number of inliers: {}\".format(r[\"num_inliers\"]))"
   ]
  },
  {
   "cell_type": "code",
   "execution_count": 61,
   "metadata": {},
   "outputs": [
    {
     "data": {
      "text/plain": [
       "'\\n# merge all similar into largest plane\\np_large_norm = np.array(ran[-1][\"Plane\"][0:3])\\nprint(p_large_norm)\\nprint(\"\")\\n\\nindex_merge = []\\n\\nfor c, r in enumerate(ran):\\n    if c == 0:\\n        continue\\n    norm = r[\"Plane\"][0:3]\\n    angle = angle_between_planes(p_large_norm, norm)\\n    print(angle)\\n    if angle < 3:\\n        index_merge.append(c)\\n\\nprint(index_merge)\\n\\nfor i in index_merge:\\n    ran[0][\"Plane\"] = (np.array(ran[0][\"Plane\"][0:3]) + np.array(ran[i][\"Plane\"][0:3])) / 2\\n    ran[0][\"num_inliers\"] = ran[0][\"num_inliers\"] + ran[i][\"num_inliers\"]\\n    ran[0][\"inliers\"] = np.append(ran[0][\"inliers\"], ran[i][\"inliers\"])\\n    ran[0][\"dists\"] = (ran[0][\"dists\"] + ran[i][\"dists\"]) / 2\\n\\n#for i in index_merge:\\n#    del ran[i]\\n'"
      ]
     },
     "execution_count": 61,
     "metadata": {},
     "output_type": "execute_result"
    }
   ],
   "source": [
    "\"\"\"\n",
    "# merge all similar into largest plane\n",
    "p_large_norm = np.array(ran[-1][\"Plane\"][0:3])\n",
    "print(p_large_norm)\n",
    "print(\"\")\n",
    "\n",
    "index_merge = []\n",
    "\n",
    "for c, r in enumerate(ran):\n",
    "    if c == 0:\n",
    "        continue\n",
    "    norm = r[\"Plane\"][0:3]\n",
    "    angle = angle_between_planes(p_large_norm, norm)\n",
    "    print(angle)\n",
    "    if angle < 3:\n",
    "        index_merge.append(c)\n",
    "\n",
    "print(index_merge)\n",
    "\n",
    "for i in index_merge:\n",
    "    ran[0][\"Plane\"] = (np.array(ran[0][\"Plane\"][0:3]) + np.array(ran[i][\"Plane\"][0:3])) / 2\n",
    "    ran[0][\"num_inliers\"] = ran[0][\"num_inliers\"] + ran[i][\"num_inliers\"]\n",
    "    ran[0][\"inliers\"] = np.append(ran[0][\"inliers\"], ran[i][\"inliers\"])\n",
    "    ran[0][\"dists\"] = (ran[0][\"dists\"] + ran[i][\"dists\"]) / 2\n",
    "\n",
    "#for i in index_merge:\n",
    "#    del ran[i]\n",
    "\"\"\""
   ]
  },
  {
   "cell_type": "code",
   "execution_count": 103,
   "metadata": {},
   "outputs": [
    {
     "ename": "ValueError",
     "evalue": "putmask: mask and data must be the same size",
     "output_type": "error",
     "traceback": [
      "\u001b[0;31m---------------------------------------------------------------------------\u001b[0m",
      "\u001b[0;31mValueError\u001b[0m                                Traceback (most recent call last)",
      "\u001b[0;32m<ipython-input-103-ad2eabe032fa>\u001b[0m in \u001b[0;36m<module>\u001b[0;34m()\u001b[0m\n\u001b[1;32m      8\u001b[0m \u001b[0;32mif\u001b[0m \u001b[0mlen\u001b[0m\u001b[0;34m(\u001b[0m\u001b[0mran\u001b[0m\u001b[0;34m)\u001b[0m \u001b[0;34m>\u001b[0m \u001b[0;36m1\u001b[0m\u001b[0;34m:\u001b[0m\u001b[0;34m\u001b[0m\u001b[0m\n\u001b[1;32m      9\u001b[0m     \u001b[0mcond_green\u001b[0m \u001b[0;34m=\u001b[0m \u001b[0mnp\u001b[0m\u001b[0;34m.\u001b[0m\u001b[0mless\u001b[0m\u001b[0;34m(\u001b[0m\u001b[0mran\u001b[0m\u001b[0;34m[\u001b[0m\u001b[0;36m1\u001b[0m\u001b[0;34m]\u001b[0m\u001b[0;34m[\u001b[0m\u001b[0;34m\"dists\"\u001b[0m\u001b[0;34m]\u001b[0m\u001b[0;34m,\u001b[0m \u001b[0mlim\u001b[0m\u001b[0;34m)\u001b[0m\u001b[0;34m\u001b[0m\u001b[0m\n\u001b[0;32m---> 10\u001b[0;31m     \u001b[0mnp\u001b[0m\u001b[0;34m.\u001b[0m\u001b[0mputmask\u001b[0m\u001b[0;34m(\u001b[0m\u001b[0mpc_show\u001b[0m\u001b[0;34m[\u001b[0m\u001b[0;34m:\u001b[0m\u001b[0;34m,\u001b[0m\u001b[0;36m4\u001b[0m\u001b[0;34m]\u001b[0m\u001b[0;34m,\u001b[0m \u001b[0mcond_green\u001b[0m\u001b[0;34m,\u001b[0m \u001b[0;36m255.0\u001b[0m\u001b[0;34m)\u001b[0m\u001b[0;34m\u001b[0m\u001b[0m\n\u001b[0m\u001b[1;32m     11\u001b[0m \u001b[0;34m\u001b[0m\u001b[0m\n\u001b[1;32m     12\u001b[0m \u001b[0;32mif\u001b[0m \u001b[0mlen\u001b[0m\u001b[0;34m(\u001b[0m\u001b[0mran\u001b[0m\u001b[0;34m)\u001b[0m \u001b[0;34m>\u001b[0m \u001b[0;36m2\u001b[0m\u001b[0;34m:\u001b[0m\u001b[0;34m\u001b[0m\u001b[0m\n",
      "\u001b[0;31mValueError\u001b[0m: putmask: mask and data must be the same size"
     ]
    }
   ],
   "source": [
    "pc_show = np.copy(point_cloud)\n",
    "\n",
    "if len(ran) > 0:\n",
    "    cond_blue = np.less(ran[0][\"dists\"], lim)\n",
    "    np.putmask(pc_show[:,5], cond_blue, 255.0)\n",
    "\n",
    "\n",
    "if len(ran) > 1:\n",
    "    cond_green = np.less(ran[1][\"dists\"], lim)\n",
    "    np.putmask(pc_show[:,4], cond_green, 255.0)\n",
    "\n",
    "if len(ran) > 2:\n",
    "    cond_red = np.less(ran[2][\"dists\"], lim)\n",
    "    np.putmask(pc_show[:,3], cond_red, 255.0)"
   ]
  },
  {
   "cell_type": "code",
   "execution_count": 104,
   "metadata": {},
   "outputs": [
    {
     "data": {
      "text/html": [
       "\n",
       "        <iframe\n",
       "            width=\"1200\"\n",
       "            height=\"700\"\n",
       "            src=\"pyntcloud_plot.html\"\n",
       "            frameborder=\"0\"\n",
       "            allowfullscreen\n",
       "        ></iframe>\n",
       "        "
      ],
      "text/plain": [
       "<IPython.lib.display.IFrame at 0x7f3c6e1e0828>"
      ]
     },
     "execution_count": 104,
     "metadata": {},
     "output_type": "execute_result"
    }
   ],
   "source": [
    "points = pd.DataFrame(pc_show, columns=['x', 'y', 'z', 'red', 'green', 'blue'])\n",
    "#points.describe()\n",
    "cloud = pc(points)\n",
    "cloud.plot(IFrame_shape=(1200, 700), point_size=0.001)"
   ]
  }
 ],
 "metadata": {
  "kernelspec": {
   "display_name": "Python 3",
   "language": "python",
   "name": "python3"
  },
  "language_info": {
   "codemirror_mode": {
    "name": "ipython",
    "version": 3
   },
   "file_extension": ".py",
   "mimetype": "text/x-python",
   "name": "python",
   "nbconvert_exporter": "python",
   "pygments_lexer": "ipython3",
   "version": "3.6.6"
  }
 },
 "nbformat": 4,
 "nbformat_minor": 2
}
