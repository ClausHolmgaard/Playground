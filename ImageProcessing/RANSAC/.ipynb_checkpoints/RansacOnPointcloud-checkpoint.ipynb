{
 "cells": [
  {
   "cell_type": "code",
   "execution_count": 90,
   "metadata": {},
   "outputs": [],
   "source": [
    "import numpy as np\n",
    "import pandas as pd\n",
    "from pyntcloud import PyntCloud as pc\n",
    "from tqdm import tqdm_notebook as tqdm\n",
    "\n",
    "from Kinect import Kinect\n",
    "from Planes import find_plane, distance_from_plane"
   ]
  },
  {
   "cell_type": "code",
   "execution_count": 91,
   "metadata": {},
   "outputs": [
    {
     "name": "stdout",
     "output_type": "stream",
     "text": [
      "OniDeviceInfo(uri = b'freenect2://0?serial=124535140947', vendor = b'Microsoft', name = b'Kinect', usbVendorId = 37520, usbProductId = 56246)\n",
      "OniVideoMode(pixelFormat = OniPixelFormat.ONI_PIXEL_FORMAT_DEPTH_1_MM, resolutionX = 512, resolutionY = 424, fps = 30)\n",
      "OniVideoMode(pixelFormat = OniPixelFormat.ONI_PIXEL_FORMAT_DEPTH_1_MM, resolutionX = 640, resolutionY = 480, fps = 30)\n",
      "Min depth value: 0\n",
      "Max depth value: 10000\n",
      "OniVideoMode(pixelFormat = OniPixelFormat.ONI_PIXEL_FORMAT_RGB888, resolutionX = 512, resolutionY = 424, fps = 30)\n",
      "OniVideoMode(pixelFormat = OniPixelFormat.ONI_PIXEL_FORMAT_RGB888, resolutionX = 1920, resolutionY = 1080, fps = 30)\n",
      "(217088,)\n",
      "Depth min: 0\n",
      "Depth max: 4499\n",
      "Depth scale: 0.06986063606403146\n",
      "Pointcloud calculation time: 0.4181535243988037 secs\n"
     ]
    }
   ],
   "source": [
    "k = Kinect(debug=True)\n",
    "k.scale_depth(True)\n",
    "k.scale_rgb(False)\n",
    "k.start()\n",
    "point_cloud = k.get_pointcloud()\n",
    "#point_cloud[:,3:] *= 255.0\n",
    "#depth_scale = ((np.abs(np.mean(point_cloud[:,0])) + np.abs(np.mean(point_cloud[:,1]))) / 2) / np.mean(point_cloud[:,2])\n",
    "#print(\"Depth scale: {}\".format(depth_scale))\n",
    "#point_cloud[:,2] *= depth_scale\n",
    "k.stop()"
   ]
  },
  {
   "cell_type": "code",
   "execution_count": 92,
   "metadata": {},
   "outputs": [
    {
     "data": {
      "text/html": [
       "\n",
       "        <iframe\n",
       "            width=\"1200\"\n",
       "            height=\"700\"\n",
       "            src=\"pyntcloud_plot.html\"\n",
       "            frameborder=\"0\"\n",
       "            allowfullscreen\n",
       "        ></iframe>\n",
       "        "
      ],
      "text/plain": [
       "<IPython.lib.display.IFrame at 0x7f96009035c0>"
      ]
     },
     "execution_count": 92,
     "metadata": {},
     "output_type": "execute_result"
    }
   ],
   "source": [
    "points = pd.DataFrame(point_cloud, columns=['x', 'y', 'z', 'red', 'green', 'blue'])\n",
    "cloud = pc(points)\n",
    "cloud.plot(IFrame_shape=(1200, 700))"
   ]
  },
  {
   "cell_type": "code",
   "execution_count": 93,
   "metadata": {},
   "outputs": [
    {
     "data": {
      "text/html": [
       "<div>\n",
       "<style scoped>\n",
       "    .dataframe tbody tr th:only-of-type {\n",
       "        vertical-align: middle;\n",
       "    }\n",
       "\n",
       "    .dataframe tbody tr th {\n",
       "        vertical-align: top;\n",
       "    }\n",
       "\n",
       "    .dataframe thead th {\n",
       "        text-align: right;\n",
       "    }\n",
       "</style>\n",
       "<table border=\"1\" class=\"dataframe\">\n",
       "  <thead>\n",
       "    <tr style=\"text-align: right;\">\n",
       "      <th></th>\n",
       "      <th>x</th>\n",
       "      <th>y</th>\n",
       "      <th>z</th>\n",
       "      <th>red</th>\n",
       "      <th>green</th>\n",
       "      <th>blue</th>\n",
       "    </tr>\n",
       "  </thead>\n",
       "  <tbody>\n",
       "    <tr>\n",
       "      <th>count</th>\n",
       "      <td>20408.000000</td>\n",
       "      <td>20408.000000</td>\n",
       "      <td>20408.000000</td>\n",
       "      <td>20408.000000</td>\n",
       "      <td>20408.000000</td>\n",
       "      <td>20408.000000</td>\n",
       "    </tr>\n",
       "    <tr>\n",
       "      <th>mean</th>\n",
       "      <td>283.801940</td>\n",
       "      <td>-223.561887</td>\n",
       "      <td>-253.681914</td>\n",
       "      <td>86.419247</td>\n",
       "      <td>70.735594</td>\n",
       "      <td>45.791944</td>\n",
       "    </tr>\n",
       "    <tr>\n",
       "      <th>std</th>\n",
       "      <td>127.099021</td>\n",
       "      <td>42.443870</td>\n",
       "      <td>44.792342</td>\n",
       "      <td>44.043729</td>\n",
       "      <td>36.680265</td>\n",
       "      <td>37.096034</td>\n",
       "    </tr>\n",
       "    <tr>\n",
       "      <th>min</th>\n",
       "      <td>68.000000</td>\n",
       "      <td>-350.000000</td>\n",
       "      <td>-314.303002</td>\n",
       "      <td>0.000000</td>\n",
       "      <td>0.000000</td>\n",
       "      <td>0.000000</td>\n",
       "    </tr>\n",
       "    <tr>\n",
       "      <th>25%</th>\n",
       "      <td>168.000000</td>\n",
       "      <td>-244.000000</td>\n",
       "      <td>-284.053346</td>\n",
       "      <td>45.000000</td>\n",
       "      <td>54.000000</td>\n",
       "      <td>28.000000</td>\n",
       "    </tr>\n",
       "    <tr>\n",
       "      <th>50%</th>\n",
       "      <td>240.000000</td>\n",
       "      <td>-215.000000</td>\n",
       "      <td>-265.400556</td>\n",
       "      <td>108.000000</td>\n",
       "      <td>76.000000</td>\n",
       "      <td>38.000000</td>\n",
       "    </tr>\n",
       "    <tr>\n",
       "      <th>75%</th>\n",
       "      <td>422.000000</td>\n",
       "      <td>-195.000000</td>\n",
       "      <td>-226.697764</td>\n",
       "      <td>115.000000</td>\n",
       "      <td>81.000000</td>\n",
       "      <td>45.000000</td>\n",
       "    </tr>\n",
       "    <tr>\n",
       "      <th>max</th>\n",
       "      <td>510.000000</td>\n",
       "      <td>0.000000</td>\n",
       "      <td>-35.000179</td>\n",
       "      <td>235.000000</td>\n",
       "      <td>240.000000</td>\n",
       "      <td>236.000000</td>\n",
       "    </tr>\n",
       "  </tbody>\n",
       "</table>\n",
       "</div>"
      ],
      "text/plain": [
       "                  x             y             z           red         green  \\\n",
       "count  20408.000000  20408.000000  20408.000000  20408.000000  20408.000000   \n",
       "mean     283.801940   -223.561887   -253.681914     86.419247     70.735594   \n",
       "std      127.099021     42.443870     44.792342     44.043729     36.680265   \n",
       "min       68.000000   -350.000000   -314.303002      0.000000      0.000000   \n",
       "25%      168.000000   -244.000000   -284.053346     45.000000     54.000000   \n",
       "50%      240.000000   -215.000000   -265.400556    108.000000     76.000000   \n",
       "75%      422.000000   -195.000000   -226.697764    115.000000     81.000000   \n",
       "max      510.000000      0.000000    -35.000179    235.000000    240.000000   \n",
       "\n",
       "               blue  \n",
       "count  20408.000000  \n",
       "mean      45.791944  \n",
       "std       37.096034  \n",
       "min        0.000000  \n",
       "25%       28.000000  \n",
       "50%       38.000000  \n",
       "75%       45.000000  \n",
       "max      236.000000  "
      ]
     },
     "execution_count": 93,
     "metadata": {},
     "output_type": "execute_result"
    }
   ],
   "source": [
    "points.describe()"
   ]
  },
  {
   "cell_type": "code",
   "execution_count": 94,
   "metadata": {},
   "outputs": [],
   "source": [
    "# from: https://stackoverflow.com/a/9271260/6588972\n",
    "def multidim_intersect(arr1, arr2):\n",
    "    arr1_view = arr1.view([('',arr1.dtype)]*arr1.shape[1])\n",
    "    arr2_view = arr2.view([('',arr2.dtype)]*arr2.shape[1])\n",
    "    intersected = np.intersect1d(arr1_view, arr2_view)\n",
    "    return intersected.view(arr1.dtype).reshape(-1, arr1.shape[1])"
   ]
  },
  {
   "cell_type": "code",
   "execution_count": 95,
   "metadata": {},
   "outputs": [],
   "source": [
    "def multidim_isin_mask(arr1, arr2):\n",
    "    arr1_view = arr1.view([('', arr1.dtype)] * arr1.shape[1])\n",
    "    arr2_view = arr2.view([('', arr2.dtype)] * arr2.shape[1])\n",
    "    isin = np.isin(arr1_view, arr2_view)\n",
    "    #print(isin)\n",
    "    #return isin.view(arr1.dtype).reshape(-1, arr1.shape[1])\n",
    "    return isin"
   ]
  },
  {
   "cell_type": "code",
   "execution_count": 96,
   "metadata": {},
   "outputs": [],
   "source": [
    "def get_inliers(p1, p2, p3, points, limit):\n",
    "    p_a, p_b, p_c, p_d = find_plane(p1, p2, p3)\n",
    "    \n",
    "    dists = distance_from_plane(points, p_a, p_b, p_c, p_d)\n",
    "    if dists is False:\n",
    "        return False\n",
    "    \n",
    "    inliers = points[dists<limit]\n",
    "    \n",
    "    res = {\"Plane\": np.array([p_a, p_b, p_c, p_d]),\n",
    "           \"num_inliers\": inliers.shape[0],\n",
    "           \"inliers\": inliers,\n",
    "           \"dists\": dists}\n",
    "\n",
    "    return res"
   ]
  },
  {
   "cell_type": "code",
   "execution_count": 97,
   "metadata": {},
   "outputs": [],
   "source": [
    "def remove_points_from_cloud(cloud, points):\n",
    "    t = multidim_isin_mask(cloud, points)\n",
    "    tt = np.repeat(t, cloud.shape[1], axis=1)\n",
    "    c = cloud[~tt].reshape((-1, cloud.shape[1]))\n",
    "    return c"
   ]
  },
  {
   "cell_type": "code",
   "execution_count": 98,
   "metadata": {},
   "outputs": [],
   "source": [
    "def angle_between_planes(norm1, norm2):\n",
    "    return np.arccos(np.dot(norm1, norm2) / (np.linalg.norm(norm1) * np.linalg.norm(norm2)))"
   ]
  },
  {
   "cell_type": "code",
   "execution_count": 99,
   "metadata": {},
   "outputs": [],
   "source": [
    "def remove_points_by_distance(cloud, fits):\n",
    "    pass"
   ]
  },
  {
   "cell_type": "code",
   "execution_count": null,
   "metadata": {},
   "outputs": [],
   "source": []
  },
  {
   "cell_type": "code",
   "execution_count": 100,
   "metadata": {},
   "outputs": [],
   "source": [
    "def get_rand_points(points):\n",
    "    \n",
    "    r = np.random.choice(range(len(points)), 3)\n",
    "    p = points[r]\n",
    "\n",
    "    return p"
   ]
  },
  {
   "cell_type": "code",
   "execution_count": 101,
   "metadata": {},
   "outputs": [
    {
     "data": {
      "text/plain": [
       "array([[1, 2, 3],\n",
       "       [4, 5, 6],\n",
       "       [1, 2, 4],\n",
       "       [2, 2, 2],\n",
       "       [3, 3, 3],\n",
       "       [4, 4, 4],\n",
       "       [5, 5, 5]])"
      ]
     },
     "execution_count": 101,
     "metadata": {},
     "output_type": "execute_result"
    }
   ],
   "source": [
    "a = [[1, 2, 3],\n",
    "     [4, 5, 6],\n",
    "     [1, 2, 4],\n",
    "     [2, 2, 2],\n",
    "     [3, 3, 3]]\n",
    "\n",
    "b = [[4, 4, 4],\n",
    "     [5, 5, 5]]\n",
    "\n",
    "np.append(a, b, axis=0)"
   ]
  },
  {
   "cell_type": "code",
   "execution_count": 102,
   "metadata": {},
   "outputs": [],
   "source": [
    "def do_ransac(pc, iterations, limit=0.001, min_inliers=500):\n",
    "    best_fit = []\n",
    "    \n",
    "    ps = pc[:,:3]\n",
    "    ps_select = pc[:,:3]\n",
    "    \n",
    "    for ite in tqdm(range(iterations)):\n",
    "        if(ps_select.shape[0] < 2000):\n",
    "            break\n",
    "        #print(ps_select.shape)\n",
    "        p1, p2, p3 = get_rand_points(ps_select)\n",
    "        #p2 = get_rand_point(ps_select)\n",
    "        #p3 = get_rand_point(ps_select)\n",
    "    \n",
    "        fit = get_inliers(p1, p2, p3, ps, limit)\n",
    "        if fit is False:\n",
    "            continue\n",
    "        #all_inliers = np.append(all_inliers, fit[\"inliers\"][:,:3], axis=0)\n",
    "        #print(all_inliers.shape)\n",
    "        \n",
    "        if fit[\"num_inliers\"] > min_inliers:\n",
    "            best_fit.append(fit)\n",
    "            ps_select = remove_points_from_cloud(np.ascontiguousarray(ps_select), np.ascontiguousarray(fit[\"inliers\"]))\n",
    "        \n",
    "        \n",
    "    return best_fit"
   ]
  },
  {
   "cell_type": "code",
   "execution_count": 103,
   "metadata": {},
   "outputs": [
    {
     "data": {
      "application/vnd.jupyter.widget-view+json": {
       "model_id": "e016ac865033430aad7bbe917a003bad",
       "version_major": 2,
       "version_minor": 0
      },
      "text/plain": [
       "HBox(children=(IntProgress(value=0, max=300), HTML(value='')))"
      ]
     },
     "metadata": {},
     "output_type": "display_data"
    },
    {
     "name": "stdout",
     "output_type": "stream",
     "text": [
      "\n"
     ]
    }
   ],
   "source": [
    "lim = 5\n",
    "ran = do_ransac(point_cloud, 300, lim, 5000)"
   ]
  },
  {
   "cell_type": "code",
   "execution_count": 104,
   "metadata": {},
   "outputs": [
    {
     "name": "stdout",
     "output_type": "stream",
     "text": [
      "Number of inliers: 9054\n",
      "Number of inliers: 8167\n",
      "Number of inliers: 7280\n",
      "Number of inliers: 6852\n",
      "Number of inliers: 5575\n",
      "Number of inliers: 5078\n"
     ]
    }
   ],
   "source": [
    "ran = sorted(ran, key=lambda k: k['num_inliers'], reverse=True) \n",
    "for r in ran:\n",
    "    print(\"Number of inliers: {}\".format(r[\"num_inliers\"]))"
   ]
  },
  {
   "cell_type": "code",
   "execution_count": 105,
   "metadata": {},
   "outputs": [
    {
     "name": "stdout",
     "output_type": "stream",
     "text": [
      "[-1386.73362587   594.72359481  9591.        ]\n",
      "\n",
      "3.00899992379594\n",
      "2.7928738810358884\n",
      "0.04452026634778421\n",
      "2.588397088409054\n",
      "0.0\n",
      "[2, 3, 4, 5]\n"
     ]
    }
   ],
   "source": [
    "# merge all similar into largest plane\n",
    "p_large_norm = np.array(ran[-1][\"Plane\"][0:3])\n",
    "print(p_large_norm)\n",
    "print(\"\")\n",
    "\n",
    "index_merge = []\n",
    "\n",
    "for c, r in enumerate(ran):\n",
    "    if c == 0:\n",
    "        continue\n",
    "    norm = r[\"Plane\"][0:3]\n",
    "    angle = angle_between_planes(p_large_norm, norm)\n",
    "    print(angle)\n",
    "    if angle < 3:\n",
    "        index_merge.append(c)\n",
    "\n",
    "print(index_merge)\n",
    "\n",
    "for i in index_merge:\n",
    "    ran[0][\"Plane\"] = (np.array(ran[0][\"Plane\"][0:3]) + np.array(ran[i][\"Plane\"][0:3])) / 2\n",
    "    ran[0][\"num_inliers\"] = ran[0][\"num_inliers\"] + ran[i][\"num_inliers\"]\n",
    "    ran[0][\"inliers\"] = np.append(ran[0][\"inliers\"], ran[i][\"inliers\"])\n",
    "    ran[0][\"dists\"] = (ran[0][\"dists\"] + ran[i][\"dists\"]) / 2\n",
    "\n",
    "#for i in index_merge:\n",
    "#    del ran[i]"
   ]
  },
  {
   "cell_type": "code",
   "execution_count": 106,
   "metadata": {},
   "outputs": [
    {
     "ename": "ValueError",
     "evalue": "putmask: mask and data must be the same size",
     "output_type": "error",
     "traceback": [
      "\u001b[0;31m---------------------------------------------------------------------------\u001b[0m",
      "\u001b[0;31mValueError\u001b[0m                                Traceback (most recent call last)",
      "\u001b[0;32m<ipython-input-106-1face175a06e>\u001b[0m in \u001b[0;36m<module>\u001b[0;34m()\u001b[0m\n\u001b[1;32m      3\u001b[0m \u001b[0;32mif\u001b[0m \u001b[0mlen\u001b[0m\u001b[0;34m(\u001b[0m\u001b[0mran\u001b[0m\u001b[0;34m)\u001b[0m \u001b[0;34m>\u001b[0m \u001b[0;36m0\u001b[0m\u001b[0;34m:\u001b[0m\u001b[0;34m\u001b[0m\u001b[0m\n\u001b[1;32m      4\u001b[0m     \u001b[0mcond_blue\u001b[0m \u001b[0;34m=\u001b[0m \u001b[0mnp\u001b[0m\u001b[0;34m.\u001b[0m\u001b[0mless\u001b[0m\u001b[0;34m(\u001b[0m\u001b[0mran\u001b[0m\u001b[0;34m[\u001b[0m\u001b[0;36m0\u001b[0m\u001b[0;34m]\u001b[0m\u001b[0;34m[\u001b[0m\u001b[0;34m\"dists\"\u001b[0m\u001b[0;34m]\u001b[0m\u001b[0;34m,\u001b[0m \u001b[0mlim\u001b[0m\u001b[0;34m)\u001b[0m\u001b[0;34m\u001b[0m\u001b[0m\n\u001b[0;32m----> 5\u001b[0;31m     \u001b[0mnp\u001b[0m\u001b[0;34m.\u001b[0m\u001b[0mputmask\u001b[0m\u001b[0;34m(\u001b[0m\u001b[0mpc_show\u001b[0m\u001b[0;34m[\u001b[0m\u001b[0;34m:\u001b[0m\u001b[0;34m,\u001b[0m\u001b[0;36m5\u001b[0m\u001b[0;34m]\u001b[0m\u001b[0;34m,\u001b[0m \u001b[0mcond_blue\u001b[0m\u001b[0;34m,\u001b[0m \u001b[0;36m255.0\u001b[0m\u001b[0;34m)\u001b[0m\u001b[0;34m\u001b[0m\u001b[0m\n\u001b[0m\u001b[1;32m      6\u001b[0m \u001b[0;34m\u001b[0m\u001b[0m\n\u001b[1;32m      7\u001b[0m \u001b[0;34m\u001b[0m\u001b[0m\n",
      "\u001b[0;31mValueError\u001b[0m: putmask: mask and data must be the same size"
     ]
    }
   ],
   "source": [
    "pc_show = np.copy(point_cloud)\n",
    "\n",
    "if len(ran) > 0:\n",
    "    cond_blue = np.less(ran[0][\"dists\"], lim)\n",
    "    np.putmask(pc_show[:,5], cond_blue, 255.0)\n",
    "\n",
    "\n",
    "if len(ran) > 1:\n",
    "    cond_green = np.less(ran[1][\"dists\"], lim)\n",
    "    np.putmask(pc_show[:,4], cond_green, 255.0)\n",
    "\n",
    "if len(ran) > 2:\n",
    "    cond_red = np.less(ran[2][\"dists\"], lim)\n",
    "    #np.putmask(pc_show[:,3], cond_red, 255.0)"
   ]
  },
  {
   "cell_type": "code",
   "execution_count": null,
   "metadata": {},
   "outputs": [],
   "source": [
    "points = pd.DataFrame(pc_show, columns=['x', 'y', 'z', 'red', 'green', 'blue'])\n",
    "#points.describe()\n",
    "cloud = pc(points)\n",
    "cloud.plot(IFrame_shape=(1200, 700))"
   ]
  }
 ],
 "metadata": {
  "kernelspec": {
   "display_name": "Python 3",
   "language": "python",
   "name": "python3"
  },
  "language_info": {
   "codemirror_mode": {
    "name": "ipython",
    "version": 3
   },
   "file_extension": ".py",
   "mimetype": "text/x-python",
   "name": "python",
   "nbconvert_exporter": "python",
   "pygments_lexer": "ipython3",
   "version": "3.6.5"
  }
 },
 "nbformat": 4,
 "nbformat_minor": 2
}
