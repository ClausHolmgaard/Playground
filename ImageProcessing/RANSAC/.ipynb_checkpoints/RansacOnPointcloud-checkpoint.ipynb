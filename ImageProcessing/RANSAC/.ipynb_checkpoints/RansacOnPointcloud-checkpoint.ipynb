{
 "cells": [
  {
   "cell_type": "code",
   "execution_count": 84,
   "metadata": {},
   "outputs": [],
   "source": [
    "import numpy as np\n",
    "import pandas as pd\n",
    "from pyntcloud import PyntCloud as pc\n",
    "from tqdm import tqdm_notebook as tqdm\n",
    "\n",
    "from Kinect import Kinect\n",
    "from Planes import find_plane, distance_from_plane"
   ]
  },
  {
   "cell_type": "code",
   "execution_count": 85,
   "metadata": {},
   "outputs": [
    {
     "name": "stdout",
     "output_type": "stream",
     "text": [
      "Packet pipeline: OpenCLPacketPipeline\n",
      "Number of devices: 1\n",
      "Init done\n"
     ]
    }
   ],
   "source": [
    "k = Kinect(debug=True)\n",
    "k.start()\n",
    "k.wait_for_init()\n",
    "point_cloud = k.get_pointcloud()\n",
    "k.stop()"
   ]
  },
  {
   "cell_type": "code",
   "execution_count": 86,
   "metadata": {},
   "outputs": [
    {
     "data": {
      "text/plain": [
       "'\\nk = Kinect(debug=True)\\nk.scale_depth(True)\\nk.scale_rgb(False)\\nk.start()\\npoint_cloud = k.get_pointcloud()\\n#point_cloud[:,3:] *= 255.0\\n#depth_scale = ((np.abs(np.mean(point_cloud[:,0])) + np.abs(np.mean(point_cloud[:,1]))) / 2) / np.mean(point_cloud[:,2])\\n#print(\"Depth scale: {}\".format(depth_scale))\\n#point_cloud[:,2] *= depth_scale\\nk.stop()\\n'"
      ]
     },
     "execution_count": 86,
     "metadata": {},
     "output_type": "execute_result"
    }
   ],
   "source": [
    "\"\"\"\n",
    "k = Kinect(debug=True)\n",
    "k.scale_depth(True)\n",
    "k.scale_rgb(False)\n",
    "k.start()\n",
    "point_cloud = k.get_pointcloud()\n",
    "#point_cloud[:,3:] *= 255.0\n",
    "#depth_scale = ((np.abs(np.mean(point_cloud[:,0])) + np.abs(np.mean(point_cloud[:,1]))) / 2) / np.mean(point_cloud[:,2])\n",
    "#print(\"Depth scale: {}\".format(depth_scale))\n",
    "#point_cloud[:,2] *= depth_scale\n",
    "k.stop()\n",
    "\"\"\""
   ]
  },
  {
   "cell_type": "code",
   "execution_count": 87,
   "metadata": {},
   "outputs": [
    {
     "name": "stdout",
     "output_type": "stream",
     "text": [
      "Stopping device\n",
      "Closing device\n",
      "Device stopped and closed\n"
     ]
    },
    {
     "data": {
      "text/html": [
       "\n",
       "        <iframe\n",
       "            width=\"1200\"\n",
       "            height=\"700\"\n",
       "            src=\"pyntcloud_plot.html\"\n",
       "            frameborder=\"0\"\n",
       "            allowfullscreen\n",
       "        ></iframe>\n",
       "        "
      ],
      "text/plain": [
       "<IPython.lib.display.IFrame at 0x7fc2ba34f7b8>"
      ]
     },
     "execution_count": 87,
     "metadata": {},
     "output_type": "execute_result"
    }
   ],
   "source": [
    "points = pd.DataFrame(point_cloud, columns=['x', 'y', 'z', 'red', 'green', 'blue'])\n",
    "cloud = pc(points)\n",
    "cloud.plot(IFrame_shape=(1200, 700), point_size=0.001)"
   ]
  },
  {
   "cell_type": "code",
   "execution_count": 88,
   "metadata": {},
   "outputs": [
    {
     "data": {
      "text/html": [
       "<div>\n",
       "<style scoped>\n",
       "    .dataframe tbody tr th:only-of-type {\n",
       "        vertical-align: middle;\n",
       "    }\n",
       "\n",
       "    .dataframe tbody tr th {\n",
       "        vertical-align: top;\n",
       "    }\n",
       "\n",
       "    .dataframe thead th {\n",
       "        text-align: right;\n",
       "    }\n",
       "</style>\n",
       "<table border=\"1\" class=\"dataframe\">\n",
       "  <thead>\n",
       "    <tr style=\"text-align: right;\">\n",
       "      <th></th>\n",
       "      <th>x</th>\n",
       "      <th>y</th>\n",
       "      <th>z</th>\n",
       "      <th>red</th>\n",
       "      <th>green</th>\n",
       "      <th>blue</th>\n",
       "    </tr>\n",
       "  </thead>\n",
       "  <tbody>\n",
       "    <tr>\n",
       "      <th>count</th>\n",
       "      <td>166195.000000</td>\n",
       "      <td>166195.000000</td>\n",
       "      <td>166195.000000</td>\n",
       "      <td>166195.000000</td>\n",
       "      <td>166195.000000</td>\n",
       "      <td>166195.000000</td>\n",
       "    </tr>\n",
       "    <tr>\n",
       "      <th>mean</th>\n",
       "      <td>0.267608</td>\n",
       "      <td>-1.144913</td>\n",
       "      <td>7.413715</td>\n",
       "      <td>126.112879</td>\n",
       "      <td>133.923337</td>\n",
       "      <td>133.840019</td>\n",
       "    </tr>\n",
       "    <tr>\n",
       "      <th>std</th>\n",
       "      <td>2.980893</td>\n",
       "      <td>2.000546</td>\n",
       "      <td>1.277559</td>\n",
       "      <td>57.013846</td>\n",
       "      <td>60.080140</td>\n",
       "      <td>62.739763</td>\n",
       "    </tr>\n",
       "    <tr>\n",
       "      <th>min</th>\n",
       "      <td>-5.354285</td>\n",
       "      <td>-5.325547</td>\n",
       "      <td>1.960883</td>\n",
       "      <td>0.000000</td>\n",
       "      <td>0.000000</td>\n",
       "      <td>0.000000</td>\n",
       "    </tr>\n",
       "    <tr>\n",
       "      <th>25%</th>\n",
       "      <td>-2.219996</td>\n",
       "      <td>-2.779135</td>\n",
       "      <td>6.653812</td>\n",
       "      <td>121.000000</td>\n",
       "      <td>131.000000</td>\n",
       "      <td>124.000000</td>\n",
       "    </tr>\n",
       "    <tr>\n",
       "      <th>50%</th>\n",
       "      <td>-0.062142</td>\n",
       "      <td>-0.953060</td>\n",
       "      <td>7.423093</td>\n",
       "      <td>148.000000</td>\n",
       "      <td>156.000000</td>\n",
       "      <td>157.000000</td>\n",
       "    </tr>\n",
       "    <tr>\n",
       "      <th>75%</th>\n",
       "      <td>2.717205</td>\n",
       "      <td>0.601419</td>\n",
       "      <td>8.328144</td>\n",
       "      <td>165.000000</td>\n",
       "      <td>174.000000</td>\n",
       "      <td>177.000000</td>\n",
       "    </tr>\n",
       "    <tr>\n",
       "      <th>max</th>\n",
       "      <td>6.321276</td>\n",
       "      <td>2.609147</td>\n",
       "      <td>9.999356</td>\n",
       "      <td>249.000000</td>\n",
       "      <td>255.000000</td>\n",
       "      <td>255.000000</td>\n",
       "    </tr>\n",
       "  </tbody>\n",
       "</table>\n",
       "</div>"
      ],
      "text/plain": [
       "                   x              y              z            red  \\\n",
       "count  166195.000000  166195.000000  166195.000000  166195.000000   \n",
       "mean        0.267608      -1.144913       7.413715     126.112879   \n",
       "std         2.980893       2.000546       1.277559      57.013846   \n",
       "min        -5.354285      -5.325547       1.960883       0.000000   \n",
       "25%        -2.219996      -2.779135       6.653812     121.000000   \n",
       "50%        -0.062142      -0.953060       7.423093     148.000000   \n",
       "75%         2.717205       0.601419       8.328144     165.000000   \n",
       "max         6.321276       2.609147       9.999356     249.000000   \n",
       "\n",
       "               green           blue  \n",
       "count  166195.000000  166195.000000  \n",
       "mean      133.923337     133.840019  \n",
       "std        60.080140      62.739763  \n",
       "min         0.000000       0.000000  \n",
       "25%       131.000000     124.000000  \n",
       "50%       156.000000     157.000000  \n",
       "75%       174.000000     177.000000  \n",
       "max       255.000000     255.000000  "
      ]
     },
     "execution_count": 88,
     "metadata": {},
     "output_type": "execute_result"
    }
   ],
   "source": [
    "points.describe()"
   ]
  },
  {
   "cell_type": "code",
   "execution_count": 89,
   "metadata": {},
   "outputs": [],
   "source": [
    "# from: https://stackoverflow.com/a/9271260/6588972\n",
    "def multidim_intersect(arr1, arr2):\n",
    "    arr1_view = arr1.view([('',arr1.dtype)]*arr1.shape[1])\n",
    "    arr2_view = arr2.view([('',arr2.dtype)]*arr2.shape[1])\n",
    "    intersected = np.intersect1d(arr1_view, arr2_view)\n",
    "    return intersected.view(arr1.dtype).reshape(-1, arr1.shape[1])"
   ]
  },
  {
   "cell_type": "code",
   "execution_count": 90,
   "metadata": {},
   "outputs": [],
   "source": [
    "def multidim_isin_mask(arr1, arr2):\n",
    "    arr1_view = arr1.view([('', arr1.dtype)] * arr1.shape[1])\n",
    "    arr2_view = arr2.view([('', arr2.dtype)] * arr2.shape[1])\n",
    "    isin = np.isin(arr1_view, arr2_view)\n",
    "    #print(isin)\n",
    "    #return isin.view(arr1.dtype).reshape(-1, arr1.shape[1])\n",
    "    return isin"
   ]
  },
  {
   "cell_type": "code",
   "execution_count": 91,
   "metadata": {},
   "outputs": [],
   "source": [
    "def get_inliers(p1, p2, p3, points, limit):\n",
    "    p_a, p_b, p_c, p_d = find_plane(p1, p2, p3)\n",
    "    \n",
    "    dists = distance_from_plane(points, p_a, p_b, p_c, p_d)\n",
    "    if dists is False:\n",
    "        return False\n",
    "    \n",
    "    inliers = points[dists<limit]\n",
    "    \n",
    "    res = {\"Plane\": np.array([p_a, p_b, p_c, p_d]),\n",
    "           \"num_inliers\": inliers.shape[0],\n",
    "           \"inliers\": inliers,\n",
    "           \"dists\": dists}\n",
    "\n",
    "    return res"
   ]
  },
  {
   "cell_type": "code",
   "execution_count": 92,
   "metadata": {},
   "outputs": [],
   "source": [
    "def remove_points_from_cloud(cloud, points):\n",
    "    t = multidim_isin_mask(cloud, points)\n",
    "    tt = np.repeat(t, cloud.shape[1], axis=1)\n",
    "    c = cloud[~tt].reshape((-1, cloud.shape[1]))\n",
    "    return c"
   ]
  },
  {
   "cell_type": "code",
   "execution_count": 93,
   "metadata": {},
   "outputs": [],
   "source": [
    "def angle_between_planes(norm1, norm2):\n",
    "    return np.arccos(np.dot(norm1, norm2) / (np.linalg.norm(norm1) * np.linalg.norm(norm2)))"
   ]
  },
  {
   "cell_type": "code",
   "execution_count": 94,
   "metadata": {},
   "outputs": [],
   "source": [
    "def remove_points_by_distance(cloud, fits):\n",
    "    pass"
   ]
  },
  {
   "cell_type": "code",
   "execution_count": null,
   "metadata": {},
   "outputs": [],
   "source": []
  },
  {
   "cell_type": "code",
   "execution_count": 95,
   "metadata": {},
   "outputs": [],
   "source": [
    "def get_rand_points(points):\n",
    "    \n",
    "    r = np.random.choice(range(len(points)), 3)\n",
    "    p = points[r]\n",
    "\n",
    "    return p"
   ]
  },
  {
   "cell_type": "code",
   "execution_count": 96,
   "metadata": {},
   "outputs": [
    {
     "data": {
      "text/plain": [
       "array([[1, 2, 3],\n",
       "       [4, 5, 6],\n",
       "       [1, 2, 4],\n",
       "       [2, 2, 2],\n",
       "       [3, 3, 3],\n",
       "       [4, 4, 4],\n",
       "       [5, 5, 5]])"
      ]
     },
     "execution_count": 96,
     "metadata": {},
     "output_type": "execute_result"
    }
   ],
   "source": [
    "a = [[1, 2, 3],\n",
    "     [4, 5, 6],\n",
    "     [1, 2, 4],\n",
    "     [2, 2, 2],\n",
    "     [3, 3, 3]]\n",
    "\n",
    "b = [[4, 4, 4],\n",
    "     [5, 5, 5]]\n",
    "\n",
    "np.append(a, b, axis=0)"
   ]
  },
  {
   "cell_type": "code",
   "execution_count": 109,
   "metadata": {},
   "outputs": [],
   "source": [
    "def do_ransac(pc, iterations, limit=0.001, min_inliers=500):\n",
    "    best_fit = []\n",
    "    \n",
    "    ps = pc[:,:3]\n",
    "    ps_select = pc[:,:3]\n",
    "    \n",
    "    for ite in tqdm(range(iterations)):\n",
    "        if(ps_select.shape[0] < 2000):\n",
    "            break\n",
    "        #print(ps_select.shape)\n",
    "        p1, p2, p3 = get_rand_points(ps_select)\n",
    "        #p2 = get_rand_point(ps_select)\n",
    "        #p3 = get_rand_point(ps_select)\n",
    "    \n",
    "        fit = get_inliers(p1, p2, p3, ps, limit)\n",
    "        if fit is False:\n",
    "            continue\n",
    "        #all_inliers = np.append(all_inliers, fit[\"inliers\"][:,:3], axis=0)\n",
    "        #print(all_inliers.shape)\n",
    "        \n",
    "        if fit[\"num_inliers\"] > min_inliers:\n",
    "            best_fit.append(fit)\n",
    "            #ps_select = remove_points_from_cloud(np.ascontiguousarray(ps_select), np.ascontiguousarray(fit[\"inliers\"]))\n",
    "        \n",
    "        \n",
    "    return best_fit"
   ]
  },
  {
   "cell_type": "code",
   "execution_count": 110,
   "metadata": {},
   "outputs": [
    {
     "data": {
      "application/vnd.jupyter.widget-view+json": {
       "model_id": "83ca47b0f5384e7abfb4617ccc1f99e4",
       "version_major": 2,
       "version_minor": 0
      },
      "text/plain": [
       "HBox(children=(IntProgress(value=0, max=300), HTML(value='')))"
      ]
     },
     "metadata": {},
     "output_type": "display_data"
    },
    {
     "name": "stdout",
     "output_type": "stream",
     "text": [
      "\n"
     ]
    }
   ],
   "source": [
    "lim = 0.05\n",
    "ran = do_ransac(point_cloud, 300, lim, 50000)"
   ]
  },
  {
   "cell_type": "code",
   "execution_count": 111,
   "metadata": {},
   "outputs": [
    {
     "name": "stdout",
     "output_type": "stream",
     "text": [
      "Number of inliers: 76957\n",
      "Number of inliers: 75422\n",
      "Number of inliers: 72987\n",
      "Number of inliers: 71771\n",
      "Number of inliers: 70100\n",
      "Number of inliers: 70028\n",
      "Number of inliers: 69965\n",
      "Number of inliers: 69474\n",
      "Number of inliers: 68851\n",
      "Number of inliers: 68486\n",
      "Number of inliers: 68365\n",
      "Number of inliers: 68173\n",
      "Number of inliers: 68038\n",
      "Number of inliers: 67556\n",
      "Number of inliers: 66641\n",
      "Number of inliers: 66603\n",
      "Number of inliers: 65826\n",
      "Number of inliers: 65323\n",
      "Number of inliers: 65269\n",
      "Number of inliers: 64500\n",
      "Number of inliers: 58858\n",
      "Number of inliers: 58098\n",
      "Number of inliers: 57710\n",
      "Number of inliers: 57451\n",
      "Number of inliers: 55894\n",
      "Number of inliers: 55362\n",
      "Number of inliers: 54241\n",
      "Number of inliers: 51393\n",
      "Number of inliers: 51319\n",
      "Number of inliers: 51269\n",
      "Number of inliers: 50889\n",
      "Number of inliers: 50827\n",
      "Number of inliers: 50219\n",
      "Number of inliers: 49386\n",
      "Number of inliers: 49170\n",
      "Number of inliers: 48197\n",
      "Number of inliers: 48079\n",
      "Number of inliers: 47707\n",
      "Number of inliers: 47391\n",
      "Number of inliers: 47231\n",
      "Number of inliers: 47166\n",
      "Number of inliers: 47026\n",
      "Number of inliers: 46923\n",
      "Number of inliers: 46747\n",
      "Number of inliers: 46533\n",
      "Number of inliers: 46325\n",
      "Number of inliers: 46207\n",
      "Number of inliers: 46167\n",
      "Number of inliers: 46154\n",
      "Number of inliers: 45594\n",
      "Number of inliers: 44961\n",
      "Number of inliers: 44894\n",
      "Number of inliers: 44256\n",
      "Number of inliers: 44070\n",
      "Number of inliers: 44031\n",
      "Number of inliers: 43788\n",
      "Number of inliers: 43679\n",
      "Number of inliers: 43394\n",
      "Number of inliers: 43120\n",
      "Number of inliers: 43043\n",
      "Number of inliers: 42342\n",
      "Number of inliers: 42148\n",
      "Number of inliers: 41717\n",
      "Number of inliers: 41686\n",
      "Number of inliers: 41486\n",
      "Number of inliers: 40927\n",
      "Number of inliers: 40861\n",
      "Number of inliers: 40497\n",
      "Number of inliers: 40414\n",
      "Number of inliers: 40259\n",
      "Number of inliers: 40045\n",
      "Number of inliers: 39654\n",
      "Number of inliers: 39618\n",
      "Number of inliers: 39035\n",
      "Number of inliers: 38774\n",
      "Number of inliers: 38699\n",
      "Number of inliers: 38208\n",
      "Number of inliers: 38178\n",
      "Number of inliers: 38138\n",
      "Number of inliers: 37355\n",
      "Number of inliers: 36516\n",
      "Number of inliers: 36344\n",
      "Number of inliers: 36103\n",
      "Number of inliers: 35599\n",
      "Number of inliers: 34991\n",
      "Number of inliers: 34709\n",
      "Number of inliers: 34555\n",
      "Number of inliers: 34314\n",
      "Number of inliers: 34032\n",
      "Number of inliers: 34031\n",
      "Number of inliers: 33411\n",
      "Number of inliers: 33261\n",
      "Number of inliers: 32331\n",
      "Number of inliers: 31428\n",
      "Number of inliers: 30968\n",
      "Number of inliers: 30710\n",
      "Number of inliers: 30408\n",
      "Number of inliers: 30294\n",
      "Number of inliers: 30028\n",
      "Number of inliers: 29991\n",
      "Number of inliers: 29927\n",
      "Number of inliers: 29904\n",
      "Number of inliers: 29673\n",
      "Number of inliers: 29602\n",
      "Number of inliers: 29560\n",
      "Number of inliers: 29464\n",
      "Number of inliers: 29365\n",
      "Number of inliers: 27872\n",
      "Number of inliers: 27590\n",
      "Number of inliers: 27440\n",
      "Number of inliers: 27293\n",
      "Number of inliers: 27073\n",
      "Number of inliers: 27060\n",
      "Number of inliers: 26996\n",
      "Number of inliers: 26175\n",
      "Number of inliers: 26023\n",
      "Number of inliers: 24857\n",
      "Number of inliers: 24613\n",
      "Number of inliers: 24449\n",
      "Number of inliers: 24148\n",
      "Number of inliers: 23868\n",
      "Number of inliers: 23831\n",
      "Number of inliers: 23815\n",
      "Number of inliers: 23593\n",
      "Number of inliers: 23467\n",
      "Number of inliers: 23320\n",
      "Number of inliers: 23141\n",
      "Number of inliers: 22795\n",
      "Number of inliers: 22707\n",
      "Number of inliers: 22465\n",
      "Number of inliers: 21777\n",
      "Number of inliers: 21459\n",
      "Number of inliers: 21061\n",
      "Number of inliers: 20764\n",
      "Number of inliers: 20684\n",
      "Number of inliers: 20385\n",
      "Number of inliers: 20193\n",
      "Number of inliers: 19889\n",
      "Number of inliers: 19627\n",
      "Number of inliers: 19574\n",
      "Number of inliers: 19558\n",
      "Number of inliers: 19175\n",
      "Number of inliers: 19051\n",
      "Number of inliers: 18951\n",
      "Number of inliers: 18541\n",
      "Number of inliers: 18447\n",
      "Number of inliers: 17763\n",
      "Number of inliers: 17265\n",
      "Number of inliers: 17253\n",
      "Number of inliers: 17248\n",
      "Number of inliers: 17001\n",
      "Number of inliers: 16937\n",
      "Number of inliers: 16915\n",
      "Number of inliers: 16762\n",
      "Number of inliers: 16334\n",
      "Number of inliers: 16316\n",
      "Number of inliers: 15585\n",
      "Number of inliers: 15465\n",
      "Number of inliers: 15302\n",
      "Number of inliers: 15137\n",
      "Number of inliers: 14731\n",
      "Number of inliers: 14593\n",
      "Number of inliers: 14300\n",
      "Number of inliers: 14059\n",
      "Number of inliers: 14041\n",
      "Number of inliers: 13898\n",
      "Number of inliers: 13895\n",
      "Number of inliers: 13726\n",
      "Number of inliers: 13434\n",
      "Number of inliers: 13061\n",
      "Number of inliers: 12730\n",
      "Number of inliers: 12642\n",
      "Number of inliers: 12503\n",
      "Number of inliers: 12434\n",
      "Number of inliers: 11880\n",
      "Number of inliers: 11639\n",
      "Number of inliers: 11491\n",
      "Number of inliers: 11256\n",
      "Number of inliers: 11093\n",
      "Number of inliers: 11008\n",
      "Number of inliers: 10896\n",
      "Number of inliers: 10726\n",
      "Number of inliers: 10286\n",
      "Number of inliers: 9750\n",
      "Number of inliers: 9695\n",
      "Number of inliers: 9659\n",
      "Number of inliers: 9613\n",
      "Number of inliers: 9593\n",
      "Number of inliers: 8970\n",
      "Number of inliers: 8886\n",
      "Number of inliers: 8807\n",
      "Number of inliers: 8795\n",
      "Number of inliers: 8784\n",
      "Number of inliers: 8753\n",
      "Number of inliers: 8665\n",
      "Number of inliers: 8624\n",
      "Number of inliers: 8574\n",
      "Number of inliers: 8485\n",
      "Number of inliers: 8349\n",
      "Number of inliers: 8316\n",
      "Number of inliers: 8183\n",
      "Number of inliers: 8166\n",
      "Number of inliers: 8149\n",
      "Number of inliers: 8142\n",
      "Number of inliers: 7971\n",
      "Number of inliers: 7833\n",
      "Number of inliers: 7686\n",
      "Number of inliers: 7556\n",
      "Number of inliers: 7307\n",
      "Number of inliers: 7213\n",
      "Number of inliers: 7178\n",
      "Number of inliers: 7124\n",
      "Number of inliers: 7064\n",
      "Number of inliers: 6901\n",
      "Number of inliers: 6639\n",
      "Number of inliers: 6599\n",
      "Number of inliers: 6590\n",
      "Number of inliers: 6583\n",
      "Number of inliers: 6467\n",
      "Number of inliers: 6427\n",
      "Number of inliers: 6369\n",
      "Number of inliers: 6016\n",
      "Number of inliers: 6005\n",
      "Number of inliers: 5925\n",
      "Number of inliers: 5868\n",
      "Number of inliers: 5864\n",
      "Number of inliers: 5775\n",
      "Number of inliers: 5766\n",
      "Number of inliers: 5524\n",
      "Number of inliers: 5391\n",
      "Number of inliers: 5327\n",
      "Number of inliers: 5315\n",
      "Number of inliers: 5219\n",
      "Number of inliers: 5133\n",
      "Number of inliers: 5083\n",
      "Number of inliers: 5073\n",
      "Number of inliers: 5023\n"
     ]
    }
   ],
   "source": [
    "ran = sorted(ran, key=lambda k: k['num_inliers'], reverse=True) \n",
    "for r in ran:\n",
    "    print(\"Number of inliers: {}\".format(r[\"num_inliers\"]))"
   ]
  },
  {
   "cell_type": "code",
   "execution_count": 100,
   "metadata": {},
   "outputs": [
    {
     "data": {
      "text/plain": [
       "'\\n# merge all similar into largest plane\\np_large_norm = np.array(ran[-1][\"Plane\"][0:3])\\nprint(p_large_norm)\\nprint(\"\")\\n\\nindex_merge = []\\n\\nfor c, r in enumerate(ran):\\n    if c == 0:\\n        continue\\n    norm = r[\"Plane\"][0:3]\\n    angle = angle_between_planes(p_large_norm, norm)\\n    print(angle)\\n    if angle < 3:\\n        index_merge.append(c)\\n\\nprint(index_merge)\\n\\nfor i in index_merge:\\n    ran[0][\"Plane\"] = (np.array(ran[0][\"Plane\"][0:3]) + np.array(ran[i][\"Plane\"][0:3])) / 2\\n    ran[0][\"num_inliers\"] = ran[0][\"num_inliers\"] + ran[i][\"num_inliers\"]\\n    ran[0][\"inliers\"] = np.append(ran[0][\"inliers\"], ran[i][\"inliers\"])\\n    ran[0][\"dists\"] = (ran[0][\"dists\"] + ran[i][\"dists\"]) / 2\\n\\n#for i in index_merge:\\n#    del ran[i]\\n'"
      ]
     },
     "execution_count": 100,
     "metadata": {},
     "output_type": "execute_result"
    }
   ],
   "source": [
    "\"\"\"\n",
    "# merge all similar into largest plane\n",
    "p_large_norm = np.array(ran[-1][\"Plane\"][0:3])\n",
    "print(p_large_norm)\n",
    "print(\"\")\n",
    "\n",
    "index_merge = []\n",
    "\n",
    "for c, r in enumerate(ran):\n",
    "    if c == 0:\n",
    "        continue\n",
    "    norm = r[\"Plane\"][0:3]\n",
    "    angle = angle_between_planes(p_large_norm, norm)\n",
    "    print(angle)\n",
    "    if angle < 3:\n",
    "        index_merge.append(c)\n",
    "\n",
    "print(index_merge)\n",
    "\n",
    "for i in index_merge:\n",
    "    ran[0][\"Plane\"] = (np.array(ran[0][\"Plane\"][0:3]) + np.array(ran[i][\"Plane\"][0:3])) / 2\n",
    "    ran[0][\"num_inliers\"] = ran[0][\"num_inliers\"] + ran[i][\"num_inliers\"]\n",
    "    ran[0][\"inliers\"] = np.append(ran[0][\"inliers\"], ran[i][\"inliers\"])\n",
    "    ran[0][\"dists\"] = (ran[0][\"dists\"] + ran[i][\"dists\"]) / 2\n",
    "\n",
    "#for i in index_merge:\n",
    "#    del ran[i]\n",
    "\"\"\""
   ]
  },
  {
   "cell_type": "code",
   "execution_count": 113,
   "metadata": {},
   "outputs": [],
   "source": [
    "pc_show = np.copy(point_cloud)\n",
    "\n",
    "if len(ran) > 0:\n",
    "    cond_blue = np.less(ran[0][\"dists\"], lim)\n",
    "    np.putmask(pc_show[:,5], cond_blue, 255.0)\n",
    "\n",
    "\n",
    "if len(ran) > 1:\n",
    "    cond_green = np.less(ran[1][\"dists\"], lim)\n",
    "    #np.putmask(pc_show[:,4], cond_green, 255.0)\n",
    "\n",
    "if len(ran) > 2:\n",
    "    cond_red = np.less(ran[2][\"dists\"], lim)\n",
    "    #np.putmask(pc_show[:,3], cond_red, 255.0)"
   ]
  },
  {
   "cell_type": "code",
   "execution_count": 114,
   "metadata": {},
   "outputs": [
    {
     "data": {
      "text/html": [
       "\n",
       "        <iframe\n",
       "            width=\"1200\"\n",
       "            height=\"700\"\n",
       "            src=\"pyntcloud_plot.html\"\n",
       "            frameborder=\"0\"\n",
       "            allowfullscreen\n",
       "        ></iframe>\n",
       "        "
      ],
      "text/plain": [
       "<IPython.lib.display.IFrame at 0x7fc2ba2bbcf8>"
      ]
     },
     "execution_count": 114,
     "metadata": {},
     "output_type": "execute_result"
    }
   ],
   "source": [
    "points = pd.DataFrame(pc_show, columns=['x', 'y', 'z', 'red', 'green', 'blue'])\n",
    "#points.describe()\n",
    "cloud = pc(points)\n",
    "cloud.plot(IFrame_shape=(1200, 700), point_size=0.001)"
   ]
  }
 ],
 "metadata": {
  "kernelspec": {
   "display_name": "Python 3",
   "language": "python",
   "name": "python3"
  },
  "language_info": {
   "codemirror_mode": {
    "name": "ipython",
    "version": 3
   },
   "file_extension": ".py",
   "mimetype": "text/x-python",
   "name": "python",
   "nbconvert_exporter": "python",
   "pygments_lexer": "ipython3",
   "version": "3.6.5"
  }
 },
 "nbformat": 4,
 "nbformat_minor": 2
}
