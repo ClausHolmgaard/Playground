{
 "cells": [
  {
   "cell_type": "code",
   "execution_count": 2,
   "metadata": {},
   "outputs": [],
   "source": [
    "import numpy as np\n",
    "import pandas as pd\n",
    "import time\n",
    "import cv2\n",
    "import matplotlib.pyplot as plt\n",
    "from scipy.linalg import lstsq\n",
    "from pyntcloud import PyntCloud as pc\n",
    "from tqdm import tqdm_notebook as tqdm\n",
    "import numba as nb"
   ]
  },
  {
   "cell_type": "markdown",
   "metadata": {},
   "source": [
    "Imports from my own libraries"
   ]
  },
  {
   "cell_type": "code",
   "execution_count": 3,
   "metadata": {},
   "outputs": [],
   "source": [
    "from Kinect import Kinect\n",
    "from Planes import find_plane, distance_from_plane\n",
    "from watershed import watershed"
   ]
  },
  {
   "cell_type": "code",
   "execution_count": 4,
   "metadata": {},
   "outputs": [],
   "source": [
    "USE_NUMBA = True"
   ]
  },
  {
   "cell_type": "markdown",
   "metadata": {},
   "source": [
    "Grab a pointcloud from the Kinect"
   ]
  },
  {
   "cell_type": "code",
   "execution_count": 5,
   "metadata": {},
   "outputs": [
    {
     "name": "stdout",
     "output_type": "stream",
     "text": [
      "Packet pipeline: OpenCLPacketPipeline\n",
      "Number of devices: 1\n",
      "Init done\n",
      "Stopping device\n",
      "Closing device\n",
      "Device stopped and closed\n"
     ]
    }
   ],
   "source": [
    "k = Kinect(debug=True)\n",
    "k.start()\n",
    "k.wait_for_init()\n",
    "point_cloud = k.get_pointcloud()\n",
    "k.stop()"
   ]
  },
  {
   "cell_type": "markdown",
   "metadata": {},
   "source": [
    "Display the pointcloud using Pyntcloud"
   ]
  },
  {
   "cell_type": "code",
   "execution_count": 7,
   "metadata": {},
   "outputs": [
    {
     "data": {
      "text/plain": [
       "dtype('float64')"
      ]
     },
     "execution_count": 7,
     "metadata": {},
     "output_type": "execute_result"
    }
   ],
   "source": []
  },
  {
   "cell_type": "code",
   "execution_count": 14,
   "metadata": {},
   "outputs": [
    {
     "data": {
      "application/vnd.jupyter.widget-view+json": {
       "model_id": "d2d8783439874903b0470dc96f1e2e60",
       "version_major": 2,
       "version_minor": 0
      },
      "text/plain": [
       "Renderer(camera=PerspectiveCamera(aspect=1.8, fov=90.0, position=(-1.2201988697052002, 2.710545063018799, 36.8…"
      ]
     },
     "metadata": {},
     "output_type": "display_data"
    },
    {
     "data": {
      "application/vnd.jupyter.widget-view+json": {
       "model_id": "8f74125c20ee4cdbb348d1344fb67fb5",
       "version_major": 2,
       "version_minor": 0
      },
      "text/plain": [
       "HBox(children=(Label(value='Point size:'), FloatSlider(value=0.01, max=0.1, step=0.0001), Label(value='Backgro…"
      ]
     },
     "metadata": {},
     "output_type": "display_data"
    }
   ],
   "source": [
    "points = pd.DataFrame(point_cloud.astype(np.float32), columns=['x', 'y', 'z', 'red', 'green', 'blue'])\n",
    "cloud = pc(points)\n",
    "#cloud.plot(IFrame_shape=(1200, 700), point_size=0.001)\n",
    "cloud.plot(width=900, initial_point_size=0.01)"
   ]
  },
  {
   "cell_type": "code",
   "execution_count": 69,
   "metadata": {},
   "outputs": [
    {
     "data": {
      "text/html": [
       "<div>\n",
       "<style scoped>\n",
       "    .dataframe tbody tr th:only-of-type {\n",
       "        vertical-align: middle;\n",
       "    }\n",
       "\n",
       "    .dataframe tbody tr th {\n",
       "        vertical-align: top;\n",
       "    }\n",
       "\n",
       "    .dataframe thead th {\n",
       "        text-align: right;\n",
       "    }\n",
       "</style>\n",
       "<table border=\"1\" class=\"dataframe\">\n",
       "  <thead>\n",
       "    <tr style=\"text-align: right;\">\n",
       "      <th></th>\n",
       "      <th>x</th>\n",
       "      <th>y</th>\n",
       "      <th>z</th>\n",
       "      <th>red</th>\n",
       "      <th>green</th>\n",
       "      <th>blue</th>\n",
       "    </tr>\n",
       "  </thead>\n",
       "  <tbody>\n",
       "    <tr>\n",
       "      <th>count</th>\n",
       "      <td>122837.000000</td>\n",
       "      <td>122837.000000</td>\n",
       "      <td>122837.000000</td>\n",
       "      <td>122837.000000</td>\n",
       "      <td>122837.000000</td>\n",
       "      <td>122837.000000</td>\n",
       "    </tr>\n",
       "    <tr>\n",
       "      <th>mean</th>\n",
       "      <td>-1.326606</td>\n",
       "      <td>-1.687242</td>\n",
       "      <td>10.703861</td>\n",
       "      <td>130.358410</td>\n",
       "      <td>134.944194</td>\n",
       "      <td>132.603735</td>\n",
       "    </tr>\n",
       "    <tr>\n",
       "      <th>std</th>\n",
       "      <td>3.172574</td>\n",
       "      <td>2.865458</td>\n",
       "      <td>3.459785</td>\n",
       "      <td>73.924286</td>\n",
       "      <td>74.160399</td>\n",
       "      <td>72.475606</td>\n",
       "    </tr>\n",
       "    <tr>\n",
       "      <th>min</th>\n",
       "      <td>-6.948111</td>\n",
       "      <td>-7.134784</td>\n",
       "      <td>1.960792</td>\n",
       "      <td>0.000000</td>\n",
       "      <td>0.000000</td>\n",
       "      <td>0.000000</td>\n",
       "    </tr>\n",
       "    <tr>\n",
       "      <th>25%</th>\n",
       "      <td>-3.966025</td>\n",
       "      <td>-4.738271</td>\n",
       "      <td>9.744074</td>\n",
       "      <td>57.000000</td>\n",
       "      <td>69.000000</td>\n",
       "      <td>74.000000</td>\n",
       "    </tr>\n",
       "    <tr>\n",
       "      <th>50%</th>\n",
       "      <td>-1.561232</td>\n",
       "      <td>-1.681151</td>\n",
       "      <td>11.004045</td>\n",
       "      <td>155.000000</td>\n",
       "      <td>157.000000</td>\n",
       "      <td>151.000000</td>\n",
       "    </tr>\n",
       "    <tr>\n",
       "      <th>75%</th>\n",
       "      <td>0.511352</td>\n",
       "      <td>0.856908</td>\n",
       "      <td>12.746201</td>\n",
       "      <td>183.000000</td>\n",
       "      <td>187.000000</td>\n",
       "      <td>183.000000</td>\n",
       "    </tr>\n",
       "    <tr>\n",
       "      <th>max</th>\n",
       "      <td>9.997969</td>\n",
       "      <td>4.762588</td>\n",
       "      <td>17.646923</td>\n",
       "      <td>255.000000</td>\n",
       "      <td>255.000000</td>\n",
       "      <td>255.000000</td>\n",
       "    </tr>\n",
       "  </tbody>\n",
       "</table>\n",
       "</div>"
      ],
      "text/plain": [
       "                   x              y              z            red  \\\n",
       "count  122837.000000  122837.000000  122837.000000  122837.000000   \n",
       "mean       -1.326606      -1.687242      10.703861     130.358410   \n",
       "std         3.172574       2.865458       3.459785      73.924286   \n",
       "min        -6.948111      -7.134784       1.960792       0.000000   \n",
       "25%        -3.966025      -4.738271       9.744074      57.000000   \n",
       "50%        -1.561232      -1.681151      11.004045     155.000000   \n",
       "75%         0.511352       0.856908      12.746201     183.000000   \n",
       "max         9.997969       4.762588      17.646923     255.000000   \n",
       "\n",
       "               green           blue  \n",
       "count  122837.000000  122837.000000  \n",
       "mean      134.944194     132.603735  \n",
       "std        74.160399      72.475606  \n",
       "min         0.000000       0.000000  \n",
       "25%        69.000000      74.000000  \n",
       "50%       157.000000     151.000000  \n",
       "75%       187.000000     183.000000  \n",
       "max       255.000000     255.000000  "
      ]
     },
     "execution_count": 69,
     "metadata": {},
     "output_type": "execute_result"
    }
   ],
   "source": [
    "points.describe()"
   ]
  },
  {
   "cell_type": "markdown",
   "metadata": {},
   "source": [
    "A method for getting 3 random points from a set of points"
   ]
  },
  {
   "cell_type": "code",
   "execution_count": 17,
   "metadata": {},
   "outputs": [],
   "source": [
    "def get_rand_points(points):\n",
    "    \n",
    "    r = np.random.choice(range(len(points)), 3)\n",
    "    p = points[r]\n",
    "\n",
    "    return p"
   ]
  },
  {
   "cell_type": "markdown",
   "metadata": {},
   "source": [
    "A method for getting the difference between two multidimensional arrays"
   ]
  },
  {
   "cell_type": "code",
   "execution_count": 18,
   "metadata": {},
   "outputs": [],
   "source": [
    "# from: https://stackoverflow.com/a/9271260/6588972\n",
    "def multidim_diff(arr1, arr2):\n",
    "    arr1_view = arr1.view([('',arr1.dtype)]*arr1.shape[1])\n",
    "    arr2_view = arr2.view([('',arr2.dtype)]*arr2.shape[1])\n",
    "    diff = np.setdiff1d(arr1_view, arr2_view)\n",
    "    return diff.view(arr1.dtype).reshape(-1, arr1.shape[1])"
   ]
  },
  {
   "cell_type": "markdown",
   "metadata": {},
   "source": [
    "Our planes are of the form $ax+by+cz=d$, but we fit to the form $ax+by+c=z$ in order to solve $Ax=B$.<br>\n",
    "Where $\n",
    "\\mathbf{A} = \n",
    "    \\begin{vmatrix}\n",
    "        x_1 & y_1 & 1 \\\\\n",
    "        x_2 & y_2 & 1 \\\\\n",
    "        \\vdots & \\vdots & \\vdots \\\\\n",
    "        x_n & y_n & 1\n",
    "    \\end{vmatrix}\n",
    "$, \n",
    "$\n",
    "x = \\begin{vmatrix}\n",
    "        a \\\\\n",
    "        b \\\\\n",
    "        c\n",
    "    \\end{vmatrix}\n",
    "$ and\n",
    "$\n",
    "\\mathbf(B) = \n",
    "    \\begin{vmatrix}\n",
    "    z_1 \\\\\n",
    "    z_2 \\\\\n",
    "    \\vdots \\\\\n",
    "    z_n\n",
    "    \\end{vmatrix}\n",
    "$ <br><br>\n",
    "The following method fits the plane, and converts the parameters to the form we need."
   ]
  },
  {
   "cell_type": "code",
   "execution_count": 19,
   "metadata": {},
   "outputs": [],
   "source": [
    "def fit_plane_to_points(points, plane_params):\n",
    "    M = np.zeros(points.shape)\n",
    "    M[:,:2] = points[:,:2]\n",
    "    M[:,2] = 1\n",
    "    z = np.zeros((points.shape[0], 1))\n",
    "    z = points[:,2]\n",
    "    \n",
    "    p, res, rnk, s = lstsq(M, z)\n",
    "    #print(p)\n",
    "    \n",
    "    a = plane_params[0]\n",
    "    b = plane_params[1]\n",
    "    c = plane_params[2]\n",
    "    d = plane_params[3]\n",
    "    \n",
    "    fit_a = -p[0] * c\n",
    "    fit_b = -p[1] * c\n",
    "    fit_c = c\n",
    "    fit_d = -p[2] * c\n",
    "\n",
    "    return fit_a, fit_b, fit_c, fit_d"
   ]
  },
  {
   "cell_type": "code",
   "execution_count": 20,
   "metadata": {},
   "outputs": [],
   "source": [
    "def do_ransac(points, mask_on_points, limit, iterations=50):\n",
    "    \"\"\"\n",
    "    points: all points in the cloud\n",
    "    mask_on_points: 1d array of bool values, true value indicates point can be evaluated on\n",
    "    limit: distance limit for ransac\n",
    "    iterations: iterations for ransac\n",
    "    \"\"\"\n",
    "    best_fit = {\"num\": 0,\n",
    "                \"inliers\": None,\n",
    "                \"plane\": None,\n",
    "                \"dists\": None,\n",
    "                \"mask\": None}\n",
    "    \n",
    "    # Get valid points, based on mask\n",
    "    valid_points = points[mask_on_points]\n",
    "    \n",
    "    for i in tqdm(range(iterations)):\n",
    "        p1, p2, p3 = get_rand_points(valid_points)\n",
    "\n",
    "        p_a, p_b, p_c, p_d = find_plane(p1, p2, p3)\n",
    "        \n",
    "        # Find number of inliers\n",
    "        dists = distance_from_plane(valid_points, p_a, p_b, p_c, p_d)\n",
    "        inliers = valid_points[dists<limit]\n",
    "        \n",
    "        # If number of inliers is highest yet\n",
    "        if inliers.shape[0] > best_fit[\"num\"]:\n",
    "            # Fit a new plane to these inliers\n",
    "            fit_params = fit_plane_to_points(inliers, (p_a, p_b, p_c, p_d))\n",
    "            \n",
    "            # Get all distances to this new plane\n",
    "            fit_dists = distance_from_plane(points, *fit_params)\n",
    "            \n",
    "            #fit_inliers = points[fit_dists<limit]\n",
    "            # Get a mask, True where distance is less than limit\n",
    "            fit_inliers = fit_dists < limit\n",
    "            fit_inliers = np.logical_and(fit_inliers, mask_on_points)\n",
    "            \n",
    "            # Get a mask of outliers\n",
    "            fit_outliers = np.logical_not(fit_inliers)\n",
    "            \n",
    "            # Mask of valid points, if this fit is used\n",
    "            new_mask = np.logical_and(mask_on_points, fit_outliers)\n",
    "            \n",
    "            best_fit[\"num\"] = inliers.shape[0]\n",
    "            best_fit[\"inliers\"] = fit_inliers\n",
    "            best_fit[\"plane\"] = fit_params\n",
    "            best_fit[\"dists\"] = fit_dists\n",
    "            best_fit[\"mask\"] = new_mask\n",
    "    \n",
    "    return best_fit"
   ]
  },
  {
   "cell_type": "code",
   "execution_count": 21,
   "metadata": {},
   "outputs": [],
   "source": [
    "def find_planes(point_cloud, limit=0.1, ransac_iterations=50, stop_at=3):\n",
    "    planes = []\n",
    "    \n",
    "    ps = point_cloud[:,:3]\n",
    "    #all_ps = point_cloud[:,:3]\n",
    "    mask = np.ones(ps.shape[0], dtype=np.bool)\n",
    "    \n",
    "    while(ps.shape[0] > 10000):\n",
    "        fit = do_ransac(ps, mask, limit, ransac_iterations)\n",
    "        planes.append(fit)\n",
    "        mask = fit[\"mask\"]\n",
    "        \n",
    "        #ps = multidim_diff(np.ascontiguousarray(ps), np.ascontiguousarray(fit[\"inliers\"]))\n",
    "        \n",
    "        if len(planes) == stop_at:\n",
    "            break\n",
    "    \n",
    "    return planes"
   ]
  },
  {
   "cell_type": "markdown",
   "metadata": {},
   "source": [
    "Perform RANSAC"
   ]
  },
  {
   "cell_type": "code",
   "execution_count": 22,
   "metadata": {},
   "outputs": [
    {
     "name": "stdout",
     "output_type": "stream",
     "text": [
      "std limit: 0.3286373071845355\n"
     ]
    },
    {
     "data": {
      "application/vnd.jupyter.widget-view+json": {
       "model_id": "3188cda5ecad4ac8b10d6e2d44e5019d",
       "version_major": 2,
       "version_minor": 0
      },
      "text/plain": [
       "HBox(children=(IntProgress(value=0), HTML(value='')))"
      ]
     },
     "metadata": {},
     "output_type": "display_data"
    },
    {
     "name": "stdout",
     "output_type": "stream",
     "text": [
      "\n"
     ]
    },
    {
     "data": {
      "application/vnd.jupyter.widget-view+json": {
       "model_id": "c952af6dd657487ca5e60175bf21da3d",
       "version_major": 2,
       "version_minor": 0
      },
      "text/plain": [
       "HBox(children=(IntProgress(value=0), HTML(value='')))"
      ]
     },
     "metadata": {},
     "output_type": "display_data"
    },
    {
     "name": "stdout",
     "output_type": "stream",
     "text": [
      "\n"
     ]
    },
    {
     "data": {
      "application/vnd.jupyter.widget-view+json": {
       "model_id": "c20662cfcb454ffabbc911d814e8ea4f",
       "version_major": 2,
       "version_minor": 0
      },
      "text/plain": [
       "HBox(children=(IntProgress(value=0), HTML(value='')))"
      ]
     },
     "metadata": {},
     "output_type": "display_data"
    },
    {
     "name": "stdout",
     "output_type": "stream",
     "text": [
      "\n"
     ]
    }
   ],
   "source": [
    "std_limit = np.std(point_cloud[:,:3]) / 20\n",
    "print(\"std limit: {}\".format(std_limit))\n",
    "planes = find_planes(point_cloud, limit=std_limit, ransac_iterations=100, stop_at=3)"
   ]
  },
  {
   "cell_type": "code",
   "execution_count": 23,
   "metadata": {},
   "outputs": [
    {
     "name": "stdout",
     "output_type": "stream",
     "text": [
      "Planes found: 3\n"
     ]
    }
   ],
   "source": [
    "print(\"Planes found: {}\".format(len(planes)))"
   ]
  },
  {
   "cell_type": "markdown",
   "metadata": {},
   "source": [
    "Color a pointcloud with the points in planes, for visualization"
   ]
  },
  {
   "cell_type": "code",
   "execution_count": 24,
   "metadata": {},
   "outputs": [],
   "source": [
    "pc_show = np.copy(point_cloud)\n",
    "\n",
    "np.putmask(pc_show[:,5], planes[0][\"inliers\"], 255.0)\n",
    "np.putmask(pc_show[:,4], planes[1][\"inliers\"], 255.0)\n",
    "np.putmask(pc_show[:,3], planes[2][\"inliers\"], 255.0)"
   ]
  },
  {
   "cell_type": "markdown",
   "metadata": {},
   "source": [
    "Show the planes"
   ]
  },
  {
   "cell_type": "code",
   "execution_count": 25,
   "metadata": {},
   "outputs": [
    {
     "data": {
      "text/html": [
       "\n",
       "        <iframe\n",
       "            width=\"1200\"\n",
       "            height=\"700\"\n",
       "            src=\"pyntcloud_plot.html\"\n",
       "            frameborder=\"0\"\n",
       "            allowfullscreen\n",
       "        ></iframe>\n",
       "        "
      ],
      "text/plain": [
       "<IPython.lib.display.IFrame at 0x7f96c0247a20>"
      ]
     },
     "execution_count": 25,
     "metadata": {},
     "output_type": "execute_result"
    }
   ],
   "source": [
    "points = pd.DataFrame(pc_show, columns=['x', 'y', 'z', 'red', 'green', 'blue'])\n",
    "#points.describe()\n",
    "cloud = pc(points)\n",
    "cloud.plot(IFrame_shape=(1200, 700), point_size=0.001)"
   ]
  },
  {
   "cell_type": "markdown",
   "metadata": {},
   "source": [
    "- Points needs to be continous\n",
    "- Points needs to be white\n",
    "- Bounding box must be found"
   ]
  },
  {
   "cell_type": "markdown",
   "metadata": {},
   "source": [
    "Try converting one plane to an image, so we can use various methods for images on it."
   ]
  },
  {
   "cell_type": "code",
   "execution_count": 26,
   "metadata": {},
   "outputs": [
    {
     "name": "stdout",
     "output_type": "stream",
     "text": [
      "Max x: 3.215004316485746, min x: -6.7408409607076365\n",
      "Max y: 4.825578609630519, min y: -5.807904010363368\n"
     ]
    }
   ],
   "source": [
    "p_plane = point_cloud[planes[0][\"inliers\"]]\n",
    "x_max = np.max(p_plane[:,0])\n",
    "x_min = np.min(p_plane[:,0])\n",
    "y_max = np.max(p_plane[:,1])\n",
    "y_min = np.min(p_plane[:,1])\n",
    "\n",
    "print(\"Max x: {}, min x: {}\".format(x_max, x_min))\n",
    "print(\"Max y: {}, min y: {}\".format(y_max, y_min))"
   ]
  },
  {
   "cell_type": "code",
   "execution_count": 27,
   "metadata": {},
   "outputs": [],
   "source": [
    "p_plane[:,0] -= x_min\n",
    "p_plane[:,1] -= y_min"
   ]
  },
  {
   "cell_type": "code",
   "execution_count": 28,
   "metadata": {},
   "outputs": [
    {
     "name": "stdout",
     "output_type": "stream",
     "text": [
      "Max x: 9.955845277193383, min x: 0.0\n",
      "Max y: 10.633482619993886, min y: 0.0\n"
     ]
    }
   ],
   "source": [
    "new_x_max = np.max(p_plane[:,0])\n",
    "new_x_min = np.min(p_plane[:,0])\n",
    "new_y_max = np.max(p_plane[:,1])\n",
    "new_y_min = np.min(p_plane[:,1])\n",
    "\n",
    "print(\"Max x: {}, min x: {}\".format(new_x_max, new_x_min))\n",
    "print(\"Max y: {}, min y: {}\".format(new_y_max, new_y_min))"
   ]
  },
  {
   "cell_type": "code",
   "execution_count": 29,
   "metadata": {},
   "outputs": [
    {
     "name": "stdout",
     "output_type": "stream",
     "text": [
      "Number of points: 65949\n"
     ]
    }
   ],
   "source": [
    "num_points = len(p_plane)\n",
    "print(\"Number of points: {}\".format(num_points))"
   ]
  },
  {
   "cell_type": "code",
   "execution_count": 30,
   "metadata": {},
   "outputs": [
    {
     "name": "stdout",
     "output_type": "stream",
     "text": [
      "Format: 0.936273244898491\n"
     ]
    }
   ],
   "source": [
    "pic_format = new_x_max / new_y_max\n",
    "print(\"Format: {}\".format(pic_format))"
   ]
  },
  {
   "cell_type": "markdown",
   "metadata": {},
   "source": [
    "Let $n$ be the number of points in this plane, and $f$ be the format of the picture we are looking for. Then $x$ and $y$ are the sizes of the axis, so that $x \\cdot y = n$ and $\\frac{x}{y} = f$. Meaning $y = \\sqrt{\\frac{n}{f}}$ and $x = \\sqrt{\\frac{n}{f}} \\cdot f$"
   ]
  },
  {
   "cell_type": "code",
   "execution_count": 31,
   "metadata": {},
   "outputs": [
    {
     "name": "stdout",
     "output_type": "stream",
     "text": [
      "X size: 250, Y size: 266\n"
     ]
    }
   ],
   "source": [
    "y_size = int(np.ceil(np.sqrt(num_points/pic_format)))\n",
    "x_size = int(np.ceil(y_size * pic_format))\n",
    "\n",
    "print(\"X size: {}, Y size: {}\".format(x_size, y_size))"
   ]
  },
  {
   "cell_type": "code",
   "execution_count": 32,
   "metadata": {},
   "outputs": [
    {
     "name": "stdout",
     "output_type": "stream",
     "text": [
      "x scale: 25.1108763785928, y scale: 25.015322778620664\n"
     ]
    }
   ],
   "source": [
    "y_scale = y_size / new_y_max\n",
    "x_scale = x_size / new_x_max\n",
    "\n",
    "print(\"x scale: {}, y scale: {}\".format(x_scale, y_scale))"
   ]
  },
  {
   "cell_type": "code",
   "execution_count": 33,
   "metadata": {},
   "outputs": [],
   "source": [
    "# FLipping x and y for better visualization\n",
    "im = np.zeros((y_size, x_size, 3), dtype=np.uint8)\n",
    "\n",
    "for p in p_plane:\n",
    "    x_temp = int(p[0] * x_scale - 1)\n",
    "    y_temp = int(p[1] * y_scale - 1)\n",
    "    r_temp = int(p[3])\n",
    "    b_temp = int(p[4])\n",
    "    g_temp = int(p[5])\n",
    "    \n",
    "    im[y_temp, x_temp] = (r_temp, b_temp, g_temp)"
   ]
  },
  {
   "cell_type": "markdown",
   "metadata": {},
   "source": [
    "Perform watershed on the image we found.<br>\n",
    "Using a short distance limit to ensure lots of regions, so region merging can be tested below)"
   ]
  },
  {
   "cell_type": "code",
   "execution_count": 34,
   "metadata": {},
   "outputs": [],
   "source": [
    "ws = watershed()\n",
    "ws.set_transform_limit(0.01)\n",
    "ws_res = ws.get_regions(im)"
   ]
  },
  {
   "cell_type": "code",
   "execution_count": 35,
   "metadata": {},
   "outputs": [
    {
     "data": {
      "text/plain": [
       "Text(0.5,1,'Watershed')"
      ]
     },
     "execution_count": 35,
     "metadata": {},
     "output_type": "execute_result"
    },
    {
     "data": {
      "image/png": "[encoded data removed]",
      "text/plain": [
       "<Figure size 1440x576 with 2 Axes>"
      ]
     },
     "metadata": {},
     "output_type": "display_data"
    }
   ],
   "source": [
    "fig, subs = plt.subplots(1, 2, figsize=(20, 8))\n",
    "subs[0].imshow(im)\n",
    "subs[0].set_title(\"Plane as image\")\n",
    "subs[1].imshow(ws_res, cmap='gray')\n",
    "subs[1].set_title(\"Watershed\")"
   ]
  },
  {
   "cell_type": "markdown",
   "metadata": {},
   "source": [
    "A list of the planes we found, and the amount of elements in each."
   ]
  },
  {
   "cell_type": "code",
   "execution_count": 36,
   "metadata": {},
   "outputs": [
    {
     "name": "stdout",
     "output_type": "stream",
     "text": [
      "[ 4307  6660     1   151  1759  8900   285   495    35   194     1  1525\n",
      "   156 24232   633    69    11    54   721    43   354   156  1030    14\n",
      "    66    31   115   121   535   258   200   133    72    22  1811    64\n",
      "   585   159   435   408   347   699     1   731   245    74    76   241\n",
      "   161    39   159   191   156  3411  1543    22     1   243    60    68\n",
      "     1    51   230   241   239    87    98   223    21    40]\n",
      "[ 0  1  2  3  4  5  7  8  9 10 11 12 13 14 15 16 17 18 19 20 21 22 23 24\n",
      " 25 26 27 28 29 30 31 32 33 34 35 36 37 38 39 40 41 42 43 44 45 46 47 48\n",
      " 49 50 51 52 53 54 55 56 57 58 59 60 61 62 63 64 65 66 67 68 69 70]\n"
     ]
    }
   ],
   "source": [
    "unique, counts = np.unique(ws_res, return_counts=True)\n",
    "#counts, uniques = zip(*sorted(zip(counts, uniques), reverse=True))\n",
    "\n",
    "print(counts)\n",
    "print(unique)"
   ]
  },
  {
   "cell_type": "markdown",
   "metadata": {},
   "source": [
    "A HSV version of the image"
   ]
  },
  {
   "cell_type": "code",
   "execution_count": 37,
   "metadata": {},
   "outputs": [],
   "source": [
    "im_hsv = cv2.cvtColor(im, cv2.COLOR_RGB2HSV)"
   ]
  },
  {
   "cell_type": "markdown",
   "metadata": {},
   "source": [
    "Find set from watershed, that has colors that match."
   ]
  },
  {
   "cell_type": "code",
   "execution_count": 38,
   "metadata": {},
   "outputs": [
    {
     "name": "stdout",
     "output_type": "stream",
     "text": [
      "For val 0  --  mean h: 35.88251683306245, mean s: 16.6394241931739, mean v: 89.67309031808684\n",
      "For val 1  --  mean h: 1.021921921921922, mean s: 0.23003003003003003, mean v: 2.98033033033033\n",
      "For val 2  --  mean h: 51.0, mean s: 10.0, mean v: 178.0\n",
      "For val 3  --  mean h: 50.22516556291391, mean s: 13.596026490066226, mean v: 177.2317880794702\n",
      "For val 4  --  mean h: 32.19897669130187, mean s: 10.8726549175668, mean v: 144.70778851620238\n",
      "For val 5  --  mean h: 56.91067415730337, mean s: 10.306966292134831, mean v: 198.01696629213484\n",
      "For val 7  --  mean h: 32.421052631578945, mean s: 14.189473684210526, mean v: 158.77894736842106\n",
      "For val 8  --  mean h: 48.157575757575756, mean s: 14.216161616161616, mean v: 173.22222222222223\n",
      "For val 9  --  mean h: 30.885714285714286, mean s: 12.085714285714285, mean v: 161.0857142857143\n",
      "For val 10  --  mean h: 31.711340206185568, mean s: 14.0, mean v: 155.89175257731958\n",
      "For val 11  --  mean h: 48.0, mean s: 14.0, mean v: 185.0\n",
      "For val 12  --  mean h: 47.58622950819672, mean s: 13.502295081967214, mean v: 183.26295081967214\n",
      "For val 13  --  mean h: 32.59615384615385, mean s: 14.025641025641026, mean v: 151.73717948717947\n",
      "For val 14  --  mean h: 1.159045889732585, mean s: 0.4516754704522945, mean v: 2.357502476064708\n",
      "For val 15  --  mean h: 31.552922590837284, mean s: 13.447077409162718, mean v: 154.24012638230647\n",
      "For val 16  --  mean h: 49.3768115942029, mean s: 14.18840579710145, mean v: 181.0144927536232\n",
      "For val 17  --  mean h: 32.72727272727273, mean s: 17.181818181818183, mean v: 155.36363636363637\n",
      "For val 18  --  mean h: 31.537037037037038, mean s: 13.88888888888889, mean v: 154.40740740740742\n",
      "For val 19  --  mean h: 31.219140083217752, mean s: 12.901525658807213, mean v: 146.2621359223301\n",
      "For val 20  --  mean h: 52.25581395348837, mean s: 13.534883720930232, mean v: 183.65116279069767\n",
      "For val 21  --  mean h: 34.601694915254235, mean s: 14.646892655367232, mean v: 143.409604519774\n",
      "For val 22  --  mean h: 54.333333333333336, mean s: 53.57051282051282, mean v: 34.294871794871796\n",
      "For val 23  --  mean h: 31.06601941747573, mean s: 43.988349514563104, mean v: 43.2252427184466\n",
      "For val 24  --  mean h: 54.285714285714285, mean s: 12.714285714285714, mean v: 184.57142857142858\n",
      "For val 25  --  mean h: 53.74242424242424, mean s: 11.06060606060606, mean v: 187.24242424242425\n",
      "For val 26  --  mean h: 39.645161290322584, mean s: 16.967741935483872, mean v: 149.16129032258064\n",
      "For val 27  --  mean h: 70.81739130434782, mean s: 65.66956521739131, mean v: 44.904347826086955\n",
      "For val 28  --  mean h: 48.603305785123965, mean s: 13.611570247933884, mean v: 148.98347107438016\n",
      "For val 29  --  mean h: 38.2018691588785, mean s: 32.61121495327103, mean v: 31.783177570093457\n",
      "For val 30  --  mean h: 34.492248062015506, mean s: 12.279069767441861, mean v: 141.49612403100775\n",
      "For val 31  --  mean h: 55.38, mean s: 9.575, mean v: 199.13\n",
      "For val 32  --  mean h: 94.11278195488721, mean s: 111.42857142857143, mean v: 121.23308270676692\n",
      "For val 33  --  mean h: 47.291666666666664, mean s: 43.416666666666664, mean v: 43.44444444444444\n",
      "For val 34  --  mean h: 33.36363636363637, mean s: 37.68181818181818, mean v: 35.18181818181818\n",
      "For val 35  --  mean h: 54.29872998343457, mean s: 52.81612368856985, mean v: 53.20099392600773\n",
      "For val 36  --  mean h: 40.890625, mean s: 34.625, mean v: 35.046875\n",
      "For val 37  --  mean h: 37.99145299145299, mean s: 40.23076923076923, mean v: 39.6\n",
      "For val 38  --  mean h: 38.42138364779874, mean s: 43.679245283018865, mean v: 42.62264150943396\n",
      "For val 39  --  mean h: 39.57011494252873, mean s: 54.16781609195402, mean v: 147.18850574712644\n",
      "For val 40  --  mean h: 32.8578431372549, mean s: 51.48529411764706, mean v: 59.666666666666664\n",
      "For val 41  --  mean h: 71.72910662824208, mean s: 44.30259365994236, mean v: 106.67723342939482\n",
      "For val 42  --  mean h: 32.855507868383405, mean s: 55.693848354792564, mean v: 67.0\n",
      "For val 43  --  mean h: 56.0, mean s: 41.0, mean v: 50.0\n",
      "For val 44  --  mean h: 42.116279069767444, mean s: 10.119015047879618, mean v: 152.23939808481532\n",
      "For val 45  --  mean h: 59.85306122448979, mean s: 7.044897959183674, mean v: 174.534693877551\n",
      "For val 46  --  mean h: 51.310810810810814, mean s: 17.635135135135137, mean v: 104.8108108108108\n",
      "For val 47  --  mean h: 41.69736842105263, mean s: 16.789473684210527, mean v: 88.55263157894737\n",
      "For val 48  --  mean h: 64.21991701244814, mean s: 41.91701244813278, mean v: 33.892116182572614\n",
      "For val 49  --  mean h: 47.83229813664596, mean s: 16.41614906832298, mean v: 93.59006211180125\n",
      "For val 50  --  mean h: 60.97435897435897, mean s: 49.48717948717949, mean v: 26.615384615384617\n",
      "For val 51  --  mean h: 59.503144654088054, mean s: 44.63522012578616, mean v: 23.88050314465409\n",
      "For val 52  --  mean h: 55.8848167539267, mean s: 6.785340314136126, mean v: 173.9371727748691\n",
      "For val 53  --  mean h: 54.006410256410255, mean s: 8.211538461538462, mean v: 157.35256410256412\n",
      "For val 54  --  mean h: 78.7273526824978, mean s: 6.096452653180886, mean v: 195.59190853122251\n",
      "For val 55  --  mean h: 78.50615683732988, mean s: 6.57550226830849, mean v: 209.95787427090085\n",
      "For val 56  --  mean h: 79.0909090909091, mean s: 5.818181818181818, mean v: 182.6818181818182\n",
      "For val 57  --  mean h: 83.0, mean s: 6.0, mean v: 184.0\n",
      "For val 58  --  mean h: 81.97942386831275, mean s: 5.012345679012346, mean v: 182.36625514403292\n",
      "For val 59  --  mean h: 88.61666666666666, mean s: 6.2, mean v: 184.35\n",
      "For val 60  --  mean h: 81.86764705882354, mean s: 5.205882352941177, mean v: 186.47058823529412\n",
      "For val 61  --  mean h: 83.0, mean s: 5.0, mean v: 187.0\n",
      "For val 62  --  mean h: 76.58823529411765, mean s: 5.352941176470588, mean v: 157.7450980392157\n",
      "For val 63  --  mean h: 78.89565217391305, mean s: 5.8, mean v: 172.90869565217392\n",
      "For val 64  --  mean h: 88.49377593360995, mean s: 5.54356846473029, mean v: 197.78423236514521\n",
      "For val 65  --  mean h: 78.57740585774059, mean s: 6.2719665271966525, mean v: 180.64435146443515\n",
      "For val 66  --  mean h: 105.45977011494253, mean s: 170.66666666666666, mean v: 71.0919540229885\n",
      "For val 67  --  mean h: 95.27551020408163, mean s: 6.704081632653061, mean v: 208.5408163265306\n",
      "For val 68  --  mean h: 77.4798206278027, mean s: 7.79372197309417, mean v: 207.90582959641256\n",
      "For val 69  --  mean h: 68.14285714285714, mean s: 4.619047619047619, mean v: 151.57142857142858\n",
      "For val 70  --  mean h: 68.85, mean s: 7.575, mean v: 157.975\n"
     ]
    }
   ],
   "source": [
    "good_vals = []\n",
    "for u in unique:\n",
    "    mean_h = np.mean(im_hsv[:,:,0][ws_res==u])\n",
    "    mean_s = np.mean(im_hsv[:,:,1][ws_res==u])\n",
    "    mean_v = np.mean(im_hsv[:,:,2][ws_res==u])\n",
    "    print(\"For val {}  --  mean h: {}, mean s: {}, mean v: {}\".format(u, mean_h, mean_s, mean_v))\n",
    "    \n",
    "    #if mean_h > 20 and mean_h < 70:\n",
    "    #    good_vals.append(u)\n",
    "    \n",
    "    if mean_s < 20 and mean_v > 120:\n",
    "        good_vals.append(u)"
   ]
  },
  {
   "cell_type": "markdown",
   "metadata": {},
   "source": [
    "And the good sets are"
   ]
  },
  {
   "cell_type": "code",
   "execution_count": 39,
   "metadata": {},
   "outputs": [
    {
     "name": "stdout",
     "output_type": "stream",
     "text": [
      "[2, 3, 4, 5, 7, 8, 9, 10, 11, 12, 13, 15, 16, 17, 18, 19, 20, 21, 24, 25, 26, 28, 30, 31, 44, 45, 52, 53, 54, 55, 56, 57, 58, 59, 60, 61, 62, 63, 64, 65, 67, 68, 69, 70]\n"
     ]
    }
   ],
   "source": [
    "print(good_vals)"
   ]
  },
  {
   "cell_type": "markdown",
   "metadata": {},
   "source": [
    "Generate a range of colors, used for visualization."
   ]
  },
  {
   "cell_type": "code",
   "execution_count": 40,
   "metadata": {},
   "outputs": [],
   "source": [
    "# https://www.quora.com/How-do-I-generate-n-visually-distinct-RGB-colours-in-Python\n",
    "import colorsys\n",
    " \n",
    "def HSVToRGB(h, s, v):\n",
    "    (r, g, b) = colorsys.hsv_to_rgb(h, s, v)\n",
    "    return (int(255*r), int(255*g), int(255*b))\n",
    " \n",
    "def getDistinctColors(n):\n",
    "    huePartition = 1.0 / (n + 1)\n",
    "    return (HSVToRGB(huePartition * value, 1.0, 1.0) for value in range(0, n))"
   ]
  },
  {
   "cell_type": "code",
   "execution_count": 41,
   "metadata": {},
   "outputs": [
    {
     "data": {
      "text/plain": [
       "Text(0.5,1,'Watershed regions with acceptable color')"
      ]
     },
     "execution_count": 41,
     "metadata": {},
     "output_type": "execute_result"
    },
    {
     "data": {
      "image/png": "[encoded data removed]",
      "text/plain": [
       "<Figure size 1440x720 with 2 Axes>"
      ]
     },
     "metadata": {},
     "output_type": "display_data"
    }
   ],
   "source": [
    "f, subs = plt.subplots(1, 2, figsize=(20, 10))\n",
    "\n",
    "ws_res_color = np.zeros((ws_res.shape[0], ws_res.shape[1], 3), dtype=np.uint8)\n",
    "colors = getDistinctColors(len(good_vals))\n",
    "\n",
    "for g in good_vals:\n",
    "    ws_res_color[ws_res==g] = next(colors)\n",
    "\n",
    "subs[0].imshow(im)\n",
    "subs[0].set_title(\"Plane as image\")\n",
    "subs[1].imshow(ws_res_color)\n",
    "subs[1].set_title(\"Watershed regions with acceptable color\")"
   ]
  },
  {
   "cell_type": "markdown",
   "metadata": {},
   "source": [
    "### This is as far as I've gotten. Rest of document is not relevant."
   ]
  },
  {
   "cell_type": "markdown",
   "metadata": {},
   "source": [
    "- For each region in watershed, find all neighbour regions.\n",
    "- Merge regions with similar color.\n",
    "  - Or merge neighbours, as color is already validated.\n",
    "- Repeat until no regions are merged."
   ]
  },
  {
   "cell_type": "code",
   "execution_count": 42,
   "metadata": {},
   "outputs": [],
   "source": [
    "coord_shape = ws_res.shape"
   ]
  },
  {
   "cell_type": "code",
   "execution_count": 43,
   "metadata": {},
   "outputs": [
    {
     "name": "stdout",
     "output_type": "stream",
     "text": [
      "[[  0   1   2 ... 247 248 249]\n",
      " [  0   1   2 ... 247 248 249]\n",
      " [  0   1   2 ... 247 248 249]\n",
      " ...\n",
      " [  0   1   2 ... 247 248 249]\n",
      " [  0   1   2 ... 247 248 249]\n",
      " [  0   1   2 ... 247 248 249]]\n"
     ]
    }
   ],
   "source": [
    "y_mat = np.tile(np.arange(0, coord_shape[1]), (coord_shape[0], 1))\n",
    "print(y_mat)"
   ]
  },
  {
   "cell_type": "code",
   "execution_count": 44,
   "metadata": {},
   "outputs": [
    {
     "name": "stdout",
     "output_type": "stream",
     "text": [
      "[[  0   0   0 ...   0   0   0]\n",
      " [  1   1   1 ...   1   1   1]\n",
      " [  2   2   2 ...   2   2   2]\n",
      " ...\n",
      " [263 263 263 ... 263 263 263]\n",
      " [264 264 264 ... 264 264 264]\n",
      " [265 265 265 ... 265 265 265]]\n"
     ]
    }
   ],
   "source": [
    "x_mat = np.tile(np.arange(0, coord_shape[0]), (coord_shape[1], 1)).T\n",
    "print(x_mat)"
   ]
  },
  {
   "cell_type": "code",
   "execution_count": 45,
   "metadata": {},
   "outputs": [
    {
     "name": "stdout",
     "output_type": "stream",
     "text": [
      "(266, 250, 2)\n"
     ]
    }
   ],
   "source": [
    "coord_mat = np.zeros((coord_shape[0], coord_shape[1], 2))\n",
    "print(coord_mat.shape)\n",
    "coord_mat[:,:,0] = x_mat\n",
    "coord_mat[:,:,1] = y_mat"
   ]
  },
  {
   "cell_type": "code",
   "execution_count": 46,
   "metadata": {},
   "outputs": [
    {
     "name": "stdout",
     "output_type": "stream",
     "text": [
      "[2, 3, 4, 5, 7, 8, 9, 10, 11, 12, 13, 15, 16, 17, 18, 19, 20, 21, 24, 25, 26, 28, 30, 31, 44, 45, 52, 53, 54, 55, 56, 57, 58, 59, 60, 61, 62, 63, 64, 65, 67, 68, 69, 70]\n",
      "44\n"
     ]
    }
   ],
   "source": [
    "print(good_vals)\n",
    "print(len(good_vals))"
   ]
  },
  {
   "cell_type": "markdown",
   "metadata": {},
   "source": [
    "Find the minimum distance between two sets, and the number of points with this distance"
   ]
  },
  {
   "cell_type": "code",
   "execution_count": 47,
   "metadata": {},
   "outputs": [],
   "source": [
    "#@nb.jit(nb.types.Tuple((nb.float64, nb.int64))(nb.int64[:,:], nb.int64[:,:]))\n",
    "@nb.jit(nopython=True)\n",
    "def minimum_distance(points1, points2):\n",
    "    min_dist = 100\n",
    "    min_count = 100\n",
    "    #for p1 in points1:\n",
    "    for i1 in range(len(points1)):\n",
    "        #for p2 in points2:\n",
    "        for i2 in range(len(points2)):\n",
    "            d = np.sqrt((points1[i1][0] - points2[i2][0])**2 + (points1[i1][1] - points2[i2][1])**2)\n",
    "            \n",
    "            if d < min_dist:\n",
    "                min_dist = d\n",
    "                min_count = 1\n",
    "            elif d == min_dist:\n",
    "                min_count += 1\n",
    "    return min_dist, min_count"
   ]
  },
  {
   "cell_type": "code",
   "execution_count": 48,
   "metadata": {},
   "outputs": [],
   "source": [
    "#nb_minimum_distance = nb.jit(minimum_distance, nopython=True)\n",
    "#minimum_distance.inspect_types()"
   ]
  },
  {
   "cell_type": "markdown",
   "metadata": {},
   "source": [
    "This is very slow, would like to find some way to do it vectorized."
   ]
  },
  {
   "cell_type": "code",
   "execution_count": 49,
   "metadata": {},
   "outputs": [],
   "source": [
    "\n",
    "p1 = np.array([[1, 1],\n",
    "               [1, 2],\n",
    "               [3, 4]])\n",
    "\n",
    "p1 = np.random.rand(10, 2)\n",
    "\n",
    "p2 = np.array([[2, 1],\n",
    "               [2, 2],\n",
    "               [3, 4],\n",
    "               [5, 5]])\n",
    "\n",
    "p2 = np.random.rand(100, 2)"
   ]
  },
  {
   "cell_type": "code",
   "execution_count": 50,
   "metadata": {},
   "outputs": [
    {
     "name": "stdout",
     "output_type": "stream",
     "text": [
      "2.38 µs ± 98.2 ns per loop (mean ± std. dev. of 7 runs, 100000 loops each)\n"
     ]
    }
   ],
   "source": [
    "minimum_distance(p1, p2)\n",
    "%timeit minimum_distance(p1, p2)"
   ]
  },
  {
   "cell_type": "code",
   "execution_count": 51,
   "metadata": {},
   "outputs": [],
   "source": [
    "#nb_minimum_distance(p1, p2)\n",
    "#%timeit nb_minimum_distance(p1, p2)"
   ]
  },
  {
   "cell_type": "code",
   "execution_count": 52,
   "metadata": {},
   "outputs": [],
   "source": [
    "def find_neighbours(region_vals, watershed_image):\n",
    "    neighbours = {}\n",
    "    \n",
    "    for g1 in tqdm(region_vals):\n",
    "        neighbours[g1] = []\n",
    "        g1_set = coord_mat[watershed_image==g1]\n",
    "        for g2 in region_vals:\n",
    "            if g1 == g2:\n",
    "                continue\n",
    "            g2_set = coord_mat[watershed_image==g2]\n",
    "            #g1_g2_dist = minimum_distance(g1_set, g2_set)\n",
    "            g1_g2_dist = minimum_distance(g1_set, g2_set)\n",
    "            # Minimum distance is sqrt(2)\n",
    "            if g1_g2_dist[0] <= np.sqrt(2):\n",
    "                neighbours[g1].append(g2)\n",
    "    return neighbours"
   ]
  },
  {
   "cell_type": "code",
   "execution_count": 53,
   "metadata": {},
   "outputs": [],
   "source": [
    "#nb = find_neighbours(good_vals, ws_res)\n",
    "#for k, v in nb.items():\n",
    "#    print(\"{}: {}\".format(k, v))"
   ]
  },
  {
   "cell_type": "code",
   "execution_count": 54,
   "metadata": {},
   "outputs": [],
   "source": [
    "#nb = numba_find_neighbours(good_vals, ws_res)\n",
    "#for k, v in nb.items():\n",
    "#    print(\"{}: {}\".format(k, v))"
   ]
  },
  {
   "cell_type": "markdown",
   "metadata": {},
   "source": [
    "Merge the first found neighbours.<br>\n",
    "Consider optimizing by merging all neighbours, that doesnt share neighbors."
   ]
  },
  {
   "cell_type": "code",
   "execution_count": 55,
   "metadata": {},
   "outputs": [],
   "source": [
    "#@nb.jit(nb.types.Tuple())\n",
    "def merge_regions(regions, ws):\n",
    "    neighbours = find_neighbours(regions, ws)\n",
    "    merge_done = False\n",
    "    \n",
    "    for r in regions:\n",
    "        if r not in neighbours.keys():\n",
    "            continue\n",
    "        if len(neighbours[r]) == 0:\n",
    "            continue\n",
    "            \n",
    "        for n in neighbours[r]:\n",
    "            print(\"Merging {} into {}\".format(n, r))\n",
    "            \n",
    "            #n1 = neighbours[r][0]\n",
    "            regions.remove(n)\n",
    "\n",
    "            ws[ws==n] = r\n",
    "            merge_done = True\n",
    "        \n",
    "        break\n",
    "\n",
    "    return regions, ws, merge_done"
   ]
  },
  {
   "cell_type": "code",
   "execution_count": 56,
   "metadata": {},
   "outputs": [],
   "source": [
    "#@nb.jit(nb.types.Tuple((nb.int64, nb.int64[:,:]))(nb.int64, nb.int64[:,:]))\n",
    "def merge_all_regions(regions, ws):\n",
    "    merge_done = True\n",
    "    while(merge_done):\n",
    "        regions, ws, merge_done = merge_regions(regions, ws)\n",
    "        print(\"Regions left: {}\".format(len(regions)))\n",
    "    \n",
    "    print(\"Done\")\n",
    "    return regions, ws"
   ]
  },
  {
   "cell_type": "code",
   "execution_count": 57,
   "metadata": {},
   "outputs": [],
   "source": [
    "#sdcsc"
   ]
  },
  {
   "cell_type": "code",
   "execution_count": 58,
   "metadata": {},
   "outputs": [
    {
     "name": "stdout",
     "output_type": "stream",
     "text": [
      "\n",
      "Number of regions at start: 44\n"
     ]
    },
    {
     "data": {
      "application/vnd.jupyter.widget-view+json": {
       "model_id": "77405df66ccc499aa942555ca2606c34",
       "version_major": 2,
       "version_minor": 0
      },
      "text/plain": [
       "HBox(children=(IntProgress(value=0, max=44), HTML(value='')))"
      ]
     },
     "metadata": {},
     "output_type": "display_data"
    },
    {
     "name": "stdout",
     "output_type": "stream",
     "text": [
      "\n",
      "Merging 3 into 2\n",
      "Regions left: 43\n"
     ]
    },
    {
     "data": {
      "application/vnd.jupyter.widget-view+json": {
       "model_id": "0997d9f8f1be4531a25b674c1bba5c3f",
       "version_major": 2,
       "version_minor": 0
      },
      "text/plain": [
       "HBox(children=(IntProgress(value=0, max=43), HTML(value='')))"
      ]
     },
     "metadata": {},
     "output_type": "display_data"
    },
    {
     "name": "stdout",
     "output_type": "stream",
     "text": [
      "\n",
      "Merging 4 into 2\n",
      "Merging 5 into 2\n",
      "Merging 8 into 2\n",
      "Regions left: 40\n"
     ]
    },
    {
     "data": {
      "application/vnd.jupyter.widget-view+json": {
       "model_id": "e63c6e3377c64368b7e66e9e4c815f1b",
       "version_major": 2,
       "version_minor": 0
      },
      "text/plain": [
       "HBox(children=(IntProgress(value=0, max=40), HTML(value='')))"
      ]
     },
     "metadata": {},
     "output_type": "display_data"
    },
    {
     "name": "stdout",
     "output_type": "stream",
     "text": [
      "\n",
      "Merging 7 into 2\n",
      "Merging 9 into 2\n",
      "Merging 10 into 2\n",
      "Merging 11 into 2\n",
      "Merging 12 into 2\n",
      "Merging 13 into 2\n",
      "Merging 15 into 2\n",
      "Merging 19 into 2\n",
      "Merging 21 into 2\n",
      "Merging 28 into 2\n",
      "Merging 30 into 2\n",
      "Merging 31 into 2\n",
      "Merging 44 into 2\n",
      "Merging 45 into 2\n",
      "Merging 55 into 2\n",
      "Merging 68 into 2\n",
      "Regions left: 24\n"
     ]
    },
    {
     "data": {
      "application/vnd.jupyter.widget-view+json": {
       "model_id": "b1595f5b77d24afeace19e300991476f",
       "version_major": 2,
       "version_minor": 0
      },
      "text/plain": [
       "HBox(children=(IntProgress(value=0, max=24), HTML(value='')))"
      ]
     },
     "metadata": {},
     "output_type": "display_data"
    },
    {
     "name": "stdout",
     "output_type": "stream",
     "text": [
      "\n",
      "Merging 16 into 2\n",
      "Merging 17 into 2\n",
      "Merging 18 into 2\n",
      "Merging 20 into 2\n",
      "Merging 25 into 2\n",
      "Merging 26 into 2\n",
      "Merging 52 into 2\n",
      "Merging 53 into 2\n",
      "Merging 54 into 2\n",
      "Merging 56 into 2\n",
      "Merging 58 into 2\n",
      "Merging 59 into 2\n",
      "Regions left: 12\n"
     ]
    },
    {
     "data": {
      "application/vnd.jupyter.widget-view+json": {
       "model_id": "8545aa6760a5440bb667814a82612a61",
       "version_major": 2,
       "version_minor": 0
      },
      "text/plain": [
       "HBox(children=(IntProgress(value=0, max=12), HTML(value='')))"
      ]
     },
     "metadata": {},
     "output_type": "display_data"
    },
    {
     "name": "stdout",
     "output_type": "stream",
     "text": [
      "\n",
      "Merging 24 into 2\n",
      "Merging 57 into 2\n",
      "Merging 60 into 2\n",
      "Merging 61 into 2\n",
      "Merging 62 into 2\n",
      "Merging 63 into 2\n",
      "Merging 64 into 2\n",
      "Merging 67 into 2\n",
      "Regions left: 4\n"
     ]
    },
    {
     "data": {
      "application/vnd.jupyter.widget-view+json": {
       "model_id": "d58d8452b5ed4bf4a631d743ae15d0af",
       "version_major": 2,
       "version_minor": 0
      },
      "text/plain": [
       "HBox(children=(IntProgress(value=0, max=4), HTML(value='')))"
      ]
     },
     "metadata": {},
     "output_type": "display_data"
    },
    {
     "name": "stdout",
     "output_type": "stream",
     "text": [
      "\n",
      "Merging 65 into 2\n",
      "Merging 69 into 2\n",
      "Merging 70 into 2\n",
      "Regions left: 1\n"
     ]
    },
    {
     "data": {
      "application/vnd.jupyter.widget-view+json": {
       "model_id": "5a81837380f844f48219e69def892e55",
       "version_major": 2,
       "version_minor": 0
      },
      "text/plain": [
       "HBox(children=(IntProgress(value=0, max=1), HTML(value='')))"
      ]
     },
     "metadata": {},
     "output_type": "display_data"
    },
    {
     "name": "stdout",
     "output_type": "stream",
     "text": [
      "\n",
      "Regions left: 1\n",
      "Done\n"
     ]
    }
   ],
   "source": [
    "g = good_vals.copy()\n",
    "w = np.copy(ws_res)\n",
    "\n",
    "print(\"\")\n",
    "print(\"Number of regions at start: {}\".format(len(good_vals)))\n",
    "\n",
    "regions, ws = merge_all_regions(g, w)"
   ]
  },
  {
   "cell_type": "code",
   "execution_count": 59,
   "metadata": {},
   "outputs": [
    {
     "data": {
      "text/plain": [
       "Text(0.5,1,'Watershed with merged regions')"
      ]
     },
     "execution_count": 59,
     "metadata": {},
     "output_type": "execute_result"
    },
    {
     "data": {
      "image/png": "[encoded data removed]",
      "text/plain": [
       "<Figure size 1440x720 with 2 Axes>"
      ]
     },
     "metadata": {},
     "output_type": "display_data"
    }
   ],
   "source": [
    "f, subs = plt.subplots(1, 2, figsize=(20, 10))\n",
    "\n",
    "ws_new_regions = np.zeros((ws_res.shape[0], ws_res.shape[1], 3), dtype=np.uint8)\n",
    "colors = getDistinctColors(len(regions))\n",
    "\n",
    "for r in regions:\n",
    "    ws_new_regions[ws==r] = next(colors)\n",
    "\n",
    "subs[0].imshow(ws_res_color)\n",
    "subs[0].set_title(\"Watershed with colored regions\")\n",
    "subs[1].imshow(ws_new_regions)\n",
    "subs[1].set_title(\"Watershed with merged regions\")"
   ]
  },
  {
   "cell_type": "code",
   "execution_count": 60,
   "metadata": {},
   "outputs": [
    {
     "name": "stdout",
     "output_type": "stream",
     "text": [
      "[2]\n",
      "1\n"
     ]
    }
   ],
   "source": [
    "print(regions)\n",
    "print(len(regions))"
   ]
  },
  {
   "cell_type": "code",
   "execution_count": 61,
   "metadata": {},
   "outputs": [],
   "source": [
    "ws_res_color = np.zeros((ws_res.shape[0], ws_res.shape[1], 3), dtype=np.uint8)"
   ]
  },
  {
   "cell_type": "code",
   "execution_count": 62,
   "metadata": {},
   "outputs": [
    {
     "name": "stdout",
     "output_type": "stream",
     "text": [
      "3\n"
     ]
    }
   ],
   "source": [
    "val = unique[3]\n",
    "print(val)\n",
    "ws_res_color[ws_res==val] = (0, 0, 255)"
   ]
  },
  {
   "cell_type": "code",
   "execution_count": 63,
   "metadata": {},
   "outputs": [
    {
     "data": {
      "text/plain": [
       "<matplotlib.image.AxesImage at 0x7f96a0363898>"
      ]
     },
     "execution_count": 63,
     "metadata": {},
     "output_type": "execute_result"
    },
    {
     "data": {
      "image/png": "[encoded data removed]",
      "text/plain": [
       "<Figure size 1080x576 with 1 Axes>"
      ]
     },
     "metadata": {},
     "output_type": "display_data"
    }
   ],
   "source": [
    "fig = plt.figure(figsize=(15, 8))\n",
    "plt.imshow(ws_res_color)"
   ]
  },
  {
   "cell_type": "raw",
   "metadata": {},
   "source": [
    "Watershed is creating borders where there should'nt be any.<br>\n",
    "Problem is most likely marker placement.<br>\n",
    "Solutions?\n",
    "- Change markers\n",
    "- Validate borders of all regions with correct border values"
   ]
  },
  {
   "cell_type": "raw",
   "metadata": {},
   "source": []
  }
 ],
 "metadata": {
  "kernelspec": {
   "display_name": "Python 3",
   "language": "python",
   "name": "python3"
  },
  "language_info": {
   "codemirror_mode": {
    "name": "ipython",
    "version": 3
   },
   "file_extension": ".py",
   "mimetype": "text/x-python",
   "name": "python",
   "nbconvert_exporter": "python",
   "pygments_lexer": "ipython3",
   "version": "3.6.6"
  }
 },
 "nbformat": 4,
 "nbformat_minor": 2
}
