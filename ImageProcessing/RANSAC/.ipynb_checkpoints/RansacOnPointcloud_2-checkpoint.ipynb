{
 "cells": [
  {
   "cell_type": "code",
   "execution_count": 1,
   "metadata": {},
   "outputs": [],
   "source": [
    "import numpy as np\n",
    "import pandas as pd\n",
    "import time\n",
    "from scipy.linalg import lstsq\n",
    "from pyntcloud import PyntCloud as pc\n",
    "from tqdm import tqdm_notebook as tqdm\n",
    "\n",
    "from Kinect import Kinect\n",
    "from Planes import find_plane, distance_from_plane"
   ]
  },
  {
   "cell_type": "code",
   "execution_count": 2,
   "metadata": {},
   "outputs": [
    {
     "name": "stdout",
     "output_type": "stream",
     "text": [
      "Packet pipeline: OpenCLPacketPipeline\n",
      "Number of devices: 1\n",
      "Init done\n"
     ]
    }
   ],
   "source": [
    "k = Kinect(debug=True)\n",
    "k.start()\n",
    "k.wait_for_init()\n",
    "point_cloud = k.get_pointcloud()\n",
    "k.stop()"
   ]
  },
  {
   "cell_type": "code",
   "execution_count": 3,
   "metadata": {},
   "outputs": [
    {
     "name": "stdout",
     "output_type": "stream",
     "text": [
      "Stopping device\n",
      "Closing device\n",
      "Device stopped and closed\n"
     ]
    },
    {
     "data": {
      "text/html": [
       "\n",
       "        <iframe\n",
       "            width=\"1200\"\n",
       "            height=\"700\"\n",
       "            src=\"pyntcloud_plot.html\"\n",
       "            frameborder=\"0\"\n",
       "            allowfullscreen\n",
       "        ></iframe>\n",
       "        "
      ],
      "text/plain": [
       "<IPython.lib.display.IFrame at 0x7f5a522f3b00>"
      ]
     },
     "execution_count": 3,
     "metadata": {},
     "output_type": "execute_result"
    }
   ],
   "source": [
    "points = pd.DataFrame(point_cloud, columns=['x', 'y', 'z', 'red', 'green', 'blue'])\n",
    "cloud = pc(points)\n",
    "cloud.plot(IFrame_shape=(1200, 700), point_size=0.001)"
   ]
  },
  {
   "cell_type": "code",
   "execution_count": 4,
   "metadata": {},
   "outputs": [],
   "source": [
    "# 3 random points\n",
    "def get_rand_points(points):\n",
    "    \n",
    "    r = np.random.choice(range(len(points)), 3)\n",
    "    p = points[r]\n",
    "\n",
    "    return p"
   ]
  },
  {
   "cell_type": "markdown",
   "metadata": {},
   "source": [
    "Get 3 points.\n",
    "- Random\n",
    "- Select on grid\n",
    "- Select close in 3d (kd-tree?)"
   ]
  },
  {
   "cell_type": "markdown",
   "metadata": {},
   "source": [
    "Find the plane of these points"
   ]
  },
  {
   "cell_type": "markdown",
   "metadata": {},
   "source": [
    "Get distance of other points\n",
    "- Is there a better way to do this than brute force?"
   ]
  },
  {
   "cell_type": "markdown",
   "metadata": {},
   "source": [
    "Repeat N times, save plane with most inliers"
   ]
  },
  {
   "cell_type": "markdown",
   "metadata": {},
   "source": [
    "Recalculate plane from inliers?\n",
    "- STILL TODO"
   ]
  },
  {
   "cell_type": "markdown",
   "metadata": {},
   "source": [
    "Remove inliers from set, and repeat?"
   ]
  },
  {
   "cell_type": "code",
   "execution_count": 5,
   "metadata": {},
   "outputs": [],
   "source": [
    "# from: https://stackoverflow.com/a/9271260/6588972\n",
    "def multidim_diff(arr1, arr2):\n",
    "    arr1_view = arr1.view([('',arr1.dtype)]*arr1.shape[1])\n",
    "    arr2_view = arr2.view([('',arr2.dtype)]*arr2.shape[1])\n",
    "    diff = np.setdiff1d(arr1_view, arr2_view)\n",
    "    return diff.view(arr1.dtype).reshape(-1, arr1.shape[1])"
   ]
  },
  {
   "cell_type": "markdown",
   "metadata": {},
   "source": [
    "Our planes are of the form $ax+by+cz=d$, but we fit to the form $ax+by+c=z$ in order to solve $Ax=B$.<br>\n",
    "Where $\n",
    "\\mathbf{A} = \n",
    "    \\begin{vmatrix}\n",
    "        x_1 & y_1 & 1 \\\\\n",
    "        x_2 & y_2 & 1 \\\\\n",
    "        \\vdots & \\vdots & \\vdots \\\\\n",
    "        x_n & y_n & 1\n",
    "    \\end{vmatrix}\n",
    "$, \n",
    "$\n",
    "x = \\begin{vmatrix}\n",
    "        a \\\\\n",
    "        b \\\\\n",
    "        c\n",
    "    \\end{vmatrix}\n",
    "$ and\n",
    "$\n",
    "\\mathbf(B) = \n",
    "    \\begin{vmatrix}\n",
    "    z_1 \\\\\n",
    "    z_2 \\\\\n",
    "    \\vdots \\\\\n",
    "    z_n\n",
    "    \\end{vmatrix}\n",
    "$"
   ]
  },
  {
   "cell_type": "code",
   "execution_count": 6,
   "metadata": {},
   "outputs": [],
   "source": [
    "def fit_plane_to_points(points, plane_params):\n",
    "    M = np.zeros(points.shape)\n",
    "    M[:,:2] = points[:,:2]\n",
    "    M[:,2] = 1\n",
    "    z = np.zeros((points.shape[0], 1))\n",
    "    z = points[:,2]\n",
    "    \n",
    "    p, res, rnk, s = lstsq(M, z)\n",
    "    #print(p)\n",
    "    \n",
    "    a = plane_params[0]\n",
    "    b = plane_params[1]\n",
    "    c = plane_params[2]\n",
    "    d = plane_params[3]\n",
    "    \n",
    "    \"\"\"\n",
    "    print(-a/c)\n",
    "    print(-b/c)\n",
    "    print(-d/c)\n",
    "    \n",
    "    print()\n",
    "    print()\n",
    "    \"\"\"\n",
    "    \n",
    "    fit_a = -p[0] * c\n",
    "    fit_b = -p[1] * c\n",
    "    fit_c = c\n",
    "    fit_d = -p[2] * c\n",
    "    \n",
    "    \"\"\"\n",
    "    print(\"a: {}\".format(a))\n",
    "    print(\"fitted a: {}\".format(fit_a))\n",
    "    print(\"b: {}\".format(b))\n",
    "    print(\"fitted b: {}\".format(fit_b))\n",
    "    print(\"c: {}\".format(c))\n",
    "    print(\"fitted c: {}\".format(fit_c))\n",
    "    print(\"d: {}\".format(d))\n",
    "    print(\"fitted d: {}\".format(fit_d))\n",
    "    \"\"\"\n",
    "    #print(plane_params)\n",
    "\n",
    "    return fit_a, fit_b, fit_c, fit_d"
   ]
  },
  {
   "cell_type": "code",
   "execution_count": 82,
   "metadata": {},
   "outputs": [],
   "source": [
    "def do_ransac(points, mask_on_points, limit, iterations=50):\n",
    "    \"\"\"\n",
    "    points: all points in the cloud\n",
    "    mask_on_points: 1d array of bool values, true value indicates point can be evaluated on\n",
    "    limit: distance limit for ransac\n",
    "    iterations: iterations for ransac\n",
    "    \"\"\"\n",
    "    best_fit = {\"num\": 0,\n",
    "                \"inliers\": None,\n",
    "                \"plane\": None,\n",
    "                \"dists\": None,\n",
    "                \"mask\": None}\n",
    "    \n",
    "    # Get valid points, based on mask\n",
    "    valid_points = points[mask_on_points]\n",
    "    \n",
    "    for i in tqdm(range(iterations)):\n",
    "        p1, p2, p3 = get_rand_points(valid_points)\n",
    "\n",
    "        p_a, p_b, p_c, p_d = find_plane(p1, p2, p3)\n",
    "        \n",
    "        # Find number of inliers\n",
    "        dists = distance_from_plane(valid_points, p_a, p_b, p_c, p_d)\n",
    "        inliers = valid_points[dists<limit]\n",
    "        \n",
    "        # If number of inliers is highest yet\n",
    "        if inliers.shape[0] > best_fit[\"num\"]:\n",
    "            # Fit a new plane to these inliers\n",
    "            fit_params = fit_plane_to_points(inliers, (p_a, p_b, p_c, p_d))\n",
    "            \n",
    "            # Get all distances to this new plane\n",
    "            fit_dists = distance_from_plane(points, *fit_params)\n",
    "            \n",
    "            #fit_inliers = points[fit_dists<limit]\n",
    "            # Get a mask, True where distance is less than limit\n",
    "            fit_inliers = fit_dists < limit\n",
    "            \n",
    "            # Get a mask of outliers\n",
    "            fit_outliers = fit_dists >= limit\n",
    "            \n",
    "            \n",
    "            \n",
    "            #dists_mask = distance_from_plane(mask_on_points, *fit_params)\n",
    "            #dists_mask = distance_from_plane(points, *fit_params)\n",
    "            \n",
    "            best_fit[\"num\"] = inliers.shape[0]\n",
    "            best_fit[\"inliers\"] = fit_inliers\n",
    "            best_fit[\"plane\"] = fit_params  #[p_a, p_b, p_c, p_d]\n",
    "            best_fit[\"dists\"] = fit_dists\n",
    "            best_fit[\"mask\"] = fit_dists > limit\n",
    "    \n",
    "    return best_fit"
   ]
  },
  {
   "cell_type": "code",
   "execution_count": 83,
   "metadata": {},
   "outputs": [],
   "source": [
    "def find_planes(point_cloud, limit=0.1, ransac_iterations=50, stop_at=3):\n",
    "    planes = []\n",
    "    \n",
    "    ps = point_cloud[:,:3]\n",
    "    #all_ps = point_cloud[:,:3]\n",
    "    mask = np.ones(ps.shape[0], dtype=np.bool)\n",
    "    \n",
    "    while(ps.shape[0] > 10000):\n",
    "        fit = do_ransac(ps, mask, limit, ransac_iterations)\n",
    "        planes.append(fit)\n",
    "        mask = fit[\"mask\"]\n",
    "        \n",
    "        #ps = multidim_diff(np.ascontiguousarray(ps), np.ascontiguousarray(fit[\"inliers\"]))\n",
    "        \n",
    "        if len(planes) == stop_at:\n",
    "            break\n",
    "    \n",
    "    return planes"
   ]
  },
  {
   "cell_type": "code",
   "execution_count": 84,
   "metadata": {},
   "outputs": [
    {
     "name": "stdout",
     "output_type": "stream",
     "text": [
      "std limit: 0.30466975648277994\n"
     ]
    },
    {
     "data": {
      "application/vnd.jupyter.widget-view+json": {
       "model_id": "c9d513a042df4e179814285d003f3ea4",
       "version_major": 2,
       "version_minor": 0
      },
      "text/plain": [
       "HBox(children=(IntProgress(value=0), HTML(value='')))"
      ]
     },
     "metadata": {},
     "output_type": "display_data"
    },
    {
     "name": "stdout",
     "output_type": "stream",
     "text": [
      "\n"
     ]
    },
    {
     "data": {
      "application/vnd.jupyter.widget-view+json": {
       "model_id": "1c42c04d698a49c780e23d21d1a06980",
       "version_major": 2,
       "version_minor": 0
      },
      "text/plain": [
       "HBox(children=(IntProgress(value=0), HTML(value='')))"
      ]
     },
     "metadata": {},
     "output_type": "display_data"
    },
    {
     "name": "stdout",
     "output_type": "stream",
     "text": [
      "\n"
     ]
    },
    {
     "data": {
      "application/vnd.jupyter.widget-view+json": {
       "model_id": "d49cc1e923784d0cbeb3eb3bb4bcee58",
       "version_major": 2,
       "version_minor": 0
      },
      "text/plain": [
       "HBox(children=(IntProgress(value=0), HTML(value='')))"
      ]
     },
     "metadata": {},
     "output_type": "display_data"
    },
    {
     "name": "stdout",
     "output_type": "stream",
     "text": [
      "\n"
     ]
    }
   ],
   "source": [
    "std_limit = np.std(point_cloud[:,:3]) / 20\n",
    "print(\"std limit: {}\".format(std_limit))\n",
    "planes = find_planes(point_cloud, limit=std_limit, ransac_iterations=100, stop_at=3)"
   ]
  },
  {
   "cell_type": "code",
   "execution_count": 89,
   "metadata": {},
   "outputs": [
    {
     "data": {
      "text/plain": [
       "array([ True,  True,  True, ...,  True,  True,  True])"
      ]
     },
     "execution_count": 89,
     "metadata": {},
     "output_type": "execute_result"
    }
   ],
   "source": [
    "planes[0][\"mask\"]"
   ]
  },
  {
   "cell_type": "code",
   "execution_count": 86,
   "metadata": {},
   "outputs": [
    {
     "name": "stdout",
     "output_type": "stream",
     "text": [
      "Planes found: 3\n"
     ]
    }
   ],
   "source": [
    "print(\"Planes found: {}\".format(len(planes)))"
   ]
  },
  {
   "cell_type": "code",
   "execution_count": 92,
   "metadata": {},
   "outputs": [],
   "source": [
    "pc_show = np.copy(point_cloud)\n",
    "\n",
    "np.putmask(pc_show[:,5], planes[0][\"inliers\"], 255.0)\n",
    "np.putmask(pc_show[:,4], planes[1][\"inliers\"], 255.0)\n",
    "np.putmask(pc_show[:,3], planes[2][\"inliers\"], 255.0)"
   ]
  },
  {
   "cell_type": "code",
   "execution_count": 93,
   "metadata": {},
   "outputs": [
    {
     "data": {
      "text/html": [
       "\n",
       "        <iframe\n",
       "            width=\"1200\"\n",
       "            height=\"700\"\n",
       "            src=\"pyntcloud_plot.html\"\n",
       "            frameborder=\"0\"\n",
       "            allowfullscreen\n",
       "        ></iframe>\n",
       "        "
      ],
      "text/plain": [
       "<IPython.lib.display.IFrame at 0x7f5a00d39e80>"
      ]
     },
     "execution_count": 93,
     "metadata": {},
     "output_type": "execute_result"
    }
   ],
   "source": [
    "points = pd.DataFrame(pc_show, columns=['x', 'y', 'z', 'red', 'green', 'blue'])\n",
    "#points.describe()\n",
    "cloud = pc(points)\n",
    "cloud.plot(IFrame_shape=(1200, 700), point_size=0.001)"
   ]
  },
  {
   "cell_type": "markdown",
   "metadata": {},
   "source": [
    "Points needs to be continous"
   ]
  },
  {
   "cell_type": "markdown",
   "metadata": {},
   "source": [
    "Points needs to be white"
   ]
  },
  {
   "cell_type": "markdown",
   "metadata": {},
   "source": [
    "Bounding box must be found"
   ]
  }
 ],
 "metadata": {
  "kernelspec": {
   "display_name": "Python 3",
   "language": "python",
   "name": "python3"
  },
  "language_info": {
   "codemirror_mode": {
    "name": "ipython",
    "version": 3
   },
   "file_extension": ".py",
   "mimetype": "text/x-python",
   "name": "python",
   "nbconvert_exporter": "python",
   "pygments_lexer": "ipython3",
   "version": "3.6.5"
  }
 },
 "nbformat": 4,
 "nbformat_minor": 2
}
