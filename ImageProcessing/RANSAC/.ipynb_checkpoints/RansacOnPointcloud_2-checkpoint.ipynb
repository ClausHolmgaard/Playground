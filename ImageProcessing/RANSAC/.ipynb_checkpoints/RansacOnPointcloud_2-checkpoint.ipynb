{
 "cells": [
  {
   "cell_type": "code",
   "execution_count": 1,
   "metadata": {},
   "outputs": [],
   "source": [
    "import numpy as np\n",
    "import pandas as pd\n",
    "import time\n",
    "import cv2\n",
    "import matplotlib.pyplot as plt\n",
    "from scipy.linalg import lstsq\n",
    "from pyntcloud import PyntCloud as pc\n",
    "from tqdm import tqdm_notebook as tqdm\n",
    "from numba import autojit"
   ]
  },
  {
   "cell_type": "markdown",
   "metadata": {},
   "source": [
    "Imports from my own libraries"
   ]
  },
  {
   "cell_type": "code",
   "execution_count": 2,
   "metadata": {},
   "outputs": [],
   "source": [
    "from Kinect import Kinect\n",
    "from Planes import find_plane, distance_from_plane\n",
    "from watershed import watershed"
   ]
  },
  {
   "cell_type": "markdown",
   "metadata": {},
   "source": [
    "Grab a pointcloud from the Kinect"
   ]
  },
  {
   "cell_type": "code",
   "execution_count": 3,
   "metadata": {},
   "outputs": [
    {
     "name": "stdout",
     "output_type": "stream",
     "text": [
      "Packet pipeline: OpenCLPacketPipeline\n",
      "Number of devices: 1\n",
      "Init done\n"
     ]
    }
   ],
   "source": [
    "k = Kinect(debug=True)\n",
    "k.start()\n",
    "k.wait_for_init()\n",
    "point_cloud = k.get_pointcloud()\n",
    "k.stop()"
   ]
  },
  {
   "cell_type": "markdown",
   "metadata": {},
   "source": [
    "Display the pointcloud using Pyntcloud"
   ]
  },
  {
   "cell_type": "code",
   "execution_count": 4,
   "metadata": {},
   "outputs": [
    {
     "name": "stdout",
     "output_type": "stream",
     "text": [
      "Stopping device\n",
      "Closing device\n",
      "Device stopped and closed\n"
     ]
    },
    {
     "data": {
      "text/html": [
       "\n",
       "        <iframe\n",
       "            width=\"1200\"\n",
       "            height=\"700\"\n",
       "            src=\"pyntcloud_plot.html\"\n",
       "            frameborder=\"0\"\n",
       "            allowfullscreen\n",
       "        ></iframe>\n",
       "        "
      ],
      "text/plain": [
       "<IPython.lib.display.IFrame at 0x7f1b0e2a5048>"
      ]
     },
     "execution_count": 4,
     "metadata": {},
     "output_type": "execute_result"
    }
   ],
   "source": [
    "points = pd.DataFrame(point_cloud, columns=['x', 'y', 'z', 'red', 'green', 'blue'])\n",
    "cloud = pc(points)\n",
    "cloud.plot(IFrame_shape=(1200, 700), point_size=0.001)"
   ]
  },
  {
   "cell_type": "markdown",
   "metadata": {},
   "source": [
    "A method for getting 3 random points from a set of points"
   ]
  },
  {
   "cell_type": "code",
   "execution_count": 5,
   "metadata": {},
   "outputs": [],
   "source": [
    "def get_rand_points(points):\n",
    "    \n",
    "    r = np.random.choice(range(len(points)), 3)\n",
    "    p = points[r]\n",
    "\n",
    "    return p"
   ]
  },
  {
   "cell_type": "markdown",
   "metadata": {},
   "source": [
    "A method for getting the difference between two multidimensional arrays"
   ]
  },
  {
   "cell_type": "code",
   "execution_count": 6,
   "metadata": {},
   "outputs": [],
   "source": [
    "# from: https://stackoverflow.com/a/9271260/6588972\n",
    "def multidim_diff(arr1, arr2):\n",
    "    arr1_view = arr1.view([('',arr1.dtype)]*arr1.shape[1])\n",
    "    arr2_view = arr2.view([('',arr2.dtype)]*arr2.shape[1])\n",
    "    diff = np.setdiff1d(arr1_view, arr2_view)\n",
    "    return diff.view(arr1.dtype).reshape(-1, arr1.shape[1])"
   ]
  },
  {
   "cell_type": "markdown",
   "metadata": {},
   "source": [
    "Our planes are of the form $ax+by+cz=d$, but we fit to the form $ax+by+c=z$ in order to solve $Ax=B$.<br>\n",
    "Where $\n",
    "\\mathbf{A} = \n",
    "    \\begin{vmatrix}\n",
    "        x_1 & y_1 & 1 \\\\\n",
    "        x_2 & y_2 & 1 \\\\\n",
    "        \\vdots & \\vdots & \\vdots \\\\\n",
    "        x_n & y_n & 1\n",
    "    \\end{vmatrix}\n",
    "$, \n",
    "$\n",
    "x = \\begin{vmatrix}\n",
    "        a \\\\\n",
    "        b \\\\\n",
    "        c\n",
    "    \\end{vmatrix}\n",
    "$ and\n",
    "$\n",
    "\\mathbf(B) = \n",
    "    \\begin{vmatrix}\n",
    "    z_1 \\\\\n",
    "    z_2 \\\\\n",
    "    \\vdots \\\\\n",
    "    z_n\n",
    "    \\end{vmatrix}\n",
    "$ <br><br>\n",
    "The following method fits the plane, and converts the parameters to the form we need."
   ]
  },
  {
   "cell_type": "code",
   "execution_count": 7,
   "metadata": {},
   "outputs": [],
   "source": [
    "def fit_plane_to_points(points, plane_params):\n",
    "    M = np.zeros(points.shape)\n",
    "    M[:,:2] = points[:,:2]\n",
    "    M[:,2] = 1\n",
    "    z = np.zeros((points.shape[0], 1))\n",
    "    z = points[:,2]\n",
    "    \n",
    "    p, res, rnk, s = lstsq(M, z)\n",
    "    #print(p)\n",
    "    \n",
    "    a = plane_params[0]\n",
    "    b = plane_params[1]\n",
    "    c = plane_params[2]\n",
    "    d = plane_params[3]\n",
    "    \n",
    "    fit_a = -p[0] * c\n",
    "    fit_b = -p[1] * c\n",
    "    fit_c = c\n",
    "    fit_d = -p[2] * c\n",
    "\n",
    "    return fit_a, fit_b, fit_c, fit_d"
   ]
  },
  {
   "cell_type": "code",
   "execution_count": 8,
   "metadata": {},
   "outputs": [],
   "source": [
    "def do_ransac(points, mask_on_points, limit, iterations=50):\n",
    "    \"\"\"\n",
    "    points: all points in the cloud\n",
    "    mask_on_points: 1d array of bool values, true value indicates point can be evaluated on\n",
    "    limit: distance limit for ransac\n",
    "    iterations: iterations for ransac\n",
    "    \"\"\"\n",
    "    best_fit = {\"num\": 0,\n",
    "                \"inliers\": None,\n",
    "                \"plane\": None,\n",
    "                \"dists\": None,\n",
    "                \"mask\": None}\n",
    "    \n",
    "    # Get valid points, based on mask\n",
    "    valid_points = points[mask_on_points]\n",
    "    \n",
    "    for i in tqdm(range(iterations)):\n",
    "        p1, p2, p3 = get_rand_points(valid_points)\n",
    "\n",
    "        p_a, p_b, p_c, p_d = find_plane(p1, p2, p3)\n",
    "        \n",
    "        # Find number of inliers\n",
    "        dists = distance_from_plane(valid_points, p_a, p_b, p_c, p_d)\n",
    "        inliers = valid_points[dists<limit]\n",
    "        \n",
    "        # If number of inliers is highest yet\n",
    "        if inliers.shape[0] > best_fit[\"num\"]:\n",
    "            # Fit a new plane to these inliers\n",
    "            fit_params = fit_plane_to_points(inliers, (p_a, p_b, p_c, p_d))\n",
    "            \n",
    "            # Get all distances to this new plane\n",
    "            fit_dists = distance_from_plane(points, *fit_params)\n",
    "            \n",
    "            #fit_inliers = points[fit_dists<limit]\n",
    "            # Get a mask, True where distance is less than limit\n",
    "            fit_inliers = fit_dists < limit\n",
    "            fit_inliers = np.logical_and(fit_inliers, mask_on_points)\n",
    "            \n",
    "            # Get a mask of outliers\n",
    "            fit_outliers = np.logical_not(fit_inliers)\n",
    "            \n",
    "            # Mask of valid points, if this fit is used\n",
    "            new_mask = np.logical_and(mask_on_points, fit_outliers)\n",
    "            \n",
    "            best_fit[\"num\"] = inliers.shape[0]\n",
    "            best_fit[\"inliers\"] = fit_inliers\n",
    "            best_fit[\"plane\"] = fit_params\n",
    "            best_fit[\"dists\"] = fit_dists\n",
    "            best_fit[\"mask\"] = new_mask\n",
    "    \n",
    "    return best_fit"
   ]
  },
  {
   "cell_type": "code",
   "execution_count": 9,
   "metadata": {},
   "outputs": [],
   "source": [
    "def find_planes(point_cloud, limit=0.1, ransac_iterations=50, stop_at=3):\n",
    "    planes = []\n",
    "    \n",
    "    ps = point_cloud[:,:3]\n",
    "    #all_ps = point_cloud[:,:3]\n",
    "    mask = np.ones(ps.shape[0], dtype=np.bool)\n",
    "    \n",
    "    while(ps.shape[0] > 10000):\n",
    "        fit = do_ransac(ps, mask, limit, ransac_iterations)\n",
    "        planes.append(fit)\n",
    "        mask = fit[\"mask\"]\n",
    "        \n",
    "        #ps = multidim_diff(np.ascontiguousarray(ps), np.ascontiguousarray(fit[\"inliers\"]))\n",
    "        \n",
    "        if len(planes) == stop_at:\n",
    "            break\n",
    "    \n",
    "    return planes"
   ]
  },
  {
   "cell_type": "markdown",
   "metadata": {},
   "source": [
    "Perform RANSAC"
   ]
  },
  {
   "cell_type": "code",
   "execution_count": null,
   "metadata": {},
   "outputs": [
    {
     "name": "stdout",
     "output_type": "stream",
     "text": [
      "std limit: 0.29276235171860965\n"
     ]
    },
    {
     "data": {
      "application/vnd.jupyter.widget-view+json": {
       "model_id": "bbecef4a1418474e9981697f4deaf31e",
       "version_major": 2,
       "version_minor": 0
      },
      "text/plain": [
       "HBox(children=(IntProgress(value=0), HTML(value='')))"
      ]
     },
     "metadata": {},
     "output_type": "display_data"
    },
    {
     "name": "stdout",
     "output_type": "stream",
     "text": [
      "\n"
     ]
    },
    {
     "data": {
      "application/vnd.jupyter.widget-view+json": {
       "model_id": "5328b76053914cc8a718ca0ddd5c15cc",
       "version_major": 2,
       "version_minor": 0
      },
      "text/plain": [
       "HBox(children=(IntProgress(value=0), HTML(value='')))"
      ]
     },
     "metadata": {},
     "output_type": "display_data"
    },
    {
     "name": "stdout",
     "output_type": "stream",
     "text": [
      "\n"
     ]
    },
    {
     "data": {
      "application/vnd.jupyter.widget-view+json": {
       "model_id": "84ee320cb84841be872f5533d8372181",
       "version_major": 2,
       "version_minor": 0
      },
      "text/plain": [
       "HBox(children=(IntProgress(value=0), HTML(value='')))"
      ]
     },
     "metadata": {},
     "output_type": "display_data"
    }
   ],
   "source": [
    "std_limit = np.std(point_cloud[:,:3]) / 20\n",
    "print(\"std limit: {}\".format(std_limit))\n",
    "planes = find_planes(point_cloud, limit=std_limit, ransac_iterations=100, stop_at=3)"
   ]
  },
  {
   "cell_type": "code",
   "execution_count": null,
   "metadata": {},
   "outputs": [],
   "source": [
    "print(\"Planes found: {}\".format(len(planes)))"
   ]
  },
  {
   "cell_type": "markdown",
   "metadata": {},
   "source": [
    "Color a pointcloud with the points in planes, for visualization"
   ]
  },
  {
   "cell_type": "code",
   "execution_count": null,
   "metadata": {},
   "outputs": [],
   "source": [
    "pc_show = np.copy(point_cloud)\n",
    "\n",
    "np.putmask(pc_show[:,5], planes[0][\"inliers\"], 255.0)\n",
    "np.putmask(pc_show[:,4], planes[1][\"inliers\"], 255.0)\n",
    "np.putmask(pc_show[:,3], planes[2][\"inliers\"], 255.0)"
   ]
  },
  {
   "cell_type": "markdown",
   "metadata": {},
   "source": [
    "Show the planes"
   ]
  },
  {
   "cell_type": "code",
   "execution_count": null,
   "metadata": {},
   "outputs": [],
   "source": [
    "points = pd.DataFrame(pc_show, columns=['x', 'y', 'z', 'red', 'green', 'blue'])\n",
    "#points.describe()\n",
    "cloud = pc(points)\n",
    "cloud.plot(IFrame_shape=(1200, 700), point_size=0.001)"
   ]
  },
  {
   "cell_type": "markdown",
   "metadata": {},
   "source": [
    "- Points needs to be continous\n",
    "- Points needs to be white\n",
    "- Bounding box must be found"
   ]
  },
  {
   "cell_type": "markdown",
   "metadata": {},
   "source": [
    "Try converting one plane to an image, so we can use various methods for images on it."
   ]
  },
  {
   "cell_type": "code",
   "execution_count": null,
   "metadata": {},
   "outputs": [],
   "source": [
    "p_plane = point_cloud[planes[0][\"inliers\"]]\n",
    "x_max = np.max(p_plane[:,0])\n",
    "x_min = np.min(p_plane[:,0])\n",
    "y_max = np.max(p_plane[:,1])\n",
    "y_min = np.min(p_plane[:,1])\n",
    "\n",
    "print(\"Max x: {}, min x: {}\".format(x_max, x_min))\n",
    "print(\"Max y: {}, min y: {}\".format(y_max, y_min))"
   ]
  },
  {
   "cell_type": "code",
   "execution_count": null,
   "metadata": {},
   "outputs": [],
   "source": [
    "p_plane[:,0] -= x_min\n",
    "p_plane[:,1] -= y_min"
   ]
  },
  {
   "cell_type": "code",
   "execution_count": null,
   "metadata": {},
   "outputs": [],
   "source": [
    "new_x_max = np.max(p_plane[:,0])\n",
    "new_x_min = np.min(p_plane[:,0])\n",
    "new_y_max = np.max(p_plane[:,1])\n",
    "new_y_min = np.min(p_plane[:,1])\n",
    "\n",
    "print(\"Max x: {}, min x: {}\".format(new_x_max, new_x_min))\n",
    "print(\"Max y: {}, min y: {}\".format(new_y_max, new_y_min))"
   ]
  },
  {
   "cell_type": "code",
   "execution_count": null,
   "metadata": {},
   "outputs": [],
   "source": [
    "num_points = len(p_plane)\n",
    "print(\"Number of points: {}\".format(num_points))"
   ]
  },
  {
   "cell_type": "code",
   "execution_count": null,
   "metadata": {},
   "outputs": [],
   "source": [
    "pic_format = new_x_max / new_y_max\n",
    "print(\"Format: {}\".format(pic_format))"
   ]
  },
  {
   "cell_type": "markdown",
   "metadata": {},
   "source": [
    "Let $n$ be the number of points in this plane, and $f$ be the format of the picture we are looking for. Then $x$ and $y$ are the sizes of the axis, so that $x \\cdot y = n$ and $\\frac{x}{y} = f$. Meaning $y = \\sqrt{\\frac{n}{f}}$ and $x = \\sqrt{\\frac{n}{f}} \\cdot f$"
   ]
  },
  {
   "cell_type": "code",
   "execution_count": null,
   "metadata": {},
   "outputs": [],
   "source": [
    "y_size = int(np.ceil(np.sqrt(num_points/pic_format)))\n",
    "x_size = int(np.ceil(y_size * pic_format))\n",
    "\n",
    "print(\"X size: {}, Y size: {}\".format(x_size, y_size))"
   ]
  },
  {
   "cell_type": "code",
   "execution_count": null,
   "metadata": {},
   "outputs": [],
   "source": [
    "y_scale = y_size / new_y_max\n",
    "x_scale = x_size / new_x_max\n",
    "\n",
    "print(\"x scale: {}, y scale: {}\".format(x_scale, y_scale))"
   ]
  },
  {
   "cell_type": "code",
   "execution_count": null,
   "metadata": {},
   "outputs": [],
   "source": [
    "# FLipping x and y for better visualization\n",
    "im = np.zeros((y_size, x_size, 3), dtype=np.uint8)\n",
    "\n",
    "for p in p_plane:\n",
    "    x_temp = int(p[0] * x_scale - 1)\n",
    "    y_temp = int(p[1] * y_scale - 1)\n",
    "    r_temp = int(p[3])\n",
    "    b_temp = int(p[4])\n",
    "    g_temp = int(p[5])\n",
    "    \n",
    "    im[y_temp, x_temp] = (r_temp, b_temp, g_temp)"
   ]
  },
  {
   "cell_type": "markdown",
   "metadata": {},
   "source": [
    "Perform watershed on the image we found.<br>\n",
    "Using a short distance limit to ensure lots of regions, so region merging can be tested below)"
   ]
  },
  {
   "cell_type": "code",
   "execution_count": null,
   "metadata": {},
   "outputs": [],
   "source": [
    "ws = watershed()\n",
    "ws.set_transform_limit(0.01)\n",
    "ws_res = ws.get_regions(im)"
   ]
  },
  {
   "cell_type": "code",
   "execution_count": null,
   "metadata": {},
   "outputs": [],
   "source": [
    "fig, subs = plt.subplots(1, 2, figsize=(20, 8))\n",
    "subs[0].imshow(im)\n",
    "subs[0].set_title(\"Plane as image\")\n",
    "subs[1].imshow(ws_res, cmap='gray')\n",
    "subs[1].set_title(\"Watershed\")"
   ]
  },
  {
   "cell_type": "markdown",
   "metadata": {},
   "source": [
    "A list of the planes we found, and the amount of elements in each."
   ]
  },
  {
   "cell_type": "code",
   "execution_count": null,
   "metadata": {},
   "outputs": [],
   "source": [
    "unique, counts = np.unique(ws_res, return_counts=True)\n",
    "#counts, uniques = zip(*sorted(zip(counts, uniques), reverse=True))\n",
    "\n",
    "print(counts)\n",
    "print(unique)"
   ]
  },
  {
   "cell_type": "markdown",
   "metadata": {},
   "source": [
    "A HSV version of the image"
   ]
  },
  {
   "cell_type": "code",
   "execution_count": null,
   "metadata": {},
   "outputs": [],
   "source": [
    "im_hsv = cv2.cvtColor(im, cv2.COLOR_RGB2HSV)"
   ]
  },
  {
   "cell_type": "markdown",
   "metadata": {},
   "source": [
    "Find set from watershed, that has colors that match."
   ]
  },
  {
   "cell_type": "code",
   "execution_count": null,
   "metadata": {},
   "outputs": [],
   "source": [
    "good_vals = []\n",
    "for u in unique:\n",
    "    mean_h = np.mean(im_hsv[:,:,0][ws_res==u])\n",
    "    mean_s = np.mean(im_hsv[:,:,1][ws_res==u])\n",
    "    mean_v = np.mean(im_hsv[:,:,2][ws_res==u])\n",
    "    print(\"For val {}  --  mean h: {}, mean s: {}, mean v: {}\".format(u, mean_h, mean_s, mean_v))\n",
    "    \n",
    "    #if mean_h > 20 and mean_h < 70:\n",
    "    #    good_vals.append(u)\n",
    "    \n",
    "    if mean_s < 20 and mean_v > 120:\n",
    "        good_vals.append(u)"
   ]
  },
  {
   "cell_type": "markdown",
   "metadata": {},
   "source": [
    "And the good sets are"
   ]
  },
  {
   "cell_type": "code",
   "execution_count": null,
   "metadata": {},
   "outputs": [],
   "source": [
    "print(good_vals)"
   ]
  },
  {
   "cell_type": "markdown",
   "metadata": {},
   "source": [
    "Generate a range of colors, used for visualization."
   ]
  },
  {
   "cell_type": "code",
   "execution_count": null,
   "metadata": {},
   "outputs": [],
   "source": [
    "# https://www.quora.com/How-do-I-generate-n-visually-distinct-RGB-colours-in-Python\n",
    "import colorsys\n",
    " \n",
    "def HSVToRGB(h, s, v):\n",
    "    (r, g, b) = colorsys.hsv_to_rgb(h, s, v)\n",
    "    return (int(255*r), int(255*g), int(255*b))\n",
    " \n",
    "def getDistinctColors(n):\n",
    "    huePartition = 1.0 / (n + 1)\n",
    "    return (HSVToRGB(huePartition * value, 1.0, 1.0) for value in range(0, n))"
   ]
  },
  {
   "cell_type": "code",
   "execution_count": null,
   "metadata": {},
   "outputs": [],
   "source": [
    "f, subs = plt.subplots(1, 2, figsize=(20, 10))\n",
    "\n",
    "ws_res_color = np.zeros((ws_res.shape[0], ws_res.shape[1], 3), dtype=np.uint8)\n",
    "colors = getDistinctColors(len(good_vals))\n",
    "\n",
    "for g in good_vals:\n",
    "    ws_res_color[ws_res==g] = next(colors)\n",
    "\n",
    "subs[0].imshow(im)\n",
    "subs[0].set_title(\"Plane as image\")\n",
    "subs[1].imshow(ws_res_color)\n",
    "subs[1].set_title(\"Watershed regions with acceptable color\")"
   ]
  },
  {
   "cell_type": "markdown",
   "metadata": {},
   "source": [
    "### This is as far as I've gotten. Rest of document is not relevant."
   ]
  },
  {
   "cell_type": "markdown",
   "metadata": {},
   "source": [
    "- For each region in watershed, find all neighbour regions.\n",
    "- Merge regions with similar color.\n",
    "  - Or merge neighbours, as color is already validated.\n",
    "- Repeat until no regions are merged."
   ]
  },
  {
   "cell_type": "code",
   "execution_count": null,
   "metadata": {},
   "outputs": [],
   "source": [
    "coord_shape = ws_res.shape"
   ]
  },
  {
   "cell_type": "code",
   "execution_count": null,
   "metadata": {},
   "outputs": [],
   "source": [
    "y_mat = np.tile(np.arange(0, coord_shape[1]), (coord_shape[0], 1))\n",
    "print(y_mat)"
   ]
  },
  {
   "cell_type": "code",
   "execution_count": null,
   "metadata": {},
   "outputs": [],
   "source": [
    "x_mat = np.tile(np.arange(0, coord_shape[0]), (coord_shape[1], 1)).T\n",
    "print(x_mat)"
   ]
  },
  {
   "cell_type": "code",
   "execution_count": null,
   "metadata": {},
   "outputs": [],
   "source": [
    "coord_mat = np.zeros((coord_shape[0], coord_shape[1], 2))\n",
    "print(coord_mat.shape)\n",
    "coord_mat[:,:,0] = x_mat\n",
    "coord_mat[:,:,1] = y_mat"
   ]
  },
  {
   "cell_type": "code",
   "execution_count": null,
   "metadata": {},
   "outputs": [],
   "source": [
    "print(good_vals)"
   ]
  },
  {
   "cell_type": "markdown",
   "metadata": {},
   "source": [
    "Find the minimum distance between two sets, and the number of points with this distance"
   ]
  },
  {
   "cell_type": "code",
   "execution_count": null,
   "metadata": {},
   "outputs": [],
   "source": [
    "def minimum_distance(points1, points2):\n",
    "    min_dist = None\n",
    "    min_count = None\n",
    "    for p1 in points1:\n",
    "        for p2 in points2:\n",
    "            d = np.sqrt((p1[0] - p2[0])**2 + (p1[1] - p2[1])**2)\n",
    "            if min_dist is None:\n",
    "                min_dist = d\n",
    "                min_count = 1\n",
    "            elif d < min_dist:\n",
    "                min_dist = d\n",
    "                min_count = 1\n",
    "            elif d == min_dist:\n",
    "                min_count += 1\n",
    "    return min_dist, min_count\n",
    "\n",
    "numba_minimum_distance = autojit(minimum_distance)"
   ]
  },
  {
   "cell_type": "markdown",
   "metadata": {},
   "source": [
    "This is very slow, would like to find some way to do it vectorized."
   ]
  },
  {
   "cell_type": "code",
   "execution_count": null,
   "metadata": {},
   "outputs": [],
   "source": [
    "def find_neighbours(region_vals, watershed_image):\n",
    "    neighbours = {}\n",
    "    \n",
    "    for g1 in tqdm(good_vals):\n",
    "        neighbours[g1] = []\n",
    "        g1_set = coord_mat[ws_res==g1]\n",
    "        for g2 in good_vals:\n",
    "            if g1 == g2:\n",
    "                continue\n",
    "            g2_set = coord_mat[ws_res==g2]\n",
    "            #g1_g2_dist = minimum_distance(g1_set, g2_set)\n",
    "            g1_g2_dist = numba_minimum_distance(g1_set, g2_set)\n",
    "            # Minimum distance is sqrt(2)\n",
    "            if g1_g2_dist[0] <= np.sqrt(2):\n",
    "                neighbours[g1].append(g2)\n",
    "    return neighbours\n",
    "\n",
    "numba_find_neighbours = autojit(find_neighbours)"
   ]
  },
  {
   "cell_type": "code",
   "execution_count": null,
   "metadata": {},
   "outputs": [],
   "source": [
    "#nb = find_neighbours(good_vals, ws_res)\n",
    "#for k, v in nb.items():\n",
    "#    print(\"{}: {}\".format(k, v))"
   ]
  },
  {
   "cell_type": "code",
   "execution_count": null,
   "metadata": {},
   "outputs": [],
   "source": [
    "#nb = numba_find_neighbours(good_vals, ws_res)\n",
    "#for k, v in nb.items():\n",
    "#    print(\"{}: {}\".format(k, v))"
   ]
  },
  {
   "cell_type": "markdown",
   "metadata": {},
   "source": [
    "Merge the first found neighbours.<br>\n",
    "Consider optimizing by merging all neighbours, that doesnt share neighbors."
   ]
  },
  {
   "cell_type": "code",
   "execution_count": null,
   "metadata": {},
   "outputs": [],
   "source": [
    "def merge_regions(regions, ws):\n",
    "    neighbours = find_neighbours(regions, ws)\n",
    "    merge_done = False\n",
    "    \n",
    "    for r in regions:\n",
    "        if r not in neighbours.keys():\n",
    "            continue\n",
    "        if len(neighbours[r]) == 0:\n",
    "            continue\n",
    "            \n",
    "        for n in neighbours[r]:\n",
    "            #n1 = neighbours[r][0]\n",
    "            regions.remove(n)\n",
    "\n",
    "            print(\"Merging {} into {}\".format(n, r))\n",
    "            ws[ws==n] = r\n",
    "            merge_done = True\n",
    "        \n",
    "        break\n",
    "\n",
    "    return regions, ws, merge_done\n",
    "\n",
    "numba_merge_regions = autojit(merge_regions)"
   ]
  },
  {
   "cell_type": "code",
   "execution_count": null,
   "metadata": {},
   "outputs": [],
   "source": [
    "def merge_all_regions(regions, ws):\n",
    "    merge_done = True\n",
    "    while(merge_done):\n",
    "        regions, ws, merge_done = numba_merge_regions(regions, ws)\n",
    "\n",
    "numba_merge_all_regions = autojit(merge_all_regions)"
   ]
  },
  {
   "cell_type": "code",
   "execution_count": null,
   "metadata": {},
   "outputs": [],
   "source": [
    "g = np.copy(good_vals)\n",
    "w = np.copy(ws_res)\n",
    "numba_merge_all_regions(g, w)"
   ]
  },
  {
   "cell_type": "code",
   "execution_count": null,
   "metadata": {},
   "outputs": [],
   "source": [
    "for g in good_vals:\n",
    "    print(g)"
   ]
  },
  {
   "cell_type": "code",
   "execution_count": null,
   "metadata": {},
   "outputs": [],
   "source": [
    "ws_res_color = np.zeros((ws_res.shape[0], ws_res.shape[1], 3), dtype=np.uint8)"
   ]
  },
  {
   "cell_type": "code",
   "execution_count": null,
   "metadata": {},
   "outputs": [],
   "source": [
    "val = unique[3]\n",
    "print(val)\n",
    "ws_res_color[ws_res==val] = (0, 0, 255)"
   ]
  },
  {
   "cell_type": "code",
   "execution_count": null,
   "metadata": {},
   "outputs": [],
   "source": [
    "fig = plt.figure(figsize=(15, 8))\n",
    "plt.imshow(ws_res_color)"
   ]
  },
  {
   "cell_type": "raw",
   "metadata": {},
   "source": [
    "Watershed is creating borders where there should'nt be any.<br>\n",
    "Problem is most likely marker placement.<br>\n",
    "Solutions?\n",
    "- Change markers\n",
    "- Validate borders of all regions with correct border values"
   ]
  },
  {
   "cell_type": "raw",
   "metadata": {},
   "source": []
  }
 ],
 "metadata": {
  "kernelspec": {
   "display_name": "Python 3",
   "language": "python",
   "name": "python3"
  },
  "language_info": {
   "codemirror_mode": {
    "name": "ipython",
    "version": 3
   },
   "file_extension": ".py",
   "mimetype": "text/x-python",
   "name": "python",
   "nbconvert_exporter": "python",
   "pygments_lexer": "ipython3",
   "version": "3.6.5"
  }
 },
 "nbformat": 4,
 "nbformat_minor": 2
}
