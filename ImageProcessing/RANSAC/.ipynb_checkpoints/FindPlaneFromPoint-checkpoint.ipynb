{
 "cells": [
  {
   "cell_type": "code",
   "execution_count": 1,
   "metadata": {},
   "outputs": [],
   "source": [
    "import numpy as np"
   ]
  },
  {
   "cell_type": "markdown",
   "metadata": {},
   "source": [
    "### http://kitchingroup.cheme.cmu.edu/blog/2015/01/18/Equation-of-a-plane-through-three-points/"
   ]
  },
  {
   "cell_type": "markdown",
   "metadata": {},
   "source": [
    "3 points"
   ]
  },
  {
   "cell_type": "code",
   "execution_count": 2,
   "metadata": {},
   "outputs": [],
   "source": [
    "p1 = np.array([1, 2, 3])\n",
    "p2 = np.array([4, 6, 9])\n",
    "p3 = np.array([12, 11, 9])"
   ]
  },
  {
   "cell_type": "markdown",
   "metadata": {},
   "source": [
    "These two vectors are in the plane"
   ]
  },
  {
   "cell_type": "code",
   "execution_count": 3,
   "metadata": {},
   "outputs": [],
   "source": [
    "v1 = p1 - p2\n",
    "v2 = p1 - p3"
   ]
  },
  {
   "cell_type": "markdown",
   "metadata": {},
   "source": [
    "the cross product is a vector normal to the plane"
   ]
  },
  {
   "cell_type": "code",
   "execution_count": 4,
   "metadata": {},
   "outputs": [],
   "source": [
    "norm = np.cross(v1, v2)\n",
    "a, b, c = norm"
   ]
  },
  {
   "cell_type": "markdown",
   "metadata": {},
   "source": [
    "This evaluates $ax3 + by3 + cz3 = d$"
   ]
  },
  {
   "cell_type": "code",
   "execution_count": 5,
   "metadata": {},
   "outputs": [],
   "source": [
    "d = -np.dot(norm, p3)"
   ]
  },
  {
   "cell_type": "code",
   "execution_count": 6,
   "metadata": {},
   "outputs": [
    {
     "name": "stdout",
     "output_type": "stream",
     "text": [
      "The equation is -30x + 48y + -17z + -15= 0\n"
     ]
    }
   ],
   "source": [
    "print('The equation is {0}x + {1}y + {2}z + {3}= 0'.format(a, b, c, d))"
   ]
  },
  {
   "cell_type": "markdown",
   "metadata": {},
   "source": [
    "### http://mathworld.wolfram.com/Point-PlaneDistance.html"
   ]
  },
  {
   "cell_type": "code",
   "execution_count": 7,
   "metadata": {},
   "outputs": [],
   "source": [
    "p4 = np.array([1, 1, 1])"
   ]
  },
  {
   "cell_type": "code",
   "execution_count": 8,
   "metadata": {},
   "outputs": [
    {
     "name": "stdout",
     "output_type": "stream",
     "text": [
      "-0.23688019007274078\n"
     ]
    }
   ],
   "source": [
    "dist = (np.dot(p4, norm) + d) / np.sqrt(np.sum(norm**2))\n",
    "print(dist)"
   ]
  },
  {
   "cell_type": "markdown",
   "metadata": {},
   "source": [
    "### Test!"
   ]
  },
  {
   "cell_type": "code",
   "execution_count": 9,
   "metadata": {},
   "outputs": [],
   "source": [
    "from Planes import find_plane, distance_from_plane"
   ]
  },
  {
   "cell_type": "code",
   "execution_count": 10,
   "metadata": {},
   "outputs": [
    {
     "data": {
      "text/plain": [
       "0.23688019007274078"
      ]
     },
     "execution_count": 10,
     "metadata": {},
     "output_type": "execute_result"
    }
   ],
   "source": [
    "a, b, c, d = find_plane(p1, p2, p3)\n",
    "distance_from_plane(p4, a, b, c, d)"
   ]
  },
  {
   "cell_type": "markdown",
   "metadata": {},
   "source": [
    "### Matrix Operation?"
   ]
  },
  {
   "cell_type": "code",
   "execution_count": 26,
   "metadata": {},
   "outputs": [
    {
     "name": "stdout",
     "output_type": "stream",
     "text": [
      "P[0] dist: 0.23688019007274078\n",
      "P[1] dist: 1.0152008145974605\n",
      "P[2] dist: 2.825642267296265\n",
      "\n",
      "[0.23688019 1.01520081 2.82564227]\n",
      "[0.23688019]\n"
     ]
    }
   ],
   "source": [
    "ps = np.zeros((3, 3))\n",
    "ps[0] = (1, 1, 1)\n",
    "ps[1] = (3, 2, 3)\n",
    "ps[2] = (1, 1, 10)\n",
    "\n",
    "p_a, p_b, p_c, p_d = find_plane(p1, p2, p3)\n",
    "\n",
    "for c, i in enumerate(ps):\n",
    "    print(\"P[{}] dist: {}\".format(c, distance_from_plane(ps[c], p_a, p_b, p_c, p_d)))\n",
    "print()\n",
    "\n",
    "d = distance_from_plane(ps, p_a, p_b, p_c, p_d)\n",
    "print(d)\n",
    "print(d[d<1.0])"
   ]
  }
 ],
 "metadata": {
  "kernelspec": {
   "display_name": "Python 3",
   "language": "python",
   "name": "python3"
  },
  "language_info": {
   "codemirror_mode": {
    "name": "ipython",
    "version": 3
   },
   "file_extension": ".py",
   "mimetype": "text/x-python",
   "name": "python",
   "nbconvert_exporter": "python",
   "pygments_lexer": "ipython3",
   "version": "3.6.5"
  }
 },
 "nbformat": 4,
 "nbformat_minor": 2
}
