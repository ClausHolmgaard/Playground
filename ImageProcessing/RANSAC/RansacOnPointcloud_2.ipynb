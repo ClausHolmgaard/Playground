{
 "cells": [
  {
   "cell_type": "code",
   "execution_count": 6,
   "metadata": {},
   "outputs": [],
   "source": [
    "import numpy as np\n",
    "import pandas as pd\n",
    "import time\n",
    "import cv2\n",
    "import matplotlib.pyplot as plt\n",
    "from scipy.linalg import lstsq\n",
    "from pyntcloud import PyntCloud as pc\n",
    "from tqdm import tqdm_notebook as tqdm\n",
    "import numba as nb"
   ]
  },
  {
   "cell_type": "markdown",
   "metadata": {},
   "source": [
    "Imports from my own libraries"
   ]
  },
  {
   "cell_type": "code",
   "execution_count": 7,
   "metadata": {},
   "outputs": [],
   "source": [
    "from Kinect import Kinect\n",
    "from Planes import find_plane, distance_from_plane\n",
    "from watershed import watershed"
   ]
  },
  {
   "cell_type": "code",
   "execution_count": 8,
   "metadata": {},
   "outputs": [],
   "source": [
    "USE_NUMBA = True"
   ]
  },
  {
   "cell_type": "markdown",
   "metadata": {},
   "source": [
    "Grab a pointcloud from the Kinect"
   ]
  },
  {
   "cell_type": "code",
   "execution_count": 9,
   "metadata": {},
   "outputs": [
    {
     "name": "stdout",
     "output_type": "stream",
     "text": [
      "Packet pipeline: OpenCLPacketPipeline\n",
      "Number of devices: 1\n",
      "Init done\n"
     ]
    }
   ],
   "source": [
    "k = Kinect(debug=True)\n",
    "k.start()\n",
    "k.wait_for_init()\n",
    "point_cloud = k.get_pointcloud()\n",
    "k.stop()"
   ]
  },
  {
   "cell_type": "markdown",
   "metadata": {},
   "source": [
    "Display the pointcloud using Pyntcloud"
   ]
  },
  {
   "cell_type": "code",
   "execution_count": 10,
   "metadata": {},
   "outputs": [
    {
     "name": "stdout",
     "output_type": "stream",
     "text": [
      "Stopping device\n",
      "Closing device\n",
      "Device stopped and closed\n"
     ]
    },
    {
     "data": {
      "text/html": [
       "\n",
       "        <iframe\n",
       "            width=\"1200\"\n",
       "            height=\"700\"\n",
       "            src=\"pyntcloud_plot.html\"\n",
       "            frameborder=\"0\"\n",
       "            allowfullscreen\n",
       "        ></iframe>\n",
       "        "
      ],
      "text/plain": [
       "<IPython.lib.display.IFrame at 0x7feab58f5ba8>"
      ]
     },
     "execution_count": 10,
     "metadata": {},
     "output_type": "execute_result"
    }
   ],
   "source": [
    "points = pd.DataFrame(point_cloud, columns=['x', 'y', 'z', 'red', 'green', 'blue'])\n",
    "cloud = pc(points)\n",
    "cloud.plot(IFrame_shape=(1200, 700), point_size=0.001)"
   ]
  },
  {
   "cell_type": "markdown",
   "metadata": {},
   "source": [
    "A method for getting 3 random points from a set of points"
   ]
  },
  {
   "cell_type": "code",
   "execution_count": 11,
   "metadata": {},
   "outputs": [],
   "source": [
    "def get_rand_points(points):\n",
    "    \n",
    "    r = np.random.choice(range(len(points)), 3)\n",
    "    p = points[r]\n",
    "\n",
    "    return p"
   ]
  },
  {
   "cell_type": "markdown",
   "metadata": {},
   "source": [
    "A method for getting the difference between two multidimensional arrays"
   ]
  },
  {
   "cell_type": "code",
   "execution_count": 12,
   "metadata": {},
   "outputs": [],
   "source": [
    "# from: https://stackoverflow.com/a/9271260/6588972\n",
    "def multidim_diff(arr1, arr2):\n",
    "    arr1_view = arr1.view([('',arr1.dtype)]*arr1.shape[1])\n",
    "    arr2_view = arr2.view([('',arr2.dtype)]*arr2.shape[1])\n",
    "    diff = np.setdiff1d(arr1_view, arr2_view)\n",
    "    return diff.view(arr1.dtype).reshape(-1, arr1.shape[1])"
   ]
  },
  {
   "cell_type": "markdown",
   "metadata": {},
   "source": [
    "Our planes are of the form $ax+by+cz=d$, but we fit to the form $ax+by+c=z$ in order to solve $Ax=B$.<br>\n",
    "Where $\n",
    "\\mathbf{A} = \n",
    "    \\begin{vmatrix}\n",
    "        x_1 & y_1 & 1 \\\\\n",
    "        x_2 & y_2 & 1 \\\\\n",
    "        \\vdots & \\vdots & \\vdots \\\\\n",
    "        x_n & y_n & 1\n",
    "    \\end{vmatrix}\n",
    "$, \n",
    "$\n",
    "x = \\begin{vmatrix}\n",
    "        a \\\\\n",
    "        b \\\\\n",
    "        c\n",
    "    \\end{vmatrix}\n",
    "$ and\n",
    "$\n",
    "\\mathbf(B) = \n",
    "    \\begin{vmatrix}\n",
    "    z_1 \\\\\n",
    "    z_2 \\\\\n",
    "    \\vdots \\\\\n",
    "    z_n\n",
    "    \\end{vmatrix}\n",
    "$ <br><br>\n",
    "The following method fits the plane, and converts the parameters to the form we need."
   ]
  },
  {
   "cell_type": "code",
   "execution_count": 13,
   "metadata": {},
   "outputs": [],
   "source": [
    "def fit_plane_to_points(points, plane_params):\n",
    "    M = np.zeros(points.shape)\n",
    "    M[:,:2] = points[:,:2]\n",
    "    M[:,2] = 1\n",
    "    z = np.zeros((points.shape[0], 1))\n",
    "    z = points[:,2]\n",
    "    \n",
    "    p, res, rnk, s = lstsq(M, z)\n",
    "    #print(p)\n",
    "    \n",
    "    a = plane_params[0]\n",
    "    b = plane_params[1]\n",
    "    c = plane_params[2]\n",
    "    d = plane_params[3]\n",
    "    \n",
    "    fit_a = -p[0] * c\n",
    "    fit_b = -p[1] * c\n",
    "    fit_c = c\n",
    "    fit_d = -p[2] * c\n",
    "\n",
    "    return fit_a, fit_b, fit_c, fit_d"
   ]
  },
  {
   "cell_type": "code",
   "execution_count": 14,
   "metadata": {},
   "outputs": [],
   "source": [
    "def do_ransac(points, mask_on_points, limit, iterations=50):\n",
    "    \"\"\"\n",
    "    points: all points in the cloud\n",
    "    mask_on_points: 1d array of bool values, true value indicates point can be evaluated on\n",
    "    limit: distance limit for ransac\n",
    "    iterations: iterations for ransac\n",
    "    \"\"\"\n",
    "    best_fit = {\"num\": 0,\n",
    "                \"inliers\": None,\n",
    "                \"plane\": None,\n",
    "                \"dists\": None,\n",
    "                \"mask\": None}\n",
    "    \n",
    "    # Get valid points, based on mask\n",
    "    valid_points = points[mask_on_points]\n",
    "    \n",
    "    for i in tqdm(range(iterations)):\n",
    "        p1, p2, p3 = get_rand_points(valid_points)\n",
    "\n",
    "        p_a, p_b, p_c, p_d = find_plane(p1, p2, p3)\n",
    "        \n",
    "        # Find number of inliers\n",
    "        dists = distance_from_plane(valid_points, p_a, p_b, p_c, p_d)\n",
    "        inliers = valid_points[dists<limit]\n",
    "        \n",
    "        # If number of inliers is highest yet\n",
    "        if inliers.shape[0] > best_fit[\"num\"]:\n",
    "            # Fit a new plane to these inliers\n",
    "            fit_params = fit_plane_to_points(inliers, (p_a, p_b, p_c, p_d))\n",
    "            \n",
    "            # Get all distances to this new plane\n",
    "            fit_dists = distance_from_plane(points, *fit_params)\n",
    "            \n",
    "            #fit_inliers = points[fit_dists<limit]\n",
    "            # Get a mask, True where distance is less than limit\n",
    "            fit_inliers = fit_dists < limit\n",
    "            fit_inliers = np.logical_and(fit_inliers, mask_on_points)\n",
    "            \n",
    "            # Get a mask of outliers\n",
    "            fit_outliers = np.logical_not(fit_inliers)\n",
    "            \n",
    "            # Mask of valid points, if this fit is used\n",
    "            new_mask = np.logical_and(mask_on_points, fit_outliers)\n",
    "            \n",
    "            best_fit[\"num\"] = inliers.shape[0]\n",
    "            best_fit[\"inliers\"] = fit_inliers\n",
    "            best_fit[\"plane\"] = fit_params\n",
    "            best_fit[\"dists\"] = fit_dists\n",
    "            best_fit[\"mask\"] = new_mask\n",
    "    \n",
    "    return best_fit"
   ]
  },
  {
   "cell_type": "code",
   "execution_count": 15,
   "metadata": {},
   "outputs": [],
   "source": [
    "def find_planes(point_cloud, limit=0.1, ransac_iterations=50, stop_at=3):\n",
    "    planes = []\n",
    "    \n",
    "    ps = point_cloud[:,:3]\n",
    "    #all_ps = point_cloud[:,:3]\n",
    "    mask = np.ones(ps.shape[0], dtype=np.bool)\n",
    "    \n",
    "    while(ps.shape[0] > 10000):\n",
    "        fit = do_ransac(ps, mask, limit, ransac_iterations)\n",
    "        planes.append(fit)\n",
    "        mask = fit[\"mask\"]\n",
    "        \n",
    "        #ps = multidim_diff(np.ascontiguousarray(ps), np.ascontiguousarray(fit[\"inliers\"]))\n",
    "        \n",
    "        if len(planes) == stop_at:\n",
    "            break\n",
    "    \n",
    "    return planes"
   ]
  },
  {
   "cell_type": "markdown",
   "metadata": {},
   "source": [
    "Perform RANSAC"
   ]
  },
  {
   "cell_type": "code",
   "execution_count": 16,
   "metadata": {},
   "outputs": [
    {
     "name": "stdout",
     "output_type": "stream",
     "text": [
      "std limit: 0.3057067447714545\n"
     ]
    },
    {
     "data": {
      "application/vnd.jupyter.widget-view+json": {
       "model_id": "ff66cacd96454f92b2ba1f3193c8f146",
       "version_major": 2,
       "version_minor": 0
      },
      "text/plain": [
       "HBox(children=(IntProgress(value=0), HTML(value='')))"
      ]
     },
     "metadata": {},
     "output_type": "display_data"
    },
    {
     "name": "stdout",
     "output_type": "stream",
     "text": [
      "\n"
     ]
    },
    {
     "data": {
      "application/vnd.jupyter.widget-view+json": {
       "model_id": "0ee9490ce5d2468d8ce024dbe06d0b63",
       "version_major": 2,
       "version_minor": 0
      },
      "text/plain": [
       "HBox(children=(IntProgress(value=0), HTML(value='')))"
      ]
     },
     "metadata": {},
     "output_type": "display_data"
    },
    {
     "name": "stdout",
     "output_type": "stream",
     "text": [
      "\n"
     ]
    },
    {
     "data": {
      "application/vnd.jupyter.widget-view+json": {
       "model_id": "98ed89315eaf4f22b211ee8465841b89",
       "version_major": 2,
       "version_minor": 0
      },
      "text/plain": [
       "HBox(children=(IntProgress(value=0), HTML(value='')))"
      ]
     },
     "metadata": {},
     "output_type": "display_data"
    },
    {
     "name": "stdout",
     "output_type": "stream",
     "text": [
      "\n"
     ]
    }
   ],
   "source": [
    "std_limit = np.std(point_cloud[:,:3]) / 20\n",
    "print(\"std limit: {}\".format(std_limit))\n",
    "planes = find_planes(point_cloud, limit=std_limit, ransac_iterations=100, stop_at=3)"
   ]
  },
  {
   "cell_type": "code",
   "execution_count": 17,
   "metadata": {},
   "outputs": [
    {
     "name": "stdout",
     "output_type": "stream",
     "text": [
      "Planes found: 3\n"
     ]
    }
   ],
   "source": [
    "print(\"Planes found: {}\".format(len(planes)))"
   ]
  },
  {
   "cell_type": "markdown",
   "metadata": {},
   "source": [
    "Color a pointcloud with the points in planes, for visualization"
   ]
  },
  {
   "cell_type": "code",
   "execution_count": 18,
   "metadata": {},
   "outputs": [],
   "source": [
    "pc_show = np.copy(point_cloud)\n",
    "\n",
    "np.putmask(pc_show[:,5], planes[0][\"inliers\"], 255.0)\n",
    "np.putmask(pc_show[:,4], planes[1][\"inliers\"], 255.0)\n",
    "np.putmask(pc_show[:,3], planes[2][\"inliers\"], 255.0)"
   ]
  },
  {
   "cell_type": "markdown",
   "metadata": {},
   "source": [
    "Show the planes"
   ]
  },
  {
   "cell_type": "code",
   "execution_count": 19,
   "metadata": {},
   "outputs": [
    {
     "data": {
      "text/html": [
       "\n",
       "        <iframe\n",
       "            width=\"1200\"\n",
       "            height=\"700\"\n",
       "            src=\"pyntcloud_plot.html\"\n",
       "            frameborder=\"0\"\n",
       "            allowfullscreen\n",
       "        ></iframe>\n",
       "        "
      ],
      "text/plain": [
       "<IPython.lib.display.IFrame at 0x7feab002ca90>"
      ]
     },
     "execution_count": 19,
     "metadata": {},
     "output_type": "execute_result"
    }
   ],
   "source": [
    "points = pd.DataFrame(pc_show, columns=['x', 'y', 'z', 'red', 'green', 'blue'])\n",
    "#points.describe()\n",
    "cloud = pc(points)\n",
    "cloud.plot(IFrame_shape=(1200, 700), point_size=0.001)"
   ]
  },
  {
   "cell_type": "markdown",
   "metadata": {},
   "source": [
    "- Points needs to be continous\n",
    "- Points needs to be white\n",
    "- Bounding box must be found"
   ]
  },
  {
   "cell_type": "markdown",
   "metadata": {},
   "source": [
    "Try converting one plane to an image, so we can use various methods for images on it."
   ]
  },
  {
   "cell_type": "code",
   "execution_count": 20,
   "metadata": {},
   "outputs": [
    {
     "name": "stdout",
     "output_type": "stream",
     "text": [
      "Max x: 9.81313440820322, min x: -6.06900804297792\n",
      "Max y: 3.9955078440229954, min y: -6.153119865614725\n"
     ]
    }
   ],
   "source": [
    "p_plane = point_cloud[planes[0][\"inliers\"]]\n",
    "x_max = np.max(p_plane[:,0])\n",
    "x_min = np.min(p_plane[:,0])\n",
    "y_max = np.max(p_plane[:,1])\n",
    "y_min = np.min(p_plane[:,1])\n",
    "\n",
    "print(\"Max x: {}, min x: {}\".format(x_max, x_min))\n",
    "print(\"Max y: {}, min y: {}\".format(y_max, y_min))"
   ]
  },
  {
   "cell_type": "code",
   "execution_count": 21,
   "metadata": {},
   "outputs": [],
   "source": [
    "p_plane[:,0] -= x_min\n",
    "p_plane[:,1] -= y_min"
   ]
  },
  {
   "cell_type": "code",
   "execution_count": 22,
   "metadata": {},
   "outputs": [
    {
     "name": "stdout",
     "output_type": "stream",
     "text": [
      "Max x: 15.88214245118114, min x: 0.0\n",
      "Max y: 10.14862770963772, min y: 0.0\n"
     ]
    }
   ],
   "source": [
    "new_x_max = np.max(p_plane[:,0])\n",
    "new_x_min = np.min(p_plane[:,0])\n",
    "new_y_max = np.max(p_plane[:,1])\n",
    "new_y_min = np.min(p_plane[:,1])\n",
    "\n",
    "print(\"Max x: {}, min x: {}\".format(new_x_max, new_x_min))\n",
    "print(\"Max y: {}, min y: {}\".format(new_y_max, new_y_min))"
   ]
  },
  {
   "cell_type": "code",
   "execution_count": 23,
   "metadata": {},
   "outputs": [
    {
     "name": "stdout",
     "output_type": "stream",
     "text": [
      "Number of points: 61781\n"
     ]
    }
   ],
   "source": [
    "num_points = len(p_plane)\n",
    "print(\"Number of points: {}\".format(num_points))"
   ]
  },
  {
   "cell_type": "code",
   "execution_count": 24,
   "metadata": {},
   "outputs": [
    {
     "name": "stdout",
     "output_type": "stream",
     "text": [
      "Format: 1.5649546821092417\n"
     ]
    }
   ],
   "source": [
    "pic_format = new_x_max / new_y_max\n",
    "print(\"Format: {}\".format(pic_format))"
   ]
  },
  {
   "cell_type": "markdown",
   "metadata": {},
   "source": [
    "Let $n$ be the number of points in this plane, and $f$ be the format of the picture we are looking for. Then $x$ and $y$ are the sizes of the axis, so that $x \\cdot y = n$ and $\\frac{x}{y} = f$. Meaning $y = \\sqrt{\\frac{n}{f}}$ and $x = \\sqrt{\\frac{n}{f}} \\cdot f$"
   ]
  },
  {
   "cell_type": "code",
   "execution_count": 25,
   "metadata": {},
   "outputs": [
    {
     "name": "stdout",
     "output_type": "stream",
     "text": [
      "X size: 312, Y size: 199\n"
     ]
    }
   ],
   "source": [
    "y_size = int(np.ceil(np.sqrt(num_points/pic_format)))\n",
    "x_size = int(np.ceil(y_size * pic_format))\n",
    "\n",
    "print(\"X size: {}, Y size: {}\".format(x_size, y_size))"
   ]
  },
  {
   "cell_type": "code",
   "execution_count": 26,
   "metadata": {},
   "outputs": [
    {
     "name": "stdout",
     "output_type": "stream",
     "text": [
      "x scale: 19.644704797166508, y scale: 19.608562427708147\n"
     ]
    }
   ],
   "source": [
    "y_scale = y_size / new_y_max\n",
    "x_scale = x_size / new_x_max\n",
    "\n",
    "print(\"x scale: {}, y scale: {}\".format(x_scale, y_scale))"
   ]
  },
  {
   "cell_type": "code",
   "execution_count": 27,
   "metadata": {},
   "outputs": [],
   "source": [
    "# FLipping x and y for better visualization\n",
    "im = np.zeros((y_size, x_size, 3), dtype=np.uint8)\n",
    "\n",
    "for p in p_plane:\n",
    "    x_temp = int(p[0] * x_scale - 1)\n",
    "    y_temp = int(p[1] * y_scale - 1)\n",
    "    r_temp = int(p[3])\n",
    "    b_temp = int(p[4])\n",
    "    g_temp = int(p[5])\n",
    "    \n",
    "    im[y_temp, x_temp] = (r_temp, b_temp, g_temp)"
   ]
  },
  {
   "cell_type": "markdown",
   "metadata": {},
   "source": [
    "Perform watershed on the image we found.<br>\n",
    "Using a short distance limit to ensure lots of regions, so region merging can be tested below)"
   ]
  },
  {
   "cell_type": "code",
   "execution_count": 28,
   "metadata": {},
   "outputs": [],
   "source": [
    "ws = watershed()\n",
    "ws.set_transform_limit(0.01)\n",
    "ws_res = ws.get_regions(im)"
   ]
  },
  {
   "cell_type": "code",
   "execution_count": 29,
   "metadata": {},
   "outputs": [
    {
     "data": {
      "text/plain": [
       "Text(0.5,1,'Watershed')"
      ]
     },
     "execution_count": 29,
     "metadata": {},
     "output_type": "execute_result"
    },
    {
     "data": {
      "image/png": "[encoded data removed]",
      "text/plain": [
       "<Figure size 1440x576 with 2 Axes>"
      ]
     },
     "metadata": {},
     "output_type": "display_data"
    }
   ],
   "source": [
    "fig, subs = plt.subplots(1, 2, figsize=(20, 8))\n",
    "subs[0].imshow(im)\n",
    "subs[0].set_title(\"Plane as image\")\n",
    "subs[1].imshow(ws_res, cmap='gray')\n",
    "subs[1].set_title(\"Watershed\")"
   ]
  },
  {
   "cell_type": "markdown",
   "metadata": {},
   "source": [
    "A list of the planes we found, and the amount of elements in each."
   ]
  },
  {
   "cell_type": "code",
   "execution_count": 30,
   "metadata": {},
   "outputs": [
    {
     "name": "stdout",
     "output_type": "stream",
     "text": [
      "[ 2662 33906 13471  4561  3779   192   378  1245   233   220   108   122\n",
      "    12   108    58   194   132    88   356   203    60]\n",
      "[ 0  1  2  3  4  5  6  7  8  9 10 11 12 13 14 15 16 17 18 19 20]\n"
     ]
    }
   ],
   "source": [
    "unique, counts = np.unique(ws_res, return_counts=True)\n",
    "#counts, uniques = zip(*sorted(zip(counts, uniques), reverse=True))\n",
    "\n",
    "print(counts)\n",
    "print(unique)"
   ]
  },
  {
   "cell_type": "markdown",
   "metadata": {},
   "source": [
    "A HSV version of the image"
   ]
  },
  {
   "cell_type": "code",
   "execution_count": 31,
   "metadata": {},
   "outputs": [],
   "source": [
    "im_hsv = cv2.cvtColor(im, cv2.COLOR_RGB2HSV)"
   ]
  },
  {
   "cell_type": "markdown",
   "metadata": {},
   "source": [
    "Find set from watershed, that has colors that match."
   ]
  },
  {
   "cell_type": "code",
   "execution_count": 32,
   "metadata": {},
   "outputs": [
    {
     "name": "stdout",
     "output_type": "stream",
     "text": [
      "For val 0  --  mean h: 30.873779113448535, mean s: 14.900826446280991, mean v: 75.23328324567994\n",
      "For val 1  --  mean h: 0.5577478912286911, mean s: 0.21671680528520026, mean v: 1.9820680705479856\n",
      "For val 2  --  mean h: 44.232425209709746, mean s: 17.13970751985747, mean v: 158.0023754732388\n",
      "For val 3  --  mean h: 60.76474457355843, mean s: 10.092962069721553, mean v: 171.22166191624643\n",
      "For val 4  --  mean h: 4.922995501455412, mean s: 7.602804974861074, mean v: 4.288171473934903\n",
      "For val 5  --  mean h: 28.270833333333332, mean s: 21.791666666666668, mean v: 163.08333333333334\n",
      "For val 6  --  mean h: 48.08465608465608, mean s: 19.185185185185187, mean v: 138.10846560846562\n",
      "For val 7  --  mean h: 4.903614457831325, mean s: 6.202409638554217, mean v: 6.3004016064257025\n",
      "For val 8  --  mean h: 2.2532188841201717, mean s: 0.45064377682403434, mean v: 4.648068669527897\n",
      "For val 9  --  mean h: 8.318181818181818, mean s: 23.509090909090908, mean v: 13.095454545454546\n",
      "For val 10  --  mean h: 52.675925925925924, mean s: 15.212962962962964, mean v: 140.55555555555554\n",
      "For val 11  --  mean h: 55.90163934426229, mean s: 15.024590163934427, mean v: 136.30327868852459\n",
      "For val 12  --  mean h: 79.91666666666667, mean s: 9.916666666666666, mean v: 141.08333333333334\n",
      "For val 13  --  mean h: 38.49074074074074, mean s: 25.953703703703702, mean v: 66.10185185185185\n",
      "For val 14  --  mean h: 37.672413793103445, mean s: 31.482758620689655, mean v: 52.758620689655174\n",
      "For val 15  --  mean h: 10.206185567010309, mean s: 18.54123711340206, mean v: 3.7989690721649483\n",
      "For val 16  --  mean h: 43.85606060606061, mean s: 55.52272727272727, mean v: 40.99242424242424\n",
      "For val 17  --  mean h: 86.07954545454545, mean s: 9.034090909090908, mean v: 162.2159090909091\n",
      "For val 18  --  mean h: 58.561797752808985, mean s: 6.792134831460674, mean v: 195.05337078651687\n",
      "For val 19  --  mean h: 91.25615763546799, mean s: 11.25615763546798, mean v: 156.0985221674877\n",
      "For val 20  --  mean h: 22.966666666666665, mean s: 5.0, mean v: 37.35\n"
     ]
    }
   ],
   "source": [
    "good_vals = []\n",
    "for u in unique:\n",
    "    mean_h = np.mean(im_hsv[:,:,0][ws_res==u])\n",
    "    mean_s = np.mean(im_hsv[:,:,1][ws_res==u])\n",
    "    mean_v = np.mean(im_hsv[:,:,2][ws_res==u])\n",
    "    print(\"For val {}  --  mean h: {}, mean s: {}, mean v: {}\".format(u, mean_h, mean_s, mean_v))\n",
    "    \n",
    "    #if mean_h > 20 and mean_h < 70:\n",
    "    #    good_vals.append(u)\n",
    "    \n",
    "    if mean_s < 20 and mean_v > 120:\n",
    "        good_vals.append(u)"
   ]
  },
  {
   "cell_type": "markdown",
   "metadata": {},
   "source": [
    "And the good sets are"
   ]
  },
  {
   "cell_type": "code",
   "execution_count": 33,
   "metadata": {},
   "outputs": [
    {
     "name": "stdout",
     "output_type": "stream",
     "text": [
      "[2, 3, 6, 10, 11, 12, 17, 18, 19]\n"
     ]
    }
   ],
   "source": [
    "print(good_vals)"
   ]
  },
  {
   "cell_type": "markdown",
   "metadata": {},
   "source": [
    "Generate a range of colors, used for visualization."
   ]
  },
  {
   "cell_type": "code",
   "execution_count": 34,
   "metadata": {},
   "outputs": [],
   "source": [
    "# https://www.quora.com/How-do-I-generate-n-visually-distinct-RGB-colours-in-Python\n",
    "import colorsys\n",
    " \n",
    "def HSVToRGB(h, s, v):\n",
    "    (r, g, b) = colorsys.hsv_to_rgb(h, s, v)\n",
    "    return (int(255*r), int(255*g), int(255*b))\n",
    " \n",
    "def getDistinctColors(n):\n",
    "    huePartition = 1.0 / (n + 1)\n",
    "    return (HSVToRGB(huePartition * value, 1.0, 1.0) for value in range(0, n))"
   ]
  },
  {
   "cell_type": "code",
   "execution_count": 35,
   "metadata": {},
   "outputs": [
    {
     "data": {
      "text/plain": [
       "Text(0.5,1,'Watershed regions with acceptable color')"
      ]
     },
     "execution_count": 35,
     "metadata": {},
     "output_type": "execute_result"
    },
    {
     "data": {
      "image/png": "[encoded data removed]",
      "text/plain": [
       "<Figure size 1440x720 with 2 Axes>"
      ]
     },
     "metadata": {},
     "output_type": "display_data"
    }
   ],
   "source": [
    "f, subs = plt.subplots(1, 2, figsize=(20, 10))\n",
    "\n",
    "ws_res_color = np.zeros((ws_res.shape[0], ws_res.shape[1], 3), dtype=np.uint8)\n",
    "colors = getDistinctColors(len(good_vals))\n",
    "\n",
    "for g in good_vals:\n",
    "    ws_res_color[ws_res==g] = next(colors)\n",
    "\n",
    "subs[0].imshow(im)\n",
    "subs[0].set_title(\"Plane as image\")\n",
    "subs[1].imshow(ws_res_color)\n",
    "subs[1].set_title(\"Watershed regions with acceptable color\")"
   ]
  },
  {
   "cell_type": "markdown",
   "metadata": {},
   "source": [
    "### This is as far as I've gotten. Rest of document is not relevant."
   ]
  },
  {
   "cell_type": "markdown",
   "metadata": {},
   "source": [
    "- For each region in watershed, find all neighbour regions.\n",
    "- Merge regions with similar color.\n",
    "  - Or merge neighbours, as color is already validated.\n",
    "- Repeat until no regions are merged."
   ]
  },
  {
   "cell_type": "code",
   "execution_count": 36,
   "metadata": {},
   "outputs": [],
   "source": [
    "coord_shape = ws_res.shape"
   ]
  },
  {
   "cell_type": "code",
   "execution_count": 37,
   "metadata": {},
   "outputs": [
    {
     "name": "stdout",
     "output_type": "stream",
     "text": [
      "[[  0   1   2 ... 309 310 311]\n",
      " [  0   1   2 ... 309 310 311]\n",
      " [  0   1   2 ... 309 310 311]\n",
      " ...\n",
      " [  0   1   2 ... 309 310 311]\n",
      " [  0   1   2 ... 309 310 311]\n",
      " [  0   1   2 ... 309 310 311]]\n"
     ]
    }
   ],
   "source": [
    "y_mat = np.tile(np.arange(0, coord_shape[1]), (coord_shape[0], 1))\n",
    "print(y_mat)"
   ]
  },
  {
   "cell_type": "code",
   "execution_count": 38,
   "metadata": {},
   "outputs": [
    {
     "name": "stdout",
     "output_type": "stream",
     "text": [
      "[[  0   0   0 ...   0   0   0]\n",
      " [  1   1   1 ...   1   1   1]\n",
      " [  2   2   2 ...   2   2   2]\n",
      " ...\n",
      " [196 196 196 ... 196 196 196]\n",
      " [197 197 197 ... 197 197 197]\n",
      " [198 198 198 ... 198 198 198]]\n"
     ]
    }
   ],
   "source": [
    "x_mat = np.tile(np.arange(0, coord_shape[0]), (coord_shape[1], 1)).T\n",
    "print(x_mat)"
   ]
  },
  {
   "cell_type": "code",
   "execution_count": 39,
   "metadata": {},
   "outputs": [
    {
     "name": "stdout",
     "output_type": "stream",
     "text": [
      "(199, 312, 2)\n"
     ]
    }
   ],
   "source": [
    "coord_mat = np.zeros((coord_shape[0], coord_shape[1], 2))\n",
    "print(coord_mat.shape)\n",
    "coord_mat[:,:,0] = x_mat\n",
    "coord_mat[:,:,1] = y_mat"
   ]
  },
  {
   "cell_type": "code",
   "execution_count": 40,
   "metadata": {},
   "outputs": [
    {
     "name": "stdout",
     "output_type": "stream",
     "text": [
      "[2, 3, 6, 10, 11, 12, 17, 18, 19]\n",
      "9\n"
     ]
    }
   ],
   "source": [
    "print(good_vals)\n",
    "print(len(good_vals))"
   ]
  },
  {
   "cell_type": "markdown",
   "metadata": {},
   "source": [
    "Find the minimum distance between two sets, and the number of points with this distance"
   ]
  },
  {
   "cell_type": "code",
   "execution_count": 41,
   "metadata": {},
   "outputs": [],
   "source": [
    "#@nb.jit(nb.types.Tuple((nb.float64, nb.int64))(nb.int64[:,:], nb.int64[:,:]))\n",
    "@nb.jit(nopython=True)\n",
    "def minimum_distance(points1, points2):\n",
    "    min_dist = 100\n",
    "    min_count = 100\n",
    "    #for p1 in points1:\n",
    "    for i1 in range(len(points1)):\n",
    "        #for p2 in points2:\n",
    "        for i2 in range(len(points2)):\n",
    "            d = np.sqrt((points1[i1][0] - points2[i2][0])**2 + (points1[i1][1] - points2[i2][1])**2)\n",
    "            \n",
    "            if d < min_dist:\n",
    "                min_dist = d\n",
    "                min_count = 1\n",
    "            elif d == min_dist:\n",
    "                min_count += 1\n",
    "    return min_dist, min_count"
   ]
  },
  {
   "cell_type": "code",
   "execution_count": 42,
   "metadata": {},
   "outputs": [],
   "source": [
    "#nb_minimum_distance = nb.jit(minimum_distance, nopython=True)\n",
    "#minimum_distance.inspect_types()"
   ]
  },
  {
   "cell_type": "markdown",
   "metadata": {},
   "source": [
    "This is very slow, would like to find some way to do it vectorized."
   ]
  },
  {
   "cell_type": "code",
   "execution_count": 43,
   "metadata": {},
   "outputs": [],
   "source": [
    "\n",
    "p1 = np.array([[1, 1],\n",
    "               [1, 2],\n",
    "               [3, 4]])\n",
    "\n",
    "p1 = np.random.rand(10, 2)\n",
    "\n",
    "p2 = np.array([[2, 1],\n",
    "               [2, 2],\n",
    "               [3, 4],\n",
    "               [5, 5]])\n",
    "\n",
    "p2 = np.random.rand(100, 2)"
   ]
  },
  {
   "cell_type": "code",
   "execution_count": 44,
   "metadata": {},
   "outputs": [
    {
     "name": "stdout",
     "output_type": "stream",
     "text": [
      "2.63 µs ± 52 ns per loop (mean ± std. dev. of 7 runs, 100000 loops each)\n"
     ]
    }
   ],
   "source": [
    "minimum_distance(p1, p2)\n",
    "%timeit minimum_distance(p1, p2)"
   ]
  },
  {
   "cell_type": "code",
   "execution_count": 45,
   "metadata": {},
   "outputs": [
    {
     "ename": "NameError",
     "evalue": "name 'nb_minimum_distance' is not defined",
     "output_type": "error",
     "traceback": [
      "\u001b[0;31m---------------------------------------------------------------------------\u001b[0m",
      "\u001b[0;31mNameError\u001b[0m                                 Traceback (most recent call last)",
      "\u001b[0;32m<ipython-input-45-67e8b737d054>\u001b[0m in \u001b[0;36m<module>\u001b[0;34m()\u001b[0m\n\u001b[0;32m----> 1\u001b[0;31m \u001b[0mnb_minimum_distance\u001b[0m\u001b[0;34m(\u001b[0m\u001b[0mp1\u001b[0m\u001b[0;34m,\u001b[0m \u001b[0mp2\u001b[0m\u001b[0;34m)\u001b[0m\u001b[0;34m\u001b[0m\u001b[0m\n\u001b[0m\u001b[1;32m      2\u001b[0m \u001b[0mget_ipython\u001b[0m\u001b[0;34m(\u001b[0m\u001b[0;34m)\u001b[0m\u001b[0;34m.\u001b[0m\u001b[0mrun_line_magic\u001b[0m\u001b[0;34m(\u001b[0m\u001b[0;34m'timeit'\u001b[0m\u001b[0;34m,\u001b[0m \u001b[0;34m'nb_minimum_distance(p1, p2)'\u001b[0m\u001b[0;34m)\u001b[0m\u001b[0;34m\u001b[0m\u001b[0m\n",
      "\u001b[0;31mNameError\u001b[0m: name 'nb_minimum_distance' is not defined"
     ]
    }
   ],
   "source": [
    "#nb_minimum_distance(p1, p2)\n",
    "#%timeit nb_minimum_distance(p1, p2)"
   ]
  },
  {
   "cell_type": "code",
   "execution_count": 46,
   "metadata": {},
   "outputs": [],
   "source": [
    "def find_neighbours(region_vals, watershed_image):\n",
    "    neighbours = {}\n",
    "    \n",
    "    for g1 in tqdm(region_vals):\n",
    "        neighbours[g1] = []\n",
    "        g1_set = coord_mat[watershed_image==g1]\n",
    "        for g2 in region_vals:\n",
    "            if g1 == g2:\n",
    "                continue\n",
    "            g2_set = coord_mat[watershed_image==g2]\n",
    "            #g1_g2_dist = minimum_distance(g1_set, g2_set)\n",
    "            g1_g2_dist = minimum_distance(g1_set, g2_set)\n",
    "            # Minimum distance is sqrt(2)\n",
    "            if g1_g2_dist[0] <= np.sqrt(2):\n",
    "                neighbours[g1].append(g2)\n",
    "    return neighbours"
   ]
  },
  {
   "cell_type": "code",
   "execution_count": 48,
   "metadata": {},
   "outputs": [],
   "source": [
    "#nb = find_neighbours(good_vals, ws_res)\n",
    "#for k, v in nb.items():\n",
    "#    print(\"{}: {}\".format(k, v))"
   ]
  },
  {
   "cell_type": "code",
   "execution_count": 49,
   "metadata": {},
   "outputs": [],
   "source": [
    "#nb = numba_find_neighbours(good_vals, ws_res)\n",
    "#for k, v in nb.items():\n",
    "#    print(\"{}: {}\".format(k, v))"
   ]
  },
  {
   "cell_type": "markdown",
   "metadata": {},
   "source": [
    "Merge the first found neighbours.<br>\n",
    "Consider optimizing by merging all neighbours, that doesnt share neighbors."
   ]
  },
  {
   "cell_type": "code",
   "execution_count": 50,
   "metadata": {},
   "outputs": [],
   "source": [
    "#@nb.jit(nb.types.Tuple())\n",
    "def merge_regions(regions, ws):\n",
    "    neighbours = find_neighbours(regions, ws)\n",
    "    merge_done = False\n",
    "    \n",
    "    for r in regions:\n",
    "        if r not in neighbours.keys():\n",
    "            continue\n",
    "        if len(neighbours[r]) == 0:\n",
    "            continue\n",
    "            \n",
    "        for n in neighbours[r]:\n",
    "            print(\"Merging {} into {}\".format(n, r))\n",
    "            \n",
    "            #n1 = neighbours[r][0]\n",
    "            regions.remove(n)\n",
    "\n",
    "            ws[ws==n] = r\n",
    "            merge_done = True\n",
    "        \n",
    "        break\n",
    "\n",
    "    return regions, ws, merge_done"
   ]
  },
  {
   "cell_type": "code",
   "execution_count": 51,
   "metadata": {},
   "outputs": [],
   "source": [
    "#@nb.jit(nb.types.Tuple((nb.int64, nb.int64[:,:]))(nb.int64, nb.int64[:,:]))\n",
    "def merge_all_regions(regions, ws):\n",
    "    merge_done = True\n",
    "    while(merge_done):\n",
    "        regions, ws, merge_done = merge_regions(regions, ws)\n",
    "        print(\"Regions left: {}\".format(len(regions)))\n",
    "    \n",
    "    print(\"Done\")\n",
    "    return regions, ws"
   ]
  },
  {
   "cell_type": "code",
   "execution_count": 53,
   "metadata": {},
   "outputs": [],
   "source": [
    "#sdcsc"
   ]
  },
  {
   "cell_type": "code",
   "execution_count": 54,
   "metadata": {},
   "outputs": [
    {
     "name": "stdout",
     "output_type": "stream",
     "text": [
      "\n",
      "Number of regions at start: 9\n"
     ]
    },
    {
     "data": {
      "application/vnd.jupyter.widget-view+json": {
       "model_id": "6b5dcd0d49a846ae89db62d002780001",
       "version_major": 2,
       "version_minor": 0
      },
      "text/plain": [
       "HBox(children=(IntProgress(value=0, max=9), HTML(value='')))"
      ]
     },
     "metadata": {},
     "output_type": "display_data"
    },
    {
     "name": "stdout",
     "output_type": "stream",
     "text": [
      "\n",
      "Merging 3 into 2\n",
      "Merging 6 into 2\n",
      "Merging 10 into 2\n",
      "Merging 12 into 2\n",
      "Merging 17 into 2\n",
      "Regions left: 4\n"
     ]
    },
    {
     "data": {
      "application/vnd.jupyter.widget-view+json": {
       "model_id": "4a6d3fcbc09c453a9cf1b065c663cd39",
       "version_major": 2,
       "version_minor": 0
      },
      "text/plain": [
       "HBox(children=(IntProgress(value=0, max=4), HTML(value='')))"
      ]
     },
     "metadata": {},
     "output_type": "display_data"
    },
    {
     "name": "stdout",
     "output_type": "stream",
     "text": [
      "\n",
      "Merging 18 into 2\n",
      "Merging 19 into 2\n",
      "Regions left: 2\n"
     ]
    },
    {
     "data": {
      "application/vnd.jupyter.widget-view+json": {
       "model_id": "9a2c466bce5f4553bb4ece8c55a6b532",
       "version_major": 2,
       "version_minor": 0
      },
      "text/plain": [
       "HBox(children=(IntProgress(value=0, max=2), HTML(value='')))"
      ]
     },
     "metadata": {},
     "output_type": "display_data"
    },
    {
     "name": "stdout",
     "output_type": "stream",
     "text": [
      "\n",
      "Regions left: 2\n",
      "Done\n"
     ]
    }
   ],
   "source": [
    "g = good_vals.copy()\n",
    "w = np.copy(ws_res)\n",
    "\n",
    "print(\"\")\n",
    "print(\"Number of regions at start: {}\".format(len(good_vals)))\n",
    "\n",
    "regions, ws = merge_all_regions(g, w)"
   ]
  },
  {
   "cell_type": "code",
   "execution_count": 55,
   "metadata": {},
   "outputs": [
    {
     "data": {
      "text/plain": [
       "Text(0.5,1,'Watershed with merged regions')"
      ]
     },
     "execution_count": 55,
     "metadata": {},
     "output_type": "execute_result"
    },
    {
     "data": {
      "image/png": "[encoded data removed]",
      "text/plain": [
       "<Figure size 1440x720 with 2 Axes>"
      ]
     },
     "metadata": {},
     "output_type": "display_data"
    }
   ],
   "source": [
    "f, subs = plt.subplots(1, 2, figsize=(20, 10))\n",
    "\n",
    "ws_new_regions = np.zeros((ws_res.shape[0], ws_res.shape[1], 3), dtype=np.uint8)\n",
    "colors = getDistinctColors(len(regions))\n",
    "\n",
    "for r in regions:\n",
    "    ws_new_regions[ws==r] = next(colors)\n",
    "\n",
    "subs[0].imshow(ws_res_color)\n",
    "subs[0].set_title(\"Watershed with colored regions\")\n",
    "subs[1].imshow(ws_new_regions)\n",
    "subs[1].set_title(\"Watershed with merged regions\")"
   ]
  },
  {
   "cell_type": "code",
   "execution_count": 56,
   "metadata": {},
   "outputs": [
    {
     "name": "stdout",
     "output_type": "stream",
     "text": [
      "[2, 11]\n",
      "2\n"
     ]
    }
   ],
   "source": [
    "print(regions)\n",
    "print(len(regions))"
   ]
  },
  {
   "cell_type": "code",
   "execution_count": 57,
   "metadata": {},
   "outputs": [],
   "source": [
    "ws_res_color = np.zeros((ws_res.shape[0], ws_res.shape[1], 3), dtype=np.uint8)"
   ]
  },
  {
   "cell_type": "code",
   "execution_count": 58,
   "metadata": {},
   "outputs": [
    {
     "name": "stdout",
     "output_type": "stream",
     "text": [
      "3\n"
     ]
    }
   ],
   "source": [
    "val = unique[3]\n",
    "print(val)\n",
    "ws_res_color[ws_res==val] = (0, 0, 255)"
   ]
  },
  {
   "cell_type": "code",
   "execution_count": 59,
   "metadata": {},
   "outputs": [
    {
     "data": {
      "text/plain": [
       "<matplotlib.image.AxesImage at 0x7fea96e6c048>"
      ]
     },
     "execution_count": 59,
     "metadata": {},
     "output_type": "execute_result"
    },
    {
     "data": {
      "image/png": "[encoded data removed]",
      "text/plain": [
       "<Figure size 1080x576 with 1 Axes>"
      ]
     },
     "metadata": {},
     "output_type": "display_data"
    }
   ],
   "source": [
    "fig = plt.figure(figsize=(15, 8))\n",
    "plt.imshow(ws_res_color)"
   ]
  },
  {
   "cell_type": "raw",
   "metadata": {},
   "source": [
    "Watershed is creating borders where there should'nt be any.<br>\n",
    "Problem is most likely marker placement.<br>\n",
    "Solutions?\n",
    "- Change markers\n",
    "- Validate borders of all regions with correct border values"
   ]
  },
  {
   "cell_type": "raw",
   "metadata": {},
   "source": []
  }
 ],
 "metadata": {
  "kernelspec": {
   "display_name": "Python 3",
   "language": "python",
   "name": "python3"
  },
  "language_info": {
   "codemirror_mode": {
    "name": "ipython",
    "version": 3
   },
   "file_extension": ".py",
   "mimetype": "text/x-python",
   "name": "python",
   "nbconvert_exporter": "python",
   "pygments_lexer": "ipython3",
   "version": "3.6.5"
  }
 },
 "nbformat": 4,
 "nbformat_minor": 2
}
