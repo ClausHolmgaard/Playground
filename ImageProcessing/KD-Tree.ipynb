{
 "cells": [
  {
   "cell_type": "code",
   "execution_count": 13,
   "metadata": {},
   "outputs": [],
   "source": [
    "import numpy as np\n",
    "from scipy.spatial import KDTree"
   ]
  },
  {
   "cell_type": "code",
   "execution_count": 25,
   "metadata": {},
   "outputs": [
    {
     "name": "stdout",
     "output_type": "stream",
     "text": [
      "[[0 6 5]\n",
      " [6 1 5]\n",
      " [6 1 6]\n",
      " [7 4 2]\n",
      " [2 5 0]\n",
      " [8 9 9]\n",
      " [8 9 5]\n",
      " [0 7 3]\n",
      " [2 9 2]\n",
      " [5 9 4]]\n"
     ]
    }
   ],
   "source": [
    "points1 = np.random.randint(low=0, high=10, size=(10, 3))\n",
    "points2 = np.random.randint(low=0, high=10, size=(10, 3))\n",
    "print(points)"
   ]
  },
  {
   "cell_type": "code",
   "execution_count": 48,
   "metadata": {},
   "outputs": [
    {
     "name": "stdout",
     "output_type": "stream",
     "text": [
      "2.8284271247461903\n"
     ]
    }
   ],
   "source": [
    "t1 = np.array([1, 2, 3])\n",
    "t2 = np.array([3, 2, 1])\n",
    "s = np.sqrt(np.sum((t1 - t2)**2))\n",
    "print(s)"
   ]
  },
  {
   "cell_type": "code",
   "execution_count": 54,
   "metadata": {},
   "outputs": [],
   "source": [
    "def distance_from(ps, x):\n",
    "    for p in ps:\n",
    "        r = np.sqrt(np.sum((p - x)**2))\n",
    "        print(r)"
   ]
  },
  {
   "cell_type": "code",
   "execution_count": 26,
   "metadata": {},
   "outputs": [],
   "source": [
    "kd_tree1 = KDTree(points1, leafsize=3)\n",
    "kd_tree2 = KDTree(points2, leafsize=3)"
   ]
  },
  {
   "cell_type": "code",
   "execution_count": 35,
   "metadata": {},
   "outputs": [
    {
     "data": {
      "text/plain": [
       "11"
      ]
     },
     "execution_count": 35,
     "metadata": {},
     "output_type": "execute_result"
    }
   ],
   "source": [
    "kd_tree1.count_neighbors(kd_tree2, 4)"
   ]
  },
  {
   "cell_type": "code",
   "execution_count": 60,
   "metadata": {},
   "outputs": [
    {
     "data": {
      "text/plain": [
       "[3, 4]"
      ]
     },
     "execution_count": 60,
     "metadata": {},
     "output_type": "execute_result"
    }
   ],
   "source": [
    "test_point = np.array([0, 0, 0])\n",
    "kd_tree1.query_ball_point(test_point, 9)"
   ]
  },
  {
   "cell_type": "code",
   "execution_count": 55,
   "metadata": {},
   "outputs": [
    {
     "name": "stdout",
     "output_type": "stream",
     "text": [
      "14.45683229480096\n",
      "9.539392014169456\n",
      "11.357816691600547\n",
      "5.830951894845301\n",
      "8.54400374531753\n",
      "13.856406460551018\n",
      "12.041594578792296\n",
      "11.090536506409418\n",
      "14.45683229480096\n",
      "10.0\n"
     ]
    }
   ],
   "source": [
    "distance_from(points1, test_point)"
   ]
  },
  {
   "cell_type": "code",
   "execution_count": 62,
   "metadata": {},
   "outputs": [
    {
     "data": {
      "text/plain": [
       "[[], [], [6], [1], [], [], [], [], [], []]"
      ]
     },
     "execution_count": 62,
     "metadata": {},
     "output_type": "execute_result"
    }
   ],
   "source": [
    "kd_tree1.query_ball_tree(kd_tree2, 2)"
   ]
  }
 ],
 "metadata": {
  "kernelspec": {
   "display_name": "Python 3",
   "language": "python",
   "name": "python3"
  },
  "language_info": {
   "codemirror_mode": {
    "name": "ipython",
    "version": 3
   },
   "file_extension": ".py",
   "mimetype": "text/x-python",
   "name": "python",
   "nbconvert_exporter": "python",
   "pygments_lexer": "ipython3",
   "version": "3.6.5"
  }
 },
 "nbformat": 4,
 "nbformat_minor": 2
}
