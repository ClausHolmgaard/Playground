{
 "cells": [
  {
   "cell_type": "code",
   "execution_count": 14,
   "metadata": {},
   "outputs": [],
   "source": [
    "import numpy as np\n",
    "import vtk\n",
    "from vtk.util import numpy_support"
   ]
  },
  {
   "cell_type": "code",
   "execution_count": 3,
   "metadata": {},
   "outputs": [
    {
     "data": {
      "text/plain": [
       "array([0.74509331, 0.40514182, 0.23229616])"
      ]
     },
     "execution_count": 3,
     "metadata": {},
     "output_type": "execute_result"
    }
   ],
   "source": [
    "np.random.rand(3)"
   ]
  },
  {
   "cell_type": "code",
   "execution_count": 22,
   "metadata": {},
   "outputs": [
    {
     "name": "stdout",
     "output_type": "stream",
     "text": [
      "[[0. 0. 0.]\n",
      " [0. 0. 0.]]\n",
      "[[-2.19336289  1.18899401 -4.10135012]\n",
      " [-3.20486487 -1.45474461  7.10648846]]\n"
     ]
    }
   ],
   "source": [
    "points = np.zeros((2, 3))\n",
    "print(points)\n",
    "for i in range(2):\n",
    "    points[i] = 20*(np.random.rand(3)-0.5)\n",
    "print(points)"
   ]
  },
  {
   "cell_type": "markdown",
   "metadata": {},
   "source": [
    "```\n",
    "vtkFloatArray (0x7f65dc414870)\n",
    "  Debug: Off\n",
    "  Modified Time: 67741\n",
    "  Reference Count: 2\n",
    "  Registered Events: (none)\n",
    "  Name: Points\n",
    "  Data type: float\n",
    "  Size: 24573\n",
    "  MaxId: 16673\n",
    "  NumberOfComponents: 3\n",
    "  Information: 0x7f65dc4144a0\n",
    "    Debug: Off\n",
    "    Modified Time: 67740\n",
    "    Reference Count: 1\n",
    "    Registered Events: (none)\n",
    "  Name: Points\n",
    "  Number Of Components: 3\n",
    "  Number Of Tuples: 5558\n",
    "  Size: 24573\n",
    "  MaxId: 16673\n",
    "  LookupTable: (none)\n",
    "```"
   ]
  },
  {
   "cell_type": "code",
   "execution_count": 27,
   "metadata": {},
   "outputs": [
    {
     "name": "stderr",
     "output_type": "stream",
     "text": [
      "/home/clh/anaconda3/lib/python3.6/site-packages/vtk/util/numpy_support.py:137: FutureWarning: Conversion of the second argument of issubdtype from `complex` to `np.complexfloating` is deprecated. In future, it will be treated as `np.complex128 == np.dtype(complex).type`.\n",
      "  assert not numpy.issubdtype(z.dtype, complex), \\\n"
     ]
    }
   ],
   "source": [
    "points_vtk = numpy_support.numpy_to_vtk(points.ravel(), deep=True, array_type=vtk.VTK_FLOAT)"
   ]
  },
  {
   "cell_type": "code",
   "execution_count": 28,
   "metadata": {},
   "outputs": [
    {
     "name": "stdout",
     "output_type": "stream",
     "text": [
      "vtkFloatArray (0x563d533cdc90)\n",
      "  Debug: Off\n",
      "  Modified Time: 110\n",
      "  Reference Count: 1\n",
      "  Registered Events: (none)\n",
      "  Name: (none)\n",
      "  Data type: float\n",
      "  Size: 6\n",
      "  MaxId: 5\n",
      "  NumberOfComponents: 1\n",
      "  Information: 0\n",
      "  Name: (none)\n",
      "  Number Of Components: 1\n",
      "  Number Of Tuples: 6\n",
      "  Size: 6\n",
      "  MaxId: 5\n",
      "  LookupTable: (none)\n",
      "\n",
      "\n"
     ]
    }
   ],
   "source": [
    "print(points_vtk)"
   ]
  }
 ],
 "metadata": {
  "kernelspec": {
   "display_name": "Python 3",
   "language": "python",
   "name": "python3"
  },
  "language_info": {
   "codemirror_mode": {
    "name": "ipython",
    "version": 3
   },
   "file_extension": ".py",
   "mimetype": "text/x-python",
   "name": "python",
   "nbconvert_exporter": "python",
   "pygments_lexer": "ipython3",
   "version": "3.6.5"
  }
 },
 "nbformat": 4,
 "nbformat_minor": 2
}
