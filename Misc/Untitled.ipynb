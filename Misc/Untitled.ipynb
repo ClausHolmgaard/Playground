{
 "cells": [
  {
   "cell_type": "markdown",
   "metadata": {},
   "source": [
    "https://www.reddit.com/r/classicwow/comments/a43hch/survey_results_subreddit_update/ <br>\n",
    "https://www.reddit.com/r/classicwow/comments/9yt514/world_of_warcraft_classic_census_and_demographics/"
   ]
  },
  {
   "cell_type": "code",
   "execution_count": 1,
   "metadata": {},
   "outputs": [],
   "source": [
    "import pandas as pd\n",
    "import matplotlib.pyplot as plt"
   ]
  },
  {
   "cell_type": "code",
   "execution_count": 2,
   "metadata": {},
   "outputs": [],
   "source": [
    "FACTION = 'Alliance'  # Alliance, Horde or All"
   ]
  },
  {
   "cell_type": "code",
   "execution_count": 3,
   "metadata": {},
   "outputs": [],
   "source": [
    "#file_path = r\"D:\\temp\\Copy of WoW_ Classic Census Survey Raw Results.csv\"\n",
    "file_path = r\"~/temp/Copy of WoW_ Classic Census Survey Raw Results_2.csv\"\n",
    "df = pd.read_csv(file_path)"
   ]
  },
  {
   "cell_type": "code",
   "execution_count": 4,
   "metadata": {
    "scrolled": true
   },
   "outputs": [
    {
     "data": {
      "text/html": [
       "<div>\n",
       "<style scoped>\n",
       "    .dataframe tbody tr th:only-of-type {\n",
       "        vertical-align: middle;\n",
       "    }\n",
       "\n",
       "    .dataframe tbody tr th {\n",
       "        vertical-align: top;\n",
       "    }\n",
       "\n",
       "    .dataframe thead th {\n",
       "        text-align: right;\n",
       "    }\n",
       "</style>\n",
       "<table border=\"1\" class=\"dataframe\">\n",
       "  <thead>\n",
       "    <tr style=\"text-align: right;\">\n",
       "      <th></th>\n",
       "      <th>Timestamp</th>\n",
       "      <th>What region will you be playing on?</th>\n",
       "      <th>What type of sever will you be playing on?</th>\n",
       "      <th>What faction will your character belong to?</th>\n",
       "      <th>What gender will your character be?</th>\n",
       "      <th>What race will your character be?</th>\n",
       "      <th>What class will your character be?</th>\n",
       "      <th>What will the primary role of your character be?</th>\n",
       "      <th>What primary professions will you be using while leveling from 1-60?</th>\n",
       "      <th>What primary professions will you be using at level 60?</th>\n",
       "      <th>What is your age?</th>\n",
       "      <th>Do you have an active World of Warcraft subscription?</th>\n",
       "      <th>What is the earliest retail World of Warcraft expansion you played?</th>\n",
       "      <th>What is the most recent retail World of Warcraft expansion you played?</th>\n",
       "      <th>Had you played on a Vanilla WoW private server, prior to Classic's announcement?</th>\n",
       "      <th>Will you roll the same class your previous main, or try a new one?</th>\n",
       "      <th>From the launch of Classic, how long do you anticipate it will take you, in real-world-time, to reach level 60?</th>\n",
       "      <th>What content are you most excited about?</th>\n",
       "    </tr>\n",
       "  </thead>\n",
       "  <tbody>\n",
       "    <tr>\n",
       "      <th>count</th>\n",
       "      <td>10175</td>\n",
       "      <td>10175</td>\n",
       "      <td>10175</td>\n",
       "      <td>10175</td>\n",
       "      <td>10175</td>\n",
       "      <td>10175</td>\n",
       "      <td>10175</td>\n",
       "      <td>10175</td>\n",
       "      <td>10175</td>\n",
       "      <td>10175</td>\n",
       "      <td>10175</td>\n",
       "      <td>10175</td>\n",
       "      <td>10175</td>\n",
       "      <td>10175</td>\n",
       "      <td>10175</td>\n",
       "      <td>10175</td>\n",
       "      <td>10175</td>\n",
       "      <td>10175</td>\n",
       "    </tr>\n",
       "    <tr>\n",
       "      <th>unique</th>\n",
       "      <td>10090</td>\n",
       "      <td>4</td>\n",
       "      <td>4</td>\n",
       "      <td>2</td>\n",
       "      <td>2</td>\n",
       "      <td>8</td>\n",
       "      <td>9</td>\n",
       "      <td>3</td>\n",
       "      <td>35</td>\n",
       "      <td>35</td>\n",
       "      <td>6</td>\n",
       "      <td>2</td>\n",
       "      <td>8</td>\n",
       "      <td>8</td>\n",
       "      <td>2</td>\n",
       "      <td>3</td>\n",
       "      <td>7</td>\n",
       "      <td>163</td>\n",
       "    </tr>\n",
       "    <tr>\n",
       "      <th>top</th>\n",
       "      <td>11/20/2018 16:57:56</td>\n",
       "      <td>Americas</td>\n",
       "      <td>PvP</td>\n",
       "      <td>For the Alliance!</td>\n",
       "      <td>Male</td>\n",
       "      <td>Human</td>\n",
       "      <td>Warrior</td>\n",
       "      <td>DPS</td>\n",
       "      <td>Alchemy, Herbalism</td>\n",
       "      <td>Alchemy, Herbalism</td>\n",
       "      <td>25 - 34</td>\n",
       "      <td>No</td>\n",
       "      <td>Vanilla</td>\n",
       "      <td>Battle for Azeroth</td>\n",
       "      <td>Yes</td>\n",
       "      <td>I will be rolling the same class as my previou...</td>\n",
       "      <td>1 - 2 months</td>\n",
       "      <td>Dungeons, Raids, Community Interactions</td>\n",
       "    </tr>\n",
       "    <tr>\n",
       "      <th>freq</th>\n",
       "      <td>3</td>\n",
       "      <td>5246</td>\n",
       "      <td>7219</td>\n",
       "      <td>5259</td>\n",
       "      <td>7434</td>\n",
       "      <td>2269</td>\n",
       "      <td>1816</td>\n",
       "      <td>6212</td>\n",
       "      <td>1690</td>\n",
       "      <td>2223</td>\n",
       "      <td>6261</td>\n",
       "      <td>7391</td>\n",
       "      <td>7245</td>\n",
       "      <td>5089</td>\n",
       "      <td>7274</td>\n",
       "      <td>4142</td>\n",
       "      <td>3409</td>\n",
       "      <td>614</td>\n",
       "    </tr>\n",
       "  </tbody>\n",
       "</table>\n",
       "</div>"
      ],
      "text/plain": [
       "                  Timestamp What region will you be playing on?  \\\n",
       "count                 10175                               10175   \n",
       "unique                10090                                   4   \n",
       "top     11/20/2018 16:57:56                            Americas   \n",
       "freq                      3                                5246   \n",
       "\n",
       "       What type of sever will you be playing on?  \\\n",
       "count                                       10175   \n",
       "unique                                          4   \n",
       "top                                           PvP   \n",
       "freq                                         7219   \n",
       "\n",
       "       What faction will your character belong to?  \\\n",
       "count                                        10175   \n",
       "unique                                           2   \n",
       "top                              For the Alliance!   \n",
       "freq                                          5259   \n",
       "\n",
       "       What gender will your character be? What race will your character be?  \\\n",
       "count                                10175                             10175   \n",
       "unique                                   2                                 8   \n",
       "top                                   Male                             Human   \n",
       "freq                                  7434                              2269   \n",
       "\n",
       "       What class will your character be?  \\\n",
       "count                               10175   \n",
       "unique                                  9   \n",
       "top                               Warrior   \n",
       "freq                                 1816   \n",
       "\n",
       "       What will the primary role of your character be?  \\\n",
       "count                                             10175   \n",
       "unique                                                3   \n",
       "top                                                 DPS   \n",
       "freq                                               6212   \n",
       "\n",
       "       What primary professions will you be using while leveling from 1-60?  \\\n",
       "count                                               10175                     \n",
       "unique                                                 35                     \n",
       "top                                    Alchemy, Herbalism                     \n",
       "freq                                                 1690                     \n",
       "\n",
       "       What primary professions will you be using at level 60?  \\\n",
       "count                                               10175        \n",
       "unique                                                 35        \n",
       "top                                    Alchemy, Herbalism        \n",
       "freq                                                 2223        \n",
       "\n",
       "       What is your age?  \\\n",
       "count              10175   \n",
       "unique                 6   \n",
       "top              25 - 34   \n",
       "freq                6261   \n",
       "\n",
       "       Do you have an active World of Warcraft subscription?  \\\n",
       "count                                               10175      \n",
       "unique                                                  2      \n",
       "top                                                    No      \n",
       "freq                                                 7391      \n",
       "\n",
       "       What is the earliest retail World of Warcraft expansion you played?  \\\n",
       "count                                               10175                    \n",
       "unique                                                  8                    \n",
       "top                                               Vanilla                    \n",
       "freq                                                 7245                    \n",
       "\n",
       "       What is the most recent retail World of Warcraft expansion you played?  \\\n",
       "count                                               10175                       \n",
       "unique                                                  8                       \n",
       "top                                    Battle for Azeroth                       \n",
       "freq                                                 5089                       \n",
       "\n",
       "       Had you played on a Vanilla WoW private server, prior to Classic's announcement?  \\\n",
       "count                                               10175                                 \n",
       "unique                                                  2                                 \n",
       "top                                                   Yes                                 \n",
       "freq                                                 7274                                 \n",
       "\n",
       "       Will you roll the same class your previous main, or try a new one?  \\\n",
       "count                                               10175                   \n",
       "unique                                                  3                   \n",
       "top     I will be rolling the same class as my previou...                   \n",
       "freq                                                 4142                   \n",
       "\n",
       "       From the launch of Classic, how long do you anticipate it will take you, in real-world-time, to reach level 60?  \\\n",
       "count                                               10175                                                                \n",
       "unique                                                  7                                                                \n",
       "top                                          1 - 2 months                                                                \n",
       "freq                                                 3409                                                                \n",
       "\n",
       "       What content are you most excited about?  \n",
       "count                                     10175  \n",
       "unique                                      163  \n",
       "top     Dungeons, Raids, Community Interactions  \n",
       "freq                                        614  "
      ]
     },
     "execution_count": 4,
     "metadata": {},
     "output_type": "execute_result"
    }
   ],
   "source": [
    "df.describe()"
   ]
  },
  {
   "cell_type": "code",
   "execution_count": 5,
   "metadata": {},
   "outputs": [],
   "source": [
    "df.rename(columns={'What region will you be playing on?': 'Region',\n",
    "                   'What type of sever will you be playing on?': 'ServerType',\n",
    "                   'What faction will your character belong to?': 'Faction',\n",
    "                   'What gender will your character be?': 'Gender', \n",
    "                   'What race will your character be?': 'Race',\n",
    "                   'What class will your character be?': 'Class',\n",
    "                   'What will the primary role of your character be?': 'Role',\n",
    "                   'What primary professions will you be using while leveling from 1-60?': 'Professions Below 60',\n",
    "                   'What primary professions will you be using at level 60?': 'Professions At 60',\n",
    "                   'What is your age?': 'Age',\n",
    "                   'Do you have an active World of Warcraft subscription?': 'Active Subscription',\n",
    "                   'What is the earliest retail World of Warcraft expansion you played?': 'Earliest Played',\n",
    "                   'What is the most recent retail World of Warcraft expansion you played?': 'Recent Played',\n",
    "                   'Had you played on a Vanilla WoW private server, prior to Classic\\'s announcement?': 'Private Server',\n",
    "                   'Will you roll the same class your previous main, or try a new one?': 'Same Main',\n",
    "                   'From the launch of Classic, how long do you anticipate it will take you, in real-world-time, to reach level 60?': 'Expected Time To 60',\n",
    "                   'What content are you most excited about?': 'Most Excited Content'\n",
    "                  },\n",
    "          inplace=True)"
   ]
  },
  {
   "cell_type": "code",
   "execution_count": 6,
   "metadata": {},
   "outputs": [
    {
     "name": "stdout",
     "output_type": "stream",
     "text": [
      "For the Alliance!    5259\n",
      "For the Horde!       4916\n",
      "Name: Faction, dtype: int64\n"
     ]
    }
   ],
   "source": [
    "print(df['Faction'].value_counts())\n",
    "df_alliance = df[df['Faction'].str.contains('Alliance')]\n",
    "df_horde = df[df['Faction'].str.contains('Horde')]"
   ]
  },
  {
   "cell_type": "code",
   "execution_count": 7,
   "metadata": {},
   "outputs": [
    {
     "data": {
      "image/png": "[encoded data removed]",
      "text/plain": [
       "<Figure size 1800x360 with 3 Axes>"
      ]
     },
     "metadata": {
      "needs_background": "light"
     },
     "output_type": "display_data"
    }
   ],
   "source": [
    "fig, axes = plt.subplots(1, 3, figsize=(25, 5))\n",
    "\n",
    "df['Class'].value_counts().plot(ax=axes[0],\n",
    "                                kind='bar',\n",
    "                                rot=45,\n",
    "                                color='b',\n",
    "                                title='Class distribution across factions')\n",
    "\n",
    "df_alliance['Class'].value_counts().plot(ax=axes[1],\n",
    "                                         kind='bar',\n",
    "                                         rot=45,\n",
    "                                         color='b',\n",
    "                                         title='Class distribution on alliance')\n",
    "\n",
    "df_horde['Class'].value_counts().plot(ax=axes[2],\n",
    "                                      kind='bar',\n",
    "                                      rot=45,\n",
    "                                      color='b',\n",
    "                                      title='Class distribution on horde')\n",
    "\n",
    "plt.show()"
   ]
  },
  {
   "cell_type": "markdown",
   "metadata": {},
   "source": [
    "Find percentage classes"
   ]
  },
  {
   "cell_type": "code",
   "execution_count": 8,
   "metadata": {},
   "outputs": [],
   "source": [
    "def get_class_percent(dataframe):\n",
    "    classes = dataframe['Class'].value_counts().keys().tolist()\n",
    "    num_all = dataframe.shape[0]\n",
    "    classes_fraction = {}\n",
    "    for c in classes:\n",
    "        num_class = dataframe['Class'][dataframe['Class']==c].count()\n",
    "        classes_fraction[c] = num_class / num_all\n",
    "    return classes_fraction\n",
    "    \n",
    "classes_fraction_alliance = get_class_percent(df_alliance)\n",
    "classes_fraction_horde = get_class_percent(df_horde)"
   ]
  },
  {
   "cell_type": "code",
   "execution_count": 9,
   "metadata": {},
   "outputs": [
    {
     "name": "stdout",
     "output_type": "stream",
     "text": [
      "Warrior: 18%\n",
      "Mage: 14%\n",
      "Paladin: 14%\n",
      "Priest: 13%\n",
      "Hunter: 11%\n",
      "Warlock: 10%\n",
      "Rogue: 10%\n",
      "Druid: 10%\n",
      "\n",
      "Warrior: 18%\n",
      "Shaman: 15%\n",
      "Warlock: 14%\n",
      "Mage: 13%\n",
      "Rogue: 12%\n",
      "Priest: 12%\n",
      "Druid: 8%\n",
      "Hunter: 8%\n"
     ]
    }
   ],
   "source": [
    "for k, v in classes_fraction_alliance.items():\n",
    "    print(f\"{k}: {v*100:.0f}%\")\n",
    "print()\n",
    "for k, v in classes_fraction_horde.items():\n",
    "    print(f\"{k}: {v*100:.0f}%\")"
   ]
  },
  {
   "cell_type": "code",
   "execution_count": 10,
   "metadata": {},
   "outputs": [
    {
     "data": {
      "image/png": "[encoded data removed]",
      "text/plain": [
       "<Figure size 1080x360 with 2 Axes>"
      ]
     },
     "metadata": {
      "needs_background": "light"
     },
     "output_type": "display_data"
    }
   ],
   "source": [
    "fig, axes = plt.subplots(1, 2, figsize=(15, 5))\n",
    "\n",
    "axes[0].set_title('Alliance')\n",
    "axes[0].bar(classes_fraction_alliance.keys(), classes_fraction_alliance.values())\n",
    "axes[1].set_title('Horde')\n",
    "axes[1].bar(classes_fraction_horde.keys(), classes_fraction_horde.values())\n",
    "\n",
    "for ax in axes:\n",
    "    for tick in ax.get_xticklabels():\n",
    "        tick.set_rotation(45)"
   ]
  },
  {
   "cell_type": "code",
   "execution_count": 11,
   "metadata": {},
   "outputs": [
    {
     "name": "stdout",
     "output_type": "stream",
     "text": [
      "Alliance raid size: 40\n",
      "Horde raid size: 40\n"
     ]
    }
   ],
   "source": [
    "raid_comp_alliance = {'Warrior': 8,\n",
    "                      'Rogue': 6,\n",
    "                      'Mage': 7,\n",
    "                      'Priest': 5,\n",
    "                      'Warlock': 4,\n",
    "                      'Hunter': 3,\n",
    "                      'Druid': 3,\n",
    "                      'Paladin': 4}\n",
    "\n",
    "raid_comp_horde = {'Warrior': 8,\n",
    "                  'Rogue': 6,\n",
    "                  'Mage': 8,\n",
    "                  'Priest': 5,\n",
    "                  'Warlock': 4,\n",
    "                  'Hunter': 2,\n",
    "                  'Druid': 2,\n",
    "                  'Shaman': 5}\n",
    "\n",
    "print(f\"Alliance raid size: {sum(raid_comp_alliance.values())}\")\n",
    "print(f\"Horde raid size: {sum(raid_comp_horde.values())}\")"
   ]
  },
  {
   "cell_type": "code",
   "execution_count": 12,
   "metadata": {},
   "outputs": [],
   "source": [
    "def get_raid_comp_fraction(raid_dict):\n",
    "    raid_fraction = {}\n",
    "    tot_sum = sum(raid_dict.values())\n",
    "    for c, v in raid_dict.items():\n",
    "        raid_fraction[c] = v / tot_sum\n",
    "    return raid_fraction\n",
    "\n",
    "raid_fraction_alliance = get_raid_comp_fraction(raid_comp_alliance)\n",
    "raid_fraction_horde = get_raid_comp_fraction(raid_comp_horde)"
   ]
  },
  {
   "cell_type": "code",
   "execution_count": 13,
   "metadata": {},
   "outputs": [
    {
     "data": {
      "text/plain": [
       "<matplotlib.axes._subplots.AxesSubplot at 0x7fa2f0e34240>"
      ]
     },
     "execution_count": 13,
     "metadata": {},
     "output_type": "execute_result"
    },
    {
     "data": {
      "image/png": "[encoded data removed]",
      "text/plain": [
       "<Figure size 1080x360 with 2 Axes>"
      ]
     },
     "metadata": {
      "needs_background": "light"
     },
     "output_type": "display_data"
    }
   ],
   "source": [
    "raid_list_alliance = []\n",
    "player_list_alliance = []\n",
    "classes_list_alliance = sorted(list(classes_fraction_alliance.keys()))\n",
    "\n",
    "raid_list_horde = []\n",
    "player_list_horde = []\n",
    "classes_list_horde = sorted(list(classes_fraction_horde.keys()))\n",
    "\n",
    "for c in classes_list_alliance:\n",
    "    raid_list_alliance.append(raid_fraction_alliance[c])\n",
    "    player_list_alliance.append(classes_fraction_alliance[c])\n",
    "\n",
    "for c in classes_list_horde:\n",
    "    raid_list_horde.append(raid_fraction_horde[c])\n",
    "    player_list_horde.append(classes_fraction_horde[c])\n",
    "\n",
    "df_a = pd.DataFrame({'Players': player_list_alliance,\n",
    "                     'Raid': raid_list_alliance},\n",
    "                    index=classes_list_alliance)\n",
    "\n",
    "df_h = pd.DataFrame({'Players': player_list_horde,\n",
    "                     'Raid': raid_list_horde},\n",
    "                    index=classes_list_horde)\n",
    "\n",
    "fig, axes = plt.subplots(1, 2, figsize=(15, 5))\n",
    "axes[0].set_title('Alliance')\n",
    "df_a.plot.bar(ax=axes[0], rot=45)\n",
    "axes[1].set_title('Horde')\n",
    "df_h.plot.bar(ax=axes[1], rot=45)"
   ]
  }
 ],
 "metadata": {
  "kernelspec": {
   "display_name": "Python 3",
   "language": "python",
   "name": "python3"
  },
  "language_info": {
   "codemirror_mode": {
    "name": "ipython",
    "version": 3
   },
   "file_extension": ".py",
   "mimetype": "text/x-python",
   "name": "python",
   "nbconvert_exporter": "python",
   "pygments_lexer": "ipython3",
   "version": "3.6.8"
  }
 },
 "nbformat": 4,
 "nbformat_minor": 2
}
