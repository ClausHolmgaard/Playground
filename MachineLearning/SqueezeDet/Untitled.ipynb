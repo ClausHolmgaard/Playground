{
 "cells": [
  {
   "cell_type": "code",
   "execution_count": 1,
   "metadata": {},
   "outputs": [
    {
     "name": "stderr",
     "output_type": "stream",
     "text": [
      "Using TensorFlow backend.\n"
     ]
    }
   ],
   "source": [
    "import numpy as np\n",
    "import os\n",
    "from keras import optimizers"
   ]
  },
  {
   "cell_type": "code",
   "execution_count": 2,
   "metadata": {},
   "outputs": [],
   "source": [
    "from Models.PoolingAndFire import create_model, create_loss_function\n",
    "from PreProcess import data_generator, get_num_samples\n",
    "from GenerateData import generate_data"
   ]
  },
  {
   "cell_type": "code",
   "execution_count": 3,
   "metadata": {},
   "outputs": [],
   "source": [
    "DATA_DIR = r\"./data\""
   ]
  },
  {
   "cell_type": "code",
   "execution_count": 4,
   "metadata": {},
   "outputs": [],
   "source": [
    "BATCHSIZE = 16\n",
    "EPSILON = 1e-16\n",
    "\n",
    "WEIGHT_DECAY = 0 # 0.001\n",
    "KEEP_PROB = 0.5\n",
    "CLASSES = 1\n",
    "\n",
    "LABEL_WEIGHT = 1.0\n",
    "OFFSET_LOSS_WEIGHT = 1.0\n",
    "OFFSET_WEIGHT = 40.0\n",
    "\n",
    "HEIGHT = 320\n",
    "WIDTH = 320\n",
    "CHANNELS = 3\n",
    "\n",
    "VALIDATION_SPLIT = 0.3"
   ]
  },
  {
   "cell_type": "code",
   "execution_count": 5,
   "metadata": {},
   "outputs": [
    {
     "name": "stdout",
     "output_type": "stream",
     "text": [
      "Generating data in: ./data\n"
     ]
    }
   ],
   "source": [
    "generate_data(DATA_DIR, WIDTH, HEIGHT, box_min=50, box_max=100, num_images=1000)"
   ]
  },
  {
   "cell_type": "code",
   "execution_count": 6,
   "metadata": {},
   "outputs": [
    {
     "name": "stdout",
     "output_type": "stream",
     "text": [
      "Needed anchor shape: 20x20\n"
     ]
    }
   ],
   "source": [
    "model = create_model(320, 320, 3)\n",
    "out_shape = model.output_shape\n",
    "anchor_width = out_shape[1]\n",
    "anchor_height = out_shape[2]\n",
    "print(f\"Needed anchor shape: {anchor_width}x{anchor_height}\")"
   ]
  },
  {
   "cell_type": "code",
   "execution_count": 7,
   "metadata": {
    "scrolled": true
   },
   "outputs": [
    {
     "name": "stdout",
     "output_type": "stream",
     "text": [
      "__________________________________________________________________________________________________\n",
      "Layer (type)                    Output Shape         Param #     Connected to                     \n",
      "==================================================================================================\n",
      "input (InputLayer)              (None, 320, 320, 3)  0                                            \n",
      "__________________________________________________________________________________________________\n",
      "conv1 (Conv2D)                  (None, 160, 160, 128 3456        input[0][0]                      \n",
      "__________________________________________________________________________________________________\n",
      "bn (BatchNormalization)         (None, 160, 160, 128 512         conv1[0][0]                      \n",
      "__________________________________________________________________________________________________\n",
      "act (Activation)                (None, 160, 160, 128 0           bn[0][0]                         \n",
      "__________________________________________________________________________________________________\n",
      "pool1 (MaxPooling2D)            (None, 80, 80, 128)  0           act[0][0]                        \n",
      "__________________________________________________________________________________________________\n",
      "fire1_1/squeeze1x1 (Conv2D)     (None, 80, 80, 32)   4096        pool1[0][0]                      \n",
      "__________________________________________________________________________________________________\n",
      "fire1_1/bn1 (BatchNormalization (None, 80, 80, 32)   128         fire1_1/squeeze1x1[0][0]         \n",
      "__________________________________________________________________________________________________\n",
      "fire1_1/act1 (Activation)       (None, 80, 80, 32)   0           fire1_1/bn1[0][0]                \n",
      "__________________________________________________________________________________________________\n",
      "fire1_1/expand1x1 (Conv2D)      (None, 80, 80, 128)  4096        fire1_1/act1[0][0]               \n",
      "__________________________________________________________________________________________________\n",
      "fire1_1/bn2 (BatchNormalization (None, 80, 80, 128)  512         fire1_1/expand1x1[0][0]          \n",
      "__________________________________________________________________________________________________\n",
      "fire1_1/act2 (Activation)       (None, 80, 80, 128)  0           fire1_1/bn2[0][0]                \n",
      "__________________________________________________________________________________________________\n",
      "fire1_1/expand3x3 (Conv2D)      (None, 80, 80, 128)  147456      fire1_1/act2[0][0]               \n",
      "__________________________________________________________________________________________________\n",
      "fire1_1/bn3 (BatchNormalization (None, 80, 80, 128)  512         fire1_1/expand3x3[0][0]          \n",
      "__________________________________________________________________________________________________\n",
      "fire1_1/act3 (Activation)       (None, 80, 80, 128)  0           fire1_1/bn3[0][0]                \n",
      "__________________________________________________________________________________________________\n",
      "concatenate_1 (Concatenate)     (None, 80, 80, 256)  0           fire1_1/act2[0][0]               \n",
      "                                                                 fire1_1/act3[0][0]               \n",
      "__________________________________________________________________________________________________\n",
      "fire1_2/squeeze1x1 (Conv2D)     (None, 80, 80, 32)   8192        concatenate_1[0][0]              \n",
      "__________________________________________________________________________________________________\n",
      "fire1_2/bn1 (BatchNormalization (None, 80, 80, 32)   128         fire1_2/squeeze1x1[0][0]         \n",
      "__________________________________________________________________________________________________\n",
      "fire1_2/act1 (Activation)       (None, 80, 80, 32)   0           fire1_2/bn1[0][0]                \n",
      "__________________________________________________________________________________________________\n",
      "fire1_2/expand1x1 (Conv2D)      (None, 80, 80, 128)  4096        fire1_2/act1[0][0]               \n",
      "__________________________________________________________________________________________________\n",
      "fire1_2/bn2 (BatchNormalization (None, 80, 80, 128)  512         fire1_2/expand1x1[0][0]          \n",
      "__________________________________________________________________________________________________\n",
      "fire1_2/act2 (Activation)       (None, 80, 80, 128)  0           fire1_2/bn2[0][0]                \n",
      "__________________________________________________________________________________________________\n",
      "fire1_2/expand3x3 (Conv2D)      (None, 80, 80, 128)  147456      fire1_2/act2[0][0]               \n",
      "__________________________________________________________________________________________________\n",
      "fire1_2/bn3 (BatchNormalization (None, 80, 80, 128)  512         fire1_2/expand3x3[0][0]          \n",
      "__________________________________________________________________________________________________\n",
      "fire1_2/act3 (Activation)       (None, 80, 80, 128)  0           fire1_2/bn3[0][0]                \n",
      "__________________________________________________________________________________________________\n",
      "concatenate_2 (Concatenate)     (None, 80, 80, 256)  0           fire1_2/act2[0][0]               \n",
      "                                                                 fire1_2/act3[0][0]               \n",
      "__________________________________________________________________________________________________\n",
      "pool2 (MaxPooling2D)            (None, 40, 40, 256)  0           concatenate_2[0][0]              \n",
      "__________________________________________________________________________________________________\n",
      "fire2_1/squeeze1x1 (Conv2D)     (None, 40, 40, 48)   12288       pool2[0][0]                      \n",
      "__________________________________________________________________________________________________\n",
      "fire2_1/bn1 (BatchNormalization (None, 40, 40, 48)   192         fire2_1/squeeze1x1[0][0]         \n",
      "__________________________________________________________________________________________________\n",
      "fire2_1/act1 (Activation)       (None, 40, 40, 48)   0           fire2_1/bn1[0][0]                \n",
      "__________________________________________________________________________________________________\n",
      "fire2_1/expand1x1 (Conv2D)      (None, 40, 40, 192)  9216        fire2_1/act1[0][0]               \n",
      "__________________________________________________________________________________________________\n",
      "fire2_1/bn2 (BatchNormalization (None, 40, 40, 192)  768         fire2_1/expand1x1[0][0]          \n",
      "__________________________________________________________________________________________________\n",
      "fire2_1/act2 (Activation)       (None, 40, 40, 192)  0           fire2_1/bn2[0][0]                \n",
      "__________________________________________________________________________________________________\n",
      "fire2_1/expand3x3 (Conv2D)      (None, 40, 40, 192)  331776      fire2_1/act2[0][0]               \n",
      "__________________________________________________________________________________________________\n",
      "fire2_1/bn3 (BatchNormalization (None, 40, 40, 192)  768         fire2_1/expand3x3[0][0]          \n",
      "__________________________________________________________________________________________________\n",
      "fire2_1/act3 (Activation)       (None, 40, 40, 192)  0           fire2_1/bn3[0][0]                \n",
      "__________________________________________________________________________________________________\n",
      "concatenate_3 (Concatenate)     (None, 40, 40, 384)  0           fire2_1/act2[0][0]               \n",
      "                                                                 fire2_1/act3[0][0]               \n",
      "__________________________________________________________________________________________________\n",
      "fire2_2/squeeze1x1 (Conv2D)     (None, 40, 40, 48)   18432       concatenate_3[0][0]              \n",
      "__________________________________________________________________________________________________\n",
      "fire2_2/bn1 (BatchNormalization (None, 40, 40, 48)   192         fire2_2/squeeze1x1[0][0]         \n",
      "__________________________________________________________________________________________________\n",
      "fire2_2/act1 (Activation)       (None, 40, 40, 48)   0           fire2_2/bn1[0][0]                \n",
      "__________________________________________________________________________________________________\n",
      "fire2_2/expand1x1 (Conv2D)      (None, 40, 40, 192)  9216        fire2_2/act1[0][0]               \n",
      "__________________________________________________________________________________________________\n",
      "fire2_2/bn2 (BatchNormalization (None, 40, 40, 192)  768         fire2_2/expand1x1[0][0]          \n",
      "__________________________________________________________________________________________________\n",
      "fire2_2/act2 (Activation)       (None, 40, 40, 192)  0           fire2_2/bn2[0][0]                \n",
      "__________________________________________________________________________________________________\n",
      "fire2_2/expand3x3 (Conv2D)      (None, 40, 40, 192)  331776      fire2_2/act2[0][0]               \n",
      "__________________________________________________________________________________________________\n",
      "fire2_2/bn3 (BatchNormalization (None, 40, 40, 192)  768         fire2_2/expand3x3[0][0]          \n",
      "__________________________________________________________________________________________________\n",
      "fire2_2/act3 (Activation)       (None, 40, 40, 192)  0           fire2_2/bn3[0][0]                \n",
      "__________________________________________________________________________________________________\n",
      "concatenate_4 (Concatenate)     (None, 40, 40, 384)  0           fire2_2/act2[0][0]               \n",
      "                                                                 fire2_2/act3[0][0]               \n",
      "__________________________________________________________________________________________________\n",
      "pool3 (MaxPooling2D)            (None, 20, 20, 384)  0           concatenate_4[0][0]              \n",
      "__________________________________________________________________________________________________\n",
      "fire3_1/squeeze1x1 (Conv2D)     (None, 20, 20, 48)   18432       pool3[0][0]                      \n",
      "__________________________________________________________________________________________________\n",
      "fire3_1/bn1 (BatchNormalization (None, 20, 20, 48)   192         fire3_1/squeeze1x1[0][0]         \n",
      "__________________________________________________________________________________________________\n",
      "fire3_1/act1 (Activation)       (None, 20, 20, 48)   0           fire3_1/bn1[0][0]                \n",
      "__________________________________________________________________________________________________\n",
      "fire3_1/expand1x1 (Conv2D)      (None, 20, 20, 192)  9216        fire3_1/act1[0][0]               \n",
      "__________________________________________________________________________________________________\n",
      "fire3_1/bn2 (BatchNormalization (None, 20, 20, 192)  768         fire3_1/expand1x1[0][0]          \n",
      "__________________________________________________________________________________________________\n",
      "fire3_1/act2 (Activation)       (None, 20, 20, 192)  0           fire3_1/bn2[0][0]                \n",
      "__________________________________________________________________________________________________\n",
      "fire3_1/expand3x3 (Conv2D)      (None, 20, 20, 192)  331776      fire3_1/act2[0][0]               \n",
      "__________________________________________________________________________________________________\n",
      "fire3_1/bn3 (BatchNormalization (None, 20, 20, 192)  768         fire3_1/expand3x3[0][0]          \n",
      "__________________________________________________________________________________________________\n",
      "fire3_1/act3 (Activation)       (None, 20, 20, 192)  0           fire3_1/bn3[0][0]                \n",
      "__________________________________________________________________________________________________\n",
      "concatenate_5 (Concatenate)     (None, 20, 20, 384)  0           fire3_1/act2[0][0]               \n",
      "                                                                 fire3_1/act3[0][0]               \n",
      "__________________________________________________________________________________________________\n",
      "fire3_2/squeeze1x1 (Conv2D)     (None, 20, 20, 48)   18432       concatenate_5[0][0]              \n",
      "__________________________________________________________________________________________________\n",
      "fire3_2/bn1 (BatchNormalization (None, 20, 20, 48)   192         fire3_2/squeeze1x1[0][0]         \n",
      "__________________________________________________________________________________________________\n",
      "fire3_2/act1 (Activation)       (None, 20, 20, 48)   0           fire3_2/bn1[0][0]                \n",
      "__________________________________________________________________________________________________\n",
      "fire3_2/expand1x1 (Conv2D)      (None, 20, 20, 192)  9216        fire3_2/act1[0][0]               \n",
      "__________________________________________________________________________________________________\n",
      "fire3_2/bn2 (BatchNormalization (None, 20, 20, 192)  768         fire3_2/expand1x1[0][0]          \n",
      "__________________________________________________________________________________________________\n",
      "fire3_2/act2 (Activation)       (None, 20, 20, 192)  0           fire3_2/bn2[0][0]                \n",
      "__________________________________________________________________________________________________\n",
      "fire3_2/expand3x3 (Conv2D)      (None, 20, 20, 192)  331776      fire3_2/act2[0][0]               \n",
      "__________________________________________________________________________________________________\n",
      "fire3_2/bn3 (BatchNormalization (None, 20, 20, 192)  768         fire3_2/expand3x3[0][0]          \n",
      "__________________________________________________________________________________________________\n",
      "fire3_2/act3 (Activation)       (None, 20, 20, 192)  0           fire3_2/bn3[0][0]                \n",
      "__________________________________________________________________________________________________\n",
      "concatenate_6 (Concatenate)     (None, 20, 20, 384)  0           fire3_2/act2[0][0]               \n",
      "                                                                 fire3_2/act3[0][0]               \n",
      "__________________________________________________________________________________________________\n",
      "pred_conf (Conv2D)              (None, 20, 20, 1)    385         concatenate_6[0][0]              \n",
      "__________________________________________________________________________________________________\n",
      "pred_offset (Conv2D)            (None, 20, 20, 2)    770         concatenate_6[0][0]              \n",
      "__________________________________________________________________________________________________\n",
      "concatenate_7 (Concatenate)     (None, 20, 20, 3)    0           pred_conf[0][0]                  \n",
      "                                                                 pred_offset[0][0]                \n",
      "==================================================================================================\n",
      "Total params: 1,761,283\n",
      "Trainable params: 1,756,419\n",
      "Non-trainable params: 4,864\n",
      "__________________________________________________________________________________________________\n"
     ]
    }
   ],
   "source": [
    "model.summary()"
   ]
  },
  {
   "cell_type": "code",
   "execution_count": 8,
   "metadata": {},
   "outputs": [],
   "source": [
    "l = create_loss_function(anchor_width,\n",
    "                         anchor_height,\n",
    "                         LABEL_WEIGHT,\n",
    "                         OFFSET_WEIGHT,\n",
    "                         OFFSET_LOSS_WEIGHT,\n",
    "                         EPSILON)"
   ]
  },
  {
   "cell_type": "code",
   "execution_count": 9,
   "metadata": {},
   "outputs": [
    {
     "name": "stdout",
     "output_type": "stream",
     "text": [
      "Number of sampels: 1000\n",
      "Steps per epoch: 62\n"
     ]
    }
   ],
   "source": [
    "num_samples = get_num_samples(DATA_DIR)\n",
    "print(f\"Number of sampels: {num_samples}\")\n",
    "steps_epoch = num_samples // BATCHSIZE\n",
    "if steps_epoch < 1:\n",
    "    steps_epoch = 1\n",
    "print(f\"Steps per epoch: {steps_epoch}\")"
   ]
  },
  {
   "cell_type": "code",
   "execution_count": 10,
   "metadata": {},
   "outputs": [],
   "source": [
    "opt = optimizers.Adam(lr=1e-4, decay=1e-4)\n",
    "model.compile(loss=l, optimizer=opt)"
   ]
  },
  {
   "cell_type": "code",
   "execution_count": 11,
   "metadata": {
    "scrolled": true
   },
   "outputs": [
    {
     "name": "stdout",
     "output_type": "stream",
     "text": [
      "Epoch 1/1000\n",
      "62/62 [==============================] - 40s 650ms/step - loss: 30.2188\n",
      "Epoch 2/1000\n",
      "62/62 [==============================] - 33s 535ms/step - loss: 17.9093\n",
      "Epoch 3/1000\n",
      "62/62 [==============================] - 33s 533ms/step - loss: 15.1765\n",
      "Epoch 4/1000\n",
      "62/62 [==============================] - 33s 534ms/step - loss: 12.4605\n",
      "Epoch 5/1000\n",
      "62/62 [==============================] - 33s 534ms/step - loss: 10.5809\n",
      "Epoch 6/1000\n",
      "62/62 [==============================] - 33s 533ms/step - loss: 9.5133\n",
      "Epoch 7/1000\n",
      "62/62 [==============================] - 33s 534ms/step - loss: 8.2038\n",
      "Epoch 8/1000\n",
      "62/62 [==============================] - 33s 533ms/step - loss: 7.9626\n",
      "Epoch 9/1000\n",
      "62/62 [==============================] - 33s 534ms/step - loss: 7.8649\n",
      "Epoch 10/1000\n",
      "62/62 [==============================] - 33s 534ms/step - loss: 7.2961\n",
      "Epoch 11/1000\n",
      "62/62 [==============================] - 33s 533ms/step - loss: 6.7516\n",
      "Epoch 12/1000\n",
      "62/62 [==============================] - 33s 534ms/step - loss: 6.8723\n",
      "Epoch 13/1000\n",
      "62/62 [==============================] - 34s 544ms/step - loss: 6.3265\n",
      "Epoch 14/1000\n",
      " 3/62 [>.............................] - ETA: 31s - loss: 6.1660"
     ]
    },
    {
     "ename": "KeyboardInterrupt",
     "evalue": "",
     "output_type": "error",
     "traceback": [
      "\u001b[0;31m---------------------------------------------------------------------------\u001b[0m",
      "\u001b[0;31mKeyboardInterrupt\u001b[0m                         Traceback (most recent call last)",
      "\u001b[0;32m<ipython-input-11-9ff8d75aa48d>\u001b[0m in \u001b[0;36m<module>\u001b[0;34m\u001b[0m\n\u001b[1;32m      2\u001b[0m                     \u001b[0msteps_per_epoch\u001b[0m\u001b[0;34m=\u001b[0m\u001b[0msteps_epoch\u001b[0m\u001b[0;34m,\u001b[0m\u001b[0;34m\u001b[0m\u001b[0m\n\u001b[1;32m      3\u001b[0m                     \u001b[0mepochs\u001b[0m\u001b[0;34m=\u001b[0m\u001b[0;36m1000\u001b[0m\u001b[0;34m,\u001b[0m\u001b[0;34m\u001b[0m\u001b[0m\n\u001b[0;32m----> 4\u001b[0;31m                     verbose=1)\n\u001b[0m",
      "\u001b[0;32m~/anaconda3/lib/python3.6/site-packages/keras/legacy/interfaces.py\u001b[0m in \u001b[0;36mwrapper\u001b[0;34m(*args, **kwargs)\u001b[0m\n\u001b[1;32m     89\u001b[0m                 warnings.warn('Update your `' + object_name + '` call to the ' +\n\u001b[1;32m     90\u001b[0m                               'Keras 2 API: ' + signature, stacklevel=2)\n\u001b[0;32m---> 91\u001b[0;31m             \u001b[0;32mreturn\u001b[0m \u001b[0mfunc\u001b[0m\u001b[0;34m(\u001b[0m\u001b[0;34m*\u001b[0m\u001b[0margs\u001b[0m\u001b[0;34m,\u001b[0m \u001b[0;34m**\u001b[0m\u001b[0mkwargs\u001b[0m\u001b[0;34m)\u001b[0m\u001b[0;34m\u001b[0m\u001b[0m\n\u001b[0m\u001b[1;32m     92\u001b[0m         \u001b[0mwrapper\u001b[0m\u001b[0;34m.\u001b[0m\u001b[0m_original_function\u001b[0m \u001b[0;34m=\u001b[0m \u001b[0mfunc\u001b[0m\u001b[0;34m\u001b[0m\u001b[0m\n\u001b[1;32m     93\u001b[0m         \u001b[0;32mreturn\u001b[0m \u001b[0mwrapper\u001b[0m\u001b[0;34m\u001b[0m\u001b[0m\n",
      "\u001b[0;32m~/anaconda3/lib/python3.6/site-packages/keras/engine/training.py\u001b[0m in \u001b[0;36mfit_generator\u001b[0;34m(self, generator, steps_per_epoch, epochs, verbose, callbacks, validation_data, validation_steps, class_weight, max_queue_size, workers, use_multiprocessing, shuffle, initial_epoch)\u001b[0m\n\u001b[1;32m   1416\u001b[0m             \u001b[0muse_multiprocessing\u001b[0m\u001b[0;34m=\u001b[0m\u001b[0muse_multiprocessing\u001b[0m\u001b[0;34m,\u001b[0m\u001b[0;34m\u001b[0m\u001b[0m\n\u001b[1;32m   1417\u001b[0m             \u001b[0mshuffle\u001b[0m\u001b[0;34m=\u001b[0m\u001b[0mshuffle\u001b[0m\u001b[0;34m,\u001b[0m\u001b[0;34m\u001b[0m\u001b[0m\n\u001b[0;32m-> 1418\u001b[0;31m             initial_epoch=initial_epoch)\n\u001b[0m\u001b[1;32m   1419\u001b[0m \u001b[0;34m\u001b[0m\u001b[0m\n\u001b[1;32m   1420\u001b[0m     \u001b[0;34m@\u001b[0m\u001b[0minterfaces\u001b[0m\u001b[0;34m.\u001b[0m\u001b[0mlegacy_generator_methods_support\u001b[0m\u001b[0;34m\u001b[0m\u001b[0m\n",
      "\u001b[0;32m~/anaconda3/lib/python3.6/site-packages/keras/engine/training_generator.py\u001b[0m in \u001b[0;36mfit_generator\u001b[0;34m(model, generator, steps_per_epoch, epochs, verbose, callbacks, validation_data, validation_steps, class_weight, max_queue_size, workers, use_multiprocessing, shuffle, initial_epoch)\u001b[0m\n\u001b[1;32m    215\u001b[0m                 outs = model.train_on_batch(x, y,\n\u001b[1;32m    216\u001b[0m                                             \u001b[0msample_weight\u001b[0m\u001b[0;34m=\u001b[0m\u001b[0msample_weight\u001b[0m\u001b[0;34m,\u001b[0m\u001b[0;34m\u001b[0m\u001b[0m\n\u001b[0;32m--> 217\u001b[0;31m                                             class_weight=class_weight)\n\u001b[0m\u001b[1;32m    218\u001b[0m \u001b[0;34m\u001b[0m\u001b[0m\n\u001b[1;32m    219\u001b[0m                 \u001b[0mouts\u001b[0m \u001b[0;34m=\u001b[0m \u001b[0mto_list\u001b[0m\u001b[0;34m(\u001b[0m\u001b[0mouts\u001b[0m\u001b[0;34m)\u001b[0m\u001b[0;34m\u001b[0m\u001b[0m\n",
      "\u001b[0;32m~/anaconda3/lib/python3.6/site-packages/keras/engine/training.py\u001b[0m in \u001b[0;36mtrain_on_batch\u001b[0;34m(self, x, y, sample_weight, class_weight)\u001b[0m\n\u001b[1;32m   1215\u001b[0m             \u001b[0mins\u001b[0m \u001b[0;34m=\u001b[0m \u001b[0mx\u001b[0m \u001b[0;34m+\u001b[0m \u001b[0my\u001b[0m \u001b[0;34m+\u001b[0m \u001b[0msample_weights\u001b[0m\u001b[0;34m\u001b[0m\u001b[0m\n\u001b[1;32m   1216\u001b[0m         \u001b[0mself\u001b[0m\u001b[0;34m.\u001b[0m\u001b[0m_make_train_function\u001b[0m\u001b[0;34m(\u001b[0m\u001b[0;34m)\u001b[0m\u001b[0;34m\u001b[0m\u001b[0m\n\u001b[0;32m-> 1217\u001b[0;31m         \u001b[0moutputs\u001b[0m \u001b[0;34m=\u001b[0m \u001b[0mself\u001b[0m\u001b[0;34m.\u001b[0m\u001b[0mtrain_function\u001b[0m\u001b[0;34m(\u001b[0m\u001b[0mins\u001b[0m\u001b[0;34m)\u001b[0m\u001b[0;34m\u001b[0m\u001b[0m\n\u001b[0m\u001b[1;32m   1218\u001b[0m         \u001b[0;32mreturn\u001b[0m \u001b[0munpack_singleton\u001b[0m\u001b[0;34m(\u001b[0m\u001b[0moutputs\u001b[0m\u001b[0;34m)\u001b[0m\u001b[0;34m\u001b[0m\u001b[0m\n\u001b[1;32m   1219\u001b[0m \u001b[0;34m\u001b[0m\u001b[0m\n",
      "\u001b[0;32m~/anaconda3/lib/python3.6/site-packages/keras/backend/tensorflow_backend.py\u001b[0m in \u001b[0;36m__call__\u001b[0;34m(self, inputs)\u001b[0m\n\u001b[1;32m   2713\u001b[0m                 \u001b[0;32mreturn\u001b[0m \u001b[0mself\u001b[0m\u001b[0;34m.\u001b[0m\u001b[0m_legacy_call\u001b[0m\u001b[0;34m(\u001b[0m\u001b[0minputs\u001b[0m\u001b[0;34m)\u001b[0m\u001b[0;34m\u001b[0m\u001b[0m\n\u001b[1;32m   2714\u001b[0m \u001b[0;34m\u001b[0m\u001b[0m\n\u001b[0;32m-> 2715\u001b[0;31m             \u001b[0;32mreturn\u001b[0m \u001b[0mself\u001b[0m\u001b[0;34m.\u001b[0m\u001b[0m_call\u001b[0m\u001b[0;34m(\u001b[0m\u001b[0minputs\u001b[0m\u001b[0;34m)\u001b[0m\u001b[0;34m\u001b[0m\u001b[0m\n\u001b[0m\u001b[1;32m   2716\u001b[0m         \u001b[0;32melse\u001b[0m\u001b[0;34m:\u001b[0m\u001b[0;34m\u001b[0m\u001b[0m\n\u001b[1;32m   2717\u001b[0m             \u001b[0;32mif\u001b[0m \u001b[0mpy_any\u001b[0m\u001b[0;34m(\u001b[0m\u001b[0mis_tensor\u001b[0m\u001b[0;34m(\u001b[0m\u001b[0mx\u001b[0m\u001b[0;34m)\u001b[0m \u001b[0;32mfor\u001b[0m \u001b[0mx\u001b[0m \u001b[0;32min\u001b[0m \u001b[0minputs\u001b[0m\u001b[0;34m)\u001b[0m\u001b[0;34m:\u001b[0m\u001b[0;34m\u001b[0m\u001b[0m\n",
      "\u001b[0;32m~/anaconda3/lib/python3.6/site-packages/keras/backend/tensorflow_backend.py\u001b[0m in \u001b[0;36m_call\u001b[0;34m(self, inputs)\u001b[0m\n\u001b[1;32m   2673\u001b[0m             \u001b[0mfetched\u001b[0m \u001b[0;34m=\u001b[0m \u001b[0mself\u001b[0m\u001b[0;34m.\u001b[0m\u001b[0m_callable_fn\u001b[0m\u001b[0;34m(\u001b[0m\u001b[0;34m*\u001b[0m\u001b[0marray_vals\u001b[0m\u001b[0;34m,\u001b[0m \u001b[0mrun_metadata\u001b[0m\u001b[0;34m=\u001b[0m\u001b[0mself\u001b[0m\u001b[0;34m.\u001b[0m\u001b[0mrun_metadata\u001b[0m\u001b[0;34m)\u001b[0m\u001b[0;34m\u001b[0m\u001b[0m\n\u001b[1;32m   2674\u001b[0m         \u001b[0;32melse\u001b[0m\u001b[0;34m:\u001b[0m\u001b[0;34m\u001b[0m\u001b[0m\n\u001b[0;32m-> 2675\u001b[0;31m             \u001b[0mfetched\u001b[0m \u001b[0;34m=\u001b[0m \u001b[0mself\u001b[0m\u001b[0;34m.\u001b[0m\u001b[0m_callable_fn\u001b[0m\u001b[0;34m(\u001b[0m\u001b[0;34m*\u001b[0m\u001b[0marray_vals\u001b[0m\u001b[0;34m)\u001b[0m\u001b[0;34m\u001b[0m\u001b[0m\n\u001b[0m\u001b[1;32m   2676\u001b[0m         \u001b[0;32mreturn\u001b[0m \u001b[0mfetched\u001b[0m\u001b[0;34m[\u001b[0m\u001b[0;34m:\u001b[0m\u001b[0mlen\u001b[0m\u001b[0;34m(\u001b[0m\u001b[0mself\u001b[0m\u001b[0;34m.\u001b[0m\u001b[0moutputs\u001b[0m\u001b[0;34m)\u001b[0m\u001b[0;34m]\u001b[0m\u001b[0;34m\u001b[0m\u001b[0m\n\u001b[1;32m   2677\u001b[0m \u001b[0;34m\u001b[0m\u001b[0m\n",
      "\u001b[0;32m~/anaconda3/lib/python3.6/site-packages/tensorflow/python/client/session.py\u001b[0m in \u001b[0;36m__call__\u001b[0;34m(self, *args, **kwargs)\u001b[0m\n\u001b[1;32m   1437\u001b[0m           ret = tf_session.TF_SessionRunCallable(\n\u001b[1;32m   1438\u001b[0m               \u001b[0mself\u001b[0m\u001b[0;34m.\u001b[0m\u001b[0m_session\u001b[0m\u001b[0;34m.\u001b[0m\u001b[0m_session\u001b[0m\u001b[0;34m,\u001b[0m \u001b[0mself\u001b[0m\u001b[0;34m.\u001b[0m\u001b[0m_handle\u001b[0m\u001b[0;34m,\u001b[0m \u001b[0margs\u001b[0m\u001b[0;34m,\u001b[0m \u001b[0mstatus\u001b[0m\u001b[0;34m,\u001b[0m\u001b[0;34m\u001b[0m\u001b[0m\n\u001b[0;32m-> 1439\u001b[0;31m               run_metadata_ptr)\n\u001b[0m\u001b[1;32m   1440\u001b[0m         \u001b[0;32mif\u001b[0m \u001b[0mrun_metadata\u001b[0m\u001b[0;34m:\u001b[0m\u001b[0;34m\u001b[0m\u001b[0m\n\u001b[1;32m   1441\u001b[0m           \u001b[0mproto_data\u001b[0m \u001b[0;34m=\u001b[0m \u001b[0mtf_session\u001b[0m\u001b[0;34m.\u001b[0m\u001b[0mTF_GetBuffer\u001b[0m\u001b[0;34m(\u001b[0m\u001b[0mrun_metadata_ptr\u001b[0m\u001b[0;34m)\u001b[0m\u001b[0;34m\u001b[0m\u001b[0m\n",
      "\u001b[0;31mKeyboardInterrupt\u001b[0m: "
     ]
    }
   ],
   "source": [
    "model.fit_generator(data_generator(DATA_DIR, BATCHSIZE, WIDTH, HEIGHT, anchor_width, anchor_height),\n",
    "                    steps_per_epoch=steps_epoch,\n",
    "                    epochs=1000,\n",
    "                    verbose=1)"
   ]
  }
 ],
 "metadata": {
  "kernelspec": {
   "display_name": "Python 3",
   "language": "python",
   "name": "python3"
  },
  "language_info": {
   "codemirror_mode": {
    "name": "ipython",
    "version": 3
   },
   "file_extension": ".py",
   "mimetype": "text/x-python",
   "name": "python",
   "nbconvert_exporter": "python",
   "pygments_lexer": "ipython3",
   "version": "3.6.6"
  }
 },
 "nbformat": 4,
 "nbformat_minor": 2
}
