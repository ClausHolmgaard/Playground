{
 "cells": [
  {
   "cell_type": "code",
   "execution_count": 2,
   "metadata": {
    "scrolled": true
   },
   "outputs": [
    {
     "name": "stderr",
     "output_type": "stream",
     "text": [
      "Using TensorFlow backend.\n"
     ]
    }
   ],
   "source": [
    "from keras.layers import *\n",
    "from keras.models import Model\n",
    "from keras.initializers import TruncatedNormal"
   ]
  },
  {
   "cell_type": "code",
   "execution_count": 8,
   "metadata": {},
   "outputs": [],
   "source": [
    "HEIGHT = 320\n",
    "WIDTH = 320\n",
    "CHANNELS = 3\n",
    "\n",
    "num_classes = 41"
   ]
  },
  {
   "cell_type": "code",
   "execution_count": 18,
   "metadata": {},
   "outputs": [
    {
     "name": "stdout",
     "output_type": "stream",
     "text": [
      "input: (?, 320, 320, 3)\n",
      "conv1: (?, 160, 160, 128)\n",
      "label_map: (?, 160, 160, 41)\n",
      "offsets: (?, 160, 160, 82)\n",
      "\n",
      "_________________________________________________________________\n",
      "Layer (type)                 Output Shape              Param #   \n",
      "=================================================================\n",
      "input (InputLayer)           (None, 320, 320, 3)       0         \n",
      "_________________________________________________________________\n",
      "conv1 (Conv2D)               (None, 160, 160, 128)     3584      \n",
      "_________________________________________________________________\n",
      "dense_9 (Dense)              (None, 160, 160, 82)      10578     \n",
      "=================================================================\n",
      "Total params: 14,162\n",
      "Trainable params: 14,162\n",
      "Non-trainable params: 0\n",
      "_________________________________________________________________\n",
      "None\n"
     ]
    }
   ],
   "source": [
    "input_layer = Input(shape=(HEIGHT, WIDTH, CHANNELS), name=\"input\")\n",
    "print(f\"input: {input_layer.shape}\")\n",
    "\n",
    "conv1 = Conv2D(name='conv1', filters=128, kernel_size=(3, 3), strides=(2, 2), activation='relu', padding=\"SAME\",\n",
    "               #use_bias=True,\n",
    "               kernel_initializer=TruncatedNormal(stddev=0.01),\n",
    "               kernel_regularizer=None,\n",
    "               )(input_layer)\n",
    "print(f\"conv1: {conv1.shape}\")\n",
    "\n",
    "label_map = Conv2D(name='preds',\n",
    "                   filters=num_classes, kernel_size=(1, 1), strides=(1, 1),\n",
    "                   activation='sigmoid',\n",
    "                   padding=\"SAME\",\n",
    "                   kernel_initializer=TruncatedNormal(stddev=0.01)\n",
    "                   )(conv1)\n",
    "print(f\"label_map: {label_map.shape}\")\n",
    "    \n",
    "offsets = Dense(2*num_classes, activation='sigmoid')(conv1)\n",
    "print(f\"offsets: {offsets.shape}\")\n",
    "\n",
    "model = Model(inputs=input_layer, outputs=offsets)\n",
    "\n",
    "print(\"\")\n",
    "print(model.summary())"
   ]
  }
 ],
 "metadata": {
  "kernelspec": {
   "display_name": "Python 3",
   "language": "python",
   "name": "python3"
  },
  "language_info": {
   "codemirror_mode": {
    "name": "ipython",
    "version": 3
   },
   "file_extension": ".py",
   "mimetype": "text/x-python",
   "name": "python",
   "nbconvert_exporter": "python",
   "pygments_lexer": "ipython3",
   "version": "3.6.6"
  }
 },
 "nbformat": 4,
 "nbformat_minor": 2
}
