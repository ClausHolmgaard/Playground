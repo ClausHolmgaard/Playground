{
 "cells": [
  {
   "cell_type": "code",
   "execution_count": 4,
   "metadata": {},
   "outputs": [],
   "source": [
    "import numpy as np\n",
    "import time\n",
    "from PreProcess import *"
   ]
  },
  {
   "cell_type": "code",
   "execution_count": 53,
   "metadata": {},
   "outputs": [
    {
     "name": "stdout",
     "output_type": "stream",
     "text": [
      "Time: 0.0002608299255371094\n"
     ]
    }
   ],
   "source": [
    "def closest_anchor_map(x, y, anchor_width, anchor_height, anchor_coords):\n",
    "    \"\"\" Create a anchor_height x anchor_width x 3 map.\n",
    "        First entry is 1 if the anchor point is closest to true point. Zero otherwise.\n",
    "        Second is x offset.\n",
    "        Third is y offset. \"\"\"\n",
    "    res = np.zeros((anchor_width, anchor_height, 3))\n",
    "\n",
    "    if x is not None and y is not None and x > 0 and y > 0:\n",
    "\n",
    "        xs = anchor_coords[:, :, 0]\n",
    "        ys = anchor_coords[:, :, 1]\n",
    "        \n",
    "        dist_matrix = np.sqrt( (xs - x)**2 + (ys - y)**2 )\n",
    "        min_val = np.min(dist_matrix)\n",
    "        closest_x, closest_y = np.where(dist_matrix==min_val)\n",
    "        closest_x = closest_x[0]\n",
    "        closest_y = closest_y[0]\n",
    "        anchor_x, anchor_y = anchor_coords[closest_x, closest_y]\n",
    "        closest_offset_x = x - anchor_x\n",
    "        closest_offset_y = y - anchor_y\n",
    "\n",
    "        res[closest_x, closest_y, 0] = 1\n",
    "        res[closest_x, closest_y, 1:] = (closest_offset_x, closest_offset_y)\n",
    "    \n",
    "    return res\n",
    "\n",
    "\n",
    "\n",
    "\n",
    "anchs = get_anchors(320, 32, 20, 20)\n",
    "\n",
    "before = time.time()\n",
    "cam = closest_anchor_map(5, 100, 20, 20, anchs)\n",
    "after = time.time()\n",
    "print(f\"Time: {after-before}\")\n",
    "\n",
    "#print(cam.shape)"
   ]
  },
  {
   "cell_type": "code",
   "execution_count": null,
   "metadata": {},
   "outputs": [],
   "source": []
  }
 ],
 "metadata": {
  "kernelspec": {
   "display_name": "Python 3",
   "language": "python",
   "name": "python3"
  },
  "language_info": {
   "codemirror_mode": {
    "name": "ipython",
    "version": 3
   },
   "file_extension": ".py",
   "mimetype": "text/x-python",
   "name": "python",
   "nbconvert_exporter": "python",
   "pygments_lexer": "ipython3",
   "version": "3.6.6"
  }
 },
 "nbformat": 4,
 "nbformat_minor": 2
}
