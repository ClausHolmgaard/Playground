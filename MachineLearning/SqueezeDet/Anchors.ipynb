{
 "cells": [
  {
   "cell_type": "code",
   "execution_count": 2,
   "metadata": {},
   "outputs": [],
   "source": [
    "import numpy as np\n",
    "import time\n",
    "from PreProcess import *"
   ]
  },
  {
   "cell_type": "code",
   "execution_count": 43,
   "metadata": {},
   "outputs": [
    {
     "name": "stdout",
     "output_type": "stream",
     "text": [
      "dist_limit: 2.3570226039551585\n",
      "[[[ 0.  1.  1.]\n",
      "  [ 0.  1.  0.]\n",
      "  [ 0.  1. -1.]]\n",
      "\n",
      " [[ 0.  0.  1.]\n",
      "  [ 1.  0.  0.]\n",
      "  [ 0.  0. -1.]]\n",
      "\n",
      " [[ 0. -1.  1.]\n",
      "  [ 0. -1.  0.]\n",
      "  [ 0. -1. -1.]]]\n"
     ]
    }
   ],
   "source": [
    "def closest_anchor_map(x, y,\n",
    "                       image_width, image_height,\n",
    "                       anchor_width, anchor_height,\n",
    "                       offset_scale):\n",
    "    \"\"\" Create a anchor_height x anchor_width x 3 map.\n",
    "        First entry is 1 if the anchor point is closest to true point. Zero otherwise.\n",
    "        Second is x offset.\n",
    "        Third is y offset. \"\"\"\n",
    "    anchor_coords = get_anchors(image_width, image_height, anchor_width, anchor_height)\n",
    "\n",
    "    x_limit = image_width / anchor_width\n",
    "    y_limit = image_height / anchor_height\n",
    "    dist_limit = np.sqrt(x_limit**2 + y_limit**2)\n",
    "\n",
    "    res = np.zeros((anchor_width, anchor_height, 3))\n",
    "\n",
    "    if x is not None and y is not None and x > 0 and y > 0:\n",
    "        xs = anchor_coords[:, :, 0]\n",
    "        ys = anchor_coords[:, :, 1]\n",
    "        dist_matrix = np.sqrt( (xs - x)**2 + (ys - y)**2 )\n",
    "        min_val = np.min(dist_matrix)\n",
    "        closest_xs, closest_ys = np.where(dist_matrix<=dist_limit)\n",
    "        \n",
    "        # Set offsets\n",
    "        for cx, cy in zip(closest_xs, closest_ys):\n",
    "            #print(f\"(cx, cy): ({cx}, {cy})\")\n",
    "            anchor_x, anchor_y = anchor_coords[cx, cy]\n",
    "            closest_offset_x = (x - anchor_x) / offset_scale\n",
    "            closest_offset_y = (y - anchor_y) / offset_scale\n",
    "            res[cx, cy, 1:] = (closest_offset_x, closest_offset_y)\n",
    "        \n",
    "        # Set label\n",
    "        closest_x, closest_y = np.where(dist_matrix==min_val)\n",
    "        closest_x = closest_x[0]  # If multiple values, the first one is used\n",
    "        closest_y = closest_y[0]\n",
    "        res[closest_x, closest_y, 0] = 1\n",
    "        \n",
    "    \n",
    "    return res\n",
    "\n",
    "\n",
    "cam = closest_anchor_map(2, 2, 5, 5, 3, 3, 1.0)\n",
    "print(cam)"
   ]
  },
  {
   "cell_type": "code",
   "execution_count": null,
   "metadata": {},
   "outputs": [],
   "source": []
  },
  {
   "cell_type": "code",
   "execution_count": null,
   "metadata": {},
   "outputs": [],
   "source": []
  }
 ],
 "metadata": {
  "kernelspec": {
   "display_name": "Python 3",
   "language": "python",
   "name": "python3"
  },
  "language_info": {
   "codemirror_mode": {
    "name": "ipython",
    "version": 3
   },
   "file_extension": ".py",
   "mimetype": "text/x-python",
   "name": "python",
   "nbconvert_exporter": "python",
   "pygments_lexer": "ipython3",
   "version": "3.6.6"
  }
 },
 "nbformat": 4,
 "nbformat_minor": 2
}
