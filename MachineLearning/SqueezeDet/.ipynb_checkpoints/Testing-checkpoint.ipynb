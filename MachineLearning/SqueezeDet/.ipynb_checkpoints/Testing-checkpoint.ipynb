{
 "cells": [
  {
   "cell_type": "markdown",
   "metadata": {},
   "source": [
    "### Initially just some playing round with Keras"
   ]
  },
  {
   "cell_type": "markdown",
   "metadata": {},
   "source": [
    "Input: Image<br>\n",
    "Initial output: center of hand<br>\n",
    "Is anchors needed? So the prediction is an offset?<br>\n"
   ]
  },
  {
   "cell_type": "code",
   "execution_count": 1,
   "metadata": {},
   "outputs": [
    {
     "name": "stderr",
     "output_type": "stream",
     "text": [
      "Using TensorFlow backend.\n"
     ]
    }
   ],
   "source": [
    "import os\n",
    "import numpy as np\n",
    "import cv2\n",
    "import matplotlib.pyplot as plt\n",
    "import tensorflow as tf\n",
    "from keras.models import Model\n",
    "from keras import backend as K\n",
    "from keras.layers import *\n",
    "from keras.initializers import TruncatedNormal\n",
    "from keras.regularizers import l2\n",
    "from keras.callbacks import Callback\n",
    "from keras import optimizers\n",
    "import tensorflow as tf\n",
    "from tqdm import tqdm_notebook as tqdm"
   ]
  },
  {
   "cell_type": "code",
   "execution_count": 2,
   "metadata": {},
   "outputs": [
    {
     "data": {
      "text/plain": [
       "['/job:localhost/replica:0/task:0/device:GPU:0']"
      ]
     },
     "execution_count": 2,
     "metadata": {},
     "output_type": "execute_result"
    }
   ],
   "source": [
    "K.tensorflow_backend._get_available_gpus()"
   ]
  },
  {
   "cell_type": "code",
   "execution_count": 3,
   "metadata": {},
   "outputs": [],
   "source": [
    "from SqueezeDetHelpers import fire_layer, binary_crossentropy, keras_binary_crossentropy"
   ]
  },
  {
   "cell_type": "code",
   "execution_count": 4,
   "metadata": {},
   "outputs": [
    {
     "name": "stdout",
     "output_type": "stream",
     "text": [
      "1.12.0\n"
     ]
    }
   ],
   "source": [
    "print(tf.__version__)"
   ]
  },
  {
   "cell_type": "markdown",
   "metadata": {},
   "source": [
    "- Grid over image size\n",
    "    - Grid nodes will be anchors\n",
    "    - Net predicts: Probability of class at anchor, and offset from anchor.\n",
    "        - In later versions, several offsets will be predicted at each offset.\n",
    "- The net is fully convolutional, meaning the output must be feature maps.\n",
    "    - Amount of output filters will then be confidence+x_offset+y_offset\n",
    "    - filter size will be the size of the anchor grid"
   ]
  },
  {
   "cell_type": "code",
   "execution_count": 5,
   "metadata": {},
   "outputs": [],
   "source": [
    "num_out = 3"
   ]
  },
  {
   "cell_type": "code",
   "execution_count": 6,
   "metadata": {},
   "outputs": [
    {
     "name": "stdout",
     "output_type": "stream",
     "text": [
      "./data/annot\n"
     ]
    }
   ],
   "source": [
    "DATA_DIR = r\"./data\"\n",
    "ANNOTATION_FILE = r\"annot\"\n",
    "annotation = os.path.join(DATA_DIR, ANNOTATION_FILE)\n",
    "print(annotation)"
   ]
  },
  {
   "cell_type": "code",
   "execution_count": 7,
   "metadata": {},
   "outputs": [],
   "source": [
    "EPSILON = 1e-16"
   ]
  },
  {
   "cell_type": "code",
   "execution_count": 8,
   "metadata": {},
   "outputs": [],
   "source": [
    "BATCHSIZE = 32"
   ]
  },
  {
   "cell_type": "code",
   "execution_count": 9,
   "metadata": {},
   "outputs": [],
   "source": [
    "HEIGHT = 320\n",
    "WIDTH = 320\n",
    "CHANNELS = 3"
   ]
  },
  {
   "cell_type": "code",
   "execution_count": 10,
   "metadata": {},
   "outputs": [],
   "source": [
    "WEIGHT_DECAY = 0.001\n",
    "KEEP_PROB = 0.5\n",
    "CLASSES = 1"
   ]
  },
  {
   "cell_type": "code",
   "execution_count": 11,
   "metadata": {},
   "outputs": [],
   "source": [
    "ANCHOR_HEIGHT = 40\n",
    "ANCHOR_WIDTH = 40"
   ]
  },
  {
   "cell_type": "code",
   "execution_count": 12,
   "metadata": {},
   "outputs": [],
   "source": [
    "LABEL_WEIGHT = 1.0"
   ]
  },
  {
   "cell_type": "code",
   "execution_count": 13,
   "metadata": {},
   "outputs": [
    {
     "name": "stdout",
     "output_type": "stream",
     "text": [
      "Out dim: 40x40\n",
      "Number of anchor nodes: 1600\n"
     ]
    }
   ],
   "source": [
    "num_anchor_nodes = ANCHOR_HEIGHT * ANCHOR_WIDTH\n",
    "\n",
    "print(f\"Out dim: {ANCHOR_HEIGHT}x{ANCHOR_WIDTH}\")\n",
    "print(f\"Number of anchor nodes: {num_anchor_nodes}\")"
   ]
  },
  {
   "cell_type": "code",
   "execution_count": 14,
   "metadata": {},
   "outputs": [
    {
     "name": "stdout",
     "output_type": "stream",
     "text": [
      "Number of anchors: 1600\n",
      "Anchor dimension: (40, 40)\n",
      "Anchor shape: (40, 40, 2)\n"
     ]
    },
    {
     "data": {
      "text/plain": [
       "array([23, 23], dtype=uint32)"
      ]
     },
     "execution_count": 14,
     "metadata": {},
     "output_type": "execute_result"
    }
   ],
   "source": [
    "def set_anchors():\n",
    "    \n",
    "    #anchors = np.zeros((num_anchor_nodes, 2))\n",
    "    anchors = np.zeros((ANCHOR_HEIGHT, ANCHOR_WIDTH, 2), dtype=np.uint32)\n",
    "    print(f\"Number of anchors: {num_anchor_nodes}\")\n",
    "    \n",
    "    print(f\"Anchor dimension: ({ANCHOR_HEIGHT}, {ANCHOR_WIDTH})\")\n",
    "    print(f\"Anchor shape: {anchors.shape}\")\n",
    "    \n",
    "    #xs = np.arange(PIXELS_BETWEEN_ANCHORS, WIDTH, PIXELS_BETWEEN_ANCHORS)\n",
    "    #ys = np.arange(PIXELS_BETWEEN_ANCHORS, HEIGHT, PIXELS_BETWEEN_ANCHORS)\n",
    "    \n",
    "    x_start = WIDTH / (ANCHOR_WIDTH + 1)\n",
    "    x_end = WIDTH - x_start\n",
    "    y_start = HEIGHT / (ANCHOR_HEIGHT + 1)\n",
    "    y_end = HEIGHT - y_start\n",
    "    xs = np.linspace(x_start, x_end, num=ANCHOR_WIDTH, dtype=np.uint32)\n",
    "    ys = np.linspace(y_start, y_end, num=ANCHOR_HEIGHT, dtype=np.uint32)\n",
    "    \n",
    "    \"\"\"\n",
    "    counter = 0\n",
    "    for cx in range(len(xs)):\n",
    "        for cy in range(len(ys)):\n",
    "            anchors[counter] = [xs[cx], ys[cy]]\n",
    "            counter += 1\n",
    "    \"\"\"\n",
    "    \n",
    "    for ix in range(ANCHOR_HEIGHT):\n",
    "        for iy in range(ANCHOR_WIDTH):\n",
    "            anchors[ix, iy] = (xs[ix], ys[iy])\n",
    "    \n",
    "    return anchors\n",
    "    \n",
    "anchs = set_anchors()\n",
    "anchs[2, 2]"
   ]
  },
  {
   "cell_type": "code",
   "execution_count": 15,
   "metadata": {
    "scrolled": true
   },
   "outputs": [
    {
     "name": "stdout",
     "output_type": "stream",
     "text": [
      "input: (?, 320, 320, 3)\n",
      "conv1: (?, 160, 160, 32)\n",
      "pool1: (?, 80, 80, 32)\n",
      "fire1: (?, 80, 80, 128)\n",
      "fire2: (?, 80, 80, 128)\n",
      "fire3: (?, 80, 80, 128)\n",
      "pool2: (?, 40, 40, 128)\n",
      "pred_conf: (?, 40, 40, 1)\n",
      "pred_offset: (?, 40, 40, 2)\n",
      "preds: (?, 40, 40, 3)\n"
     ]
    }
   ],
   "source": [
    "input_layer = Input(shape=(HEIGHT, WIDTH, CHANNELS), name=\"input\")\n",
    "print(f\"input: {input_layer.shape}\")\n",
    "\n",
    "conv1 = Conv2D(name='conv1', filters=32, kernel_size=(10, 10), strides=(2, 2), activation='relu', padding=\"SAME\",\n",
    "               #use_bias=True,\n",
    "               kernel_initializer=TruncatedNormal(stddev=0.01),\n",
    "               #kernel_regularizer=l2(WEIGHT_DECAY),\n",
    "               )(input_layer)\n",
    "print(f\"conv1: {conv1.shape}\")\n",
    "\n",
    "\n",
    "pool1 = MaxPool2D(pool_size=(3, 3), strides=(2, 2), padding='SAME', name=\"pool1\")(conv1)\n",
    "print(f\"pool1: {pool1.shape}\")\n",
    "\n",
    "fire1 = fire_layer(name=\"fire1\", input=pool1, s1x1=16, e1x1=64, e3x3=64, weight_decay=WEIGHT_DECAY)\n",
    "print(f\"fire1: {fire1.shape}\")\n",
    "\n",
    "fire2 = fire_layer(name=\"fire2\", input=fire1, s1x1=16, e1x1=64, e3x3=64, weight_decay=WEIGHT_DECAY)\n",
    "print(f\"fire2: {fire2.shape}\")\n",
    "\n",
    "fire3 = fire_layer(name=\"fire3\", input=fire2, s1x1=16, e1x1=64, e3x3=64, weight_decay=WEIGHT_DECAY)\n",
    "print(f\"fire3: {fire3.shape}\")\n",
    "\n",
    "pool2 = MaxPool2D(pool_size=(3, 3), strides=(2, 2), padding='SAME', name=\"pool2\")(fire3)\n",
    "print(f\"pool2: {pool2.shape}\")\n",
    "\n",
    "\"\"\"\n",
    "fire4 = fire_layer(name=\"fire4\", input=pool2, s1x1=32, e1x1=128, e3x3=128, weight_decay=WEIGHT_DECAY)\n",
    "print(f\"fire4: {fire4.shape}\")\n",
    "\n",
    "fire5 = fire_layer(name=\"fire5\", input=fire4, s1x1=32, e1x1=128, e3x3=128, weight_decay=WEIGHT_DECAY)\n",
    "print(f\"fire5: {fire5.shape}\")\n",
    "\n",
    "fire6 = fire_layer(name=\"fire6\", input=fire5, s1x1=32, e1x1=128, e3x3=128, weight_decay=WEIGHT_DECAY)\n",
    "print(f\"fire6: {fire6.shape}\")\n",
    "\"\"\"\n",
    "\n",
    "\"\"\"\n",
    "conv2 = Conv2D(name='conv2', filters=64, kernel_size=(3, 3), strides=(1, 1), activation='relu', padding=\"SAME\",\n",
    "               #filters=len(ANCHORS),\n",
    "               #use_bias=True,\n",
    "               kernel_initializer=TruncatedNormal(stddev=0.001),\n",
    "               #kernel_regularizer=l2(WEIGHT_DECAY),\n",
    "               )(fire6)\n",
    "print(f\"conv2: {conv2.shape}\")\n",
    "\n",
    "conv3 = Conv2D(name='conv3', filters=128, kernel_size=(3, 3), strides=(1, 1), activation='relu', padding=\"SAME\",\n",
    "               #filters=len(ANCHORS),\n",
    "               #use_bias=True,\n",
    "               kernel_initializer=TruncatedNormal(stddev=0.001),\n",
    "               #kernel_regularizer=l2(WEIGHT_DECAY),\n",
    "               )(conv2)\n",
    "print(f\"conv3: {conv3.shape}\")\n",
    "\n",
    "conv4 = Conv2D(name='conv4', filters=256, kernel_size=(3, 3), strides=(2, 2), activation='relu', padding=\"SAME\",\n",
    "               #filters=len(ANCHORS),\n",
    "               #use_bias=True,\n",
    "               kernel_initializer=TruncatedNormal(stddev=0.001),\n",
    "               #kernel_regularizer=l2(WEIGHT_DECAY),\n",
    "               )(conv3)\n",
    "print(f\"conv4: {conv4.shape}\")\n",
    "\"\"\"\n",
    "\n",
    "\"\"\"\n",
    "preds = Conv2D(name='preds', filters=num_out, kernel_size=(1, 1), strides=(1, 1), activation='sigmoid', padding=\"SAME\",\n",
    "               #use_bias=True,\n",
    "               kernel_initializer=TruncatedNormal(stddev=0.001),\n",
    "               #kernel_regularizer=l2(WEIGHT_DECAY)\n",
    "               )(fire6)\n",
    "print(f\"preds: {preds.shape}\")\n",
    "\"\"\"\n",
    "\n",
    "#drop1 = Dropout(rate=KEEP_PROB, name=\"drop1\")(conv2)\n",
    "\n",
    "pred_conf = Conv2D(name='pred_conf', filters=1, kernel_size=(1, 1), strides=(1, 1), activation='sigmoid', padding=\"SAME\",\n",
    "               #use_bias=True,\n",
    "               kernel_initializer=TruncatedNormal(stddev=0.01),\n",
    "               #kernel_regularizer=l2(WEIGHT_DECAY)\n",
    "               )(pool2)\n",
    "print(f\"pred_conf: {pred_conf.shape}\")\n",
    "\n",
    "pred_offset = Conv2D(name='pred_offset', filters=2, kernel_size=(1, 1), strides=(1, 1), activation=None, padding=\"SAME\",\n",
    "               #use_bias=True,\n",
    "               kernel_initializer=TruncatedNormal(stddev=0.01),\n",
    "               #kernel_regularizer=l2(WEIGHT_DECAY)\n",
    "               )(pool2)\n",
    "print(f\"pred_offset: {pred_offset.shape}\")\n",
    "\n",
    "#preds = Concatenate()([pred_conf, pred_offset])\n",
    "preds = concatenate([pred_conf, pred_offset])\n",
    "print(f\"preds: {preds.shape}\")"
   ]
  },
  {
   "cell_type": "markdown",
   "metadata": {},
   "source": [
    "cross-entropy: q * -log(p) + (1-q) * -log(1-p)"
   ]
  },
  {
   "cell_type": "code",
   "execution_count": 16,
   "metadata": {},
   "outputs": [],
   "source": [
    "def loss(y_true, y_pred):\n",
    "    # We are predicting a batchsize x anchorwidth x anchorheight x 3 output.\n",
    "    c_predictions = y_pred[:, :, :, 0]\n",
    "    c_labels = y_true[:, :, :, 0]\n",
    "    \n",
    "    y_pred_offset = y_pred[:, :, :, 1:]\n",
    "    y_true_offset = y_true[:, :, :, 1:]\n",
    "    \n",
    "    #pred_conf = K.sigmoid(c_predictions)\n",
    "    #pred_conf = c_predictions\n",
    "\n",
    "    #c_loss = K.sum(\n",
    "    #    -(c_labels * K.log(pred_conf + EPSILON) + (1-c_labels) * K.log(1-pred_conf + EPSILON))\n",
    "    #) / BATCHSIZE\n",
    "    \n",
    "    #c_loss = K.sum(\n",
    "    #    c_labels * (-K.log(c_predictions + EPSILON)) + (1-c_labels) * (-K.log(1-c_predictions + EPSILON)) * c_labels\n",
    "    #) / BATCHSIZE\n",
    "    \n",
    "    #c_loss = K.sum(\n",
    "    #    K.maximum(K.abs(c_predictions), 0) - c_predictions * c_labels + K.log(1 + K.exp(-K.abs(c_predictions)))\n",
    "    #) / BATCHSIZE\n",
    "    \n",
    "    #c_loss = K.sum(\n",
    "    #    K.maximum(K.abs(c_predictions), 0) - c_predictions * c_labels + K.log(1 + K.exp(-K.abs(c_predictions)))\n",
    "    #, axis=0) / BATCHSIZE\n",
    "\n",
    "    #c_loss = K.sum(c_loss) / (ANCHOR_HEIGHT * ANCHOR_WIDTH)\n",
    "    \n",
    "    #diff = K.abs(c_labels - c_predictions)\n",
    "    #c_loss = 2 * (K.sigmoid(diff) - 0.5)\n",
    "    \n",
    "    #c_loss = K.sum(\n",
    "    #    K.sigmoid(\n",
    "    #        K.abs(\n",
    "    #            c_labels - c_predictions\n",
    "    #        )\n",
    "    #    )\n",
    "    #) / BATCHSIZE\n",
    "    \n",
    "    #c_loss = K.sum(\n",
    "    #    2 * K.sigmoid(\n",
    "    #        K.abs(\n",
    "    #            c_labels - c_predictions\n",
    "    #        )\n",
    "    #    ) - 0.5\n",
    "    #) / BATCHSIZE\n",
    "    \n",
    "    #c_loss = K.sum(\n",
    "    #    K.abs(\n",
    "    #        c_labels - c_predictions\n",
    "    #    )\n",
    "    #)\n",
    "    \n",
    "    \n",
    "    #c_loss = K.sig\n",
    "    \n",
    "    # number of labels\n",
    "    num_labels = K.sum(c_labels)\n",
    "    num_non_labels = ANCHOR_WIDTH * ANCHOR_HEIGHT - num_labels\n",
    "    \n",
    "    # Loss matrix for all entries\n",
    "    loss_m_all = keras_binary_crossentropy(c_labels, c_predictions, EPSILON)\n",
    "    \n",
    "    # Loss matrix for the correct label\n",
    "    loss_m_label = keras_binary_crossentropy(c_labels, c_predictions, EPSILON) * c_labels\n",
    "    \n",
    "    # Loss matrix for non labels\n",
    "    loss_m_nonlabel = loss_m_all - loss_m_label\n",
    "    \n",
    "    # Summing and adding weight to label loss\n",
    "    c_loss_label = K.sum(\n",
    "        loss_m_label\n",
    "    ) / BATCHSIZE / num_labels\n",
    "    \n",
    "    # summing and adding weight to non label loss\n",
    "    c_loss_nonlabel = K.sum(\n",
    "        loss_m_nonlabel\n",
    "    ) / BATCHSIZE / num_non_labels\n",
    "    \n",
    "    c_loss = c_loss_label * LABEL_WEIGHT + c_loss_nonlabel * (1 / LABEL_WEIGHT)\n",
    "    \n",
    "    #l2_loss = K.sum(\n",
    "    #    K.pow(y_pred_offset - y_true_offset, 2)\n",
    "    #) / BATCHSIZE\n",
    "    \n",
    "    #l2_loss = K.sum(\n",
    "    #    2 * K.sigmoid (\n",
    "    #        K.sqrt(\n",
    "    #            K.pow(y_true_offset[0] - y_true_offset[0], 2) + K.pow(y_true_offset[1] - y_pred_offset[1], 2)\n",
    "    #        )\n",
    "    #    ) - 0.5\n",
    "    #) / BATCHSIZE\n",
    "    \n",
    "    #l2_loss = K.sum(\n",
    "    #    2 * K.sigmoid(\n",
    "    #        K.pow(y_pred_offset - y_true_offset, 2)\n",
    "    #    ) - 0.5\n",
    "    #) / BATCHSIZE\n",
    "    \n",
    "    \n",
    "    l2_loss = 0\n",
    "    \n",
    "    total_loss = c_loss + l2_loss\n",
    "    \n",
    "    return total_loss\n",
    "\n",
    "#y_true_test = np.zeros((BATCHSIZE, ANCHOR_HEIGHT, ANCHOR_WIDTH, 3))\n",
    "#y_pred_test = np.zeros((BATCHSIZE, ANCHOR_HEIGHT, ANCHOR_WIDTH, 3))\n",
    "#l = loss(y_pred_test, y_true_test)\n",
    "#print(l)"
   ]
  },
  {
   "cell_type": "code",
   "execution_count": 17,
   "metadata": {},
   "outputs": [
    {
     "data": {
      "text/plain": [
       "<matplotlib.collections.PathCollection at 0x7fc988058518>"
      ]
     },
     "execution_count": 17,
     "metadata": {},
     "output_type": "execute_result"
    },
    {
     "data": {
      "image/png": "[encoded data removed]",
      "text/plain": [
       "<Figure size 432x288 with 1 Axes>"
      ]
     },
     "metadata": {
      "needs_background": "light"
     },
     "output_type": "display_data"
    }
   ],
   "source": [
    "def sigmoid(x, derivative=False):\n",
    "    sigm = 1. / (1. + np.exp(-x))\n",
    "    if derivative:\n",
    "        return sigm * (1. - sigm)\n",
    "    return sigm\n",
    "\n",
    "x = np.linspace(-10, 10, 500)\n",
    "y = sigmoid(x)\n",
    "plt.scatter(x, y)"
   ]
  },
  {
   "cell_type": "markdown",
   "metadata": {},
   "source": [
    "$−(ylog(p)+(1−y)log(1−p))$"
   ]
  },
  {
   "cell_type": "markdown",
   "metadata": {},
   "source": [
    "https://stackoverflow.com/questions/48951109/keras-custom-binary-cross-entropy-loss-function-get-nan-as-output-for-loss<br>\n",
    "$max(x, 0) - x * z + log(1 + exp(-abs(x)))$<br>\n",
    "$max(p, 0) - p * y + log(1 + exp(-abs(p)))$"
   ]
  },
  {
   "cell_type": "code",
   "execution_count": 18,
   "metadata": {
    "scrolled": true
   },
   "outputs": [
    {
     "name": "stdout",
     "output_type": "stream",
     "text": [
      "0.6931471805599453\n"
     ]
    }
   ],
   "source": [
    "c_labels = 1\n",
    "pred_conf = 0\n",
    "\n",
    "diff = abs(c_labels - pred_conf)\n",
    "l = (sigmoid(diff) - 0.5) * 2\n",
    "#print(l)\n",
    "\n",
    "#pred_conf = sigmoid(pred_conf)\n",
    "#ll = -(c_labels * np.log(pred_conf + EPSILON) + (1 - c_labels) * np.log(1-pred_conf + EPSILON))\n",
    "#print(ll)\n",
    "\n",
    "lll = np.max(np.abs(pred_conf), 0) - pred_conf * c_labels + np.log(1 + np.exp(-np.abs(pred_conf)))\n",
    "print(lll)"
   ]
  },
  {
   "cell_type": "code",
   "execution_count": 19,
   "metadata": {},
   "outputs": [
    {
     "name": "stdout",
     "output_type": "stream",
     "text": [
      "(32, 40, 40, 3)\n"
     ]
    },
    {
     "data": {
      "text/plain": [
       "1.0"
      ]
     },
     "execution_count": 19,
     "metadata": {},
     "output_type": "execute_result"
    }
   ],
   "source": [
    "y_t = np.zeros((BATCHSIZE, ANCHOR_HEIGHT, ANCHOR_WIDTH, 3))\n",
    "y_t[:, 10, 10, 0] = 1.0\n",
    "print(y_t.shape)\n",
    "#np.max(np.maximum(-y_t, 0))\n",
    "np.sum(y_t) / BATCHSIZE"
   ]
  },
  {
   "cell_type": "code",
   "execution_count": 20,
   "metadata": {},
   "outputs": [
    {
     "name": "stdout",
     "output_type": "stream",
     "text": [
      "(3, 3)\n",
      "[[1 2 3 4 5 6]\n",
      " [1 2 3 4 5 6]\n",
      " [1 2 3 4 5 6]]\n"
     ]
    }
   ],
   "source": [
    "arr1 = np.array([[1, 2, 3],\n",
    "                 [1, 2, 3],\n",
    "                 [1, 2, 3]])\n",
    "\n",
    "arr2 = np.array([[4, 5, 6],\n",
    "                 [4, 5, 6],\n",
    "                 [4, 5, 6]])\n",
    "\n",
    "res = np.concatenate((arr1, arr2), axis=-1)\n",
    "print(arr1.shape)\n",
    "print(res)"
   ]
  },
  {
   "cell_type": "code",
   "execution_count": null,
   "metadata": {},
   "outputs": [],
   "source": []
  },
  {
   "cell_type": "code",
   "execution_count": 21,
   "metadata": {},
   "outputs": [
    {
     "name": "stdout",
     "output_type": "stream",
     "text": [
      "Label loss: 0.0\n",
      "Non label loss: 4.605170185988092\n"
     ]
    },
    {
     "data": {
      "text/plain": [
       "4.605170185988092"
      ]
     },
     "execution_count": 21,
     "metadata": {},
     "output_type": "execute_result"
    }
   ],
   "source": [
    "def np_loss(y_true, y_pred, bs):\n",
    "    #c_predictions = y_pred[:, :, :, 0]\n",
    "    #c_labels = y_true[:, :, :, 0]\n",
    "\n",
    "    c_predictions = y_pred\n",
    "    c_labels = y_true\n",
    "\n",
    "    \n",
    "    # number of labels\n",
    "    num_labels = np.sum(c_labels)\n",
    "    num_non_labels = 3 * 3 - num_labels   # ANCHOR_WIDTH and ANCHOR_HEIGHT\n",
    "    \n",
    "    # Loss matrix for all entries\n",
    "    loss_m_all = binary_crossentropy(c_labels, c_predictions, EPSILON)\n",
    "    \n",
    "    # Loss matrix for the correct label\n",
    "    loss_m_label = binary_crossentropy(c_labels, c_predictions, EPSILON) * c_labels\n",
    "    #print(loss_m_label)\n",
    "    \n",
    "    # Loss matrix for non labels\n",
    "    loss_m_nonlabel = loss_m_all - loss_m_label\n",
    "    #print(loss_m_nonlabel)\n",
    "    \n",
    "    # Summing and adding weight to label loss\n",
    "    c_loss_label = np.sum(\n",
    "        loss_m_label\n",
    "    ) / bs / num_labels\n",
    "    \n",
    "    # summing and adding weight to non label loss\n",
    "    c_loss_nonlabel = np.sum(\n",
    "        loss_m_nonlabel\n",
    "    ) / bs / num_non_labels\n",
    "    \n",
    "    print(f\"Label loss: {c_loss_label}\")\n",
    "    print(f\"Non label loss: {c_loss_nonlabel}\")\n",
    "    \n",
    "    c_loss = c_loss_label * LABEL_WEIGHT + c_loss_nonlabel * (1 / LABEL_WEIGHT)\n",
    "    \n",
    "    return c_loss\n",
    "\n",
    "\n",
    "#labels_test = np.copy(labels[-20:])\n",
    "#print(labels_test[:, :, :, 0].shape)\n",
    "#labels_test[:, :, :, 0] = 2\n",
    "#np_loss(labels[:20], labels_test)\n",
    "#print(np_loss(labels[-5:], labels[:5], 5))\n",
    "#print(np_loss(labels[:20], labels[:20], 20))\n",
    "\n",
    "\n",
    "true_test = np.array([[0, 0, 0],\n",
    "                      [0, 1, 0],\n",
    "                      [0, 0, 0]])\n",
    "\n",
    "pred_test = np.array([[0, 1, 0],\n",
    "                      [0, 1, 0],\n",
    "                      [0, 0, 0]])\n",
    "\n",
    "np_loss(true_test, pred_test, bs=1)"
   ]
  },
  {
   "cell_type": "code",
   "execution_count": null,
   "metadata": {},
   "outputs": [],
   "source": []
  },
  {
   "cell_type": "code",
   "execution_count": 22,
   "metadata": {},
   "outputs": [
    {
     "data": {
      "text/plain": [
       "'\\nwith tf.Session() as s:\\n    # Some tensor we want to print the value of\\n    y_true_test = tf.zeros((BATCHSIZE, ANCHOR_HEIGHT, ANCHOR_WIDTH, 3))\\n    y_pred_test = tf.zeros((BATCHSIZE, ANCHOR_HEIGHT, ANCHOR_WIDTH, 3))\\n    s.run(tf.global_variables_initializer())\\n    \\n    l = loss(y_pred_test, y_true_test)\\n    # Add print operation\\n    print(s.run(l))\\n'"
      ]
     },
     "execution_count": 22,
     "metadata": {},
     "output_type": "execute_result"
    }
   ],
   "source": [
    "#sess = tf.InteractiveSession()\n",
    "\n",
    "\"\"\"\n",
    "with tf.Session() as s:\n",
    "    # Some tensor we want to print the value of\n",
    "    y_true_test = tf.zeros((BATCHSIZE, ANCHOR_HEIGHT, ANCHOR_WIDTH, 3))\n",
    "    y_pred_test = tf.zeros((BATCHSIZE, ANCHOR_HEIGHT, ANCHOR_WIDTH, 3))\n",
    "    s.run(tf.global_variables_initializer())\n",
    "    \n",
    "    l = loss(y_pred_test, y_true_test)\n",
    "    # Add print operation\n",
    "    print(s.run(l))\n",
    "\"\"\""
   ]
  },
  {
   "cell_type": "code",
   "execution_count": 23,
   "metadata": {},
   "outputs": [
    {
     "name": "stdout",
     "output_type": "stream",
     "text": [
      "36.841361487904734\n"
     ]
    }
   ],
   "source": [
    "c_labels = 0\n",
    "c_predictions = 1\n",
    "c_loss = (c_labels * (-np.log(c_predictions + EPSILON))) + (1-c_labels) * (-np.log(1-c_predictions + EPSILON))\n",
    "print(c_loss)"
   ]
  },
  {
   "cell_type": "code",
   "execution_count": 24,
   "metadata": {},
   "outputs": [],
   "source": [
    "#model = Model(inputs=input_layer, outputs=preds)\n",
    "#model.compile(loss='mse', optimizer='adam')\n",
    "#model.compile(loss=loss, optimizer='adam')"
   ]
  },
  {
   "cell_type": "code",
   "execution_count": 25,
   "metadata": {},
   "outputs": [],
   "source": [
    "def load_data():\n",
    "    \n",
    "    with open(annotation, 'r') as f:\n",
    "        lines = f.readlines()\n",
    "    \n",
    "    gt = [(None, None)] * len(lines)\n",
    "    \n",
    "    for l in lines:\n",
    "        obj = l.split(',')\n",
    "        pic_id = int(obj[0].split('.')[0])\n",
    "        x = int(obj[1])\n",
    "        y = int(obj[2])\n",
    "        \n",
    "        gt[pic_id] = (x, y)\n",
    "\n",
    "    images = []\n",
    "    \n",
    "    for fi in os.listdir(DATA_DIR):\n",
    "        if not fi.endswith('jpg'):\n",
    "            continue\n",
    "        im = cv2.imread(os.path.join(DATA_DIR, fi))\n",
    "        images.append(im)\n",
    "    \n",
    "    return gt, images\n",
    "\n",
    "labels_old, images_old = load_data()"
   ]
  },
  {
   "cell_type": "code",
   "execution_count": 26,
   "metadata": {
    "scrolled": true
   },
   "outputs": [
    {
     "name": "stdout",
     "output_type": "stream",
     "text": [
      "(40, 40, 3)\n",
      "1\n",
      "-0.001875\n",
      "-0.000625\n",
      "[[ 1. -3. -1.]]\n",
      "(40, 40, 2)\n"
     ]
    }
   ],
   "source": [
    "def closest_anchor_map(x, y, anchor_coords):\n",
    "    \"\"\" Create a anchor_height x anchor_width x 3 map.\n",
    "        First entry is 1 if the anchor point is closest to true point. Zero otherwise.\n",
    "        Second is x offset.\n",
    "        Third is y offset. \"\"\"\n",
    "    closest = 10000\n",
    "    closest_x = None\n",
    "    closest_y = None\n",
    "    closest_x_offset = None\n",
    "    closest_y_offset = None\n",
    "    \n",
    "    res = np.zeros((ANCHOR_HEIGHT, ANCHOR_WIDTH, 3))\n",
    "    for ix in range(ANCHOR_HEIGHT):\n",
    "        for iy in range(ANCHOR_WIDTH):\n",
    "            p_x, p_y = anchor_coords[ix, iy]\n",
    "            dist = np.sqrt( (x - p_x)**2 + (y - p_y)**2 )\n",
    "            #res[ix, iy, 1:] = (x - p_x, y - p_y)\n",
    "            if dist < closest:\n",
    "                closest = dist\n",
    "                closest_x = ix\n",
    "                closest_y = iy\n",
    "                closest_x_offset = x - p_x\n",
    "                closest_y_offset = y - p_y\n",
    "    \n",
    "    #print(f\"({closest_x}, {closest_y}) -> {anchor_coords[closest_x, closest_y]}\")\n",
    "    res[closest_x, closest_y, 0] = 1\n",
    "    res[closest_x, closest_y, 1:] = (closest_x_offset, closest_y_offset)\n",
    "    \n",
    "    return res\n",
    "        \n",
    "test_map = closest_anchor_map(20, 30, anchs)\n",
    "print(test_map.shape)\n",
    "print(np.count_nonzero(test_map[:,:, 0]))\n",
    "print(np.mean(test_map[:, :, 1]))\n",
    "print(np.mean(test_map[:, :, 2]))\n",
    "anc_indicies = np.where(test_map[:, :, 0] == test_map[:, :, 0].max())\n",
    "print(test_map[anc_indicies[0], anc_indicies[1]])\n",
    "anchor_point = test_map[anc_indicies[0], anc_indicies[1]][:,1:][0]\n",
    "print(anchs.shape)"
   ]
  },
  {
   "cell_type": "code",
   "execution_count": 27,
   "metadata": {},
   "outputs": [
    {
     "data": {
      "application/vnd.jupyter.widget-view+json": {
       "model_id": "098ae76f00104efcb2510b40136c8096",
       "version_major": 2,
       "version_minor": 0
      },
      "text/plain": [
       "HBox(children=(IntProgress(value=0), HTML(value='')))"
      ]
     },
     "metadata": {},
     "output_type": "display_data"
    },
    {
     "name": "stdout",
     "output_type": "stream",
     "text": [
      "\n"
     ]
    },
    {
     "data": {
      "application/vnd.jupyter.widget-view+json": {
       "model_id": "1cc6b5c8a1574ce5902b2226612daa50",
       "version_major": 2,
       "version_minor": 0
      },
      "text/plain": [
       "HBox(children=(IntProgress(value=0, max=101), HTML(value='')))"
      ]
     },
     "metadata": {},
     "output_type": "display_data"
    },
    {
     "name": "stdout",
     "output_type": "stream",
     "text": [
      "\n",
      "(100, 40, 40, 3)\n"
     ]
    }
   ],
   "source": [
    "def load_data_with_anchors():\n",
    "    # load images\n",
    "    # labels will be:\n",
    "    #   anchor_height x anchor_width x 3\n",
    "    #     the last 3 entries is: 1 if closest gridpoint to a point. x and y offsets to closest point.\n",
    "    with open(annotation, 'r') as f:\n",
    "        lines = f.readlines()\n",
    "    \n",
    "    gt = np.zeros((len(lines), ANCHOR_HEIGHT, ANCHOR_WIDTH, 3))\n",
    "    gt_clean = [(None, None)] * len(lines)\n",
    "    images = np.zeros((len(lines), HEIGHT, WIDTH, 3), dtype=np.uint8)\n",
    "    \n",
    "    for c, l in enumerate(tqdm(lines)):\n",
    "        obj = l.split(',')\n",
    "        pic_id = int(obj[0].split('.')[0])\n",
    "        x = int(obj[1])\n",
    "        y = int(obj[2])\n",
    "        \n",
    "        gt[pic_id, :, :] = closest_anchor_map(x, y, anchs)\n",
    "        gt_clean[pic_id] = (x, y)\n",
    "    \n",
    "    #images = []\n",
    "    \n",
    "    for fi in tqdm(os.listdir(DATA_DIR)):\n",
    "        if not fi.endswith('jpg'):\n",
    "            continue\n",
    "        im = cv2.imread(os.path.join(DATA_DIR, fi))\n",
    "        #images.append(im)\n",
    "        i = int(fi.split('.')[0])\n",
    "        images[i] = im\n",
    "    \n",
    "    images = np.array(images)\n",
    "    \n",
    "    return gt, gt_clean, images\n",
    "        \n",
    "labels, labels_clean, images = load_data_with_anchors()\n",
    "print(labels.shape)"
   ]
  },
  {
   "cell_type": "code",
   "execution_count": null,
   "metadata": {},
   "outputs": [],
   "source": []
  },
  {
   "cell_type": "markdown",
   "metadata": {},
   "source": [
    "Let's check it everythin gets loaded correctly."
   ]
  },
  {
   "cell_type": "code",
   "execution_count": 28,
   "metadata": {},
   "outputs": [
    {
     "name": "stdout",
     "output_type": "stream",
     "text": [
      "(40, 40, 3)\n",
      "max label index: 21\n",
      "Values above threshold: 1\n"
     ]
    },
    {
     "data": {
      "text/plain": [
       "array([[173, 140]], dtype=uint32)"
      ]
     },
     "execution_count": 28,
     "metadata": {},
     "output_type": "execute_result"
    }
   ],
   "source": [
    "def get_all_points_from_prediction(pred, threshold=1.0):\n",
    "    \"\"\"\n",
    "    pred is a prediction map in the shape (ANCHOR_HEIGHT, ANCHOR_WIDTH, 3)\n",
    "    \"\"\"\n",
    "    # Get all points with a confidence above threshold\n",
    "    label_indicies = np.where(pred[:, :, 0] >= threshold)\n",
    "    num_points = len(label_indicies[0])\n",
    "    print(f\"max label index: {np.max(label_indicies)}\")\n",
    "    print(f\"Values above threshold: {num_points}\")\n",
    "    \n",
    "    points = np.zeros((num_points, 2), dtype=np.uint32)\n",
    "    \n",
    "    # Loop through all anchor points\n",
    "    for c, (x_anchor, y_anchor) in enumerate(zip(label_indicies[0], label_indicies[1])):\n",
    "        #print(x_anchor)\n",
    "        # when anchor location is known, the location of the closest anchor in the actual image can be found\n",
    "        x_without_offset, y_without_offset = anchs[x_anchor, y_anchor]\n",
    "        #print(f\"Anchor: ({x_anchor, y_anchor})\")\n",
    "        \n",
    "        # The offset can then be extracted from the labels\n",
    "        (x_offset, y_offset) = pred[label_indicies[0], label_indicies[1]][0][1:]\n",
    "        \n",
    "        # and the final point calculated\n",
    "        actual_x = int(x_without_offset + x_offset)\n",
    "        actual_y= int(y_without_offset + y_offset)\n",
    "\n",
    "        points[c] = (actual_x, actual_y)\n",
    "    \n",
    "    return points\n",
    "    \n",
    "\n",
    "p = labels[1]\n",
    "print(p.shape)\n",
    "get_all_points_from_prediction(p)"
   ]
  },
  {
   "cell_type": "code",
   "execution_count": 29,
   "metadata": {},
   "outputs": [
    {
     "name": "stdout",
     "output_type": "stream",
     "text": [
      "[15 15]\n",
      "Max values in labels: 1\n",
      "max label index: 21\n",
      "Values above threshold: 1\n",
      "Anchor: ([21], [17])\n",
      "[[1. 2. 0.]]\n"
     ]
    },
    {
     "data": {
      "text/plain": [
       "Text(0.5, 1.0, 'Red is center, green is closest anchor')"
      ]
     },
     "execution_count": 29,
     "metadata": {},
     "output_type": "execute_result"
    },
    {
     "data": {
      "image/png": "[encoded data removed]",
      "text/plain": [
       "<Figure size 1080x576 with 2 Axes>"
      ]
     },
     "metadata": {
      "needs_background": "light"
     },
     "output_type": "display_data"
    }
   ],
   "source": [
    "index = 1\n",
    "im = np.copy(images[1])\n",
    "im_anchors = np.copy(images[1])\n",
    "\n",
    "print(anchs[1, 1])\n",
    "\n",
    "# draw all anchors\n",
    "for anc_x in range(ANCHOR_HEIGHT):\n",
    "    for anc_y in range(ANCHOR_WIDTH):\n",
    "        cv2.circle(im_anchors, (anchs[anc_x, anc_y][0], anchs[anc_x, anc_y][1]), 1, (128, 128, 128), thickness=1)\n",
    "\n",
    "\n",
    "\n",
    "# Get labels with max value, we know this to only be one in the labels\n",
    "label_indicies = np.where(labels[index, :, :, 0] == labels[index, :, :, 0].max())\n",
    "print(f\"Max values in labels: {len(label_indicies[0])}\")\n",
    "\n",
    "# Get location in the anchor\n",
    "x_anchor, y_anchor = label_indicies\n",
    "# when anchor location is known, the location of the closest anchor in the actual image can be found\n",
    "x_without_offset, y_without_offset = anchs[x_anchor[0], y_anchor[0]]\n",
    "\"\"\"\n",
    "# The offset can then be extracted from the labels\n",
    "(x_offset, y_offset) = labels[index, label_indicies[0], label_indicies[1]][0][1:]\n",
    "# and the final point calculated\n",
    "actual_x = int(x_without_offset + x_offset)\n",
    "actual_y= int(y_without_offset + y_offset)\n",
    "print(f\"Actual point: ({actual_x}, {actual_y})\")\n",
    "\"\"\"\n",
    "actual_x, actual_y = get_all_points_from_prediction(labels[index])[0]\n",
    "\n",
    "cv2.circle(im, (y_without_offset, x_without_offset), 2, (0, 255, 0), thickness=2)\n",
    "cv2.circle(im, (actual_y, actual_x), 2, (255, 0, 0), thickness=2)\n",
    "print(f\"Anchor: ({x_anchor}, {y_anchor})\")\n",
    "print(labels[index, label_indicies[0], label_indicies[1]])\n",
    "\n",
    "f, subs = plt.subplots(1, 2, figsize=(15, 8))\n",
    "\n",
    "subs[0].imshow(im_anchors)\n",
    "subs[0].set_title(\"Anchor points\")\n",
    "subs[1].imshow(im)\n",
    "subs[1].set_title(\"Red is center, green is closest anchor\")"
   ]
  },
  {
   "cell_type": "code",
   "execution_count": 30,
   "metadata": {},
   "outputs": [],
   "source": [
    "#labels = np.array(labels)#.reshape(1, 100, 2)\n",
    "#print(labels.shape)\n",
    "#print(labels[0])"
   ]
  },
  {
   "cell_type": "code",
   "execution_count": null,
   "metadata": {},
   "outputs": [],
   "source": []
  },
  {
   "cell_type": "code",
   "execution_count": 31,
   "metadata": {},
   "outputs": [],
   "source": [
    "#for c, i in enumerate(images):\n",
    "#    model.fit(i.reshape(1, 320, 320, 3), labels[c].reshape(1, 2), epochs=1, verbose=1)"
   ]
  },
  {
   "cell_type": "code",
   "execution_count": 32,
   "metadata": {},
   "outputs": [],
   "source": [
    "#model.fit(images.reshape(-1, 320, 320, 3), labels.reshape(-1, 2), batch_size=10, epochs=10, verbose=1)"
   ]
  },
  {
   "cell_type": "code",
   "execution_count": 33,
   "metadata": {},
   "outputs": [],
   "source": [
    "#def loss(y_true, y_pred):\n",
    "#    return K.sqrt(K.sum(K.square(y_true - y_pred)))"
   ]
  },
  {
   "cell_type": "code",
   "execution_count": 34,
   "metadata": {},
   "outputs": [],
   "source": [
    "class PrintInfo(Callback):\n",
    "    def on_epoch_end(self, epoch, logs=None):\n",
    "        lr = self.model.optimizer.lr\n",
    "        decay = self.model.optimizer.decay\n",
    "        iterations = self.model.optimizer.iterations\n",
    "        lr_with_decay = lr / (1. + decay * K.cast(iterations, K.dtype(decay)))\n",
    "        print(f\"Learning rate with decay: {K.eval(lr_with_decay)}\")\n",
    "        #print(f\"lr={K.eval(lr)}, decay={K.eval(decay)}\")\n",
    "        print(\"\")\n",
    "        \n",
    "print_info = PrintInfo()"
   ]
  },
  {
   "cell_type": "code",
   "execution_count": 35,
   "metadata": {},
   "outputs": [],
   "source": [
    "model = Model(inputs=input_layer, outputs=preds)"
   ]
  },
  {
   "cell_type": "code",
   "execution_count": 36,
   "metadata": {
    "scrolled": false
   },
   "outputs": [
    {
     "name": "stdout",
     "output_type": "stream",
     "text": [
      "__________________________________________________________________________________________________\n",
      "Layer (type)                    Output Shape         Param #     Connected to                     \n",
      "==================================================================================================\n",
      "input (InputLayer)              (None, 320, 320, 3)  0                                            \n",
      "__________________________________________________________________________________________________\n",
      "conv1 (Conv2D)                  (None, 160, 160, 32) 9632        input[0][0]                      \n",
      "__________________________________________________________________________________________________\n",
      "pool1 (MaxPooling2D)            (None, 80, 80, 32)   0           conv1[0][0]                      \n",
      "__________________________________________________________________________________________________\n",
      "fire1/squeeze1x1 (Conv2D)       (None, 80, 80, 16)   528         pool1[0][0]                      \n",
      "__________________________________________________________________________________________________\n",
      "fire1/expand1x1 (Conv2D)        (None, 80, 80, 64)   1088        fire1/squeeze1x1[0][0]           \n",
      "__________________________________________________________________________________________________\n",
      "fire1/expand3x3 (Conv2D)        (None, 80, 80, 64)   9280        fire1/squeeze1x1[0][0]           \n",
      "__________________________________________________________________________________________________\n",
      "concatenate_1 (Concatenate)     (None, 80, 80, 128)  0           fire1/expand1x1[0][0]            \n",
      "                                                                 fire1/expand3x3[0][0]            \n",
      "__________________________________________________________________________________________________\n",
      "fire2/squeeze1x1 (Conv2D)       (None, 80, 80, 16)   2064        concatenate_1[0][0]              \n",
      "__________________________________________________________________________________________________\n",
      "fire2/expand1x1 (Conv2D)        (None, 80, 80, 64)   1088        fire2/squeeze1x1[0][0]           \n",
      "__________________________________________________________________________________________________\n",
      "fire2/expand3x3 (Conv2D)        (None, 80, 80, 64)   9280        fire2/squeeze1x1[0][0]           \n",
      "__________________________________________________________________________________________________\n",
      "concatenate_2 (Concatenate)     (None, 80, 80, 128)  0           fire2/expand1x1[0][0]            \n",
      "                                                                 fire2/expand3x3[0][0]            \n",
      "__________________________________________________________________________________________________\n",
      "fire3/squeeze1x1 (Conv2D)       (None, 80, 80, 16)   2064        concatenate_2[0][0]              \n",
      "__________________________________________________________________________________________________\n",
      "fire3/expand1x1 (Conv2D)        (None, 80, 80, 64)   1088        fire3/squeeze1x1[0][0]           \n",
      "__________________________________________________________________________________________________\n",
      "fire3/expand3x3 (Conv2D)        (None, 80, 80, 64)   9280        fire3/squeeze1x1[0][0]           \n",
      "__________________________________________________________________________________________________\n",
      "concatenate_3 (Concatenate)     (None, 80, 80, 128)  0           fire3/expand1x1[0][0]            \n",
      "                                                                 fire3/expand3x3[0][0]            \n",
      "__________________________________________________________________________________________________\n",
      "pool2 (MaxPooling2D)            (None, 40, 40, 128)  0           concatenate_3[0][0]              \n",
      "__________________________________________________________________________________________________\n",
      "pred_conf (Conv2D)              (None, 40, 40, 1)    129         pool2[0][0]                      \n",
      "__________________________________________________________________________________________________\n",
      "pred_offset (Conv2D)            (None, 40, 40, 2)    258         pool2[0][0]                      \n",
      "__________________________________________________________________________________________________\n",
      "concatenate_4 (Concatenate)     (None, 40, 40, 3)    0           pred_conf[0][0]                  \n",
      "                                                                 pred_offset[0][0]                \n",
      "==================================================================================================\n",
      "Total params: 45,779\n",
      "Trainable params: 45,779\n",
      "Non-trainable params: 0\n",
      "__________________________________________________________________________________________________\n"
     ]
    }
   ],
   "source": [
    "model.summary()"
   ]
  },
  {
   "cell_type": "code",
   "execution_count": 37,
   "metadata": {},
   "outputs": [],
   "source": [
    "#opt = optimizers.Adam(lr=1e-4, decay=1e-5, clipnorm=1.0)\n",
    "#opt = optimizers.RMSprop(lr=0.001,  clipnorm=1.0)\n",
    "opt = optimizers.SGD(lr=0.01, decay=0.01, momentum=0.9, nesterov=False)\n",
    "#opt = optimizers.Adagrad(lr=1.0, clipnorm=1.0)\n",
    "#opt =optimizers.SGD()\n",
    "model.compile(loss=loss, optimizer=opt)"
   ]
  },
  {
   "cell_type": "code",
   "execution_count": 38,
   "metadata": {
    "scrolled": true
   },
   "outputs": [
    {
     "name": "stdout",
     "output_type": "stream",
     "text": [
      "Epoch 1/1000\n",
      "100/100 [==============================] - 3s 34ms/step - loss: 0.7007\n",
      "Learning rate with decay: 0.009615384973585606\n",
      "\n",
      "Epoch 2/1000\n",
      "100/100 [==============================] - 1s 11ms/step - loss: 0.6773\n",
      "Learning rate with decay: 0.009259258396923542\n",
      "\n",
      "Epoch 3/1000\n",
      "100/100 [==============================] - 1s 11ms/step - loss: 0.6407\n",
      "Learning rate with decay: 0.0089285708963871\n",
      "\n",
      "Epoch 4/1000\n",
      "100/100 [==============================] - 1s 11ms/step - loss: 0.5988\n",
      "Learning rate with decay: 0.008620689623057842\n",
      "\n",
      "Epoch 5/1000\n",
      "100/100 [==============================] - 1s 11ms/step - loss: 0.5566\n",
      "Learning rate with decay: 0.00833333283662796\n",
      "\n",
      "Epoch 6/1000\n",
      "100/100 [==============================] - 1s 11ms/step - loss: 0.5168\n",
      "Learning rate with decay: 0.008064515888690948\n",
      "\n",
      "Epoch 7/1000\n",
      "100/100 [==============================] - 1s 11ms/step - loss: 0.4808\n",
      "Learning rate with decay: 0.0078125\n",
      "\n",
      "Epoch 8/1000\n",
      "100/100 [==============================] - 1s 11ms/step - loss: 0.4488\n",
      "Learning rate with decay: 0.007575757801532745\n",
      "\n",
      "Epoch 9/1000\n",
      "100/100 [==============================] - 1s 11ms/step - loss: 0.4209\n",
      "Learning rate with decay: 0.007352940738201141\n",
      "\n",
      "Epoch 10/1000\n",
      "100/100 [==============================] - 1s 11ms/step - loss: 0.3966\n",
      "Learning rate with decay: 0.0071428571827709675\n",
      "\n",
      "Epoch 11/1000\n",
      "100/100 [==============================] - 1s 11ms/step - loss: 0.3756\n",
      "Learning rate with decay: 0.0069444440305233\n",
      "\n",
      "Epoch 12/1000\n",
      "100/100 [==============================] - 1s 11ms/step - loss: 0.3573\n",
      "Learning rate with decay: 0.006756756454706192\n",
      "\n",
      "Epoch 13/1000\n",
      "100/100 [==============================] - 1s 11ms/step - loss: 0.3414\n",
      "Learning rate with decay: 0.00657894741743803\n",
      "\n",
      "Epoch 14/1000\n",
      "100/100 [==============================] - 1s 11ms/step - loss: 0.3276\n",
      "Learning rate with decay: 0.006410256493836641\n",
      "\n",
      "Epoch 15/1000\n",
      "100/100 [==============================] - 1s 11ms/step - loss: 0.3154\n",
      "Learning rate with decay: 0.0062500000931322575\n",
      "\n",
      "Epoch 16/1000\n",
      "100/100 [==============================] - 1s 11ms/step - loss: 0.3047\n",
      "Learning rate with decay: 0.006097560748457909\n",
      "\n",
      "Epoch 17/1000\n",
      "100/100 [==============================] - 1s 11ms/step - loss: 0.2952\n",
      "Learning rate with decay: 0.0059523805975914\n",
      "\n",
      "Epoch 18/1000\n",
      "100/100 [==============================] - 1s 11ms/step - loss: 0.2867\n",
      "Learning rate with decay: 0.0058139534667134285\n",
      "\n",
      "Epoch 19/1000\n",
      "100/100 [==============================] - 1s 11ms/step - loss: 0.2791\n",
      "Learning rate with decay: 0.005681817885488272\n",
      "\n",
      "Epoch 20/1000\n",
      "100/100 [==============================] - 1s 11ms/step - loss: 0.2723\n",
      "Learning rate with decay: 0.0055555556900799274\n",
      "\n",
      "Epoch 21/1000\n",
      "100/100 [==============================] - 1s 11ms/step - loss: 0.2661\n",
      "Learning rate with decay: 0.005434782709926367\n",
      "\n",
      "Epoch 22/1000\n",
      "100/100 [==============================] - 1s 11ms/step - loss: 0.2605\n",
      "Learning rate with decay: 0.005319148767739534\n",
      "\n",
      "Epoch 23/1000\n",
      "100/100 [==============================] - 1s 11ms/step - loss: 0.2554\n",
      "Learning rate with decay: 0.0052083334885537624\n",
      "\n",
      "Epoch 24/1000\n",
      "100/100 [==============================] - 1s 11ms/step - loss: 0.2507\n",
      "Learning rate with decay: 0.005102040711790323\n",
      "\n",
      "Epoch 25/1000\n",
      "100/100 [==============================] - 1s 11ms/step - loss: 0.2463\n",
      "Learning rate with decay: 0.004999999888241291\n",
      "\n",
      "Epoch 26/1000\n",
      "100/100 [==============================] - 1s 11ms/step - loss: 0.2423\n",
      "Learning rate with decay: 0.0049019609577953815\n",
      "\n",
      "Epoch 27/1000\n",
      "100/100 [==============================] - 1s 11ms/step - loss: 0.2387\n",
      "Learning rate with decay: 0.004807692486792803\n",
      "\n",
      "Epoch 28/1000\n",
      "100/100 [==============================] - 1s 11ms/step - loss: 0.2352\n",
      "Learning rate with decay: 0.004716981202363968\n",
      "\n",
      "Epoch 29/1000\n",
      "100/100 [==============================] - 1s 11ms/step - loss: 0.2320\n",
      "Learning rate with decay: 0.004629629664123058\n",
      "\n",
      "Epoch 30/1000\n",
      "100/100 [==============================] - 1s 11ms/step - loss: 0.2291\n",
      "Learning rate with decay: 0.004545454867184162\n",
      "\n",
      "Epoch 31/1000\n",
      "100/100 [==============================] - 1s 11ms/step - loss: 0.2263\n",
      "Learning rate with decay: 0.00446428544819355\n",
      "\n",
      "Epoch 32/1000\n",
      "100/100 [==============================] - 1s 11ms/step - loss: 0.2237\n",
      "Learning rate with decay: 0.004385964944958687\n",
      "\n",
      "Epoch 33/1000\n",
      "100/100 [==============================] - 1s 11ms/step - loss: 0.2212\n",
      "Learning rate with decay: 0.004310344811528921\n",
      "\n",
      "Epoch 34/1000\n",
      "100/100 [==============================] - 1s 11ms/step - loss: 0.2189\n",
      "Learning rate with decay: 0.004237287677824497\n",
      "\n",
      "Epoch 35/1000\n",
      "100/100 [==============================] - 1s 11ms/step - loss: 0.2168\n",
      "Learning rate with decay: 0.00416666641831398\n",
      "\n",
      "Epoch 36/1000\n",
      "100/100 [==============================] - 1s 11ms/step - loss: 0.2147\n",
      "Learning rate with decay: 0.004098360426723957\n",
      "\n",
      "Epoch 37/1000\n",
      "100/100 [==============================] - 1s 11ms/step - loss: 0.2128\n",
      "Learning rate with decay: 0.004032257944345474\n",
      "\n",
      "Epoch 38/1000\n",
      "100/100 [==============================] - 1s 11ms/step - loss: 0.2110\n",
      "Learning rate with decay: 0.0039682537317276\n",
      "\n",
      "Epoch 39/1000\n",
      "100/100 [==============================] - 1s 11ms/step - loss: 0.2092\n",
      "Learning rate with decay: 0.00390625\n",
      "\n",
      "Epoch 40/1000\n",
      "100/100 [==============================] - 1s 11ms/step - loss: 0.2076\n",
      "Learning rate with decay: 0.003846153849735856\n",
      "\n",
      "Epoch 41/1000\n",
      "100/100 [==============================] - 1s 11ms/step - loss: 0.2060\n",
      "Learning rate with decay: 0.0037878789007663727\n",
      "\n",
      "Epoch 42/1000\n",
      "100/100 [==============================] - 1s 11ms/step - loss: 0.2045\n",
      "Learning rate with decay: 0.0037313434295356274\n",
      "\n",
      "Epoch 43/1000\n",
      "100/100 [==============================] - 1s 11ms/step - loss: 0.2031\n",
      "Learning rate with decay: 0.003676470834761858\n",
      "\n",
      "Epoch 44/1000\n",
      "100/100 [==============================] - 1s 11ms/step - loss: 0.2017\n",
      "Learning rate with decay: 0.003623188240453601\n",
      "\n",
      "Epoch 45/1000\n",
      "100/100 [==============================] - 1s 11ms/step - loss: 0.2004\n",
      "Learning rate with decay: 0.0035714285913854837\n",
      "\n",
      "Epoch 46/1000\n",
      "100/100 [==============================] - 1s 11ms/step - loss: 0.1992\n",
      "Learning rate with decay: 0.0035211266949772835\n",
      "\n",
      "Epoch 47/1000\n",
      "100/100 [==============================] - 1s 11ms/step - loss: 0.1980\n",
      "Learning rate with decay: 0.00347222201526165\n",
      "\n",
      "Epoch 48/1000\n",
      "100/100 [==============================] - 1s 11ms/step - loss: 0.1968\n",
      "Learning rate with decay: 0.0034246572759002447\n",
      "\n",
      "Epoch 49/1000\n",
      "100/100 [==============================] - 1s 11ms/step - loss: 0.1957\n",
      "Learning rate with decay: 0.003378378227353096\n",
      "\n",
      "Epoch 50/1000\n",
      "100/100 [==============================] - 1s 11ms/step - loss: 0.1947\n",
      "Learning rate with decay: 0.003333333181217313\n",
      "\n",
      "Epoch 51/1000\n",
      "100/100 [==============================] - 1s 11ms/step - loss: 0.1937\n",
      "Learning rate with decay: 0.003289473708719015\n",
      "\n",
      "Epoch 52/1000\n",
      "100/100 [==============================] - 1s 11ms/step - loss: 0.1927\n",
      "Learning rate with decay: 0.003246753243729472\n",
      "\n",
      "Epoch 53/1000\n",
      "100/100 [==============================] - 1s 11ms/step - loss: 0.1918\n",
      "Learning rate with decay: 0.0032051282469183207\n",
      "\n",
      "Epoch 54/1000\n",
      "100/100 [==============================] - 1s 11ms/step - loss: 0.1909\n",
      "Learning rate with decay: 0.0031645570416003466\n",
      "\n",
      "Epoch 55/1000\n",
      "100/100 [==============================] - 1s 11ms/step - loss: 0.1900\n",
      "Learning rate with decay: 0.003124999813735485\n",
      "\n",
      "Epoch 56/1000\n",
      "100/100 [==============================] - 1s 11ms/step - loss: 0.1892\n",
      "Learning rate with decay: 0.003086419776082039\n",
      "\n",
      "Epoch 57/1000\n",
      "100/100 [==============================] - 1s 11ms/step - loss: 0.1883\n",
      "Learning rate with decay: 0.0030487803742289543\n",
      "\n",
      "Epoch 58/1000\n",
      "100/100 [==============================] - 1s 11ms/step - loss: 0.1876\n",
      "Learning rate with decay: 0.0030120480805635452\n",
      "\n",
      "Epoch 59/1000\n",
      "100/100 [==============================] - 1s 11ms/step - loss: 0.1868\n",
      "Learning rate with decay: 0.0029761905316263437\n",
      "\n",
      "Epoch 60/1000\n",
      "100/100 [==============================] - 1s 11ms/step - loss: 0.1861\n",
      "Learning rate with decay: 0.0029411765281111\n",
      "\n",
      "Epoch 61/1000\n",
      "100/100 [==============================] - 1s 11ms/step - loss: 0.1854\n",
      "Learning rate with decay: 0.0029069767333567142\n",
      "\n",
      "Epoch 62/1000\n",
      "100/100 [==============================] - 1s 11ms/step - loss: 0.1847\n",
      "Learning rate with decay: 0.0028735632076859474\n",
      "\n",
      "Epoch 63/1000\n"
     ]
    },
    {
     "name": "stdout",
     "output_type": "stream",
     "text": [
      "100/100 [==============================] - 1s 11ms/step - loss: 0.1840\n",
      "Learning rate with decay: 0.002840908942744136\n",
      "\n",
      "Epoch 64/1000\n",
      "100/100 [==============================] - 1s 11ms/step - loss: 0.1834\n",
      "Learning rate with decay: 0.002808988792821765\n",
      "\n",
      "Epoch 65/1000\n",
      "100/100 [==============================] - 1s 11ms/step - loss: 0.1828\n",
      "Learning rate with decay: 0.0027777778450399637\n",
      "\n",
      "Epoch 66/1000\n",
      "100/100 [==============================] - 1s 11ms/step - loss: 0.1822\n",
      "Learning rate with decay: 0.002747252816334367\n",
      "\n",
      "Epoch 67/1000\n",
      "100/100 [==============================] - 1s 11ms/step - loss: 0.1816\n",
      "Learning rate with decay: 0.0027173913549631834\n",
      "\n",
      "Epoch 68/1000\n",
      "100/100 [==============================] - 1s 11ms/step - loss: 0.1810\n",
      "Learning rate with decay: 0.0026881720405071974\n",
      "\n",
      "Epoch 69/1000\n",
      "100/100 [==============================] - 1s 11ms/step - loss: 0.1805\n",
      "Learning rate with decay: 0.002659574383869767\n",
      "\n",
      "Epoch 70/1000\n",
      "100/100 [==============================] - 1s 11ms/step - loss: 0.1799\n",
      "Learning rate with decay: 0.002631578827276826\n",
      "\n",
      "Epoch 71/1000\n",
      "100/100 [==============================] - 1s 11ms/step - loss: 0.1794\n",
      "Learning rate with decay: 0.0026041667442768812\n",
      "\n",
      "Epoch 72/1000\n",
      "100/100 [==============================] - 1s 11ms/step - loss: 0.1789\n",
      "Learning rate with decay: 0.002577319508418441\n",
      "\n",
      "Epoch 73/1000\n",
      "100/100 [==============================] - 1s 11ms/step - loss: 0.1784\n",
      "Learning rate with decay: 0.0025510203558951616\n",
      "\n",
      "Epoch 74/1000\n",
      "100/100 [==============================] - 1s 11ms/step - loss: 0.1779\n",
      "Learning rate with decay: 0.0025252525229007006\n",
      "\n",
      "Epoch 75/1000\n",
      "100/100 [==============================] - 1s 11ms/step - loss: 0.1775\n",
      "Learning rate with decay: 0.0024999999441206455\n",
      "\n",
      "Epoch 76/1000\n",
      "100/100 [==============================] - 1s 11ms/step - loss: 0.1770\n",
      "Learning rate with decay: 0.002475247485563159\n",
      "\n",
      "Epoch 77/1000\n",
      "100/100 [==============================] - 1s 11ms/step - loss: 0.1766\n",
      "Learning rate with decay: 0.0024509804788976908\n",
      "\n",
      "Epoch 78/1000\n",
      "100/100 [==============================] - 1s 11ms/step - loss: 0.1762\n",
      "Learning rate with decay: 0.0024271844886243343\n",
      "\n",
      "Epoch 79/1000\n",
      "100/100 [==============================] - 1s 11ms/step - loss: 0.1757\n",
      "Learning rate with decay: 0.0024038462433964014\n",
      "\n",
      "Epoch 80/1000\n",
      "100/100 [==============================] - 1s 11ms/step - loss: 0.1753\n",
      "Learning rate with decay: 0.0023809524718672037\n",
      "\n",
      "Epoch 81/1000\n",
      "100/100 [==============================] - 1s 11ms/step - loss: 0.1749\n",
      "Learning rate with decay: 0.002358490601181984\n",
      "\n",
      "Epoch 82/1000\n",
      "100/100 [==============================] - 1s 11ms/step - loss: 0.1745\n",
      "Learning rate with decay: 0.0023364487569779158\n",
      "\n",
      "Epoch 83/1000\n",
      "100/100 [==============================] - 1s 11ms/step - loss: 0.1742\n",
      "Learning rate with decay: 0.002314814832061529\n",
      "\n",
      "Epoch 84/1000\n",
      "100/100 [==============================] - 1s 11ms/step - loss: 0.1738\n",
      "Learning rate with decay: 0.002293578116223216\n",
      "\n",
      "Epoch 85/1000\n",
      "100/100 [==============================] - 1s 11ms/step - loss: 0.1734\n",
      "Learning rate with decay: 0.002272727433592081\n",
      "\n",
      "Epoch 86/1000\n",
      "100/100 [==============================] - 1s 11ms/step - loss: 0.1731\n",
      "Learning rate with decay: 0.0022522523067891598\n",
      "\n",
      "Epoch 87/1000\n",
      "100/100 [==============================] - 1s 11ms/step - loss: 0.1727\n",
      "Learning rate with decay: 0.002232142724096775\n",
      "\n",
      "Epoch 88/1000\n",
      "100/100 [==============================] - 1s 11ms/step - loss: 0.1724\n",
      "Learning rate with decay: 0.0022123893722891808\n",
      "\n",
      "Epoch 89/1000\n",
      "100/100 [==============================] - 1s 11ms/step - loss: 0.1721\n",
      "Learning rate with decay: 0.0021929824724793434\n",
      "\n",
      "Epoch 90/1000\n",
      "100/100 [==============================] - 1s 11ms/step - loss: 0.1717\n",
      "Learning rate with decay: 0.0021739129442721605\n",
      "\n",
      "Epoch 91/1000\n",
      "100/100 [==============================] - 1s 11ms/step - loss: 0.1714\n",
      "Learning rate with decay: 0.0021551724057644606\n",
      "\n",
      "Epoch 92/1000\n",
      "100/100 [==============================] - 1s 11ms/step - loss: 0.1711\n",
      "Learning rate with decay: 0.0021367522422224283\n",
      "\n",
      "Epoch 93/1000\n",
      "100/100 [==============================] - 1s 11ms/step - loss: 0.1708\n",
      "Learning rate with decay: 0.0021186438389122486\n",
      "\n",
      "Epoch 94/1000\n",
      "100/100 [==============================] - 1s 11ms/step - loss: 0.1705\n",
      "Learning rate with decay: 0.002100840210914612\n",
      "\n",
      "Epoch 95/1000\n",
      "100/100 [==============================] - 1s 11ms/step - loss: 0.1702\n",
      "Learning rate with decay: 0.00208333320915699\n",
      "\n",
      "Epoch 96/1000\n",
      "100/100 [==============================] - 1s 11ms/step - loss: 0.1699\n",
      "Learning rate with decay: 0.00206611561588943\n",
      "\n",
      "Epoch 97/1000\n",
      "100/100 [==============================] - 1s 11ms/step - loss: 0.1697\n",
      "Learning rate with decay: 0.0020491802133619785\n",
      "\n",
      "Epoch 98/1000\n",
      "100/100 [==============================] - 1s 11ms/step - loss: 0.1694\n",
      "Learning rate with decay: 0.0020325202494859695\n",
      "\n",
      "Epoch 99/1000\n",
      "100/100 [==============================] - 1s 11ms/step - loss: 0.1691\n",
      "Learning rate with decay: 0.002016128972172737\n",
      "\n",
      "Epoch 100/1000\n",
      "100/100 [==============================] - 1s 11ms/step - loss: 0.1689\n",
      "Learning rate with decay: 0.001999999862164259\n",
      "\n",
      "Epoch 101/1000\n",
      "100/100 [==============================] - 1s 11ms/step - loss: 0.1686\n",
      "Learning rate with decay: 0.0019841268658638\n",
      "\n",
      "Epoch 102/1000\n"
     ]
    },
    {
     "ename": "KeyboardInterrupt",
     "evalue": "",
     "output_type": "error",
     "traceback": [
      "\u001b[0;31m---------------------------------------------------------------------------\u001b[0m",
      "\u001b[0;31mKeyboardInterrupt\u001b[0m                         Traceback (most recent call last)",
      "\u001b[0;32m<ipython-input-38-073f7b301f46>\u001b[0m in \u001b[0;36m<module>\u001b[0;34m\u001b[0m\n\u001b[1;32m      5\u001b[0m           \u001b[0mepochs\u001b[0m\u001b[0;34m=\u001b[0m\u001b[0;36m1000\u001b[0m\u001b[0;34m,\u001b[0m\u001b[0;34m\u001b[0m\u001b[0m\n\u001b[1;32m      6\u001b[0m           \u001b[0mverbose\u001b[0m\u001b[0;34m=\u001b[0m\u001b[0;36m1\u001b[0m\u001b[0;34m,\u001b[0m\u001b[0;34m\u001b[0m\u001b[0m\n\u001b[0;32m----> 7\u001b[0;31m           callbacks=[print_info])\n\u001b[0m",
      "\u001b[0;32m~/anaconda3/lib/python3.6/site-packages/keras/engine/training.py\u001b[0m in \u001b[0;36mfit\u001b[0;34m(self, x, y, batch_size, epochs, verbose, callbacks, validation_split, validation_data, shuffle, class_weight, sample_weight, initial_epoch, steps_per_epoch, validation_steps, **kwargs)\u001b[0m\n\u001b[1;32m   1037\u001b[0m                                         \u001b[0minitial_epoch\u001b[0m\u001b[0;34m=\u001b[0m\u001b[0minitial_epoch\u001b[0m\u001b[0;34m,\u001b[0m\u001b[0;34m\u001b[0m\u001b[0m\n\u001b[1;32m   1038\u001b[0m                                         \u001b[0msteps_per_epoch\u001b[0m\u001b[0;34m=\u001b[0m\u001b[0msteps_per_epoch\u001b[0m\u001b[0;34m,\u001b[0m\u001b[0;34m\u001b[0m\u001b[0m\n\u001b[0;32m-> 1039\u001b[0;31m                                         validation_steps=validation_steps)\n\u001b[0m\u001b[1;32m   1040\u001b[0m \u001b[0;34m\u001b[0m\u001b[0m\n\u001b[1;32m   1041\u001b[0m     def evaluate(self, x=None, y=None,\n",
      "\u001b[0;32m~/anaconda3/lib/python3.6/site-packages/keras/engine/training_arrays.py\u001b[0m in \u001b[0;36mfit_loop\u001b[0;34m(model, f, ins, out_labels, batch_size, epochs, verbose, callbacks, val_f, val_ins, shuffle, callback_metrics, initial_epoch, steps_per_epoch, validation_steps)\u001b[0m\n\u001b[1;32m    197\u001b[0m                     \u001b[0mins_batch\u001b[0m\u001b[0;34m[\u001b[0m\u001b[0mi\u001b[0m\u001b[0;34m]\u001b[0m \u001b[0;34m=\u001b[0m \u001b[0mins_batch\u001b[0m\u001b[0;34m[\u001b[0m\u001b[0mi\u001b[0m\u001b[0;34m]\u001b[0m\u001b[0;34m.\u001b[0m\u001b[0mtoarray\u001b[0m\u001b[0;34m(\u001b[0m\u001b[0;34m)\u001b[0m\u001b[0;34m\u001b[0m\u001b[0m\n\u001b[1;32m    198\u001b[0m \u001b[0;34m\u001b[0m\u001b[0m\n\u001b[0;32m--> 199\u001b[0;31m                 \u001b[0mouts\u001b[0m \u001b[0;34m=\u001b[0m \u001b[0mf\u001b[0m\u001b[0;34m(\u001b[0m\u001b[0mins_batch\u001b[0m\u001b[0;34m)\u001b[0m\u001b[0;34m\u001b[0m\u001b[0m\n\u001b[0m\u001b[1;32m    200\u001b[0m                 \u001b[0mouts\u001b[0m \u001b[0;34m=\u001b[0m \u001b[0mto_list\u001b[0m\u001b[0;34m(\u001b[0m\u001b[0mouts\u001b[0m\u001b[0;34m)\u001b[0m\u001b[0;34m\u001b[0m\u001b[0m\n\u001b[1;32m    201\u001b[0m                 \u001b[0;32mfor\u001b[0m \u001b[0ml\u001b[0m\u001b[0;34m,\u001b[0m \u001b[0mo\u001b[0m \u001b[0;32min\u001b[0m \u001b[0mzip\u001b[0m\u001b[0;34m(\u001b[0m\u001b[0mout_labels\u001b[0m\u001b[0;34m,\u001b[0m \u001b[0mouts\u001b[0m\u001b[0;34m)\u001b[0m\u001b[0;34m:\u001b[0m\u001b[0;34m\u001b[0m\u001b[0m\n",
      "\u001b[0;32m~/anaconda3/lib/python3.6/site-packages/keras/backend/tensorflow_backend.py\u001b[0m in \u001b[0;36m__call__\u001b[0;34m(self, inputs)\u001b[0m\n\u001b[1;32m   2713\u001b[0m                 \u001b[0;32mreturn\u001b[0m \u001b[0mself\u001b[0m\u001b[0;34m.\u001b[0m\u001b[0m_legacy_call\u001b[0m\u001b[0;34m(\u001b[0m\u001b[0minputs\u001b[0m\u001b[0;34m)\u001b[0m\u001b[0;34m\u001b[0m\u001b[0m\n\u001b[1;32m   2714\u001b[0m \u001b[0;34m\u001b[0m\u001b[0m\n\u001b[0;32m-> 2715\u001b[0;31m             \u001b[0;32mreturn\u001b[0m \u001b[0mself\u001b[0m\u001b[0;34m.\u001b[0m\u001b[0m_call\u001b[0m\u001b[0;34m(\u001b[0m\u001b[0minputs\u001b[0m\u001b[0;34m)\u001b[0m\u001b[0;34m\u001b[0m\u001b[0m\n\u001b[0m\u001b[1;32m   2716\u001b[0m         \u001b[0;32melse\u001b[0m\u001b[0;34m:\u001b[0m\u001b[0;34m\u001b[0m\u001b[0m\n\u001b[1;32m   2717\u001b[0m             \u001b[0;32mif\u001b[0m \u001b[0mpy_any\u001b[0m\u001b[0;34m(\u001b[0m\u001b[0mis_tensor\u001b[0m\u001b[0;34m(\u001b[0m\u001b[0mx\u001b[0m\u001b[0;34m)\u001b[0m \u001b[0;32mfor\u001b[0m \u001b[0mx\u001b[0m \u001b[0;32min\u001b[0m \u001b[0minputs\u001b[0m\u001b[0;34m)\u001b[0m\u001b[0;34m:\u001b[0m\u001b[0;34m\u001b[0m\u001b[0m\n",
      "\u001b[0;32m~/anaconda3/lib/python3.6/site-packages/keras/backend/tensorflow_backend.py\u001b[0m in \u001b[0;36m_call\u001b[0;34m(self, inputs)\u001b[0m\n\u001b[1;32m   2673\u001b[0m             \u001b[0mfetched\u001b[0m \u001b[0;34m=\u001b[0m \u001b[0mself\u001b[0m\u001b[0;34m.\u001b[0m\u001b[0m_callable_fn\u001b[0m\u001b[0;34m(\u001b[0m\u001b[0;34m*\u001b[0m\u001b[0marray_vals\u001b[0m\u001b[0;34m,\u001b[0m \u001b[0mrun_metadata\u001b[0m\u001b[0;34m=\u001b[0m\u001b[0mself\u001b[0m\u001b[0;34m.\u001b[0m\u001b[0mrun_metadata\u001b[0m\u001b[0;34m)\u001b[0m\u001b[0;34m\u001b[0m\u001b[0m\n\u001b[1;32m   2674\u001b[0m         \u001b[0;32melse\u001b[0m\u001b[0;34m:\u001b[0m\u001b[0;34m\u001b[0m\u001b[0m\n\u001b[0;32m-> 2675\u001b[0;31m             \u001b[0mfetched\u001b[0m \u001b[0;34m=\u001b[0m \u001b[0mself\u001b[0m\u001b[0;34m.\u001b[0m\u001b[0m_callable_fn\u001b[0m\u001b[0;34m(\u001b[0m\u001b[0;34m*\u001b[0m\u001b[0marray_vals\u001b[0m\u001b[0;34m)\u001b[0m\u001b[0;34m\u001b[0m\u001b[0m\n\u001b[0m\u001b[1;32m   2676\u001b[0m         \u001b[0;32mreturn\u001b[0m \u001b[0mfetched\u001b[0m\u001b[0;34m[\u001b[0m\u001b[0;34m:\u001b[0m\u001b[0mlen\u001b[0m\u001b[0;34m(\u001b[0m\u001b[0mself\u001b[0m\u001b[0;34m.\u001b[0m\u001b[0moutputs\u001b[0m\u001b[0;34m)\u001b[0m\u001b[0;34m]\u001b[0m\u001b[0;34m\u001b[0m\u001b[0m\n\u001b[1;32m   2677\u001b[0m \u001b[0;34m\u001b[0m\u001b[0m\n",
      "\u001b[0;32m~/anaconda3/lib/python3.6/site-packages/tensorflow/python/client/session.py\u001b[0m in \u001b[0;36m__call__\u001b[0;34m(self, *args, **kwargs)\u001b[0m\n\u001b[1;32m   1437\u001b[0m           ret = tf_session.TF_SessionRunCallable(\n\u001b[1;32m   1438\u001b[0m               \u001b[0mself\u001b[0m\u001b[0;34m.\u001b[0m\u001b[0m_session\u001b[0m\u001b[0;34m.\u001b[0m\u001b[0m_session\u001b[0m\u001b[0;34m,\u001b[0m \u001b[0mself\u001b[0m\u001b[0;34m.\u001b[0m\u001b[0m_handle\u001b[0m\u001b[0;34m,\u001b[0m \u001b[0margs\u001b[0m\u001b[0;34m,\u001b[0m \u001b[0mstatus\u001b[0m\u001b[0;34m,\u001b[0m\u001b[0;34m\u001b[0m\u001b[0m\n\u001b[0;32m-> 1439\u001b[0;31m               run_metadata_ptr)\n\u001b[0m\u001b[1;32m   1440\u001b[0m         \u001b[0;32mif\u001b[0m \u001b[0mrun_metadata\u001b[0m\u001b[0;34m:\u001b[0m\u001b[0;34m\u001b[0m\u001b[0m\n\u001b[1;32m   1441\u001b[0m           \u001b[0mproto_data\u001b[0m \u001b[0;34m=\u001b[0m \u001b[0mtf_session\u001b[0m\u001b[0;34m.\u001b[0m\u001b[0mTF_GetBuffer\u001b[0m\u001b[0;34m(\u001b[0m\u001b[0mrun_metadata_ptr\u001b[0m\u001b[0;34m)\u001b[0m\u001b[0;34m\u001b[0m\u001b[0m\n",
      "\u001b[0;31mKeyboardInterrupt\u001b[0m: "
     ]
    }
   ],
   "source": [
    "#model.fit(images.reshape(-1, 320, 320, 3), labels.reshape(-1, 2), batch_size=10, epochs=10, verbose=1)\n",
    "model.fit(images.reshape(-1, 320, 320, 3),\n",
    "          labels.reshape(-1, ANCHOR_HEIGHT, ANCHOR_WIDTH, 3),\n",
    "          batch_size=BATCHSIZE,\n",
    "          epochs=1000,\n",
    "          verbose=1,\n",
    "          callbacks=[print_info])"
   ]
  },
  {
   "cell_type": "code",
   "execution_count": 39,
   "metadata": {},
   "outputs": [],
   "source": [
    "CHECK_IMAGE_INDEX = 2"
   ]
  },
  {
   "cell_type": "code",
   "execution_count": 40,
   "metadata": {
    "scrolled": true
   },
   "outputs": [],
   "source": [
    "res = model.predict(images[CHECK_IMAGE_INDEX].reshape(1, 320, 320, 3)).reshape(ANCHOR_HEIGHT, ANCHOR_WIDTH, 3)"
   ]
  },
  {
   "cell_type": "code",
   "execution_count": 41,
   "metadata": {
    "scrolled": true
   },
   "outputs": [
    {
     "name": "stdout",
     "output_type": "stream",
     "text": [
      "Max values found: 84\n",
      "0.09040439\n"
     ]
    }
   ],
   "source": [
    "indicies = np.where(res[:,:,0] == res[:,:,0].max())\n",
    "#print(indicies)\n",
    "print(f\"Max values found: {len(indicies[0])}\")\n",
    "print(res[indicies[0][0], indicies[1][0], 0])\n",
    "#print(res[indicies[0][5], indicies[1][5], 0])"
   ]
  },
  {
   "cell_type": "code",
   "execution_count": 42,
   "metadata": {},
   "outputs": [
    {
     "name": "stdout",
     "output_type": "stream",
     "text": [
      "Max values in labels: 1\n"
     ]
    }
   ],
   "source": [
    "label_indicies = np.where(labels[CHECK_IMAGE_INDEX, :, :, 0] == labels[CHECK_IMAGE_INDEX, :, :, 0].max())\n",
    "print(f\"Max values in labels: {len(label_indicies[0])}\")"
   ]
  },
  {
   "cell_type": "code",
   "execution_count": 43,
   "metadata": {
    "scrolled": true
   },
   "outputs": [
    {
     "name": "stdout",
     "output_type": "stream",
     "text": [
      "Number of anchors: 1600\n",
      "Max value: 0.09040439128875732\n",
      "Number of values above or equal to 0.09040439128875732: 84\n"
     ]
    }
   ],
   "source": [
    "print(f\"Number of anchors: {ANCHOR_WIDTH * ANCHOR_HEIGHT}\")\n",
    "max_val = np.max(res[:, :, 0])\n",
    "print(f\"Max value: {max_val}\")\n",
    "above_val = max_val\n",
    "print(f\"Number of values above or equal to {above_val}: {np.count_nonzero(res[:, :, 0] >= above_val)}\")"
   ]
  },
  {
   "cell_type": "code",
   "execution_count": 44,
   "metadata": {},
   "outputs": [
    {
     "name": "stdout",
     "output_type": "stream",
     "text": [
      "max label index: 27\n",
      "Values above threshold: 84\n",
      "max label index: 23\n",
      "Values above threshold: 1\n"
     ]
    },
    {
     "data": {
      "image/png": "[encoded data removed]",
      "text/plain": [
       "<Figure size 1080x576 with 1 Axes>"
      ]
     },
     "metadata": {
      "needs_background": "light"
     },
     "output_type": "display_data"
    }
   ],
   "source": [
    "# Copy the image, so we don't change anything\n",
    "im_res = np.copy(images[CHECK_IMAGE_INDEX])\n",
    "\n",
    "for x_res, y_res in get_all_points_from_prediction(res, threshold=above_val):\n",
    "    cv2.circle(im_res, (y_res, x_res), 1, (0, 255, 0), thickness=2)\n",
    "\n",
    "x_actual, y_actual = get_all_points_from_prediction(labels[CHECK_IMAGE_INDEX])[0]\n",
    "cv2.circle(im_res, (y_actual, x_actual), 2, (255, 0, 0), thickness=5)\n",
    "    \n",
    "f = plt.figure(figsize=(15, 8))\n",
    "plt.imshow(im_res)\n",
    "plt.title(\"Predicted in green, center in red.\")\n",
    "plt.show()"
   ]
  },
  {
   "cell_type": "code",
   "execution_count": 45,
   "metadata": {},
   "outputs": [
    {
     "name": "stdout",
     "output_type": "stream",
     "text": [
      "{'input': <keras.engine.input_layer.InputLayer object at 0x7fc988308c18>, 'conv1': <keras.layers.convolutional.Conv2D object at 0x7fc988308f98>, 'pool1': <keras.layers.pooling.MaxPooling2D object at 0x7fc988308f60>, 'fire1/squeeze1x1': <keras.layers.convolutional.Conv2D object at 0x7fc98830af98>, 'fire1/expand1x1': <keras.layers.convolutional.Conv2D object at 0x7fc9882cfb00>, 'fire1/expand3x3': <keras.layers.convolutional.Conv2D object at 0x7fc9882df4e0>, 'concatenate_1': <keras.layers.merge.Concatenate object at 0x7fc988294e48>, 'fire2/squeeze1x1': <keras.layers.convolutional.Conv2D object at 0x7fc9882fa780>, 'fire2/expand1x1': <keras.layers.convolutional.Conv2D object at 0x7fc9882aeb38>, 'fire2/expand3x3': <keras.layers.convolutional.Conv2D object at 0x7fc988250be0>, 'concatenate_2': <keras.layers.merge.Concatenate object at 0x7fc988270ef0>, 'fire3/squeeze1x1': <keras.layers.convolutional.Conv2D object at 0x7fc9882ae630>, 'fire3/expand1x1': <keras.layers.convolutional.Conv2D object at 0x7fc9882236a0>, 'fire3/expand3x3': <keras.layers.convolutional.Conv2D object at 0x7fc9881d3d68>, 'concatenate_3': <keras.layers.merge.Concatenate object at 0x7fc9881eaba8>, 'pool2': <keras.layers.pooling.MaxPooling2D object at 0x7fc9881eada0>, 'pred_conf': <keras.layers.convolutional.Conv2D object at 0x7fc9881ac080>, 'pred_offset': <keras.layers.convolutional.Conv2D object at 0x7fc9881acd68>, 'concatenate_4': <keras.layers.merge.Concatenate object at 0x7fc98814c940>}\n"
     ]
    }
   ],
   "source": [
    "layer_dict = dict([(layer.name, layer) for layer in model.layers])\n",
    "print(layer_dict)"
   ]
  },
  {
   "cell_type": "code",
   "execution_count": 58,
   "metadata": {},
   "outputs": [],
   "source": [
    "def get_image_from_filterdata(filter_data):\n",
    "    if(np.min(filter_data) < 0):\n",
    "        filter_data = filter_data - np.min(filter_data)\n",
    "\n",
    "    filter_data = (filter_data - np.min(filter_data)) / (np.max(filter_data) - np.min(filter_data))\n",
    "    filter_data_gray = np.zeros((filter_data.shape[0], filter_data.shape[1]))\n",
    "    filter_data_gray = np.mean(filter_data, axis=2)\n",
    "    \n",
    "    return filter_data_gray"
   ]
  },
  {
   "cell_type": "code",
   "execution_count": 73,
   "metadata": {
    "scrolled": false
   },
   "outputs": [
    {
     "data": {
      "image/png": "[encoded data removed]",
      "text/plain": [
       "<Figure size 1080x2304 with 32 Axes>"
      ]
     },
     "metadata": {
      "needs_background": "light"
     },
     "output_type": "display_data"
    }
   ],
   "source": [
    "layer_name = \"conv1\"\n",
    "num_filters = 32\n",
    "\n",
    "col_plots = 4\n",
    "row_plots = int(np.ceil(num_filters / 4))\n",
    "\n",
    "f, subs = plt.subplots(row_plots, col_plots, figsize=(15, 4*row_plots))\n",
    "subs = subs.ravel()\n",
    "\n",
    "layer_output = layer_dict[layer_name].output\n",
    "\n",
    "for i in range(num_filters):\n",
    "    #filter_weights = layer_output[:, :, :, i]\n",
    "    filters = layer_dict[layer_name].get_weights()[0]\n",
    "    filter_index_data = filters[:, :, :, i]\n",
    "    filter_index_gray = get_image_from_filterdata(filter_index_data)\n",
    "\n",
    "    subs[i].imshow(filter_index_gray, cmap='gray')\n",
    "    subs[i].set_title(f\"Filter {i}\")"
   ]
  },
  {
   "cell_type": "code",
   "execution_count": null,
   "metadata": {},
   "outputs": [],
   "source": []
  }
 ],
 "metadata": {
  "kernelspec": {
   "display_name": "Python 3",
   "language": "python",
   "name": "python3"
  },
  "language_info": {
   "codemirror_mode": {
    "name": "ipython",
    "version": 3
   },
   "file_extension": ".py",
   "mimetype": "text/x-python",
   "name": "python",
   "nbconvert_exporter": "python",
   "pygments_lexer": "ipython3",
   "version": "3.6.6"
  }
 },
 "nbformat": 4,
 "nbformat_minor": 2
}
