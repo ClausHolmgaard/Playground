{
 "cells": [
  {
   "cell_type": "markdown",
   "metadata": {},
   "source": [
    "### Generate test data\n",
    "Need some very simple data to test models on."
   ]
  },
  {
   "cell_type": "code",
   "execution_count": 1,
   "metadata": {},
   "outputs": [],
   "source": [
    "import numpy as np\n",
    "import matplotlib.pyplot as plt\n",
    "import cv2\n",
    "import os"
   ]
  },
  {
   "cell_type": "code",
   "execution_count": 2,
   "metadata": {},
   "outputs": [
    {
     "name": "stdout",
     "output_type": "stream",
     "text": [
      "./data/annot\n"
     ]
    }
   ],
   "source": [
    "DATA_DIR = r\"./data\"\n",
    "ANNOTATION_FILE = r\"annot\"\n",
    "annotation = os.path.join(DATA_DIR, ANNOTATION_FILE)\n",
    "print(annotation)"
   ]
  },
  {
   "cell_type": "code",
   "execution_count": 3,
   "metadata": {},
   "outputs": [],
   "source": [
    "WIDTH = 320\n",
    "HEIGHT = 320"
   ]
  },
  {
   "cell_type": "code",
   "execution_count": 4,
   "metadata": {},
   "outputs": [],
   "source": [
    "BOX_MIN = 50\n",
    "BOX_MAX = 100"
   ]
  },
  {
   "cell_type": "code",
   "execution_count": 5,
   "metadata": {},
   "outputs": [],
   "source": [
    "NUM_IMAGES = 100"
   ]
  },
  {
   "cell_type": "code",
   "execution_count": 6,
   "metadata": {},
   "outputs": [],
   "source": [
    "def generate_random_boximage():\n",
    "    im = np.zeros((320, 320, 3), dtype=np.float32)\n",
    "\n",
    "    w = np.random.randint(BOX_MIN, BOX_MAX)\n",
    "    h = np.random.randint(BOX_MIN, BOX_MAX)\n",
    "    x = np.random.randint(w, WIDTH-w)\n",
    "    y = np.random.randint(h, HEIGHT-h)\n",
    "\n",
    "    im[x:x+w,y:y+h] = (0, 0, 255)\n",
    "    \n",
    "    center_x = int(x + w/2)\n",
    "    center_y = int(y + h/2)\n",
    "    \n",
    "    #im /= 255.0\n",
    "    #center_x /= 255.0\n",
    "    #center_y /=255.0\n",
    "    \n",
    "    return im, (center_x, center_y)"
   ]
  },
  {
   "cell_type": "code",
   "execution_count": 7,
   "metadata": {},
   "outputs": [
    {
     "data": {
      "image/png": "[encoded data removed]",
      "text/plain": [
       "<Figure size 432x288 with 1 Axes>"
      ]
     },
     "metadata": {
      "needs_background": "light"
     },
     "output_type": "display_data"
    }
   ],
   "source": [
    "im, center = generate_random_boximage()\n",
    "im = im.astype(np.uint8)\n",
    "#center_x = int(center[0] * 255.0)\n",
    "#center_y = int(center[1] * 255.0)\n",
    "cv2.circle(im, (center[1], center[0]), 2, (255, 0, 0), thickness=5)\n",
    "\n",
    "plt.imshow(im)\n",
    "plt.show()"
   ]
  },
  {
   "cell_type": "code",
   "execution_count": 8,
   "metadata": {},
   "outputs": [],
   "source": [
    "with open(annotation, 'w') as f:\n",
    "    for i in range(NUM_IMAGES):\n",
    "        im_file_name = f\"{i}.jpg\"\n",
    "        im, center = generate_random_boximage()\n",
    "        f.write(f\"{im_file_name},{center[0]},{center[1]}\\n\")\n",
    "        #im_to_save = cv2.cvtColor(im, cv2.COLOR_BGR2RGB)\n",
    "        im_to_save = im\n",
    "        cv2.imwrite(os.path.join(DATA_DIR, im_file_name), im)"
   ]
  }
 ],
 "metadata": {
  "kernelspec": {
   "display_name": "Python 3",
   "language": "python",
   "name": "python3"
  },
  "language_info": {
   "codemirror_mode": {
    "name": "ipython",
    "version": 3
   },
   "file_extension": ".py",
   "mimetype": "text/x-python",
   "name": "python",
   "nbconvert_exporter": "python",
   "pygments_lexer": "ipython3",
   "version": "3.6.6"
  }
 },
 "nbformat": 4,
 "nbformat_minor": 2
}
