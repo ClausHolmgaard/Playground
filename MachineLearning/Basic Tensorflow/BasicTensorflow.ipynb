{
  "nbformat": 4,
  "nbformat_minor": 0,
  "metadata": {
    "kernelspec": {
      "display_name": "Python 3",
      "language": "python",
      "name": "python3"
    },
    "language_info": {
      "codemirror_mode": {
        "name": "ipython",
        "version": 3
      },
      "file_extension": ".py",
      "mimetype": "text/x-python",
      "name": "python",
      "nbconvert_exporter": "python",
      "pygments_lexer": "ipython3",
      "version": "3.6.5"
    },
    "colab": {
      "name": "BasicTensorflow.ipynb",
      "provenance": []
    }
  },
  "cells": [
    {
      "cell_type": "markdown",
      "metadata": {
        "id": "RGdJ1YT72qA_",
        "colab_type": "text"
      },
      "source": [
        "Testing from Colab"
      ]
    },
    {
      "cell_type": "code",
      "metadata": {
        "id": "fsdahM8p2gYC",
        "colab_type": "code",
        "colab": {}
      },
      "source": [
        "import tensorflow as tf"
      ],
      "execution_count": 1,
      "outputs": []
    },
    {
      "cell_type": "markdown",
      "metadata": {
        "id": "OCepqOSZ2gYG",
        "colab_type": "text"
      },
      "source": [
        "All computations in tensorflow is nodes in a computational graph. A simple one is seen below, adding two numbers."
      ]
    },
    {
      "cell_type": "markdown",
      "metadata": {
        "id": "93gWTkLC2gYG",
        "colab_type": "text"
      },
      "source": [
        "### A very simple example\n",
        "...adding two numbers"
      ]
    },
    {
      "cell_type": "markdown",
      "metadata": {
        "id": "K6VP4TAA2gYH",
        "colab_type": "text"
      },
      "source": [
        "We need to add all operations to a graph. Here we are not specifying any, and so use the default graph."
      ]
    },
    {
      "cell_type": "code",
      "metadata": {
        "id": "M8uaWXqm2gYH",
        "colab_type": "code",
        "colab": {
          "base_uri": "https://localhost:8080/",
          "height": 197
        },
        "outputId": "a11719b2-1803-440c-ae9c-920422998eb7"
      },
      "source": [
        "a = tf.constant(1.0, name='a')\n",
        "b = tf.placeholder(tf.float32, name='b')\n",
        "y = tf.add(a, b, name='y')"
      ],
      "execution_count": 2,
      "outputs": [
        {
          "output_type": "error",
          "ename": "AttributeError",
          "evalue": "ignored",
          "traceback": [
            "\u001b[0;31m---------------------------------------------------------------------------\u001b[0m",
            "\u001b[0;31mAttributeError\u001b[0m                            Traceback (most recent call last)",
            "\u001b[0;32m<ipython-input-2-43772c241541>\u001b[0m in \u001b[0;36m<module>\u001b[0;34m()\u001b[0m\n\u001b[1;32m      1\u001b[0m \u001b[0ma\u001b[0m \u001b[0;34m=\u001b[0m \u001b[0mtf\u001b[0m\u001b[0;34m.\u001b[0m\u001b[0mconstant\u001b[0m\u001b[0;34m(\u001b[0m\u001b[0;36m1.0\u001b[0m\u001b[0;34m,\u001b[0m \u001b[0mname\u001b[0m\u001b[0;34m=\u001b[0m\u001b[0;34m'a'\u001b[0m\u001b[0;34m)\u001b[0m\u001b[0;34m\u001b[0m\u001b[0;34m\u001b[0m\u001b[0m\n\u001b[0;32m----> 2\u001b[0;31m \u001b[0mb\u001b[0m \u001b[0;34m=\u001b[0m \u001b[0mtf\u001b[0m\u001b[0;34m.\u001b[0m\u001b[0mplaceholder\u001b[0m\u001b[0;34m(\u001b[0m\u001b[0mtf\u001b[0m\u001b[0;34m.\u001b[0m\u001b[0mfloat32\u001b[0m\u001b[0;34m,\u001b[0m \u001b[0mname\u001b[0m\u001b[0;34m=\u001b[0m\u001b[0;34m'b'\u001b[0m\u001b[0;34m)\u001b[0m\u001b[0;34m\u001b[0m\u001b[0;34m\u001b[0m\u001b[0m\n\u001b[0m\u001b[1;32m      3\u001b[0m \u001b[0my\u001b[0m \u001b[0;34m=\u001b[0m \u001b[0mtf\u001b[0m\u001b[0;34m.\u001b[0m\u001b[0madd\u001b[0m\u001b[0;34m(\u001b[0m\u001b[0ma\u001b[0m\u001b[0;34m,\u001b[0m \u001b[0mb\u001b[0m\u001b[0;34m,\u001b[0m \u001b[0mname\u001b[0m\u001b[0;34m=\u001b[0m\u001b[0;34m'y'\u001b[0m\u001b[0;34m)\u001b[0m\u001b[0;34m\u001b[0m\u001b[0;34m\u001b[0m\u001b[0m\n",
            "\u001b[0;31mAttributeError\u001b[0m: module 'tensorflow' has no attribute 'placeholder'"
          ]
        }
      ]
    },
    {
      "cell_type": "markdown",
      "metadata": {
        "id": "MwyT2on62gYK",
        "colab_type": "text"
      },
      "source": [
        "Three nodes are defined.\n",
        "- a is a constant with a predfined value\n",
        "- b is a placeholder, where we will provide a value when the graph is evaluated.\n",
        "- y is an addition of the two previous values\n",
        "\n",
        "The name parameters are provided to make the graph easier to read.<br>\n",
        "Instead of using the add method, we could write ``` y = a + b```, but we wouldn't be able to name the node."
      ]
    },
    {
      "cell_type": "code",
      "metadata": {
        "id": "f94FDwGp2gYL",
        "colab_type": "code",
        "colab": {
          "base_uri": "https://localhost:8080/",
          "height": 163
        },
        "outputId": "ae6c28c0-8a0b-424b-ad79-fc61e2251a4f"
      },
      "source": [
        "tf.summary.FileWriter(\"/home/claus/temp/logs/basic/\", tf.get_default_graph()).close()"
      ],
      "execution_count": 3,
      "outputs": [
        {
          "output_type": "error",
          "ename": "AttributeError",
          "evalue": "ignored",
          "traceback": [
            "\u001b[0;31m---------------------------------------------------------------------------\u001b[0m",
            "\u001b[0;31mAttributeError\u001b[0m                            Traceback (most recent call last)",
            "\u001b[0;32m<ipython-input-3-d1d0429be234>\u001b[0m in \u001b[0;36m<module>\u001b[0;34m()\u001b[0m\n\u001b[0;32m----> 1\u001b[0;31m \u001b[0mtf\u001b[0m\u001b[0;34m.\u001b[0m\u001b[0msummary\u001b[0m\u001b[0;34m.\u001b[0m\u001b[0mFileWriter\u001b[0m\u001b[0;34m(\u001b[0m\u001b[0;34m\"/home/claus/temp/logs/basic/\"\u001b[0m\u001b[0;34m,\u001b[0m \u001b[0mtf\u001b[0m\u001b[0;34m.\u001b[0m\u001b[0mget_default_graph\u001b[0m\u001b[0;34m(\u001b[0m\u001b[0;34m)\u001b[0m\u001b[0;34m)\u001b[0m\u001b[0;34m.\u001b[0m\u001b[0mclose\u001b[0m\u001b[0;34m(\u001b[0m\u001b[0;34m)\u001b[0m\u001b[0;34m\u001b[0m\u001b[0;34m\u001b[0m\u001b[0m\n\u001b[0m",
            "\u001b[0;31mAttributeError\u001b[0m: module 'tensorboard.summary._tf.summary' has no attribute 'FileWriter'"
          ]
        }
      ]
    },
    {
      "cell_type": "markdown",
      "metadata": {
        "id": "byraYf0b2gYT",
        "colab_type": "text"
      },
      "source": [
        "Here we use the Tensorflow filewriter to write the graph to disk. Tensorboard can then be used to view it, the result is seen below."
      ]
    },
    {
      "cell_type": "markdown",
      "metadata": {
        "id": "EDrehlDz2gYT",
        "colab_type": "text"
      },
      "source": [
        "<img src=\"https://github.com/ClausHolmgaard/Playground/blob/master/MachineLearning/Basic%20Tensorflow/img/AdditionGraph.png?raw=1\" width=300 height=60>"
      ]
    },
    {
      "cell_type": "markdown",
      "metadata": {
        "id": "3esISN5P2gYU",
        "colab_type": "text"
      },
      "source": [
        "The graph needs to be launched in a session."
      ]
    },
    {
      "cell_type": "code",
      "metadata": {
        "id": "n1L1l9uX2gYU",
        "colab_type": "code",
        "colab": {},
        "outputId": "0bef87b1-be7b-4ad8-a96e-122f4900250a"
      },
      "source": [
        "with tf.Session() as sess:\n",
        "    res = sess.run(y, feed_dict={b: 2.0})\n",
        "print(res)"
      ],
      "execution_count": null,
      "outputs": [
        {
          "output_type": "stream",
          "text": [
            "3.0\n"
          ],
          "name": "stdout"
        }
      ]
    },
    {
      "cell_type": "markdown",
      "metadata": {
        "id": "3r_ymu042gYa",
        "colab_type": "text"
      },
      "source": [
        "We call the run method on the session, and ask it to evaluate the ```y``` node. Of particular interest is the ```feed_dict``` parameter, here we pass all the values to whatever placeholders is needed to evaluate the relevant node."
      ]
    },
    {
      "cell_type": "code",
      "metadata": {
        "id": "RwTvxIO72gYb",
        "colab_type": "code",
        "colab": {},
        "outputId": "4a803478-2281-4ab2-a4a8-e22bdc0133d3"
      },
      "source": [
        "sess = tf.InteractiveSession()\n",
        "res = y.eval(feed_dict={b:5.0})\n",
        "sess.close()\n",
        "print(res)"
      ],
      "execution_count": null,
      "outputs": [
        {
          "output_type": "stream",
          "text": [
            "6.0\n"
          ],
          "name": "stdout"
        }
      ]
    },
    {
      "cell_type": "markdown",
      "metadata": {
        "id": "bpmZgtmS2gYe",
        "colab_type": "text"
      },
      "source": [
        "Another way to evaluate a node. Of use in interactive environments, like Jupyter notebooks."
      ]
    },
    {
      "cell_type": "markdown",
      "metadata": {
        "id": "G-7FfgX22gYe",
        "colab_type": "text"
      },
      "source": [
        "Computational Graph"
      ]
    },
    {
      "cell_type": "markdown",
      "metadata": {
        "id": "XqXHSfY12gYf",
        "colab_type": "text"
      },
      "source": [
        "Tensorboard"
      ]
    },
    {
      "cell_type": "markdown",
      "metadata": {
        "id": "vf7qut3W2gYg",
        "colab_type": "text"
      },
      "source": [
        "A complete example"
      ]
    },
    {
      "cell_type": "code",
      "metadata": {
        "id": "O9SWhRpm2gYh",
        "colab_type": "code",
        "colab": {}
      },
      "source": [
        "g = tf.Graph()\n",
        "\n",
        "with g.as_default():\n",
        "    a = tf.constant(1.0, name='a')\n",
        "    b = tf.placeholder(tf.float32, name='b')\n",
        "    y = a + b"
      ],
      "execution_count": null,
      "outputs": []
    },
    {
      "cell_type": "code",
      "metadata": {
        "id": "QSwlnByV2gYj",
        "colab_type": "code",
        "colab": {},
        "outputId": "1ac147e0-2094-4fc8-e40a-c89e8bd70a18"
      },
      "source": [
        "with g.as_default():\n",
        "    with tf.Session() as sess:\n",
        "        sess.run(tf.global_variables_initializer())\n",
        "        res = sess.run(y, feed_dict={b: 2.0})\n",
        "    print(res)"
      ],
      "execution_count": null,
      "outputs": [
        {
          "output_type": "stream",
          "text": [
            "3.0\n"
          ],
          "name": "stdout"
        }
      ]
    }
  ]
}