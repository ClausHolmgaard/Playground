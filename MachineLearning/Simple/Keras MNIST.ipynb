{
 "cells": [
  {
   "cell_type": "code",
   "execution_count": 1,
   "metadata": {},
   "outputs": [
    {
     "name": "stderr",
     "output_type": "stream",
     "text": [
      "Using TensorFlow backend.\n"
     ]
    }
   ],
   "source": [
    "import numpy as np\n",
    "import tensorflow as tf\n",
    "import matplotlib.pyplot as plt\n",
    "from keras.layers import Input, Dense\n",
    "from keras.models import Model, Sequential\n",
    "from keras import optimizers\n",
    "from tqdm import tqdm_notebook as tqdm"
   ]
  },
  {
   "cell_type": "code",
   "execution_count": 2,
   "metadata": {},
   "outputs": [
    {
     "name": "stdout",
     "output_type": "stream",
     "text": [
      "(60000, 28, 28)\n",
      "(60000,)\n",
      "(10000, 28, 28)\n",
      "(10000,)\n"
     ]
    }
   ],
   "source": [
    "mnist = tf.keras.datasets.mnist\n",
    "mnist_data = mnist.load_data()\n",
    "mnist_data_train = np.array(mnist_data[0][0])\n",
    "mnist_label_train = np.array(mnist_data[0][1])\n",
    "mnist_data_test = np.array(mnist_data[1][0])\n",
    "mnist_label_test = np.array(mnist_data[1][1])\n",
    "print(mnist_data_train.shape)\n",
    "print(mnist_label_train.shape)\n",
    "print(mnist_data_test.shape)\n",
    "print(mnist_label_test.shape)"
   ]
  },
  {
   "cell_type": "code",
   "execution_count": 3,
   "metadata": {},
   "outputs": [
    {
     "name": "stdout",
     "output_type": "stream",
     "text": [
      "Max value: 255\n",
      "Min value: 0\n",
      "Type: uint8\n",
      "Height: 28, width: 28\n"
     ]
    }
   ],
   "source": [
    "print(f\"Max value: {np.max(mnist_data_train)}\")\n",
    "print(f\"Min value: {np.min(mnist_data_train)}\")\n",
    "print(f\"Type: {mnist_data_train.dtype}\")\n",
    "height = mnist_data_train[0].shape[0]\n",
    "width = mnist_data_train[0].shape[1]\n",
    "print(f\"Height: {height}, width: {width}\")"
   ]
  },
  {
   "cell_type": "code",
   "execution_count": 4,
   "metadata": {},
   "outputs": [
    {
     "name": "stdout",
     "output_type": "stream",
     "text": [
      "Number of inputs: 784\n",
      "number of training samples: 60000\n"
     ]
    }
   ],
   "source": [
    "num_inputs = height * width\n",
    "num_train_data = mnist_data_train.shape[0]\n",
    "print(f\"Number of inputs: {num_inputs}\")\n",
    "print(f\"number of training samples: {num_train_data}\")"
   ]
  },
  {
   "cell_type": "code",
   "execution_count": 5,
   "metadata": {},
   "outputs": [
    {
     "data": {
      "text/plain": [
       "Text(0.5, 1.0, '5')"
      ]
     },
     "execution_count": 5,
     "metadata": {},
     "output_type": "execute_result"
    },
    {
     "data": {
      "image/png": "[encoded data removed]",
      "text/plain": [
       "<Figure size 432x288 with 1 Axes>"
      ]
     },
     "metadata": {
      "needs_background": "light"
     },
     "output_type": "display_data"
    }
   ],
   "source": [
    "plt.imshow(mnist_data_train[0], cmap='gray')\n",
    "plt.title(mnist_label_train[0])"
   ]
  },
  {
   "cell_type": "code",
   "execution_count": 6,
   "metadata": {},
   "outputs": [],
   "source": [
    "inp = Input(shape=(num_inputs,), name=\"input\")\n",
    "h = Dense(units=1, activation='linear')(inp)\n",
    "model = Model(inputs=inp, outputs=h)\n",
    "\n",
    "model.compile(loss='mse', optimizer=optimizers.Adam(lr=1e-1))"
   ]
  },
  {
   "cell_type": "code",
   "execution_count": 7,
   "metadata": {
    "scrolled": false
   },
   "outputs": [
    {
     "name": "stdout",
     "output_type": "stream",
     "text": [
      "_________________________________________________________________\n",
      "Layer (type)                 Output Shape              Param #   \n",
      "=================================================================\n",
      "input (InputLayer)           (None, 784)               0         \n",
      "_________________________________________________________________\n",
      "dense_1 (Dense)              (None, 1)                 785       \n",
      "=================================================================\n",
      "Total params: 785\n",
      "Trainable params: 785\n",
      "Non-trainable params: 0\n",
      "_________________________________________________________________\n"
     ]
    }
   ],
   "source": [
    "model.summary()"
   ]
  },
  {
   "cell_type": "code",
   "execution_count": 8,
   "metadata": {},
   "outputs": [
    {
     "name": "stdout",
     "output_type": "stream",
     "text": [
      "Original data shape: (60000, 28, 28)\n",
      "Data shape after reshaping to vector samples: (60000, 784)\n"
     ]
    }
   ],
   "source": [
    "print(f\"Original data shape: {mnist_data_train.shape}\")\n",
    "mnist_data_train_reshape = mnist_data_train.reshape(num_train_data, -1)\n",
    "print(f\"Data shape after reshaping to vector samples: {mnist_data_train_reshape.shape}\")"
   ]
  },
  {
   "cell_type": "code",
   "execution_count": 9,
   "metadata": {},
   "outputs": [
    {
     "data": {
      "application/vnd.jupyter.widget-view+json": {
       "model_id": "5ab0d0e028b94fc0b3bff544e9fad448",
       "version_major": 2,
       "version_minor": 0
      },
      "text/plain": [
       "HBox(children=(IntProgress(value=0, max=10), HTML(value='')))"
      ]
     },
     "metadata": {},
     "output_type": "display_data"
    },
    {
     "name": "stdout",
     "output_type": "stream",
     "text": [
      "Epoch 1/1\n",
      "60000/60000 [==============================] - 3s 50us/step - loss: 68026.4633\n",
      "Epoch 1/1\n",
      "60000/60000 [==============================] - 2s 35us/step - loss: 55250.8315\n",
      "Epoch 1/1\n",
      "60000/60000 [==============================] - 2s 35us/step - loss: 61484.4407\n",
      "Epoch 1/1\n",
      "60000/60000 [==============================] - 2s 37us/step - loss: 80990.6889\n",
      "Epoch 1/1\n",
      "60000/60000 [==============================] - 2s 37us/step - loss: 64844.2136\n",
      "Epoch 1/1\n",
      "60000/60000 [==============================] - 2s 37us/step - loss: 58336.6963\n",
      "Epoch 1/1\n",
      "60000/60000 [==============================] - 2s 36us/step - loss: 61475.8267\n",
      "Epoch 1/1\n",
      "60000/60000 [==============================] - 2s 36us/step - loss: 98094.2146\n",
      "Epoch 1/1\n",
      "60000/60000 [==============================] - 2s 35us/step - loss: 55149.1099\n",
      "Epoch 1/1\n",
      "60000/60000 [==============================] - 2s 38us/step - loss: 68997.0059\n",
      "\n"
     ]
    }
   ],
   "source": [
    "epochs = 10\n",
    "\n",
    "for i in tqdm(range(epochs)):\n",
    "    hist = model.fit(mnist_data_train_reshape, mnist_label_train, verbose=True)"
   ]
  },
  {
   "cell_type": "code",
   "execution_count": 10,
   "metadata": {},
   "outputs": [
    {
     "data": {
      "text/plain": [
       "array([[-36.70329]], dtype=float32)"
      ]
     },
     "execution_count": 10,
     "metadata": {},
     "output_type": "execute_result"
    }
   ],
   "source": [
    "model.predict(mnist_data_train_reshape[0].reshape(1, -1))"
   ]
  },
  {
   "cell_type": "code",
   "execution_count": 11,
   "metadata": {},
   "outputs": [
    {
     "name": "stdout",
     "output_type": "stream",
     "text": [
      "Amount of test data: 10000\n",
      "(10000, 1)\n"
     ]
    }
   ],
   "source": [
    "num_test_data = mnist_data_test.shape[0]\n",
    "mnist_data_test_reshape = mnist_data_test.reshape(num_test_data, -1)\n",
    "print(f\"Amount of test data: {num_test_data}\")\n",
    "\n",
    "predictions = model.predict(mnist_data_test_reshape)\n",
    "print(predictions.shape)"
   ]
  },
  {
   "cell_type": "code",
   "execution_count": 12,
   "metadata": {},
   "outputs": [
    {
     "name": "stdout",
     "output_type": "stream",
     "text": [
      "\n",
      "Total predictions: 10000\n",
      "Correct predictions: 0, 0.0%\n",
      "Wrong predictions: 10000, 100.0%\n"
     ]
    }
   ],
   "source": [
    "correct_predictions = 0\n",
    "wrong_predictions = 0\n",
    "for c, pred in enumerate(predictions):\n",
    "    if pred[0] == mnist_label_test[c]:\n",
    "        correct_predictions += 1\n",
    "    else:\n",
    "        wrong_predictions += 1\n",
    "\n",
    "print(\"\")\n",
    "total_predictions = correct_predictions + wrong_predictions\n",
    "print(f\"Total predictions: {total_predictions}\")\n",
    "print(f\"Correct predictions: {correct_predictions}, {correct_predictions/total_predictions*100}%\")\n",
    "print(f\"Wrong predictions: {wrong_predictions}, {wrong_predictions/total_predictions*100}%\")"
   ]
  }
 ],
 "metadata": {
  "kernelspec": {
   "display_name": "Python 3",
   "language": "python",
   "name": "python3"
  },
  "language_info": {
   "codemirror_mode": {
    "name": "ipython",
    "version": 3
   },
   "file_extension": ".py",
   "mimetype": "text/x-python",
   "name": "python",
   "nbconvert_exporter": "python",
   "pygments_lexer": "ipython3",
   "version": "3.6.7"
  }
 },
 "nbformat": 4,
 "nbformat_minor": 2
}
