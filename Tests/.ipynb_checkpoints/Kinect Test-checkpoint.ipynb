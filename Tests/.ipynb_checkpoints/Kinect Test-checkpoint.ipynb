{
 "cells": [
  {
   "cell_type": "code",
   "execution_count": 4,
   "metadata": {},
   "outputs": [],
   "source": [
    "import open3d\n",
    "import numpy as np\n",
    "import pandas as pd\n",
    "import time\n",
    "import copy\n",
    "from tqdm import tqdm_notebook as tqdm\n",
    "from pyntcloud import PyntCloud as pc"
   ]
  },
  {
   "cell_type": "code",
   "execution_count": 5,
   "metadata": {},
   "outputs": [],
   "source": [
    "from Kinect import Kinect\n",
    "from Open3DHelpers import plot"
   ]
  },
  {
   "cell_type": "code",
   "execution_count": 6,
   "metadata": {},
   "outputs": [
    {
     "name": "stdout",
     "output_type": "stream",
     "text": [
      "Packet pipeline: OpenCLPacketPipeline\n",
      "Number of devices: 1\n",
      "Init done\n"
     ]
    }
   ],
   "source": [
    "k = Kinect(debug=True)\n",
    "k.start()\n",
    "k.wait_for_init()\n",
    "point_cloud = k.get_pointcloud()\n",
    "k.stop()"
   ]
  },
  {
   "cell_type": "code",
   "execution_count": 7,
   "metadata": {},
   "outputs": [
    {
     "name": "stdout",
     "output_type": "stream",
     "text": [
      "Stopping device\n",
      "Closing device\n",
      "Device stopped and closed\n"
     ]
    },
    {
     "data": {
      "application/vnd.jupyter.widget-view+json": {
       "model_id": "1eb4e904f701407595ae737957006896",
       "version_major": 2,
       "version_minor": 0
      },
      "text/plain": [
       "Renderer(camera=PerspectiveCamera(aspect=1.8, fov=90.0, position=(0.49466878175735474, 10.54814326763153, -6.7…"
      ]
     },
     "metadata": {},
     "output_type": "display_data"
    },
    {
     "data": {
      "application/vnd.jupyter.widget-view+json": {
       "model_id": "0b0b68f16fb04e5d8018f190757f6b07",
       "version_major": 2,
       "version_minor": 0
      },
      "text/plain": [
       "HBox(children=(Label(value='Point size:'), FloatSlider(value=0.01, max=0.1, step=0.0001), Label(value='Backgro…"
      ]
     },
     "metadata": {},
     "output_type": "display_data"
    }
   ],
   "source": [
    "plot([point_cloud])"
   ]
  },
  {
   "cell_type": "code",
   "execution_count": 8,
   "metadata": {},
   "outputs": [
    {
     "name": "stdout",
     "output_type": "stream",
     "text": [
      "(165871, 6)\n",
      "(145733, 6)\n"
     ]
    }
   ],
   "source": [
    "pc_changed = copy.deepcopy(point_cloud)\n",
    "print(pc_changed.shape)\n",
    "pc_changed = np.delete(pc_changed, np.where(pc_changed[:,3:]==(0.0, 0.0, 0.0)), axis=0)\n",
    "print(pc_changed.shape)"
   ]
  },
  {
   "cell_type": "code",
   "execution_count": 9,
   "metadata": {},
   "outputs": [
    {
     "data": {
      "application/vnd.jupyter.widget-view+json": {
       "model_id": "74712eac8e0b4b65b9c1146eb01445db",
       "version_major": 2,
       "version_minor": 0
      },
      "text/plain": [
       "Renderer(camera=PerspectiveCamera(aspect=1.8, fov=90.0, position=(0.5819171667098999, 7.128722906112671, -6.99…"
      ]
     },
     "metadata": {},
     "output_type": "display_data"
    },
    {
     "data": {
      "application/vnd.jupyter.widget-view+json": {
       "model_id": "1641ca927025480c88f1491bc68f1ab5",
       "version_major": 2,
       "version_minor": 0
      },
      "text/plain": [
       "HBox(children=(Label(value='Point size:'), FloatSlider(value=0.01, max=0.1, step=0.0001), Label(value='Backgro…"
      ]
     },
     "metadata": {},
     "output_type": "display_data"
    }
   ],
   "source": [
    "plot([pc_changed])"
   ]
  },
  {
   "cell_type": "code",
   "execution_count": 22,
   "metadata": {},
   "outputs": [],
   "source": [
    "x = point_cloud[:,0]\n",
    "y = point_cloud[:,1]\n",
    "z = point_cloud[:,2]"
   ]
  },
  {
   "cell_type": "code",
   "execution_count": 24,
   "metadata": {},
   "outputs": [],
   "source": [
    "stacked = np.column_stack((x.ravel(), y.ravel(), z.ravel()))"
   ]
  },
  {
   "cell_type": "code",
   "execution_count": 19,
   "metadata": {},
   "outputs": [
    {
     "data": {
      "text/plain": [
       "(3, 300, 300, 300)"
      ]
     },
     "execution_count": 19,
     "metadata": {},
     "output_type": "execute_result"
    }
   ],
   "source": [
    "np.mgrid[10:310, 10:310, 10:310].shape"
   ]
  },
  {
   "cell_type": "code",
   "execution_count": 78,
   "metadata": {},
   "outputs": [
    {
     "data": {
      "text/plain": [
       "(165871, 3)"
      ]
     },
     "execution_count": 78,
     "metadata": {},
     "output_type": "execute_result"
    }
   ],
   "source": [
    "point_cloud[:,:3].shape"
   ]
  },
  {
   "cell_type": "code",
   "execution_count": 36,
   "metadata": {},
   "outputs": [
    {
     "data": {
      "text/plain": [
       "array([ 3.75866442,  3.13429448, -5.41166067, ..., -3.06185283,\n",
       "       -2.56604865, -4.44847679])"
      ]
     },
     "execution_count": 36,
     "metadata": {},
     "output_type": "execute_result"
    }
   ],
   "source": [
    "point_cloud[:,:3].flatten()"
   ]
  },
  {
   "cell_type": "code",
   "execution_count": 40,
   "metadata": {},
   "outputs": [],
   "source": [
    "import vtk\n",
    "from vtk.util import numpy_support"
   ]
  },
  {
   "cell_type": "code",
   "execution_count": 55,
   "metadata": {},
   "outputs": [
    {
     "data": {
      "text/plain": [
       "dtype('float64')"
      ]
     },
     "execution_count": 55,
     "metadata": {},
     "output_type": "execute_result"
    }
   ],
   "source": [
    "np.array(point_cloud[:,:3].ravel())"
   ]
  },
  {
   "cell_type": "code",
   "execution_count": 64,
   "metadata": {},
   "outputs": [
    {
     "name": "stderr",
     "output_type": "stream",
     "text": [
      "/home/clh/anaconda3/lib/python3.6/site-packages/vtk/util/numpy_support.py:137: FutureWarning: Conversion of the second argument of issubdtype from `complex` to `np.complexfloating` is deprecated. In future, it will be treated as `np.complex128 == np.dtype(complex).type`.\n",
      "  assert not numpy.issubdtype(z.dtype, complex), \\\n"
     ]
    }
   ],
   "source": [
    "vtk_coords_array = numpy_support.numpy_to_vtk(num_array=point_cloud[:,:3].ravel(), deep=True, array_type=vtk.VTK_FLOAT)"
   ]
  },
  {
   "cell_type": "code",
   "execution_count": 65,
   "metadata": {},
   "outputs": [],
   "source": [
    "p = vtk.vtkPoints()\n",
    "p.SetData(vtk_coords_array)\n",
    "p.GetNumberOfPoints"
   ]
  },
  {
   "cell_type": "code",
   "execution_count": 67,
   "metadata": {},
   "outputs": [
    {
     "name": "stdout",
     "output_type": "stream",
     "text": [
      "vtkFloatArray (0x55c282e7c7b0)\n",
      "  Debug: Off\n",
      "  Modified Time: 119\n",
      "  Reference Count: 2\n",
      "  Registered Events: (none)\n",
      "  Name: Points\n",
      "  Data type: float\n",
      "  Size: 0\n",
      "  MaxId: -1\n",
      "  NumberOfComponents: 3\n",
      "  Information: 0x55c2876f73f0\n",
      "    Debug: Off\n",
      "    Modified Time: 118\n",
      "    Reference Count: 1\n",
      "    Registered Events: (none)\n",
      "  Name: Points\n",
      "  Number Of Components: 3\n",
      "  Number Of Tuples: 0\n",
      "  Size: 0\n",
      "  MaxId: -1\n",
      "  LookupTable: (none)\n",
      "\n",
      "\n"
     ]
    }
   ],
   "source": [
    "print(p.GetData())"
   ]
  },
  {
   "cell_type": "code",
   "execution_count": 72,
   "metadata": {},
   "outputs": [
    {
     "name": "stdout",
     "output_type": "stream",
     "text": [
      "497613\n"
     ]
    }
   ],
   "source": [
    "print(vtk_coords_array.GetNumberOfValues())"
   ]
  },
  {
   "cell_type": "code",
   "execution_count": 69,
   "metadata": {},
   "outputs": [
    {
     "name": "stdout",
     "output_type": "stream",
     "text": [
      "<class 'vtkCommonCorePython.vtkFloatArray'>\n"
     ]
    }
   ],
   "source": [
    "print(type(vtk_coords_array))"
   ]
  },
  {
   "cell_type": "code",
   "execution_count": 68,
   "metadata": {},
   "outputs": [
    {
     "name": "stdout",
     "output_type": "stream",
     "text": [
      "497613\n"
     ]
    }
   ],
   "source": [
    "#dir(vtk_coords_array)\n",
    "#print(vtk_coords_array.GetNumberOfComponents())\n",
    "vtk_coords_array.SetNumberOfComponents\n",
    "print(vtk_coords_array.GetDataSize())"
   ]
  },
  {
   "cell_type": "code",
   "execution_count": 73,
   "metadata": {},
   "outputs": [],
   "source": [
    "def create_mgrid_array(d00,d01,d10,d11,d20,d21,dtype=int):\n",
    "    df0 = d01-d00\n",
    "    df1 = d11-d10\n",
    "    df2 = d21-d20\n",
    "    a = np.zeros((df0,df1,df2,3),dtype=dtype)\n",
    "    X,Y,Z = np.ogrid[d00:d01,d10:d11,d20:d21]\n",
    "    a[:,:,:,2] = Z\n",
    "    a[:,:,:,1] = Y\n",
    "    a[:,:,:,0] = X\n",
    "    a.shape = (-1,3)\n",
    "    return a"
   ]
  },
  {
   "cell_type": "code",
   "execution_count": 148,
   "metadata": {},
   "outputs": [
    {
     "name": "stdout",
     "output_type": "stream",
     "text": [
      "165871\n"
     ]
    },
    {
     "name": "stderr",
     "output_type": "stream",
     "text": [
      "/home/clh/anaconda3/lib/python3.6/site-packages/vtk/util/numpy_support.py:137: FutureWarning: Conversion of the second argument of issubdtype from `complex` to `np.complexfloating` is deprecated. In future, it will be treated as `np.complex128 == np.dtype(complex).type`.\n",
      "  assert not numpy.issubdtype(z.dtype, complex), \\\n"
     ]
    }
   ],
   "source": [
    "def vectorized():\n",
    "    vtk_coord_array = numpy_support.numpy_to_vtk(num_array=point_cloud[:,:3], deep=True, array_type=vtk.VTK_FLOAT)\n",
    "    vtk_color_array = numpy_support.numpy_to_vtk(num_array=point_cloud[:,3:].astype(np.uint8), deep=True, array_type=vtk.VTK_UNSIGNED_CHAR)\n",
    "    #vtk_color_cells = numpy_support.numpy_to_vtkIdTypeArray(point_cloud[:,3:].astype(np.int64), deep=True)\n",
    "\n",
    "    points = vtk.vtkPoints()\n",
    "    points.SetData(vtk_coord_array)\n",
    "    print(points.GetNumberOfPoints())\n",
    "    \n",
    "    colors = vtk.vtkUnsignedCharArray()\n",
    "    colors.SetNumberOfComponents(3)\n",
    "    colors.SetArray(vtk_color_array, points.GetNumberOfPoints(), 0)\n",
    "    \n",
    "    cells = vtk.vtkCellArray()\n",
    "    #cells.SetCells(points.GetNumberOfPoints(), vtk_color_cells)\n",
    "    \n",
    "    for i in range(points.GetNumberOfPoints()):\n",
    "        self.vtkCells.InsertNextCell(1)\n",
    "            self.vtkCells.InsertCellPoint(i)\n",
    "    \n",
    "    return points, colors\n",
    "\n",
    "vtk_p, vtk_c = vectorized()\n"
   ]
  },
  {
   "cell_type": "code",
   "execution_count": null,
   "metadata": {},
   "outputs": [],
   "source": []
  },
  {
   "cell_type": "code",
   "execution_count": 122,
   "metadata": {},
   "outputs": [
    {
     "name": "stdout",
     "output_type": "stream",
     "text": [
      "[ 3.7586644  3.1342945 -5.4116607]\n"
     ]
    },
    {
     "data": {
      "text/plain": [
       "array([ 3.75866442,  3.13429448, -5.41166067,  0.        ,  0.        ,\n",
       "        0.        ])"
      ]
     },
     "execution_count": 122,
     "metadata": {},
     "output_type": "execute_result"
    }
   ],
   "source": [
    "print(numpy_support.vtk_to_numpy(vtk_p.GetData())[0])\n",
    "point_cloud[0]"
   ]
  },
  {
   "cell_type": "code",
   "execution_count": 135,
   "metadata": {},
   "outputs": [
    {
     "name": "stdout",
     "output_type": "stream",
     "text": [
      "118.25390011916892\n",
      "118.25390011916892\n"
     ]
    }
   ],
   "source": [
    "back = numpy_support.vtk_to_numpy(vtk_c.GetData())\n",
    "print(np.mean(back))\n",
    "print(np.mean(point_cloud[:,3:]))"
   ]
  },
  {
   "cell_type": "code",
   "execution_count": 97,
   "metadata": {},
   "outputs": [
    {
     "name": "stderr",
     "output_type": "stream",
     "text": [
      "/home/clh/anaconda3/lib/python3.6/site-packages/vtk/util/numpy_support.py:137: FutureWarning: Conversion of the second argument of issubdtype from `complex` to `np.complexfloating` is deprecated. In future, it will be treated as `np.complex128 == np.dtype(complex).type`.\n",
      "  assert not numpy.issubdtype(z.dtype, complex), \\\n"
     ]
    },
    {
     "data": {
      "text/plain": [
       "(vtkCommonCorePython.vtkIdTypeArray)0x7fd27fc71ac8"
      ]
     },
     "execution_count": 97,
     "metadata": {},
     "output_type": "execute_result"
    }
   ],
   "source": [
    "numpy_support.numpy_to_vtkIdTypeArray(point_cloud[:,3:].astype(np.int64), deep=True)"
   ]
  },
  {
   "cell_type": "code",
   "execution_count": 140,
   "metadata": {},
   "outputs": [],
   "source": [
    "c = vtk.vtkUnsignedCharArray()\n",
    "c.SetArray()"
   ]
  },
  {
   "cell_type": "code",
   "execution_count": 77,
   "metadata": {},
   "outputs": [
    {
     "data": {
      "text/plain": [
       "(5979666, 3)"
      ]
     },
     "execution_count": 77,
     "metadata": {},
     "output_type": "execute_result"
    }
   ],
   "source": [
    "out_data = create_mgrid_array(10,311,10,311,0,66,dtype=float)\n",
    "out_data.shape"
   ]
  },
  {
   "cell_type": "code",
   "execution_count": 141,
   "metadata": {},
   "outputs": [
    {
     "data": {
      "text/plain": [
       "['AbstractArray',\n",
       " 'AddObserver',\n",
       " 'Allocate',\n",
       " 'AoSDataArrayTemplate',\n",
       " 'BreakOnError',\n",
       " 'COMPONENT_RANGE',\n",
       " 'ClearLookup',\n",
       " 'CopyComponent',\n",
       " 'CopyComponentNames',\n",
       " 'CopyInformation',\n",
       " 'CreateArray',\n",
       " 'CreateDataArray',\n",
       " 'CreateDefaultLookupTable',\n",
       " 'DISCRETE_VALUES',\n",
       " 'DISCRETE_VALUE_SAMPLE_PARAMETERS',\n",
       " 'DataArray',\n",
       " 'DataArrayTemplate',\n",
       " 'DataChanged',\n",
       " 'DebugOff',\n",
       " 'DebugOn',\n",
       " 'DeepCopy',\n",
       " 'DeleteMethod',\n",
       " 'ExportToVoidPointer',\n",
       " 'FastDelete',\n",
       " 'FastDownCast',\n",
       " 'Fill',\n",
       " 'FillComponent',\n",
       " 'GUI_HIDE',\n",
       " 'GetActualMemorySize',\n",
       " 'GetAddressAsString',\n",
       " 'GetArrayType',\n",
       " 'GetClassName',\n",
       " 'GetCommand',\n",
       " 'GetComponent',\n",
       " 'GetComponentName',\n",
       " 'GetData',\n",
       " 'GetDataSize',\n",
       " 'GetDataType',\n",
       " 'GetDataTypeAsString',\n",
       " 'GetDataTypeMax',\n",
       " 'GetDataTypeMin',\n",
       " 'GetDataTypeRange',\n",
       " 'GetDataTypeSize',\n",
       " 'GetDataTypeValueMax',\n",
       " 'GetDataTypeValueMin',\n",
       " 'GetDebug',\n",
       " 'GetElementComponentSize',\n",
       " 'GetFiniteRange',\n",
       " 'GetGlobalWarningDisplay',\n",
       " 'GetInformation',\n",
       " 'GetLookupTable',\n",
       " 'GetMTime',\n",
       " 'GetMaxDiscreteValues',\n",
       " 'GetMaxId',\n",
       " 'GetMaxNorm',\n",
       " 'GetName',\n",
       " 'GetNumberOfComponents',\n",
       " 'GetNumberOfComponentsMaxValue',\n",
       " 'GetNumberOfComponentsMinValue',\n",
       " 'GetNumberOfTuples',\n",
       " 'GetNumberOfValues',\n",
       " 'GetPointer',\n",
       " 'GetProminentComponentValues',\n",
       " 'GetRange',\n",
       " 'GetReferenceCount',\n",
       " 'GetSize',\n",
       " 'GetTuple',\n",
       " 'GetTuple1',\n",
       " 'GetTuple2',\n",
       " 'GetTuple3',\n",
       " 'GetTuple4',\n",
       " 'GetTuple6',\n",
       " 'GetTuple9',\n",
       " 'GetTuples',\n",
       " 'GetTypedTuple',\n",
       " 'GetValue',\n",
       " 'GetValueRange',\n",
       " 'GetVariantValue',\n",
       " 'GetVoidPointer',\n",
       " 'GlobalWarningDisplayOff',\n",
       " 'GlobalWarningDisplayOn',\n",
       " 'HasAComponentName',\n",
       " 'HasInformation',\n",
       " 'HasObserver',\n",
       " 'HasStandardMemoryLayout',\n",
       " 'Initialize',\n",
       " 'InitializeObjectBase',\n",
       " 'InsertComponent',\n",
       " 'InsertNextTuple',\n",
       " 'InsertNextTuple1',\n",
       " 'InsertNextTuple2',\n",
       " 'InsertNextTuple3',\n",
       " 'InsertNextTuple4',\n",
       " 'InsertNextTuple6',\n",
       " 'InsertNextTuple9',\n",
       " 'InsertNextTypedTuple',\n",
       " 'InsertNextValue',\n",
       " 'InsertTuple',\n",
       " 'InsertTuple1',\n",
       " 'InsertTuple2',\n",
       " 'InsertTuple3',\n",
       " 'InsertTuple4',\n",
       " 'InsertTuple6',\n",
       " 'InsertTuple9',\n",
       " 'InsertTuples',\n",
       " 'InsertTypedTuple',\n",
       " 'InsertValue',\n",
       " 'InsertVariantValue',\n",
       " 'InterpolateTuple',\n",
       " 'InvokeEvent',\n",
       " 'IsA',\n",
       " 'IsNumeric',\n",
       " 'IsTypeOf',\n",
       " 'L2_NORM_FINITE_RANGE',\n",
       " 'L2_NORM_RANGE',\n",
       " 'LookupValue',\n",
       " 'MAX_DISCRETE_VALUES',\n",
       " 'MappedDataArray',\n",
       " 'Modified',\n",
       " 'NewInstance',\n",
       " 'NewIterator',\n",
       " 'PER_COMPONENT',\n",
       " 'PER_FINITE_COMPONENT',\n",
       " 'Register',\n",
       " 'RemoveAllObservers',\n",
       " 'RemoveFirstTuple',\n",
       " 'RemoveLastTuple',\n",
       " 'RemoveObserver',\n",
       " 'RemoveObservers',\n",
       " 'RemoveTuple',\n",
       " 'Reset',\n",
       " 'Resize',\n",
       " 'SafeDownCast',\n",
       " 'SetArray',\n",
       " 'SetComponent',\n",
       " 'SetComponentName',\n",
       " 'SetDebug',\n",
       " 'SetGlobalWarningDisplay',\n",
       " 'SetLookupTable',\n",
       " 'SetMaxDiscreteValues',\n",
       " 'SetName',\n",
       " 'SetNumberOfComponents',\n",
       " 'SetNumberOfTuples',\n",
       " 'SetNumberOfValues',\n",
       " 'SetReferenceCount',\n",
       " 'SetTuple',\n",
       " 'SetTuple1',\n",
       " 'SetTuple2',\n",
       " 'SetTuple3',\n",
       " 'SetTuple4',\n",
       " 'SetTuple6',\n",
       " 'SetTuple9',\n",
       " 'SetTypedTuple',\n",
       " 'SetValue',\n",
       " 'SetVariantValue',\n",
       " 'SetVoidArray',\n",
       " 'ShallowCopy',\n",
       " 'SoADataArrayTemplate',\n",
       " 'Squeeze',\n",
       " 'TypedDataArray',\n",
       " 'UNITS_LABEL',\n",
       " 'UnRegister',\n",
       " 'VTK_DATA_ARRAY_ALIGNED_FREE',\n",
       " 'VTK_DATA_ARRAY_DELETE',\n",
       " 'VTK_DATA_ARRAY_FREE',\n",
       " 'WritePointer',\n",
       " 'WriteVoidPointer',\n",
       " '__class__',\n",
       " '__delattr__',\n",
       " '__dict__',\n",
       " '__dir__',\n",
       " '__doc__',\n",
       " '__eq__',\n",
       " '__format__',\n",
       " '__ge__',\n",
       " '__getattribute__',\n",
       " '__gt__',\n",
       " '__hash__',\n",
       " '__init__',\n",
       " '__init_subclass__',\n",
       " '__le__',\n",
       " '__lt__',\n",
       " '__ne__',\n",
       " '__new__',\n",
       " '__reduce__',\n",
       " '__reduce_ex__',\n",
       " '__repr__',\n",
       " '__setattr__',\n",
       " '__sizeof__',\n",
       " '__str__',\n",
       " '__subclasshook__',\n",
       " '__this__',\n",
       " '__vtkname__']"
      ]
     },
     "execution_count": 141,
     "metadata": {},
     "output_type": "execute_result"
    }
   ],
   "source": [
    "dir(c)"
   ]
  },
  {
   "cell_type": "code",
   "execution_count": 138,
   "metadata": {},
   "outputs": [
    {
     "data": {
      "text/plain": [
       "(vtkCommonCorePython.vtkPoints)0x7fd27fc71b28"
      ]
     },
     "execution_count": 138,
     "metadata": {},
     "output_type": "execute_result"
    }
   ],
   "source": [
    "vtk_p.Get"
   ]
  },
  {
   "cell_type": "code",
   "execution_count": 136,
   "metadata": {},
   "outputs": [],
   "source": [
    "vtkPoints = vtk.vtkPoints()\n",
    "vtkCells = vtk.vtkCellArray()"
   ]
  },
  {
   "cell_type": "code",
   "execution_count": null,
   "metadata": {},
   "outputs": [],
   "source": [
    "def addPoint(self, point):\n",
    "    pointId = self.vtkPoints.InsertNextPoint(point[:3])\n",
    "\n",
    "    self.vtkCells.InsertNextCell(1)\n",
    "    self.vtkCells.InsertCellPoint(pointId)\n",
    "    self.Colors.InsertNextTuple3(*point[3:])\n",
    "\n",
    "    self.vtkCells.Modified()\n",
    "    self.vtkPoints.Modified()\n",
    "    self.Colors.Modified()"
   ]
  }
 ],
 "metadata": {
  "kernelspec": {
   "display_name": "Python 3",
   "language": "python",
   "name": "python3"
  },
  "language_info": {
   "codemirror_mode": {
    "name": "ipython",
    "version": 3
   },
   "file_extension": ".py",
   "mimetype": "text/x-python",
   "name": "python",
   "nbconvert_exporter": "python",
   "pygments_lexer": "ipython3",
   "version": "3.6.6"
  }
 },
 "nbformat": 4,
 "nbformat_minor": 2
}
