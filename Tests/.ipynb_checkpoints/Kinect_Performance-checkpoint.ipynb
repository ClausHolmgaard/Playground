{
 "cells": [
  {
   "cell_type": "code",
   "execution_count": 25,
   "metadata": {},
   "outputs": [],
   "source": [
    "import time\n",
    "from tqdm import tqdm_notebook as tqdm\n",
    "from Kinect import Kinect"
   ]
  },
  {
   "cell_type": "code",
   "execution_count": 26,
   "metadata": {},
   "outputs": [],
   "source": [
    "test_frames = 100000"
   ]
  },
  {
   "cell_type": "code",
   "execution_count": 27,
   "metadata": {},
   "outputs": [
    {
     "name": "stdout",
     "output_type": "stream",
     "text": [
      "Packet pipeline: OpenCLPacketPipeline\n",
      "Number of devices: 1\n",
      "Init done\n"
     ]
    }
   ],
   "source": [
    "k = Kinect(debug=True)\n",
    "k.start()\n",
    "k.wait_for_init()"
   ]
  },
  {
   "cell_type": "code",
   "execution_count": 28,
   "metadata": {},
   "outputs": [],
   "source": [
    "before = time.time()\n",
    "\n",
    "for _ in tqdm(range(test_frames)):\n",
    "    pc = k.get_pointcloud()\n",
    "\n",
    "after = time.time()"
   ]
  },
  {
   "cell_type": "code",
   "execution_count": 29,
   "metadata": {},
   "outputs": [
    {
     "name": "stdout",
     "output_type": "stream",
     "text": [
      "Time taken: 5.098270416259766\n",
      "FPS: 1961449.5080738147\n"
     ]
    }
   ],
   "source": [
    "total_time = after - before\n",
    "print(f\"Time taken: {total_time}\")\n",
    "print(f\"FPS: {test_frames / total_time}\")"
   ]
  },
  {
   "cell_type": "code",
   "execution_count": 30,
   "metadata": {},
   "outputs": [
    {
     "name": "stdout",
     "output_type": "stream",
     "text": [
      "Stopping device\n",
      "Closing device\n",
      "Device stopped and closed\n"
     ]
    }
   ],
   "source": [
    "k.stop()"
   ]
  }
 ],
 "metadata": {
  "kernelspec": {
   "display_name": "Python 3",
   "language": "python",
   "name": "python3"
  },
  "language_info": {
   "codemirror_mode": {
    "name": "ipython",
    "version": 3
   },
   "file_extension": ".py",
   "mimetype": "text/x-python",
   "name": "python",
   "nbconvert_exporter": "python",
   "pygments_lexer": "ipython3",
   "version": "3.6.6"
  }
 },
 "nbformat": 4,
 "nbformat_minor": 2
}
