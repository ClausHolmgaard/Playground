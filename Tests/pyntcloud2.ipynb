{
 "cells": [
  {
   "cell_type": "code",
   "execution_count": 1,
   "metadata": {},
   "outputs": [],
   "source": [
    "import numpy as np\n",
    "import pandas as pd\n",
    "from pyntcloud import PyntCloud as pc"
   ]
  },
  {
   "cell_type": "code",
   "execution_count": 2,
   "metadata": {},
   "outputs": [],
   "source": [
    "positions = np.random.uniform(size=(100, 3)) - 0.5\n",
    "points = pd.DataFrame(positions, columns=['x', 'y', 'z'])\n",
    "\n",
    "colors = (np.random.uniform(size=(100, 3)) * 255).astype(np.uint8)\n",
    "points[['red', 'blue', 'green']] = pd.DataFrame(colors, index=points.index)"
   ]
  },
  {
   "cell_type": "code",
   "execution_count": 6,
   "metadata": {},
   "outputs": [
    {
     "data": {
      "text/html": [
       "<div>\n",
       "<style scoped>\n",
       "    .dataframe tbody tr th:only-of-type {\n",
       "        vertical-align: middle;\n",
       "    }\n",
       "\n",
       "    .dataframe tbody tr th {\n",
       "        vertical-align: top;\n",
       "    }\n",
       "\n",
       "    .dataframe thead th {\n",
       "        text-align: right;\n",
       "    }\n",
       "</style>\n",
       "<table border=\"1\" class=\"dataframe\">\n",
       "  <thead>\n",
       "    <tr style=\"text-align: right;\">\n",
       "      <th></th>\n",
       "      <th>x</th>\n",
       "      <th>y</th>\n",
       "      <th>z</th>\n",
       "      <th>red</th>\n",
       "      <th>blue</th>\n",
       "      <th>green</th>\n",
       "    </tr>\n",
       "  </thead>\n",
       "  <tbody>\n",
       "    <tr>\n",
       "      <th>count</th>\n",
       "      <td>100.000000</td>\n",
       "      <td>100.000000</td>\n",
       "      <td>100.000000</td>\n",
       "      <td>100.000000</td>\n",
       "      <td>100.000000</td>\n",
       "      <td>100.000000</td>\n",
       "    </tr>\n",
       "    <tr>\n",
       "      <th>mean</th>\n",
       "      <td>-0.035662</td>\n",
       "      <td>-0.000447</td>\n",
       "      <td>0.004524</td>\n",
       "      <td>130.450000</td>\n",
       "      <td>113.660000</td>\n",
       "      <td>131.970000</td>\n",
       "    </tr>\n",
       "    <tr>\n",
       "      <th>std</th>\n",
       "      <td>0.276005</td>\n",
       "      <td>0.279315</td>\n",
       "      <td>0.304245</td>\n",
       "      <td>71.684969</td>\n",
       "      <td>72.752413</td>\n",
       "      <td>77.854884</td>\n",
       "    </tr>\n",
       "    <tr>\n",
       "      <th>min</th>\n",
       "      <td>-0.482228</td>\n",
       "      <td>-0.499346</td>\n",
       "      <td>-0.497672</td>\n",
       "      <td>7.000000</td>\n",
       "      <td>0.000000</td>\n",
       "      <td>1.000000</td>\n",
       "    </tr>\n",
       "    <tr>\n",
       "      <th>25%</th>\n",
       "      <td>-0.266277</td>\n",
       "      <td>-0.249806</td>\n",
       "      <td>-0.265320</td>\n",
       "      <td>70.750000</td>\n",
       "      <td>50.500000</td>\n",
       "      <td>63.250000</td>\n",
       "    </tr>\n",
       "    <tr>\n",
       "      <th>50%</th>\n",
       "      <td>-0.028797</td>\n",
       "      <td>0.018189</td>\n",
       "      <td>-0.001669</td>\n",
       "      <td>124.000000</td>\n",
       "      <td>112.500000</td>\n",
       "      <td>142.500000</td>\n",
       "    </tr>\n",
       "    <tr>\n",
       "      <th>75%</th>\n",
       "      <td>0.168856</td>\n",
       "      <td>0.229683</td>\n",
       "      <td>0.226622</td>\n",
       "      <td>193.500000</td>\n",
       "      <td>168.500000</td>\n",
       "      <td>201.500000</td>\n",
       "    </tr>\n",
       "    <tr>\n",
       "      <th>max</th>\n",
       "      <td>0.463220</td>\n",
       "      <td>0.487570</td>\n",
       "      <td>0.493615</td>\n",
       "      <td>250.000000</td>\n",
       "      <td>250.000000</td>\n",
       "      <td>254.000000</td>\n",
       "    </tr>\n",
       "  </tbody>\n",
       "</table>\n",
       "</div>"
      ],
      "text/plain": [
       "                x           y           z         red        blue       green\n",
       "count  100.000000  100.000000  100.000000  100.000000  100.000000  100.000000\n",
       "mean    -0.035662   -0.000447    0.004524  130.450000  113.660000  131.970000\n",
       "std      0.276005    0.279315    0.304245   71.684969   72.752413   77.854884\n",
       "min     -0.482228   -0.499346   -0.497672    7.000000    0.000000    1.000000\n",
       "25%     -0.266277   -0.249806   -0.265320   70.750000   50.500000   63.250000\n",
       "50%     -0.028797    0.018189   -0.001669  124.000000  112.500000  142.500000\n",
       "75%      0.168856    0.229683    0.226622  193.500000  168.500000  201.500000\n",
       "max      0.463220    0.487570    0.493615  250.000000  250.000000  254.000000"
      ]
     },
     "execution_count": 6,
     "metadata": {},
     "output_type": "execute_result"
    }
   ],
   "source": [
    "points.describe()"
   ]
  },
  {
   "cell_type": "code",
   "execution_count": 3,
   "metadata": {},
   "outputs": [],
   "source": [
    "lines = {\n",
    "    '0xFFFFFF': [[0, 0, 0], [0, 0, 1]],\n",
    "    '0xFF00FF': [[1, 0, 0], [1, 0, 1], [1, 1, 1]],\n",
    "}"
   ]
  },
  {
   "cell_type": "code",
   "execution_count": 10,
   "metadata": {},
   "outputs": [
    {
     "data": {
      "text/html": [
       "\n",
       "        <iframe\n",
       "            width=\"1200\"\n",
       "            height=\"700\"\n",
       "            src=\"pyntcloud_plot.html\"\n",
       "            frameborder=\"0\"\n",
       "            allowfullscreen\n",
       "        ></iframe>\n",
       "        "
      ],
      "text/plain": [
       "<IPython.lib.display.IFrame at 0x7fdbeca59cc0>"
      ]
     },
     "execution_count": 10,
     "metadata": {},
     "output_type": "execute_result"
    }
   ],
   "source": [
    "cloud = pc(points)\n",
    "cloud.plot(point_size=0.05, opacity=0.6, polylines=lines, IFrame_shape=(1200, 700))"
   ]
  }
 ],
 "metadata": {
  "kernelspec": {
   "display_name": "Python 3",
   "language": "python",
   "name": "python3"
  },
  "language_info": {
   "codemirror_mode": {
    "name": "ipython",
    "version": 3
   },
   "file_extension": ".py",
   "mimetype": "text/x-python",
   "name": "python",
   "nbconvert_exporter": "python",
   "pygments_lexer": "ipython3",
   "version": "3.6.5"
  }
 },
 "nbformat": 4,
 "nbformat_minor": 2
}
