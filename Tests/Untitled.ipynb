{
 "cells": [
  {
   "cell_type": "code",
   "execution_count": 1,
   "metadata": {},
   "outputs": [],
   "source": [
<<<<<<< HEAD
    "import sys"
=======
    "import datetime"
>>>>>>> c36473b919f2d4567f852303b244d13ffbe86213
   ]
  },
  {
   "cell_type": "code",
<<<<<<< HEAD
   "execution_count": 2,
=======
   "execution_count": 5,
>>>>>>> c36473b919f2d4567f852303b244d13ffbe86213
   "metadata": {},
   "outputs": [
    {
     "name": "stdout",
     "output_type": "stream",
     "text": [
<<<<<<< HEAD
      "3.7.7 (default, Apr 15 2020, 05:09:04) [MSC v.1916 64 bit (AMD64)]\n"
=======
      "2018-12-29_18_35\n"
>>>>>>> c36473b919f2d4567f852303b244d13ffbe86213
     ]
    }
   ],
   "source": [
<<<<<<< HEAD
    "print(sys.version)"
=======
    "print('{:%Y-%m-%d_%H_%M}'.format(datetime.datetime.now()))"
>>>>>>> c36473b919f2d4567f852303b244d13ffbe86213
   ]
  }
 ],
 "metadata": {
  "kernelspec": {
   "display_name": "Python 3",
   "language": "python",
   "name": "python3"
  },
  "language_info": {
   "codemirror_mode": {
    "name": "ipython",
    "version": 3
   },
   "file_extension": ".py",
   "mimetype": "text/x-python",
   "name": "python",
   "nbconvert_exporter": "python",
   "pygments_lexer": "ipython3",
<<<<<<< HEAD
   "version": "3.7.7"
=======
   "version": "3.7.3"
>>>>>>> c36473b919f2d4567f852303b244d13ffbe86213
  }
 },
 "nbformat": 4,
 "nbformat_minor": 4
}
