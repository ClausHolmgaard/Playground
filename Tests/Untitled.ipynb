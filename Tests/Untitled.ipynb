{
 "cells": [
  {
   "cell_type": "code",
   "execution_count": 1,
   "metadata": {},
   "outputs": [],
   "source": [
    "layers_per_block = [2, 2, 4, 4]\n",
    "out_chan_list = [64, 128, 256, 512]\n",
    "pool_list = [True, True, True, False]"
   ]
  },
  {
   "cell_type": "code",
   "execution_count": 4,
   "metadata": {},
   "outputs": [
    {
     "name": "stdout",
     "output_type": "stream",
     "text": [
      "Block: 1, Layer: 2, Chan_num: 64, Pool: True\n",
      "Block: 1, Layer: 2, Chan_num: 64, Pool: True\n",
      "Block: 2, Layer: 2, Chan_num: 128, Pool: True\n",
      "Block: 2, Layer: 2, Chan_num: 128, Pool: True\n",
      "Block: 3, Layer: 4, Chan_num: 256, Pool: True\n",
      "Block: 3, Layer: 4, Chan_num: 256, Pool: True\n",
      "Block: 3, Layer: 4, Chan_num: 256, Pool: True\n",
      "Block: 3, Layer: 4, Chan_num: 256, Pool: True\n",
      "Block: 4, Layer: 4, Chan_num: 512, Pool: False\n",
      "Block: 4, Layer: 4, Chan_num: 512, Pool: False\n",
      "Block: 4, Layer: 4, Chan_num: 512, Pool: False\n",
      "Block: 4, Layer: 4, Chan_num: 512, Pool: False\n"
     ]
    }
   ],
   "source": [
    "for block_id, (layer_num, chan_num, pool) in enumerate(zip(layers_per_block, out_chan_list, pool_list), 1):\n",
    "    for layer_id in range(layer_num):\n",
    "        #x = ops.conv_relu(x, 'conv%d_%d' % (block_id, layer_id+1), kernel_size=3, stride=1, out_chan=chan_num, trainable=train)\n",
    "        print(f\"Block: {block_id}, Layer: {layer_num}, Chan_num: {chan_num}, Pool: {pool}\")"
   ]
  }
 ],
 "metadata": {
  "kernelspec": {
   "display_name": "Python 3",
   "language": "python",
   "name": "python3"
  },
  "language_info": {
   "codemirror_mode": {
    "name": "ipython",
    "version": 3
   },
   "file_extension": ".py",
   "mimetype": "text/x-python",
   "name": "python",
   "nbconvert_exporter": "python",
   "pygments_lexer": "ipython3",
   "version": "3.6.6"
  }
 },
 "nbformat": 4,
 "nbformat_minor": 2
}
