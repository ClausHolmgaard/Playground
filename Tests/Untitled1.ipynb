{
 "cells": [
  {
   "cell_type": "code",
   "execution_count": 42,
   "metadata": {},
   "outputs": [],
   "source": [
    "import numpy as np"
   ]
  },
  {
   "cell_type": "code",
   "execution_count": null,
   "metadata": {
    "scrolled": true
   },
   "outputs": [],
   "source": [
    "arr_x = np.array([[2, 0, 0],\n",
    "                  [0, 0, 0],\n",
    "                  [0, -1, 0]])\n",
    "\n",
    "arr_y = np.array([[0, 0, 0],\n",
    "                  [0, 0, 0],\n",
    "                  [0, 5, -5]])\n",
    "\n",
    "\n",
    "g_x = np.less(arr_x, 0).astype(np.float32)\n",
    "l_x = np.greater(arr_x, 0).astype(np.float32)\n",
    "g_y = np.greater(arr_y, 0).astype(np.float32)\n",
    "l_y = np.less(arr_y, 0).astype(np.float32)\n",
    "\n",
    "m = g_x + l_x + g_y + l_y\n",
    "print(m)\n",
    "\n",
    "#zeroes = np.zeros_like(arr_x)\n",
    "#ones = np.ones_like(arr_x)\n",
    "#np.where(m, ones, zeroes)\n",
    "\n",
    "np.clip(m, 0, 1)"
   ]
  },
  {
   "cell_type": "code",
   "execution_count": 60,
   "metadata": {},
   "outputs": [
    {
     "data": {
      "text/plain": [
       "array([[0., 0., 0.],\n",
       "       [0., 0., 0.],\n",
       "       [0., 1., 0.]], dtype=float32)"
      ]
     },
     "execution_count": 60,
     "metadata": {},
     "output_type": "execute_result"
    }
   ],
   "source": [
    "g_x.astype(np.float32)"
   ]
  }
 ],
 "metadata": {
  "kernelspec": {
   "display_name": "Python 3",
   "language": "python",
   "name": "python3"
  },
  "language_info": {
   "codemirror_mode": {
    "name": "ipython",
    "version": 3
   },
   "file_extension": ".py",
   "mimetype": "text/x-python",
   "name": "python",
   "nbconvert_exporter": "python",
   "pygments_lexer": "ipython3",
   "version": "3.6.6"
  }
 },
 "nbformat": 4,
 "nbformat_minor": 2
}
