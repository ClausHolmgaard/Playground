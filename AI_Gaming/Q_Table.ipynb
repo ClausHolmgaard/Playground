{
 "cells": [
  {
   "cell_type": "markdown",
   "metadata": {},
   "source": [
    "In an environment with a set of states $\\textbf{S}$ and a set of actions $\\textbf{A}$. <br>\n",
    "Given a state $s\\in{\\textbf{S}}$ and an action $a\\in{\\textbf{A}}$. <br>\n",
    "Doing this action will lead to a new, or the same, state $s_n\\in{\\textbf{S}}$, with actions $a_n\\in{\\textbf{A}}$. <br>\n",
    "The purpose of a Q-table is then; given a goal state $s_g\\in{\\textbf{S}}$, to find the best action in any other state to eventually end up there. <br>\n",
    "For every event $s, a \\to s_n, a_n$ a reward $r$ is given."
   ]
  },
  {
   "cell_type": "markdown",
   "metadata": {},
   "source": [
    "A Q-table is a matrix $Q\\in{R^{|\\textbf{S}|\\times |\\textbf{A}|}}$ intialized to zero. <br>\n"
   ]
  },
  {
   "cell_type": "markdown",
   "metadata": {},
   "source": []
  }
 ],
 "metadata": {
  "kernelspec": {
   "display_name": "Python 3",
   "language": "python",
   "name": "python3"
  },
  "language_info": {
   "codemirror_mode": {
    "name": "ipython",
    "version": 3
   },
   "file_extension": ".py",
   "mimetype": "text/x-python",
   "name": "python",
   "nbconvert_exporter": "python",
   "pygments_lexer": "ipython3",
   "version": "3.6.5"
  }
 },
 "nbformat": 4,
 "nbformat_minor": 2
}
