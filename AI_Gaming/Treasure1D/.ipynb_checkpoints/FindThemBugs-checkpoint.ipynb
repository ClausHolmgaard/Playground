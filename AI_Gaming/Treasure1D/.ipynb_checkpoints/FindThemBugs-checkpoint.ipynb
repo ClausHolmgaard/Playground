{
 "cells": [
  {
   "cell_type": "code",
   "execution_count": 6,
   "metadata": {},
   "outputs": [],
   "source": [
    "import time"
   ]
  },
  {
   "cell_type": "code",
   "execution_count": 1,
   "metadata": {},
   "outputs": [],
   "source": [
    "from Treasure1DAgent import *\n",
    "from Treasure1DEnvironment import Environment"
   ]
  },
  {
   "cell_type": "code",
   "execution_count": 9,
   "metadata": {},
   "outputs": [],
   "source": [
    "environment = Environment()\n",
    "AgentObject = TDOneStepAgent\n",
    "agent = AgentObject(environment.get_states(),\n",
    "                    environment.get_actions())"
   ]
  },
  {
   "cell_type": "code",
   "execution_count": 10,
   "metadata": {},
   "outputs": [],
   "source": [
    "MAX_ITERATIONS_TRAIN = 100\n",
    "MAX_ITERATIONS_VIS = 20\n",
    "EPISODES = 1000"
   ]
  },
  {
   "cell_type": "code",
   "execution_count": 26,
   "metadata": {},
   "outputs": [
    {
     "name": "stdout",
     "output_type": "stream",
     "text": [
      "Agent: L\n",
      "New state: 0, Reward: -1\n",
      "Agent: L\n",
      "New state: 0, Reward: -1\n",
      "Agent: R\n",
      "New state: 1, Reward: -1\n",
      "Agent: L\n",
      "New state: 0, Reward: -1\n",
      "Agent: L\n",
      "New state: 0, Reward: -1\n",
      "\n",
      "[[-2.7877869 -1.629    ]\n",
      " [-2.21949    0.       ]\n",
      " [ 0.         0.       ]\n",
      " [ 0.         0.       ]\n",
      " [ 0.         0.       ]\n",
      " [ 0.         0.       ]\n",
      " [ 0.         0.       ]\n",
      " [ 0.         0.       ]\n",
      " [ 0.         0.       ]\n",
      " [ 0.         0.       ]]\n"
     ]
    }
   ],
   "source": [
    "agent = AgentObject(environment.get_states(),\n",
    "                    environment.get_actions())\n",
    "\n",
    "s = environment.reset(state=1)\n",
    "agent.reset_after_episode()\n",
    "\n",
    "for _ in range(5):\n",
    "    a = agent.action(s)\n",
    "    print(f\"Agent: {a}\")\n",
    "    r, s, done = environment.reward_state(a)\n",
    "    agent.reward(r)\n",
    "    print(f\"New state: {s}, Reward: {r}\")\n",
    "\n",
    "print()\n",
    "agent.final_report()"
   ]
  },
  {
   "cell_type": "code",
   "execution_count": 4,
   "metadata": {},
   "outputs": [],
   "source": [
    "for i in range(EPISODES):\n",
    "    s = environment.reset()\n",
    "    agent.reset_after_episode()\n",
    "    done = False\n",
    "    ite = 0\n",
    "\n",
    "    while not done:\n",
    "        a = agent.action(s)\n",
    "        r, s, done = environment.reward_state(a)\n",
    "        agent.reward(r)\n",
    "\n",
    "        ite += 1\n",
    "        if ite == MAX_ITERATIONS_TRAIN:\n",
    "            break"
   ]
  },
  {
   "cell_type": "code",
   "execution_count": 8,
   "metadata": {},
   "outputs": [
    {
     "name": "stdout",
     "output_type": "stream",
     "text": [
      "[[-10.  -10. ]\n",
      " [-10.  -10. ]\n",
      " [-10.  -10. ]\n",
      " [-10.  -10. ]\n",
      " [-10.  -10. ]\n",
      " [-10.  -10. ]\n",
      " [-10.  -10. ]\n",
      " [-10.  -10. ]\n",
      " [ -0.9  91. ]\n",
      " [  0.    0. ]]\n"
     ]
    }
   ],
   "source": [
    "agent.final_report()"
   ]
  },
  {
   "cell_type": "code",
   "execution_count": 7,
   "metadata": {},
   "outputs": [
    {
     "name": "stdout",
     "output_type": "stream",
     "text": [
      "o--------T Goal NOT reached.\n",
      "o--------T Goal NOT reached.\n",
      "o--------T Goal NOT reached.\n",
      "o--------T Goal NOT reached.\n",
      "o--------T Goal NOT reached.\n"
     ]
    }
   ],
   "source": [
    "for i in range(5):\n",
    "    s = environment.reset()\n",
    "    environment.visualize()\n",
    "    done = False\n",
    "    ite = 0\n",
    "\n",
    "    while not done:\n",
    "        a = agent.action(s)\n",
    "        r, s, done = environment.reward_state(a)\n",
    "        environment.visualize()\n",
    "\n",
    "        if done:\n",
    "            print(f\" Goal reached!\")\n",
    "\n",
    "        ite += 1\n",
    "        if ite >= MAX_ITERATIONS_VIS:\n",
    "            print(\" Goal NOT reached.\")\n",
    "            break\n",
    "        \n",
    "        time.sleep(0.1)"
   ]
  },
  {
   "cell_type": "code",
   "execution_count": null,
   "metadata": {},
   "outputs": [],
   "source": [
    "agent.final_report()"
   ]
  }
 ],
 "metadata": {
  "kernelspec": {
   "display_name": "Python 3",
   "language": "python",
   "name": "python3"
  },
  "language_info": {
   "codemirror_mode": {
    "name": "ipython",
    "version": 3
   },
   "file_extension": ".py",
   "mimetype": "text/x-python",
   "name": "python",
   "nbconvert_exporter": "python",
   "pygments_lexer": "ipython3",
   "version": "3.6.5"
  }
 },
 "nbformat": 4,
 "nbformat_minor": 2
}
