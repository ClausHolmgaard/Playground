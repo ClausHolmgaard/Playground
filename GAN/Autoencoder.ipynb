{
  "nbformat": 4,
  "nbformat_minor": 0,
  "metadata": {
    "kernelspec": {
      "display_name": "Python 3",
      "language": "python",
      "name": "python3"
    },
    "language_info": {
      "codemirror_mode": {
        "name": "ipython",
        "version": 3
      },
      "file_extension": ".py",
      "mimetype": "text/x-python",
      "name": "python",
      "nbconvert_exporter": "python",
      "pygments_lexer": "ipython3",
      "version": "3.7.7"
    },
    "colab": {
      "name": "Autoencoder.ipynb",
      "provenance": []
    },
    "accelerator": "GPU"
  },
  "cells": [
    {
      "cell_type": "code",
      "metadata": {
        "id": "89jDwMa9XR0L",
        "colab_type": "code",
        "colab": {
          "base_uri": "https://localhost:8080/",
          "height": 34
        },
        "outputId": "01445b97-a4f9-44ab-eeac-60494c093cab"
      },
      "source": [
        "import numpy as np\n",
        "import matplotlib.pyplot as plt\n",
        "from keras.layers import Input, Conv2D, Flatten, Dense, LeakyReLU, Conv2DTranspose, Reshape, Activation\n",
        "from keras.models import Model\n",
        "from keras import backend as K\n",
        "from keras.callbacks import Callback, LearningRateScheduler\n",
        "from keras.callbacks import ModelCheckpoint \n",
        "from keras.optimizers import Adam\n",
        "from keras.datasets import mnist\n",
        "import os\n",
        "from google.colab import drive"
      ],
      "execution_count": 1,
      "outputs": [
        {
          "output_type": "stream",
          "text": [
            "Using TensorFlow backend.\n"
          ],
          "name": "stderr"
        }
      ]
    },
    {
      "cell_type": "code",
      "metadata": {
        "id": "GGLXsEAzfBal",
        "colab_type": "code",
        "colab": {}
      },
      "source": [
        "# Bit ugly, but works for now\n",
        "try:\n",
        "  os.listdir('/content/gdrive/My Drive/')\n",
        "except:\n",
        "  drive.mount('/content/gdrive')"
      ],
      "execution_count": 2,
      "outputs": []
    },
    {
      "cell_type": "code",
      "metadata": {
        "id": "cSnf3r2qeaaj",
        "colab_type": "code",
        "colab": {
          "base_uri": "https://localhost:8080/",
          "height": 50
        },
        "outputId": "3ec6cf1a-928a-424d-bea4-24e17dfd2597"
      },
      "source": [
        "save_path = '/content/gdrive/My Drive/data/models/'\n",
        "model_name = 'autoencoder_mnist_basic'\n",
        "model_save_path = save_path + model_name + '_model.kerasmodel'\n",
        "weights_save_path = save_path + model_name + '_weights.h5'\n",
        "print(f\"model save path: {model_save_path}\")\n",
        "print(f\"weights save path: {weights_save_path}\")"
      ],
      "execution_count": 3,
      "outputs": [
        {
          "output_type": "stream",
          "text": [
            "model save path: /content/gdrive/My Drive/data/models/autoencoder_mnist_basic_model.kerasmodel\n",
            "weights save path: /content/gdrive/My Drive/data/models/autoencoder_mnist_basic_weights.h5\n"
          ],
          "name": "stdout"
        }
      ]
    },
    {
      "cell_type": "code",
      "metadata": {
        "id": "FyYcJ4ZyXR0T",
        "colab_type": "code",
        "colab": {}
      },
      "source": [
        "(x_train, y_train), (x_test, y_test) = mnist.load_data()\n",
        "\n",
        "x_train = x_train.astype('float32') / 255.\n",
        "x_train = x_train.reshape(x_train.shape + (1,))\n",
        "x_test = x_test.astype('float32') / 255.\n",
        "x_test = x_test.reshape(x_test.shape + (1,))"
      ],
      "execution_count": 4,
      "outputs": []
    },
    {
      "cell_type": "markdown",
      "metadata": {
        "id": "3AOYfDPXXR0Z",
        "colab_type": "text"
      },
      "source": [
        "Create encoder model"
      ]
    },
    {
      "cell_type": "code",
      "metadata": {
        "id": "fX0NVpdgXR0Z",
        "colab_type": "code",
        "colab": {
          "base_uri": "https://localhost:8080/",
          "height": 521
        },
        "outputId": "a0e028ff-8f74-41e8-bd1b-bea32247703a"
      },
      "source": [
        "encoder_input = Input((28, 28, 1))\n",
        "\n",
        "e = Conv2D(\n",
        "    filters=32,\n",
        "    kernel_size=3,\n",
        "    strides=1,\n",
        "    padding='same'\n",
        "    )(encoder_input)\n",
        "e = LeakyReLU()(e)\n",
        "\n",
        "e = Conv2D(\n",
        "    filters=64,\n",
        "    kernel_size=3,\n",
        "    strides=2,\n",
        "    padding='same'\n",
        "    )(e)\n",
        "e = LeakyReLU()(e)\n",
        "\n",
        "e = Conv2D(\n",
        "    filters=64,\n",
        "    kernel_size=3,\n",
        "    strides=2,\n",
        "    padding='same'\n",
        "    )(e)\n",
        "e = LeakyReLU()(e)\n",
        "\n",
        "e = Conv2D(\n",
        "    filters=64,\n",
        "    kernel_size=3,\n",
        "    strides=1,\n",
        "    padding='same'\n",
        "    )(e)\n",
        "e = LeakyReLU()(e)\n",
        "\n",
        "shape_before_flattening = K.int_shape(e)[1:]\n",
        "\n",
        "e = Flatten()(e)\n",
        "encoder_output = Dense(2)(e)\n",
        "\n",
        "encoder_model = Model(encoder_input, encoder_output)\n",
        "\n",
        "encoder_model.summary()"
      ],
      "execution_count": 5,
      "outputs": [
        {
          "output_type": "stream",
          "text": [
            "Model: \"model_1\"\n",
            "_________________________________________________________________\n",
            "Layer (type)                 Output Shape              Param #   \n",
            "=================================================================\n",
            "input_1 (InputLayer)         (None, 28, 28, 1)         0         \n",
            "_________________________________________________________________\n",
            "conv2d_1 (Conv2D)            (None, 28, 28, 32)        320       \n",
            "_________________________________________________________________\n",
            "leaky_re_lu_1 (LeakyReLU)    (None, 28, 28, 32)        0         \n",
            "_________________________________________________________________\n",
            "conv2d_2 (Conv2D)            (None, 14, 14, 64)        18496     \n",
            "_________________________________________________________________\n",
            "leaky_re_lu_2 (LeakyReLU)    (None, 14, 14, 64)        0         \n",
            "_________________________________________________________________\n",
            "conv2d_3 (Conv2D)            (None, 7, 7, 64)          36928     \n",
            "_________________________________________________________________\n",
            "leaky_re_lu_3 (LeakyReLU)    (None, 7, 7, 64)          0         \n",
            "_________________________________________________________________\n",
            "conv2d_4 (Conv2D)            (None, 7, 7, 64)          36928     \n",
            "_________________________________________________________________\n",
            "leaky_re_lu_4 (LeakyReLU)    (None, 7, 7, 64)          0         \n",
            "_________________________________________________________________\n",
            "flatten_1 (Flatten)          (None, 3136)              0         \n",
            "_________________________________________________________________\n",
            "dense_1 (Dense)              (None, 2)                 6274      \n",
            "=================================================================\n",
            "Total params: 98,946\n",
            "Trainable params: 98,946\n",
            "Non-trainable params: 0\n",
            "_________________________________________________________________\n"
          ],
          "name": "stdout"
        }
      ]
    },
    {
      "cell_type": "markdown",
      "metadata": {
        "id": "9RgBakS4XR0d",
        "colab_type": "text"
      },
      "source": [
        "Create decoder model"
      ]
    },
    {
      "cell_type": "code",
      "metadata": {
        "id": "8AqjmSYfXR0e",
        "colab_type": "code",
        "colab": {
          "base_uri": "https://localhost:8080/",
          "height": 521
        },
        "outputId": "205b5e90-b69d-45e4-acb6-452359ec3ad7"
      },
      "source": [
        "decoder_input = Input((2,))\n",
        "\n",
        "d = Dense(np.prod(shape_before_flattening))(decoder_input)\n",
        "d = Reshape(shape_before_flattening)(d)\n",
        "\n",
        "d = Conv2DTranspose(\n",
        "    filters=64,\n",
        "    kernel_size=3,\n",
        "    strides=1,\n",
        "    padding='same'\n",
        "    )(d)\n",
        "d = LeakyReLU()(d)\n",
        "\n",
        "d = Conv2DTranspose(\n",
        "    filters=64,\n",
        "    kernel_size=3,\n",
        "    strides=2,\n",
        "    padding='same'\n",
        "    )(d)\n",
        "d = LeakyReLU()(d)\n",
        "\n",
        "d = Conv2DTranspose(\n",
        "    filters=32,\n",
        "    kernel_size=3,\n",
        "    strides=2,\n",
        "    padding='same'\n",
        "    )(d)\n",
        "d = LeakyReLU()(d)\n",
        "\n",
        "d = Conv2DTranspose(\n",
        "    filters=1,\n",
        "    kernel_size=3,\n",
        "    strides=1,\n",
        "    padding='same'\n",
        "    )(d)\n",
        "d = Activation('sigmoid')(d)\n",
        "\n",
        "decoder_output = d\n",
        "\n",
        "decoder_model = Model(decoder_input, decoder_output)\n",
        "\n",
        "decoder_model.summary()"
      ],
      "execution_count": 6,
      "outputs": [
        {
          "output_type": "stream",
          "text": [
            "Model: \"model_2\"\n",
            "_________________________________________________________________\n",
            "Layer (type)                 Output Shape              Param #   \n",
            "=================================================================\n",
            "input_2 (InputLayer)         (None, 2)                 0         \n",
            "_________________________________________________________________\n",
            "dense_2 (Dense)              (None, 3136)              9408      \n",
            "_________________________________________________________________\n",
            "reshape_1 (Reshape)          (None, 7, 7, 64)          0         \n",
            "_________________________________________________________________\n",
            "conv2d_transpose_1 (Conv2DTr (None, 7, 7, 64)          36928     \n",
            "_________________________________________________________________\n",
            "leaky_re_lu_5 (LeakyReLU)    (None, 7, 7, 64)          0         \n",
            "_________________________________________________________________\n",
            "conv2d_transpose_2 (Conv2DTr (None, 14, 14, 64)        36928     \n",
            "_________________________________________________________________\n",
            "leaky_re_lu_6 (LeakyReLU)    (None, 14, 14, 64)        0         \n",
            "_________________________________________________________________\n",
            "conv2d_transpose_3 (Conv2DTr (None, 28, 28, 32)        18464     \n",
            "_________________________________________________________________\n",
            "leaky_re_lu_7 (LeakyReLU)    (None, 28, 28, 32)        0         \n",
            "_________________________________________________________________\n",
            "conv2d_transpose_4 (Conv2DTr (None, 28, 28, 1)         289       \n",
            "_________________________________________________________________\n",
            "activation_1 (Activation)    (None, 28, 28, 1)         0         \n",
            "=================================================================\n",
            "Total params: 102,017\n",
            "Trainable params: 102,017\n",
            "Non-trainable params: 0\n",
            "_________________________________________________________________\n"
          ],
          "name": "stdout"
        }
      ]
    },
    {
      "cell_type": "markdown",
      "metadata": {
        "id": "T1Duk6CpXR0g",
        "colab_type": "text"
      },
      "source": [
        "Full autoencoder"
      ]
    },
    {
      "cell_type": "code",
      "metadata": {
        "id": "POk6tF3YXR0h",
        "colab_type": "code",
        "colab": {}
      },
      "source": [
        "ae_input = encoder_input\n",
        "ae_output = decoder_model(encoder_output)\n",
        "\n",
        "ae_model = Model(ae_input, ae_output)"
      ],
      "execution_count": 7,
      "outputs": []
    },
    {
      "cell_type": "markdown",
      "metadata": {
        "id": "7ocb2pb0XR0j",
        "colab_type": "text"
      },
      "source": [
        "Training"
      ]
    },
    {
      "cell_type": "code",
      "metadata": {
        "id": "0jcuX7bwXR0k",
        "colab_type": "code",
        "colab": {}
      },
      "source": [
        "LEARNING_RATE = 0.0005\n",
        "LEARNING_RATE_DECAY = 1\n",
        "BATCH_SIZE = 32\n",
        "EPOCHS = 200\n",
        "INITIAL_EPOCH = 0"
      ],
      "execution_count": 8,
      "outputs": []
    },
    {
      "cell_type": "code",
      "metadata": {
        "id": "pkhb91znXR0n",
        "colab_type": "code",
        "colab": {}
      },
      "source": [
        "def r_loss(y_true, y_pred):\n",
        "    return K.mean(K.square(y_true - y_pred), axis = [1,2,3])"
      ],
      "execution_count": 9,
      "outputs": []
    },
    {
      "cell_type": "code",
      "metadata": {
        "id": "m0ZUC4F4XR0r",
        "colab_type": "code",
        "colab": {}
      },
      "source": [
        "optimizer = Adam(lr=LEARNING_RATE)\n",
        "ae_model.compile(optimizer=optimizer, loss=r_loss)"
      ],
      "execution_count": 10,
      "outputs": []
    },
    {
      "cell_type": "code",
      "metadata": {
        "id": "KhV9ae0ngafO",
        "colab_type": "code",
        "colab": {}
      },
      "source": [
        "def step_decay_schedule(initial_lr, decay_factor=0.5, step_size=1):\n",
        "    def schedule(epoch):\n",
        "        new_lr = initial_lr * (decay_factor ** np.floor(epoch/step_size))\n",
        "        return new_lr\n",
        "\n",
        "    return LearningRateScheduler(schedule)"
      ],
      "execution_count": 11,
      "outputs": []
    },
    {
      "cell_type": "code",
      "metadata": {
        "id": "h4j9mhZGi8sP",
        "colab_type": "code",
        "colab": {}
      },
      "source": [
        "class CustomCallback(Callback):    \n",
        "    def __init__(self):\n",
        "        self.losses = []\n",
        "        self.lrs = []\n",
        "\n",
        "    def on_epoch_end(self, epoch, logs=None):\n",
        "        #keys = list(logs.keys())\n",
        "        #print(\"End epoch {} of training; got log keys: {}\".format(epoch, keys))\n",
        "        self.lrs.append(logs['lr'])\n",
        "        self.losses.append(logs['loss'])"
      ],
      "execution_count": 12,
      "outputs": []
    },
    {
      "cell_type": "code",
      "metadata": {
        "id": "dKuWRLMif6Sm",
        "colab_type": "code",
        "colab": {}
      },
      "source": [
        "lr_sched = step_decay_schedule(initial_lr=LEARNING_RATE, decay_factor=LEARNING_RATE_DECAY, step_size=1)\n",
        "checkpoint = ModelCheckpoint(weights_save_path, save_weights_only=True, verbose=0)\n",
        "cb = CustomCallback()"
      ],
      "execution_count": 13,
      "outputs": []
    },
    {
      "cell_type": "code",
      "metadata": {
        "id": "L8kMH72YXR0t",
        "colab_type": "code",
        "colab": {
          "base_uri": "https://localhost:8080/",
          "height": 1000
        },
        "outputId": "1fdb4173-0374-4f8f-b473-dfdf01cee115"
      },
      "source": [
        "ae_model.fit(     \n",
        "    x_train,\n",
        "    x_train,\n",
        "    batch_size=BATCH_SIZE,\n",
        "    shuffle=True,\n",
        "    epochs=EPOCHS,\n",
        "    initial_epoch=INITIAL_EPOCH,\n",
        "    callbacks=[lr_sched, checkpoint, cb]\n",
        "    )"
      ],
      "execution_count": 14,
      "outputs": [
        {
          "output_type": "stream",
          "text": [
            "Epoch 1/200\n",
            "60000/60000 [==============================] - 15s 254us/step - loss: 0.0557\n",
            "Epoch 2/200\n",
            "60000/60000 [==============================] - 13s 211us/step - loss: 0.0459\n",
            "Epoch 3/200\n",
            "60000/60000 [==============================] - 12s 206us/step - loss: 0.0441\n",
            "Epoch 4/200\n",
            "60000/60000 [==============================] - 12s 206us/step - loss: 0.0430\n",
            "Epoch 5/200\n",
            "60000/60000 [==============================] - 13s 213us/step - loss: 0.0423\n",
            "Epoch 6/200\n",
            "60000/60000 [==============================] - 13s 221us/step - loss: 0.0418\n",
            "Epoch 7/200\n",
            "60000/60000 [==============================] - 13s 213us/step - loss: 0.0414\n",
            "Epoch 8/200\n",
            "60000/60000 [==============================] - 13s 213us/step - loss: 0.0411\n",
            "Epoch 9/200\n",
            "60000/60000 [==============================] - 13s 210us/step - loss: 0.0408\n",
            "Epoch 10/200\n",
            "60000/60000 [==============================] - 13s 215us/step - loss: 0.0406\n",
            "Epoch 11/200\n",
            "60000/60000 [==============================] - 13s 216us/step - loss: 0.0404\n",
            "Epoch 12/200\n",
            "60000/60000 [==============================] - 12s 206us/step - loss: 0.0402\n",
            "Epoch 13/200\n",
            "60000/60000 [==============================] - 13s 209us/step - loss: 0.0401\n",
            "Epoch 14/200\n",
            "60000/60000 [==============================] - 13s 210us/step - loss: 0.0399\n",
            "Epoch 15/200\n",
            "60000/60000 [==============================] - 12s 205us/step - loss: 0.0398\n",
            "Epoch 16/200\n",
            "60000/60000 [==============================] - 13s 211us/step - loss: 0.0397\n",
            "Epoch 17/200\n",
            "60000/60000 [==============================] - 13s 217us/step - loss: 0.0396\n",
            "Epoch 18/200\n",
            "60000/60000 [==============================] - 13s 214us/step - loss: 0.0394\n",
            "Epoch 19/200\n",
            "60000/60000 [==============================] - 13s 213us/step - loss: 0.0394\n",
            "Epoch 20/200\n",
            "60000/60000 [==============================] - 13s 215us/step - loss: 0.0393\n",
            "Epoch 21/200\n",
            "60000/60000 [==============================] - 13s 213us/step - loss: 0.0392\n",
            "Epoch 22/200\n",
            "60000/60000 [==============================] - 13s 215us/step - loss: 0.0391\n",
            "Epoch 23/200\n",
            "60000/60000 [==============================] - 13s 209us/step - loss: 0.0390\n",
            "Epoch 24/200\n",
            "60000/60000 [==============================] - 12s 204us/step - loss: 0.0390\n",
            "Epoch 25/200\n",
            "60000/60000 [==============================] - 13s 217us/step - loss: 0.0389\n",
            "Epoch 26/200\n",
            "60000/60000 [==============================] - 13s 212us/step - loss: 0.0388\n",
            "Epoch 27/200\n",
            "60000/60000 [==============================] - 13s 217us/step - loss: 0.0387\n",
            "Epoch 28/200\n",
            "60000/60000 [==============================] - 13s 212us/step - loss: 0.0387\n",
            "Epoch 29/200\n",
            "60000/60000 [==============================] - 13s 212us/step - loss: 0.0386\n",
            "Epoch 30/200\n",
            "60000/60000 [==============================] - 13s 212us/step - loss: 0.0386\n",
            "Epoch 31/200\n",
            "60000/60000 [==============================] - 12s 206us/step - loss: 0.0385\n",
            "Epoch 32/200\n",
            "60000/60000 [==============================] - 13s 218us/step - loss: 0.0385\n",
            "Epoch 33/200\n",
            "60000/60000 [==============================] - 13s 210us/step - loss: 0.0384\n",
            "Epoch 34/200\n",
            "60000/60000 [==============================] - 13s 212us/step - loss: 0.0384\n",
            "Epoch 35/200\n",
            "60000/60000 [==============================] - 13s 219us/step - loss: 0.0383\n",
            "Epoch 36/200\n",
            "60000/60000 [==============================] - 13s 210us/step - loss: 0.0383\n",
            "Epoch 37/200\n",
            "60000/60000 [==============================] - 13s 213us/step - loss: 0.0382\n",
            "Epoch 38/200\n",
            "60000/60000 [==============================] - 13s 214us/step - loss: 0.0382\n",
            "Epoch 39/200\n",
            "60000/60000 [==============================] - 13s 216us/step - loss: 0.0382\n",
            "Epoch 40/200\n",
            "60000/60000 [==============================] - 13s 212us/step - loss: 0.0381\n",
            "Epoch 41/200\n",
            "60000/60000 [==============================] - 12s 205us/step - loss: 0.0381\n",
            "Epoch 42/200\n",
            "60000/60000 [==============================] - 13s 214us/step - loss: 0.0380\n",
            "Epoch 43/200\n",
            "60000/60000 [==============================] - 13s 210us/step - loss: 0.0380\n",
            "Epoch 44/200\n",
            "60000/60000 [==============================] - 13s 212us/step - loss: 0.0380\n",
            "Epoch 45/200\n",
            "60000/60000 [==============================] - 12s 206us/step - loss: 0.0379\n",
            "Epoch 46/200\n",
            "60000/60000 [==============================] - 13s 214us/step - loss: 0.0379\n",
            "Epoch 47/200\n",
            "60000/60000 [==============================] - 12s 208us/step - loss: 0.0378\n",
            "Epoch 48/200\n",
            "60000/60000 [==============================] - 13s 209us/step - loss: 0.0378\n",
            "Epoch 49/200\n",
            "60000/60000 [==============================] - 13s 212us/step - loss: 0.0378\n",
            "Epoch 50/200\n",
            "60000/60000 [==============================] - 13s 216us/step - loss: 0.0378\n",
            "Epoch 51/200\n",
            "60000/60000 [==============================] - 13s 212us/step - loss: 0.0377\n",
            "Epoch 52/200\n",
            "60000/60000 [==============================] - 13s 212us/step - loss: 0.0377\n",
            "Epoch 53/200\n",
            "60000/60000 [==============================] - 13s 213us/step - loss: 0.0377\n",
            "Epoch 54/200\n",
            "60000/60000 [==============================] - 13s 212us/step - loss: 0.0377\n",
            "Epoch 55/200\n",
            "60000/60000 [==============================] - 13s 212us/step - loss: 0.0376\n",
            "Epoch 56/200\n",
            "60000/60000 [==============================] - 13s 215us/step - loss: 0.0376\n",
            "Epoch 57/200\n",
            "60000/60000 [==============================] - 13s 214us/step - loss: 0.0376\n",
            "Epoch 58/200\n",
            "60000/60000 [==============================] - 13s 218us/step - loss: 0.0375\n",
            "Epoch 59/200\n",
            "60000/60000 [==============================] - 13s 214us/step - loss: 0.0375\n",
            "Epoch 60/200\n",
            "60000/60000 [==============================] - 12s 208us/step - loss: 0.0374\n",
            "Epoch 61/200\n",
            "60000/60000 [==============================] - 13s 214us/step - loss: 0.0374\n",
            "Epoch 62/200\n",
            "60000/60000 [==============================] - 13s 217us/step - loss: 0.0374\n",
            "Epoch 63/200\n",
            "60000/60000 [==============================] - 13s 215us/step - loss: 0.0374\n",
            "Epoch 64/200\n",
            "60000/60000 [==============================] - 13s 212us/step - loss: 0.0374\n",
            "Epoch 65/200\n",
            "60000/60000 [==============================] - 13s 213us/step - loss: 0.0373\n",
            "Epoch 66/200\n",
            "60000/60000 [==============================] - 12s 204us/step - loss: 0.0373\n",
            "Epoch 67/200\n",
            "60000/60000 [==============================] - 12s 207us/step - loss: 0.0373\n",
            "Epoch 68/200\n",
            "60000/60000 [==============================] - 13s 214us/step - loss: 0.0373\n",
            "Epoch 69/200\n",
            "60000/60000 [==============================] - 12s 205us/step - loss: 0.0372\n",
            "Epoch 70/200\n",
            "60000/60000 [==============================] - 12s 208us/step - loss: 0.0372\n",
            "Epoch 71/200\n",
            "60000/60000 [==============================] - 13s 212us/step - loss: 0.0372\n",
            "Epoch 72/200\n",
            "60000/60000 [==============================] - 12s 205us/step - loss: 0.0371\n",
            "Epoch 73/200\n",
            "60000/60000 [==============================] - 13s 211us/step - loss: 0.0372\n",
            "Epoch 74/200\n",
            "60000/60000 [==============================] - 12s 207us/step - loss: 0.0371\n",
            "Epoch 75/200\n",
            "60000/60000 [==============================] - 13s 209us/step - loss: 0.0371\n",
            "Epoch 76/200\n",
            "60000/60000 [==============================] - 13s 209us/step - loss: 0.0371\n",
            "Epoch 77/200\n",
            "60000/60000 [==============================] - 13s 211us/step - loss: 0.0371\n",
            "Epoch 78/200\n",
            "60000/60000 [==============================] - 12s 206us/step - loss: 0.0371\n",
            "Epoch 79/200\n",
            "60000/60000 [==============================] - 12s 206us/step - loss: 0.0371\n",
            "Epoch 80/200\n",
            "60000/60000 [==============================] - 13s 213us/step - loss: 0.0370\n",
            "Epoch 81/200\n",
            "60000/60000 [==============================] - 13s 212us/step - loss: 0.0370\n",
            "Epoch 82/200\n",
            "60000/60000 [==============================] - 13s 219us/step - loss: 0.0370\n",
            "Epoch 83/200\n",
            "60000/60000 [==============================] - 12s 206us/step - loss: 0.0370\n",
            "Epoch 84/200\n",
            "60000/60000 [==============================] - 13s 215us/step - loss: 0.0369\n",
            "Epoch 85/200\n",
            "60000/60000 [==============================] - 13s 214us/step - loss: 0.0370\n",
            "Epoch 86/200\n",
            "60000/60000 [==============================] - 13s 212us/step - loss: 0.0369\n",
            "Epoch 87/200\n",
            "60000/60000 [==============================] - 13s 216us/step - loss: 0.0369\n",
            "Epoch 88/200\n",
            "60000/60000 [==============================] - 13s 214us/step - loss: 0.0369\n",
            "Epoch 89/200\n",
            "60000/60000 [==============================] - 13s 212us/step - loss: 0.0368\n",
            "Epoch 90/200\n",
            "60000/60000 [==============================] - 13s 210us/step - loss: 0.0368\n",
            "Epoch 91/200\n",
            "60000/60000 [==============================] - 12s 206us/step - loss: 0.0368\n",
            "Epoch 92/200\n",
            "60000/60000 [==============================] - 13s 209us/step - loss: 0.0368\n",
            "Epoch 93/200\n",
            "60000/60000 [==============================] - 13s 212us/step - loss: 0.0368\n",
            "Epoch 94/200\n",
            "60000/60000 [==============================] - 13s 222us/step - loss: 0.0368\n",
            "Epoch 95/200\n",
            "60000/60000 [==============================] - 12s 208us/step - loss: 0.0368\n",
            "Epoch 96/200\n",
            "60000/60000 [==============================] - 13s 209us/step - loss: 0.0367\n",
            "Epoch 97/200\n",
            "60000/60000 [==============================] - 13s 215us/step - loss: 0.0367\n",
            "Epoch 98/200\n",
            "60000/60000 [==============================] - 13s 209us/step - loss: 0.0367\n",
            "Epoch 99/200\n",
            "60000/60000 [==============================] - 13s 220us/step - loss: 0.0367\n",
            "Epoch 100/200\n",
            "60000/60000 [==============================] - 13s 215us/step - loss: 0.0367\n",
            "Epoch 101/200\n",
            "60000/60000 [==============================] - 13s 212us/step - loss: 0.0367\n",
            "Epoch 102/200\n",
            "60000/60000 [==============================] - 13s 211us/step - loss: 0.0367\n",
            "Epoch 103/200\n",
            "60000/60000 [==============================] - 12s 206us/step - loss: 0.0366\n",
            "Epoch 104/200\n",
            "60000/60000 [==============================] - 13s 210us/step - loss: 0.0366\n",
            "Epoch 105/200\n",
            "60000/60000 [==============================] - 13s 214us/step - loss: 0.0366\n",
            "Epoch 106/200\n",
            "60000/60000 [==============================] - 13s 219us/step - loss: 0.0366\n",
            "Epoch 107/200\n",
            "60000/60000 [==============================] - 13s 211us/step - loss: 0.0366\n",
            "Epoch 108/200\n",
            "60000/60000 [==============================] - 12s 206us/step - loss: 0.0365\n",
            "Epoch 109/200\n",
            "60000/60000 [==============================] - 13s 210us/step - loss: 0.0365\n",
            "Epoch 110/200\n",
            "60000/60000 [==============================] - 12s 208us/step - loss: 0.0365\n",
            "Epoch 111/200\n",
            "60000/60000 [==============================] - 13s 213us/step - loss: 0.0365\n",
            "Epoch 112/200\n",
            "60000/60000 [==============================] - 13s 212us/step - loss: 0.0365\n",
            "Epoch 113/200\n",
            "60000/60000 [==============================] - 13s 213us/step - loss: 0.0365\n",
            "Epoch 114/200\n",
            "60000/60000 [==============================] - 13s 216us/step - loss: 0.0365\n",
            "Epoch 115/200\n",
            "60000/60000 [==============================] - 12s 206us/step - loss: 0.0365\n",
            "Epoch 116/200\n",
            "60000/60000 [==============================] - 13s 213us/step - loss: 0.0364\n",
            "Epoch 117/200\n",
            "60000/60000 [==============================] - 13s 219us/step - loss: 0.0364\n",
            "Epoch 118/200\n",
            "60000/60000 [==============================] - 13s 211us/step - loss: 0.0364\n",
            "Epoch 119/200\n",
            "60000/60000 [==============================] - 12s 206us/step - loss: 0.0364\n",
            "Epoch 120/200\n",
            "60000/60000 [==============================] - 13s 212us/step - loss: 0.0364\n",
            "Epoch 121/200\n",
            "60000/60000 [==============================] - 13s 209us/step - loss: 0.0364\n",
            "Epoch 122/200\n",
            "60000/60000 [==============================] - 13s 215us/step - loss: 0.0364\n",
            "Epoch 123/200\n",
            "60000/60000 [==============================] - 13s 212us/step - loss: 0.0364\n",
            "Epoch 124/200\n",
            "60000/60000 [==============================] - 13s 216us/step - loss: 0.0364\n",
            "Epoch 125/200\n",
            "60000/60000 [==============================] - 13s 215us/step - loss: 0.0363\n",
            "Epoch 126/200\n",
            "60000/60000 [==============================] - 13s 214us/step - loss: 0.0363\n",
            "Epoch 127/200\n",
            "60000/60000 [==============================] - 13s 211us/step - loss: 0.0363\n",
            "Epoch 128/200\n",
            "60000/60000 [==============================] - 13s 215us/step - loss: 0.0363\n",
            "Epoch 129/200\n",
            "60000/60000 [==============================] - 13s 223us/step - loss: 0.0363\n",
            "Epoch 130/200\n",
            "60000/60000 [==============================] - 13s 214us/step - loss: 0.0363\n",
            "Epoch 131/200\n",
            "60000/60000 [==============================] - 13s 217us/step - loss: 0.0363\n",
            "Epoch 132/200\n",
            "60000/60000 [==============================] - 12s 208us/step - loss: 0.0363\n",
            "Epoch 133/200\n",
            "60000/60000 [==============================] - 13s 218us/step - loss: 0.0362\n",
            "Epoch 134/200\n",
            "60000/60000 [==============================] - 13s 220us/step - loss: 0.0362\n",
            "Epoch 135/200\n",
            "60000/60000 [==============================] - 13s 213us/step - loss: 0.0362\n",
            "Epoch 136/200\n",
            "60000/60000 [==============================] - 13s 220us/step - loss: 0.0362\n",
            "Epoch 137/200\n",
            "60000/60000 [==============================] - 13s 214us/step - loss: 0.0362\n",
            "Epoch 138/200\n",
            "60000/60000 [==============================] - 13s 214us/step - loss: 0.0362\n",
            "Epoch 139/200\n",
            "60000/60000 [==============================] - 13s 214us/step - loss: 0.0362\n",
            "Epoch 140/200\n",
            "60000/60000 [==============================] - 13s 220us/step - loss: 0.0362\n",
            "Epoch 141/200\n",
            "60000/60000 [==============================] - 13s 209us/step - loss: 0.0361\n",
            "Epoch 142/200\n",
            "60000/60000 [==============================] - 13s 216us/step - loss: 0.0361\n",
            "Epoch 143/200\n",
            "60000/60000 [==============================] - 13s 209us/step - loss: 0.0361\n",
            "Epoch 144/200\n",
            "60000/60000 [==============================] - 13s 212us/step - loss: 0.0361\n",
            "Epoch 145/200\n",
            "60000/60000 [==============================] - 13s 217us/step - loss: 0.0361\n",
            "Epoch 146/200\n",
            "60000/60000 [==============================] - 13s 215us/step - loss: 0.0361\n",
            "Epoch 147/200\n",
            "60000/60000 [==============================] - 12s 207us/step - loss: 0.0361\n",
            "Epoch 148/200\n",
            "60000/60000 [==============================] - 13s 219us/step - loss: 0.0361\n",
            "Epoch 149/200\n",
            "60000/60000 [==============================] - 13s 210us/step - loss: 0.0361\n",
            "Epoch 150/200\n",
            "60000/60000 [==============================] - 13s 210us/step - loss: 0.0360\n",
            "Epoch 151/200\n",
            "60000/60000 [==============================] - 13s 211us/step - loss: 0.0361\n",
            "Epoch 152/200\n",
            "60000/60000 [==============================] - 13s 221us/step - loss: 0.0361\n",
            "Epoch 153/200\n",
            "60000/60000 [==============================] - 13s 215us/step - loss: 0.0361\n",
            "Epoch 154/200\n",
            "60000/60000 [==============================] - 13s 218us/step - loss: 0.0360\n",
            "Epoch 155/200\n",
            "60000/60000 [==============================] - 13s 220us/step - loss: 0.0360\n",
            "Epoch 156/200\n",
            "60000/60000 [==============================] - 13s 209us/step - loss: 0.0360\n",
            "Epoch 157/200\n",
            "60000/60000 [==============================] - 13s 215us/step - loss: 0.0360\n",
            "Epoch 158/200\n",
            "60000/60000 [==============================] - 13s 210us/step - loss: 0.0360\n",
            "Epoch 159/200\n",
            "60000/60000 [==============================] - 13s 213us/step - loss: 0.0360\n",
            "Epoch 160/200\n",
            "60000/60000 [==============================] - 13s 219us/step - loss: 0.0359\n",
            "Epoch 161/200\n",
            "60000/60000 [==============================] - 13s 210us/step - loss: 0.0360\n",
            "Epoch 162/200\n",
            "60000/60000 [==============================] - 13s 209us/step - loss: 0.0359\n",
            "Epoch 163/200\n",
            "60000/60000 [==============================] - 12s 208us/step - loss: 0.0360\n",
            "Epoch 164/200\n",
            "60000/60000 [==============================] - 12s 208us/step - loss: 0.0359\n",
            "Epoch 165/200\n",
            "60000/60000 [==============================] - 13s 215us/step - loss: 0.0359\n",
            "Epoch 166/200\n",
            "60000/60000 [==============================] - 13s 213us/step - loss: 0.0359\n",
            "Epoch 167/200\n",
            "60000/60000 [==============================] - 13s 214us/step - loss: 0.0359\n",
            "Epoch 168/200\n",
            "60000/60000 [==============================] - 13s 215us/step - loss: 0.0359\n",
            "Epoch 169/200\n",
            "60000/60000 [==============================] - 13s 213us/step - loss: 0.0359\n",
            "Epoch 170/200\n",
            "60000/60000 [==============================] - 13s 219us/step - loss: 0.0359\n",
            "Epoch 171/200\n",
            "60000/60000 [==============================] - 13s 218us/step - loss: 0.0359\n",
            "Epoch 172/200\n",
            "60000/60000 [==============================] - 13s 217us/step - loss: 0.0359\n",
            "Epoch 173/200\n",
            "60000/60000 [==============================] - 13s 212us/step - loss: 0.0359\n",
            "Epoch 174/200\n",
            "60000/60000 [==============================] - 13s 217us/step - loss: 0.0359\n",
            "Epoch 175/200\n",
            "60000/60000 [==============================] - 13s 215us/step - loss: 0.0358\n",
            "Epoch 176/200\n",
            "60000/60000 [==============================] - 13s 215us/step - loss: 0.0359\n",
            "Epoch 177/200\n",
            "60000/60000 [==============================] - 13s 214us/step - loss: 0.0358\n",
            "Epoch 178/200\n",
            "60000/60000 [==============================] - 13s 211us/step - loss: 0.0358\n",
            "Epoch 179/200\n",
            "60000/60000 [==============================] - 13s 213us/step - loss: 0.0358\n",
            "Epoch 180/200\n",
            "60000/60000 [==============================] - 12s 207us/step - loss: 0.0358\n",
            "Epoch 181/200\n",
            "60000/60000 [==============================] - 12s 206us/step - loss: 0.0358\n",
            "Epoch 182/200\n",
            "60000/60000 [==============================] - 12s 204us/step - loss: 0.0358\n",
            "Epoch 183/200\n",
            "60000/60000 [==============================] - 13s 214us/step - loss: 0.0358\n",
            "Epoch 184/200\n",
            "60000/60000 [==============================] - 13s 208us/step - loss: 0.0358\n",
            "Epoch 185/200\n",
            "60000/60000 [==============================] - 13s 210us/step - loss: 0.0358\n",
            "Epoch 186/200\n",
            "60000/60000 [==============================] - 13s 209us/step - loss: 0.0357\n",
            "Epoch 187/200\n",
            "60000/60000 [==============================] - 13s 217us/step - loss: 0.0357\n",
            "Epoch 188/200\n",
            "60000/60000 [==============================] - 13s 209us/step - loss: 0.0357\n",
            "Epoch 189/200\n",
            "60000/60000 [==============================] - 13s 214us/step - loss: 0.0357\n",
            "Epoch 190/200\n",
            "60000/60000 [==============================] - 13s 210us/step - loss: 0.0357\n",
            "Epoch 191/200\n",
            "60000/60000 [==============================] - 13s 220us/step - loss: 0.0357\n",
            "Epoch 192/200\n",
            "60000/60000 [==============================] - 13s 215us/step - loss: 0.0357\n",
            "Epoch 193/200\n",
            "60000/60000 [==============================] - 13s 216us/step - loss: 0.0357\n",
            "Epoch 194/200\n",
            "60000/60000 [==============================] - 12s 208us/step - loss: 0.0357\n",
            "Epoch 195/200\n",
            "60000/60000 [==============================] - 13s 209us/step - loss: 0.0357\n",
            "Epoch 196/200\n",
            "60000/60000 [==============================] - 13s 212us/step - loss: 0.0357\n",
            "Epoch 197/200\n",
            "60000/60000 [==============================] - 13s 216us/step - loss: 0.0357\n",
            "Epoch 198/200\n",
            "60000/60000 [==============================] - 13s 216us/step - loss: 0.0357\n",
            "Epoch 199/200\n",
            "60000/60000 [==============================] - 13s 211us/step - loss: 0.0356\n",
            "Epoch 200/200\n",
            "60000/60000 [==============================] - 13s 220us/step - loss: 0.0356\n"
          ],
          "name": "stdout"
        },
        {
          "output_type": "execute_result",
          "data": {
            "text/plain": [
              "<keras.callbacks.callbacks.History at 0x7fb795611ac8>"
            ]
          },
          "metadata": {
            "tags": []
          },
          "execution_count": 14
        }
      ]
    },
    {
      "cell_type": "code",
      "metadata": {
        "id": "7rMphrTfZ6jo",
        "colab_type": "code",
        "colab": {}
      },
      "source": [
        "ae_model.save(model_save_path)"
      ],
      "execution_count": 15,
      "outputs": []
    },
    {
      "cell_type": "code",
      "metadata": {
        "id": "LuW5J08WaPLJ",
        "colab_type": "code",
        "colab": {
          "base_uri": "https://localhost:8080/",
          "height": 282
        },
        "outputId": "395882ee-fd98-4d8d-93aa-272118fcc354"
      },
      "source": [
        "plt.plot(cb.losses)"
      ],
      "execution_count": 16,
      "outputs": [
        {
          "output_type": "execute_result",
          "data": {
            "text/plain": [
              "[<matplotlib.lines.Line2D at 0x7fb731fc61d0>]"
            ]
          },
          "metadata": {
            "tags": []
          },
          "execution_count": 16
        },
        {
          "output_type": "display_data",
          "data": {
            "image/png": "[encoded data removed]",
            "text/plain": [
              "<Figure size 432x288 with 1 Axes>"
            ]
          },
          "metadata": {
            "tags": [],
            "needs_background": "light"
          }
        }
      ]
    }
  ]
}